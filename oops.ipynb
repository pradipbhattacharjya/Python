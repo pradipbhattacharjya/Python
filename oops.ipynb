{
 "cells": [
  {
   "cell_type": "code",
   "id": "initial_id",
   "metadata": {
    "collapsed": true,
    "ExecuteTime": {
     "end_time": "2025-09-30T01:19:23.462440Z",
     "start_time": "2025-09-30T01:19:23.451306Z"
    }
   },
   "source": [
    "from seaborn import dogplot\n",
    "\n",
    "\n",
    "# A Class is a blueprint for creating objects.Attributes, methods\n",
    "class Car:\n",
    "    pass\n",
    "\n",
    "audi=Car()\n",
    "bmw=Car\n",
    "\n",
    "print(type(audi))"
   ],
   "outputs": [
    {
     "name": "stdout",
     "output_type": "stream",
     "text": [
      "<class '__main__.Car'>\n"
     ]
    }
   ],
   "execution_count": 1
  },
  {
   "metadata": {
    "ExecuteTime": {
     "end_time": "2025-09-30T01:20:18.382743Z",
     "start_time": "2025-09-30T01:20:18.375632Z"
    }
   },
   "cell_type": "code",
   "source": [
    "print(audi)\n",
    "print(bmw)"
   ],
   "id": "9d54de499b8cc625",
   "outputs": [
    {
     "name": "stdout",
     "output_type": "stream",
     "text": [
      "<__main__.Car object at 0x0000027747C5F8C0>\n",
      "<class '__main__.Car'>\n"
     ]
    }
   ],
   "execution_count": 3
  },
  {
   "metadata": {
    "ExecuteTime": {
     "end_time": "2025-09-30T01:21:34.996609Z",
     "start_time": "2025-09-30T01:21:34.989437Z"
    }
   },
   "cell_type": "code",
   "source": [
    "audi.windows=4\n",
    "\n",
    "print(audi.windows)"
   ],
   "id": "d700a83bbf7e6dc5",
   "outputs": [
    {
     "name": "stdout",
     "output_type": "stream",
     "text": [
      "4\n"
     ]
    }
   ],
   "execution_count": 4
  },
  {
   "metadata": {
    "ExecuteTime": {
     "end_time": "2025-09-30T01:25:55.226507Z",
     "start_time": "2025-09-30T01:25:55.221456Z"
    }
   },
   "cell_type": "code",
   "source": [
    "tata=Car()\n",
    "tata.doors=4\n",
    "print(tata.windows)"
   ],
   "id": "9da8a61a1f921662",
   "outputs": [],
   "execution_count": 8
  },
  {
   "metadata": {
    "ExecuteTime": {
     "end_time": "2025-09-30T01:25:47.407969Z",
     "start_time": "2025-09-30T01:25:47.396504Z"
    }
   },
   "cell_type": "code",
   "source": "dir(tata)",
   "id": "e925f05fcefad0cb",
   "outputs": [
    {
     "data": {
      "text/plain": [
       "['__class__',\n",
       " '__delattr__',\n",
       " '__dict__',\n",
       " '__dir__',\n",
       " '__doc__',\n",
       " '__eq__',\n",
       " '__firstlineno__',\n",
       " '__format__',\n",
       " '__ge__',\n",
       " '__getattribute__',\n",
       " '__getstate__',\n",
       " '__gt__',\n",
       " '__hash__',\n",
       " '__init__',\n",
       " '__init_subclass__',\n",
       " '__le__',\n",
       " '__lt__',\n",
       " '__module__',\n",
       " '__ne__',\n",
       " '__new__',\n",
       " '__reduce__',\n",
       " '__reduce_ex__',\n",
       " '__repr__',\n",
       " '__setattr__',\n",
       " '__sizeof__',\n",
       " '__static_attributes__',\n",
       " '__str__',\n",
       " '__subclasshook__',\n",
       " '__weakref__',\n",
       " 'doors']"
      ]
     },
     "execution_count": 7,
     "metadata": {},
     "output_type": "execute_result"
    }
   ],
   "execution_count": 7
  },
  {
   "metadata": {
    "ExecuteTime": {
     "end_time": "2025-09-30T01:36:57.013613Z",
     "start_time": "2025-09-30T01:36:56.971297Z"
    }
   },
   "cell_type": "code",
   "source": [
    "#Instance Variable and Methods\n",
    "class Dog:\n",
    "    ##constructor\n",
    "    def __init__(self,name,age):\n",
    "        self.name=name\n",
    "        self.age=age\n",
    "\n",
    "# create objects\n",
    "dog1=Dog('Buddy',3)\n",
    "print(dog1)\n",
    "print(dog1.name)\n",
    "print(dog1.age)"
   ],
   "id": "4fd694e27b0e016b",
   "outputs": [
    {
     "name": "stdout",
     "output_type": "stream",
     "text": [
      "<__main__.Dog object at 0x00000277484382F0>\n",
      "Buddy\n",
      "3\n"
     ]
    }
   ],
   "execution_count": 9
  },
  {
   "metadata": {
    "ExecuteTime": {
     "end_time": "2025-09-30T01:38:22.282512Z",
     "start_time": "2025-09-30T01:38:22.266657Z"
    }
   },
   "cell_type": "code",
   "source": [
    "dog2=Dog(\"Lucy\",4)\n",
    "print(dog2.name)\n",
    "print(dog2.age)"
   ],
   "id": "600f0c8c26c7f810",
   "outputs": [
    {
     "name": "stdout",
     "output_type": "stream",
     "text": [
      "Lucy\n",
      "4\n"
     ]
    }
   ],
   "execution_count": 10
  },
  {
   "metadata": {
    "ExecuteTime": {
     "end_time": "2025-09-30T01:45:20.960151Z",
     "start_time": "2025-09-30T01:45:20.891388Z"
    }
   },
   "cell_type": "code",
   "source": [
    "# Define a class with instance methods\n",
    "class Dog:\n",
    "    def __init__(self,name,age):\n",
    "        self.name=name\n",
    "        self.age=age\n",
    "    def bark(self):\n",
    "        print(f'{self.name} says woof')\n",
    "\n",
    "dog1=Dog(\"Buddy\",3)\n",
    "dog1.bark()\n",
    "dog2=Dog('Lucy',4)\n",
    "dog2.bark()"
   ],
   "id": "c8731392b3865adf",
   "outputs": [
    {
     "name": "stdout",
     "output_type": "stream",
     "text": [
      "Buddy says woof\n",
      "Lucy says woof\n"
     ]
    }
   ],
   "execution_count": 11
  }
 ],
 "metadata": {
  "kernelspec": {
   "display_name": "Python 3",
   "language": "python",
   "name": "python3"
  },
  "language_info": {
   "codemirror_mode": {
    "name": "ipython",
    "version": 2
   },
   "file_extension": ".py",
   "mimetype": "text/x-python",
   "name": "python",
   "nbconvert_exporter": "python",
   "pygments_lexer": "ipython2",
   "version": "2.7.6"
  }
 },
 "nbformat": 4,
 "nbformat_minor": 5
}
