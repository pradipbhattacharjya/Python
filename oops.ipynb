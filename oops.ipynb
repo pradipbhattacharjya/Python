{
 "cells": [
  {
   "cell_type": "code",
   "id": "initial_id",
   "metadata": {
    "collapsed": true,
    "ExecuteTime": {
     "end_time": "2025-09-30T01:19:23.462440Z",
     "start_time": "2025-09-30T01:19:23.451306Z"
    }
   },
   "source": [
    "# A Class is a blueprint for creating objects.Attributes, methods\n",
    "class Car:\n",
    "    pass\n",
    "\n",
    "audi=Car()\n",
    "bmw=Car\n",
    "\n",
    "print(type(audi))"
   ],
   "outputs": [
    {
     "name": "stdout",
     "output_type": "stream",
     "text": [
      "<class '__main__.Car'>\n"
     ]
    }
   ],
   "execution_count": 1
  },
  {
   "metadata": {
    "ExecuteTime": {
     "end_time": "2025-09-30T01:20:18.382743Z",
     "start_time": "2025-09-30T01:20:18.375632Z"
    }
   },
   "cell_type": "code",
   "source": [
    "print(audi)\n",
    "print(bmw)"
   ],
   "id": "9d54de499b8cc625",
   "outputs": [
    {
     "name": "stdout",
     "output_type": "stream",
     "text": [
      "<__main__.Car object at 0x0000027747C5F8C0>\n",
      "<class '__main__.Car'>\n"
     ]
    }
   ],
   "execution_count": 3
  },
  {
   "metadata": {
    "ExecuteTime": {
     "end_time": "2025-09-30T01:21:34.996609Z",
     "start_time": "2025-09-30T01:21:34.989437Z"
    }
   },
   "cell_type": "code",
   "source": [
    "audi.windows=4\n",
    "\n",
    "print(audi.windows)"
   ],
   "id": "d700a83bbf7e6dc5",
   "outputs": [
    {
     "name": "stdout",
     "output_type": "stream",
     "text": [
      "4\n"
     ]
    }
   ],
   "execution_count": 4
  },
  {
   "metadata": {},
   "cell_type": "code",
   "outputs": [],
   "execution_count": null,
   "source": [
    "tata=Car()\n",
    "tata.doors=4\n",
    "print(tata.windows)"
   ],
   "id": "9da8a61a1f921662"
  },
  {
   "metadata": {},
   "cell_type": "code",
   "outputs": [],
   "execution_count": null,
   "source": "#Instance Variable and Methods\n",
   "id": "4fd694e27b0e016b"
  }
 ],
 "metadata": {
  "kernelspec": {
   "display_name": "Python 3",
   "language": "python",
   "name": "python3"
  },
  "language_info": {
   "codemirror_mode": {
    "name": "ipython",
    "version": 2
   },
   "file_extension": ".py",
   "mimetype": "text/x-python",
   "name": "python",
   "nbconvert_exporter": "python",
   "pygments_lexer": "ipython2",
   "version": "2.7.6"
  }
 },
 "nbformat": 4,
 "nbformat_minor": 5
}
