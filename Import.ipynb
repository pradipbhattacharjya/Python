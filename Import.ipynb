{
 "cells": [
  {
   "cell_type": "code",
   "id": "initial_id",
   "metadata": {
    "collapsed": true,
    "ExecuteTime": {
     "end_time": "2025-09-29T01:50:08.419241Z",
     "start_time": "2025-09-29T01:50:08.407502Z"
    }
   },
   "source": [
    "import math\n",
    "math.sqrt(16)"
   ],
   "outputs": [
    {
     "data": {
      "text/plain": [
       "4.0"
      ]
     },
     "execution_count": 1,
     "metadata": {},
     "output_type": "execute_result"
    }
   ],
   "execution_count": 1
  },
  {
   "metadata": {
    "ExecuteTime": {
     "end_time": "2025-09-29T01:51:45.670549Z",
     "start_time": "2025-09-29T01:51:45.662348Z"
    }
   },
   "cell_type": "code",
   "source": [
    "from math import sqrt,pi\n",
    "print(sqrt(16))\n",
    "print(sqrt(25))\n",
    "print(pi)"
   ],
   "id": "1f829fd01ef979c5",
   "outputs": [
    {
     "name": "stdout",
     "output_type": "stream",
     "text": [
      "4.0\n",
      "5.0\n",
      "3.141592653589793\n"
     ]
    }
   ],
   "execution_count": 2
  },
  {
   "metadata": {
    "ExecuteTime": {
     "end_time": "2025-09-29T02:02:51.587147Z",
     "start_time": "2025-09-29T02:02:51.553547Z"
    }
   },
   "cell_type": "code",
   "source": [
    "import numpy as np\n",
    "np.array([1,2,3,4])"
   ],
   "id": "24e13b0a3c111e9e",
   "outputs": [
    {
     "data": {
      "text/plain": [
       "array([1, 2, 3, 4])"
      ]
     },
     "execution_count": 4,
     "metadata": {},
     "output_type": "execute_result"
    }
   ],
   "execution_count": 4
  },
  {
   "metadata": {
    "ExecuteTime": {
     "end_time": "2025-09-29T02:03:49.387466Z",
     "start_time": "2025-09-29T02:03:49.380074Z"
    }
   },
   "cell_type": "code",
   "source": [
    "from math import *\n",
    "sqrt(16)\n",
    "print(pi)"
   ],
   "id": "ac5441ec9ab32439",
   "outputs": [
    {
     "name": "stdout",
     "output_type": "stream",
     "text": [
      "3.141592653589793\n"
     ]
    }
   ],
   "execution_count": 6
  },
  {
   "metadata": {
    "ExecuteTime": {
     "end_time": "2025-09-29T02:27:56.990436Z",
     "start_time": "2025-09-29T02:27:56.956655Z"
    }
   },
   "cell_type": "code",
   "source": [
    "from package.maths import addition\n",
    "addition(2,3)"
   ],
   "id": "6469477a35774c81",
   "outputs": [
    {
     "data": {
      "text/plain": [
       "5"
      ]
     },
     "execution_count": 7,
     "metadata": {},
     "output_type": "execute_result"
    }
   ],
   "execution_count": 7
  },
  {
   "metadata": {
    "ExecuteTime": {
     "end_time": "2025-09-29T02:28:45.430172Z",
     "start_time": "2025-09-29T02:28:45.415730Z"
    }
   },
   "cell_type": "code",
   "source": [
    "from package import maths\n",
    "maths.(2,3)"
   ],
   "id": "f929d64e81f9d6f",
   "outputs": [
    {
     "data": {
      "text/plain": [
       "5"
      ]
     },
     "execution_count": 8,
     "metadata": {},
     "output_type": "execute_result"
    }
   ],
   "execution_count": 8
  },
  {
   "metadata": {},
   "cell_type": "code",
   "outputs": [],
   "execution_count": null,
   "source": "",
   "id": "9087a12af47d2573"
  }
 ],
 "metadata": {
  "kernelspec": {
   "display_name": "Python 3",
   "language": "python",
   "name": "python3"
  },
  "language_info": {
   "codemirror_mode": {
    "name": "ipython",
    "version": 2
   },
   "file_extension": ".py",
   "mimetype": "text/x-python",
   "name": "python",
   "nbconvert_exporter": "python",
   "pygments_lexer": "ipython2",
   "version": "2.7.6"
  }
 },
 "nbformat": 4,
 "nbformat_minor": 5
}
