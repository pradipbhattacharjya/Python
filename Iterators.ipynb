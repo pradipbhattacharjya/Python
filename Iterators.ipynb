{
 "cells": [
  {
   "cell_type": "code",
   "id": "initial_id",
   "metadata": {
    "collapsed": true,
    "ExecuteTime": {
     "end_time": "2025-10-02T02:30:22.410498Z",
     "start_time": "2025-10-02T02:30:22.407064Z"
    }
   },
   "source": [
    "my_list=[1,2,3,4,5,6]\n",
    "for i in my_list:\n",
    "    print(i)"
   ],
   "outputs": [
    {
     "name": "stdout",
     "output_type": "stream",
     "text": [
      "1\n",
      "2\n",
      "3\n",
      "4\n",
      "5\n",
      "6\n"
     ]
    }
   ],
   "execution_count": 1
  },
  {
   "metadata": {
    "ExecuteTime": {
     "end_time": "2025-10-02T02:30:52.277544Z",
     "start_time": "2025-10-02T02:30:52.266693Z"
    }
   },
   "cell_type": "code",
   "source": "type(my_list)",
   "id": "47dc2312766c17e2",
   "outputs": [
    {
     "data": {
      "text/plain": [
       "list"
      ]
     },
     "execution_count": 2,
     "metadata": {},
     "output_type": "execute_result"
    }
   ],
   "execution_count": 2
  },
  {
   "metadata": {
    "ExecuteTime": {
     "end_time": "2025-10-02T02:31:39.223792Z",
     "start_time": "2025-10-02T02:31:39.217964Z"
    }
   },
   "cell_type": "code",
   "source": "print(my_list)",
   "id": "2ad6d79383739629",
   "outputs": [
    {
     "name": "stdout",
     "output_type": "stream",
     "text": [
      "[1, 2, 3, 4, 5, 6]\n"
     ]
    }
   ],
   "execution_count": 3
  },
  {
   "metadata": {
    "ExecuteTime": {
     "end_time": "2025-10-02T02:32:28.343555Z",
     "start_time": "2025-10-02T02:32:28.336265Z"
    }
   },
   "cell_type": "code",
   "source": [
    "#Iterator\n",
    "iterator=iter(my_list)\n",
    "print(type(iterator))"
   ],
   "id": "e9c0d84b9c6f6904",
   "outputs": [
    {
     "name": "stdout",
     "output_type": "stream",
     "text": [
      "<class 'list_iterator'>\n"
     ]
    }
   ],
   "execution_count": 4
  },
  {
   "metadata": {
    "ExecuteTime": {
     "end_time": "2025-10-02T02:33:04.353506Z",
     "start_time": "2025-10-02T02:33:04.347129Z"
    }
   },
   "cell_type": "code",
   "source": "iterator",
   "id": "be0b154625320cf6",
   "outputs": [
    {
     "data": {
      "text/plain": [
       "<list_iterator at 0x13a8d8d65f0>"
      ]
     },
     "execution_count": 5,
     "metadata": {},
     "output_type": "execute_result"
    }
   ],
   "execution_count": 5
  },
  {
   "metadata": {},
   "cell_type": "code",
   "outputs": [],
   "execution_count": null,
   "source": "",
   "id": "4a9e71d398ef74f0"
  }
 ],
 "metadata": {
  "kernelspec": {
   "display_name": "Python 3",
   "language": "python",
   "name": "python3"
  },
  "language_info": {
   "codemirror_mode": {
    "name": "ipython",
    "version": 2
   },
   "file_extension": ".py",
   "mimetype": "text/x-python",
   "name": "python",
   "nbconvert_exporter": "python",
   "pygments_lexer": "ipython2",
   "version": "2.7.6"
  }
 },
 "nbformat": 4,
 "nbformat_minor": 5
}
