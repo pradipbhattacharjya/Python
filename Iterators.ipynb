{
 "cells": [
  {
   "cell_type": "code",
   "id": "initial_id",
   "metadata": {
    "collapsed": true,
    "ExecuteTime": {
     "end_time": "2025-10-02T02:30:22.410498Z",
     "start_time": "2025-10-02T02:30:22.407064Z"
    }
   },
   "source": [
    "my_list=[1,2,3,4,5,6]\n",
    "for i in my_list:\n",
    "    print(i)"
   ],
   "outputs": [
    {
     "name": "stdout",
     "output_type": "stream",
     "text": [
      "1\n",
      "2\n",
      "3\n",
      "4\n",
      "5\n",
      "6\n"
     ]
    }
   ],
   "execution_count": 1
  },
  {
   "metadata": {
    "ExecuteTime": {
     "end_time": "2025-10-02T02:30:52.277544Z",
     "start_time": "2025-10-02T02:30:52.266693Z"
    }
   },
   "cell_type": "code",
   "source": "type(my_list)",
   "id": "47dc2312766c17e2",
   "outputs": [
    {
     "data": {
      "text/plain": [
       "list"
      ]
     },
     "execution_count": 2,
     "metadata": {},
     "output_type": "execute_result"
    }
   ],
   "execution_count": 2
  },
  {
   "metadata": {
    "ExecuteTime": {
     "end_time": "2025-10-02T02:31:39.223792Z",
     "start_time": "2025-10-02T02:31:39.217964Z"
    }
   },
   "cell_type": "code",
   "source": "print(my_list)",
   "id": "2ad6d79383739629",
   "outputs": [
    {
     "name": "stdout",
     "output_type": "stream",
     "text": [
      "[1, 2, 3, 4, 5, 6]\n"
     ]
    }
   ],
   "execution_count": 3
  },
  {
   "metadata": {
    "ExecuteTime": {
     "end_time": "2025-10-02T02:32:28.343555Z",
     "start_time": "2025-10-02T02:32:28.336265Z"
    }
   },
   "cell_type": "code",
   "source": [
    "#Iterator\n",
    "iterator=iter(my_list)\n",
    "print(type(iterator))"
   ],
   "id": "e9c0d84b9c6f6904",
   "outputs": [
    {
     "name": "stdout",
     "output_type": "stream",
     "text": [
      "<class 'list_iterator'>\n"
     ]
    }
   ],
   "execution_count": 4
  },
  {
   "metadata": {
    "ExecuteTime": {
     "end_time": "2025-10-02T02:33:04.353506Z",
     "start_time": "2025-10-02T02:33:04.347129Z"
    }
   },
   "cell_type": "code",
   "source": "iterator",
   "id": "be0b154625320cf6",
   "outputs": [
    {
     "data": {
      "text/plain": [
       "<list_iterator at 0x13a8d8d65f0>"
      ]
     },
     "execution_count": 5,
     "metadata": {},
     "output_type": "execute_result"
    }
   ],
   "execution_count": 5
  },
  {
   "metadata": {
    "ExecuteTime": {
     "end_time": "2025-10-02T02:36:04.389328Z",
     "start_time": "2025-10-02T02:36:04.366913Z"
    }
   },
   "cell_type": "code",
   "source": [
    "#Iterate through all the element\n",
    "\n",
    "next(iterator)"
   ],
   "id": "745fb2a2457c017e",
   "outputs": [
    {
     "ename": "StopIteration",
     "evalue": "",
     "output_type": "error",
     "traceback": [
      "\u001B[31m---------------------------------------------------------------------------\u001B[39m",
      "\u001B[31mStopIteration\u001B[39m                             Traceback (most recent call last)",
      "\u001B[36mCell\u001B[39m\u001B[36m \u001B[39m\u001B[32mIn[15]\u001B[39m\u001B[32m, line 3\u001B[39m\n\u001B[32m      1\u001B[39m \u001B[38;5;66;03m#Iterate through all the element\u001B[39;00m\n\u001B[32m----> \u001B[39m\u001B[32m3\u001B[39m \u001B[38;5;28;43mnext\u001B[39;49m\u001B[43m(\u001B[49m\u001B[43miterator\u001B[49m\u001B[43m)\u001B[49m\n",
      "\u001B[31mStopIteration\u001B[39m: "
     ]
    }
   ],
   "execution_count": 15
  },
  {
   "metadata": {
    "ExecuteTime": {
     "end_time": "2025-10-02T02:38:53.296935Z",
     "start_time": "2025-10-02T02:38:53.289294Z"
    }
   },
   "cell_type": "code",
   "source": "iterator=iter(my_list)",
   "id": "7a057f4f1ce8f437",
   "outputs": [],
   "execution_count": 17
  },
  {
   "metadata": {
    "ExecuteTime": {
     "end_time": "2025-10-02T02:39:28.417115Z",
     "start_time": "2025-10-02T02:39:28.410691Z"
    }
   },
   "cell_type": "code",
   "source": [
    "\n",
    "try:\n",
    "   print(next(iterator))\n",
    "except StopIteration:\n",
    "    print(\"There are no elements in the iterator\")"
   ],
   "id": "139d07453065ebf9",
   "outputs": [
    {
     "name": "stdout",
     "output_type": "stream",
     "text": [
      "There are no elements in the iterator\n"
     ]
    }
   ],
   "execution_count": 24
  },
  {
   "metadata": {
    "ExecuteTime": {
     "end_time": "2025-10-02T02:43:32.342006Z",
     "start_time": "2025-10-02T02:43:32.331618Z"
    }
   },
   "cell_type": "code",
   "source": [
    "#String iterator\n",
    "my_string = \"Hello\"\n",
    "string_iterator = iter(my_string)\n",
    "\n",
    "print(next(string_iterator))\n",
    "print(next(string_iterator))"
   ],
   "id": "c0612f31edcaecd7",
   "outputs": [
    {
     "name": "stdout",
     "output_type": "stream",
     "text": [
      "H\n",
      "e\n"
     ]
    }
   ],
   "execution_count": 26
  }
 ],
 "metadata": {
  "kernelspec": {
   "display_name": "Python 3",
   "language": "python",
   "name": "python3"
  },
  "language_info": {
   "codemirror_mode": {
    "name": "ipython",
    "version": 2
   },
   "file_extension": ".py",
   "mimetype": "text/x-python",
   "name": "python",
   "nbconvert_exporter": "python",
   "pygments_lexer": "ipython2",
   "version": "2.7.6"
  }
 },
 "nbformat": 4,
 "nbformat_minor": 5
}
