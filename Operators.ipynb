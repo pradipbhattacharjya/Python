{
 "cells": [
  {
   "cell_type": "code",
   "id": "initial_id",
   "metadata": {
    "collapsed": true,
    "ExecuteTime": {
     "end_time": "2025-09-25T10:38:48.346539Z",
     "start_time": "2025-09-25T10:38:48.281510Z"
    }
   },
   "source": [
    "#Arithmethic Operaton\n",
    "a=10\n",
    "b = 5\n",
    "\n",
    "add_result=a+b  #addiiton\n",
    "sub_result=a-b  #substraction\n",
    "mult_result=a*b #multiplication\n",
    "div_result=a/b  #division\n",
    "floor_div_result=a//b ## floor division\n",
    "modulus_result=a%b #modulus operation\n",
    "\n",
    "exponent_result=a**b ## Exponentiation\n",
    "\n",
    "\n",
    "print(add_result)\n",
    "print(sub_result)\n",
    "print(mult_result)\n",
    "print(div_result)\n",
    "print(floor_div_result)\n",
    "print(modulus_result)\n",
    "print(exponent_result)"
   ],
   "outputs": [
    {
     "name": "stdout",
     "output_type": "stream",
     "text": [
      "15\n",
      "5\n",
      "50\n",
      "2.0\n",
      "2\n",
      "0\n",
      "100000\n"
     ]
    }
   ],
   "execution_count": 2
  },
  {
   "metadata": {
    "ExecuteTime": {
     "end_time": "2025-09-25T10:40:48.287776Z",
     "start_time": "2025-09-25T10:40:48.213404Z"
    }
   },
   "cell_type": "code",
   "source": "10/5",
   "id": "c3773653df12701a",
   "outputs": [
    {
     "data": {
      "text/plain": [
       "2.0"
      ]
     },
     "execution_count": 3,
     "metadata": {},
     "output_type": "execute_result"
    }
   ],
   "execution_count": 3
  },
  {
   "metadata": {
    "ExecuteTime": {
     "end_time": "2025-09-25T10:41:20.827387Z",
     "start_time": "2025-09-25T10:41:20.814144Z"
    }
   },
   "cell_type": "code",
   "source": "21//5",
   "id": "dfbc78239277d221",
   "outputs": [
    {
     "data": {
      "text/plain": [
       "4"
      ]
     },
     "execution_count": 5,
     "metadata": {},
     "output_type": "execute_result"
    }
   ],
   "execution_count": 5
  },
  {
   "metadata": {
    "ExecuteTime": {
     "end_time": "2025-09-25T10:41:40.701117Z",
     "start_time": "2025-09-25T10:41:40.685908Z"
    }
   },
   "cell_type": "code",
   "source": [
    "## Comparison Operators\n",
    "## == Equal to\n",
    "a=10\n",
    "b=10\n",
    "\n",
    "a==b"
   ],
   "id": "5c42bb0d5a24aad8",
   "outputs": [
    {
     "data": {
      "text/plain": [
       "True"
      ]
     },
     "execution_count": 6,
     "metadata": {},
     "output_type": "execute_result"
    }
   ],
   "execution_count": 6
  },
  {
   "metadata": {
    "ExecuteTime": {
     "end_time": "2025-09-25T10:43:44.859061Z",
     "start_time": "2025-09-25T10:43:44.841808Z"
    }
   },
   "cell_type": "code",
   "source": [
    "str1=\"PRADIP\"\n",
    "str2=\"PRADIP\"\n",
    "str1==str2"
   ],
   "id": "5dd6d20b757a58f3",
   "outputs": [
    {
     "data": {
      "text/plain": [
       "True"
      ]
     },
     "execution_count": 7,
     "metadata": {},
     "output_type": "execute_result"
    }
   ],
   "execution_count": 7
  },
  {
   "metadata": {
    "ExecuteTime": {
     "end_time": "2025-09-25T10:44:43.747792Z",
     "start_time": "2025-09-25T10:44:43.736141Z"
    }
   },
   "cell_type": "code",
   "source": [
    "##Not Equal to !=\n",
    "str1!=str2"
   ],
   "id": "d74c33f3a505775e",
   "outputs": [
    {
     "data": {
      "text/plain": [
       "False"
      ]
     },
     "execution_count": 8,
     "metadata": {},
     "output_type": "execute_result"
    }
   ],
   "execution_count": 8
  },
  {
   "metadata": {
    "ExecuteTime": {
     "end_time": "2025-09-25T10:45:56.301457Z",
     "start_time": "2025-09-25T10:45:56.289866Z"
    }
   },
   "cell_type": "code",
   "source": [
    "str3=\"PRADIP\"\n",
    "str4=\"pradip\"\n",
    "str3==str4"
   ],
   "id": "359b283a594ea3b5",
   "outputs": [
    {
     "data": {
      "text/plain": [
       "False"
      ]
     },
     "execution_count": 9,
     "metadata": {},
     "output_type": "execute_result"
    }
   ],
   "execution_count": 9
  },
  {
   "metadata": {
    "ExecuteTime": {
     "end_time": "2025-09-25T10:47:39.339646Z",
     "start_time": "2025-09-25T10:47:39.319280Z"
    }
   },
   "cell_type": "code",
   "source": [
    "#greater than >\n",
    "\n",
    "num1=45\n",
    "num2=55\n",
    "num1>num2"
   ],
   "id": "33ac7d60197de0e7",
   "outputs": [
    {
     "data": {
      "text/plain": [
       "False"
      ]
     },
     "execution_count": 10,
     "metadata": {},
     "output_type": "execute_result"
    }
   ],
   "execution_count": 10
  },
  {
   "metadata": {
    "ExecuteTime": {
     "end_time": "2025-09-25T10:48:50.666228Z",
     "start_time": "2025-09-25T10:48:50.657549Z"
    }
   },
   "cell_type": "code",
   "source": [
    "##less then <\n",
    "print(num1<num2)"
   ],
   "id": "1c270689260506e3",
   "outputs": [
    {
     "name": "stdout",
     "output_type": "stream",
     "text": [
      "True\n"
     ]
    }
   ],
   "execution_count": 11
  },
  {
   "metadata": {
    "ExecuteTime": {
     "end_time": "2025-09-25T10:51:01.343024Z",
     "start_time": "2025-09-25T10:51:01.336330Z"
    }
   },
   "cell_type": "code",
   "source": [
    "#greater than or equal to\n",
    "number1 = 45\n",
    "number2 = 45\n",
    "\n",
    "print(number1>=number2)\n"
   ],
   "id": "d73fbd6cc59b8172",
   "outputs": [
    {
     "name": "stdout",
     "output_type": "stream",
     "text": [
      "True\n"
     ]
    }
   ],
   "execution_count": 14
  },
  {
   "metadata": {
    "ExecuteTime": {
     "end_time": "2025-09-25T10:50:57.934948Z",
     "start_time": "2025-09-25T10:50:57.925803Z"
    }
   },
   "cell_type": "code",
   "source": [
    "#less than or equal to\n",
    "number1 = 45\n",
    "number2 = 45\n",
    "\n",
    "\n",
    "print(number1<=number2)\n"
   ],
   "id": "17bb7e986acc0b4d",
   "outputs": [
    {
     "name": "stdout",
     "output_type": "stream",
     "text": [
      "True\n"
     ]
    }
   ],
   "execution_count": 13
  },
  {
   "metadata": {},
   "cell_type": "code",
   "outputs": [],
   "execution_count": null,
   "source": [
    "#greater than or equal to\n",
    "number1 = 45\n",
    "number2 = 45\n",
    "\n",
    "\n",
    "print(number1==number2)"
   ],
   "id": "a82b3bac525bc6c"
  },
  {
   "metadata": {
    "ExecuteTime": {
     "end_time": "2025-09-25T11:23:40.166683Z",
     "start_time": "2025-09-25T11:23:40.149827Z"
    }
   },
   "cell_type": "code",
   "source": [
    "# Logical Operators\n",
    "## And, Not, OR\n",
    "x=True\n",
    "y=True\n",
    "result =x and y\n",
    "print(result)"
   ],
   "id": "2b6675e002008573",
   "outputs": [
    {
     "name": "stdout",
     "output_type": "stream",
     "text": [
      "True\n"
     ]
    }
   ],
   "execution_count": 15
  }
 ],
 "metadata": {
  "kernelspec": {
   "display_name": "Python 3",
   "language": "python",
   "name": "python3"
  },
  "language_info": {
   "codemirror_mode": {
    "name": "ipython",
    "version": 2
   },
   "file_extension": ".py",
   "mimetype": "text/x-python",
   "name": "python",
   "nbconvert_exporter": "python",
   "pygments_lexer": "ipython2",
   "version": "2.7.6"
  }
 },
 "nbformat": 4,
 "nbformat_minor": 5
}
