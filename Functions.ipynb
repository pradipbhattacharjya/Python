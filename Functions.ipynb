{
 "cells": [
  {
   "cell_type": "code",
   "id": "initial_id",
   "metadata": {
    "collapsed": true,
    "ExecuteTime": {
     "end_time": "2025-09-28T08:19:19.894653Z",
     "start_time": "2025-09-28T08:19:19.890386Z"
    }
   },
   "source": [
    "from Datatypes import result\n",
    "\n",
    "\n",
    "#Why functions?\n",
    "def even_or_odd(num):\n",
    "    \"\"\"This function finds even or odd\"\"\"\n",
    "    if num % 2 == 0:\n",
    "        print(\"The number is Even\")\n",
    "    else:\n",
    "        print(\"The number is Odd\")"
   ],
   "outputs": [],
   "execution_count": 1
  },
  {
   "metadata": {
    "ExecuteTime": {
     "end_time": "2025-09-28T08:20:17.586125Z",
     "start_time": "2025-09-28T08:20:17.579004Z"
    }
   },
   "cell_type": "code",
   "source": [
    "## Call this function\n",
    "even_or_odd(24)"
   ],
   "id": "4a3c70978a26f763",
   "outputs": [
    {
     "name": "stdout",
     "output_type": "stream",
     "text": [
      "The number is Even\n"
     ]
    }
   ],
   "execution_count": 2
  },
  {
   "metadata": {
    "ExecuteTime": {
     "end_time": "2025-09-28T08:24:58.654865Z",
     "start_time": "2025-09-28T08:24:58.647138Z"
    }
   },
   "cell_type": "code",
   "source": [
    "## function with multiple parameters\n",
    "\n",
    "def add(a,b):\n",
    "    return a+b\n",
    "\n",
    "result=add(2,4)\n",
    "print(result)"
   ],
   "id": "58020823ca719856",
   "outputs": [
    {
     "name": "stdout",
     "output_type": "stream",
     "text": [
      "6\n"
     ]
    }
   ],
   "execution_count": 3
  },
  {
   "metadata": {
    "ExecuteTime": {
     "end_time": "2025-09-28T08:28:34.339385Z",
     "start_time": "2025-09-28T08:28:34.333045Z"
    }
   },
   "cell_type": "code",
   "source": [
    "## Default Parameters\n",
    "def greet(name):\n",
    "    print(f'Hello {name} Welcome To the paradise')\n",
    "\n",
    "greet(\"Krish\")"
   ],
   "id": "35cd8fd7a985cff9",
   "outputs": [
    {
     "name": "stdout",
     "output_type": "stream",
     "text": [
      "Hello Krish Welcome To the paradise\n"
     ]
    }
   ],
   "execution_count": 5
  },
  {
   "metadata": {
    "ExecuteTime": {
     "end_time": "2025-09-28T08:31:07.578687Z",
     "start_time": "2025-09-28T08:31:07.572966Z"
    }
   },
   "cell_type": "code",
   "source": [
    "def greet(name=\"Guest\"):\n",
    "    print(f'Hello {name} Welcome To the paradise')\n",
    "\n",
    "greet()"
   ],
   "id": "2dfefdbb4f550956",
   "outputs": [
    {
     "name": "stdout",
     "output_type": "stream",
     "text": [
      "Hello Guest Welcome To the paradise\n"
     ]
    }
   ],
   "execution_count": 6
  },
  {
   "metadata": {
    "ExecuteTime": {
     "end_time": "2025-09-28T08:37:52.572069Z",
     "start_time": "2025-09-28T08:37:52.564939Z"
    }
   },
   "cell_type": "code",
   "source": [
    "#Variable Length Arguments\n",
    "#Positional And Keywords arguments\n",
    "\n",
    "def print_numbers(*args):\n",
    "    for number in args:\n",
    "        print(number)"
   ],
   "id": "89e5061f00591b26",
   "outputs": [],
   "execution_count": 9
  },
  {
   "metadata": {
    "ExecuteTime": {
     "end_time": "2025-09-28T08:37:55.429418Z",
     "start_time": "2025-09-28T08:37:55.422694Z"
    }
   },
   "cell_type": "code",
   "source": "print_numbers(1,2,3,4,5,6,7,8,\"pradip\")",
   "id": "bdd2fbbe858869d6",
   "outputs": [
    {
     "name": "stdout",
     "output_type": "stream",
     "text": [
      "1\n",
      "2\n",
      "3\n",
      "4\n",
      "5\n",
      "6\n",
      "7\n",
      "8\n",
      "pradip\n"
     ]
    }
   ],
   "execution_count": 10
  },
  {
   "metadata": {
    "ExecuteTime": {
     "end_time": "2025-09-28T08:40:34.135633Z",
     "start_time": "2025-09-28T08:40:34.129277Z"
    }
   },
   "cell_type": "code",
   "source": [
    "#Keywords Arguments\n",
    "def print_details(**kwargs):\n",
    "    for key, value in kwargs.items():\n",
    "        print(f'{key}: {value}')"
   ],
   "id": "bf275587300e8762",
   "outputs": [],
   "execution_count": 11
  },
  {
   "metadata": {
    "ExecuteTime": {
     "end_time": "2025-09-28T08:41:15.019781Z",
     "start_time": "2025-09-28T08:41:15.013028Z"
    }
   },
   "cell_type": "code",
   "source": "print_details(name=\"Krish\", age=27,city=\"Bajkul\")",
   "id": "8c070c04c0034d29",
   "outputs": [
    {
     "name": "stdout",
     "output_type": "stream",
     "text": [
      "name: Krish\n",
      "age: 27\n",
      "city: Bajkul\n"
     ]
    }
   ],
   "execution_count": 13
  },
  {
   "metadata": {
    "ExecuteTime": {
     "end_time": "2025-09-28T08:46:26.923864Z",
     "start_time": "2025-09-28T08:46:26.912740Z"
    }
   },
   "cell_type": "code",
   "source": [
    " def print_details(*args, **kwargs):\n",
    "     for val in args:\n",
    "         print(f\"Positional arguments: {val}\")\n",
    "\n",
    "     for key,value in kwargs.items():\n",
    "         print(f\"{key}: {value}\")"
   ],
   "id": "d3dd051c77f43b6f",
   "outputs": [],
   "execution_count": 14
  },
  {
   "metadata": {
    "ExecuteTime": {
     "end_time": "2025-09-28T08:51:55.801766Z",
     "start_time": "2025-09-28T08:51:55.794579Z"
    }
   },
   "cell_type": "code",
   "source": "print_details(1,2,3,4,5,6,7,8,\"pradip\",name=\"Krish\", age=27,city=\"Bajkul\")",
   "id": "1c0b163689de97ba",
   "outputs": [
    {
     "name": "stdout",
     "output_type": "stream",
     "text": [
      "Positional arguments: 1\n",
      "Positional arguments: 2\n",
      "Positional arguments: 3\n",
      "Positional arguments: 4\n",
      "Positional arguments: 5\n",
      "Positional arguments: 6\n",
      "Positional arguments: 7\n",
      "Positional arguments: 8\n",
      "Positional arguments: pradip\n",
      "name: Krish\n",
      "age: 27\n",
      "city: Bajkul\n"
     ]
    }
   ],
   "execution_count": 17
  },
  {
   "metadata": {
    "ExecuteTime": {
     "end_time": "2025-09-28T08:54:19.733350Z",
     "start_time": "2025-09-28T08:54:19.720309Z"
    }
   },
   "cell_type": "code",
   "source": [
    "#Return statements\n",
    "def multiply(a,b):\n",
    "    return a*b\n",
    "multiply(2,3)"
   ],
   "id": "19725154add6ed83",
   "outputs": [
    {
     "data": {
      "text/plain": [
       "6"
      ]
     },
     "execution_count": 18,
     "metadata": {},
     "output_type": "execute_result"
    }
   ],
   "execution_count": 18
  },
  {
   "metadata": {
    "ExecuteTime": {
     "end_time": "2025-09-28T08:55:53.084218Z",
     "start_time": "2025-09-28T08:55:53.075613Z"
    }
   },
   "cell_type": "code",
   "source": [
    "#Return multiple parameters\n",
    "def multiply(a,b):\n",
    "    return a*b,a\n",
    "\n",
    "multiply(2,3)"
   ],
   "id": "73f1059b9c7b833",
   "outputs": [
    {
     "data": {
      "text/plain": [
       "(6, 2)"
      ]
     },
     "execution_count": 20,
     "metadata": {},
     "output_type": "execute_result"
    }
   ],
   "execution_count": 20
  }
 ],
 "metadata": {
  "kernelspec": {
   "display_name": "Python 3",
   "language": "python",
   "name": "python3"
  },
  "language_info": {
   "codemirror_mode": {
    "name": "ipython",
    "version": 2
   },
   "file_extension": ".py",
   "mimetype": "text/x-python",
   "name": "python",
   "nbconvert_exporter": "python",
   "pygments_lexer": "ipython2",
   "version": "2.7.6"
  }
 },
 "nbformat": 4,
 "nbformat_minor": 5
}
