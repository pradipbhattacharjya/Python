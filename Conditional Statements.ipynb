{
 "cells": [
  {
   "cell_type": "code",
   "id": "initial_id",
   "metadata": {
    "collapsed": true,
    "ExecuteTime": {
     "end_time": "2025-09-26T00:45:35.410875Z",
     "start_time": "2025-09-26T00:45:35.402824Z"
    }
   },
   "source": [
    "#if statement\n",
    "age = 20\n",
    "\n",
    "if age >=18:\n",
    "    print(\"You are allowed to vote in the elections\")"
   ],
   "outputs": [
    {
     "name": "stdout",
     "output_type": "stream",
     "text": [
      "You are allowed to vote in the elections\n"
     ]
    }
   ],
   "execution_count": 1
  },
  {
   "metadata": {
    "ExecuteTime": {
     "end_time": "2025-09-26T00:46:21.539472Z",
     "start_time": "2025-09-26T00:46:21.523546Z"
    }
   },
   "cell_type": "code",
   "source": "age>=18",
   "id": "a1b40065c89e3c80",
   "outputs": [
    {
     "data": {
      "text/plain": [
       "True"
      ]
     },
     "execution_count": 2,
     "metadata": {},
     "output_type": "execute_result"
    }
   ],
   "execution_count": 2
  },
  {
   "metadata": {
    "ExecuteTime": {
     "end_time": "2025-09-26T00:53:16.279994Z",
     "start_time": "2025-09-26T00:53:16.259295Z"
    }
   },
   "cell_type": "code",
   "source": [
    "##else\n",
    "##THe else statement executes a block of code if the condition in the if statement is False.\n",
    "\n",
    "age=16\n",
    "\n",
    "if age>=18:\n",
    "    print(\"you are eligible to vote in the elections\")\n",
    "else:\n",
    "    print(\"you are not eligible to vote in the elections\")\n"
   ],
   "id": "96ed91ca9b81ae4e",
   "outputs": [
    {
     "name": "stdout",
     "output_type": "stream",
     "text": [
      "you are not eligible to vote in the elections\n"
     ]
    }
   ],
   "execution_count": 3
  },
  {
   "metadata": {
    "ExecuteTime": {
     "end_time": "2025-09-26T01:01:25.117934Z",
     "start_time": "2025-09-26T01:01:25.107242Z"
    }
   },
   "cell_type": "code",
   "source": [
    "#elif\n",
    "#The elif statement allows you to check multiple conditions.It stands for \"else if\"\n",
    "\n",
    "age=20\n",
    "if age<13:\n",
    "     print(\"you are a child\")\n",
    "elif age<18:\n",
    "    print(\"you are a teenager\")\n",
    "else:\n",
    "    print(\"You are a adult\")\n"
   ],
   "id": "ec727256c2fafa18",
   "outputs": [
    {
     "name": "stdout",
     "output_type": "stream",
     "text": [
      "You are a adult\n"
     ]
    }
   ],
   "execution_count": 4
  },
  {
   "metadata": {
    "ExecuteTime": {
     "end_time": "2025-09-26T01:33:13.695913Z",
     "start_time": "2025-09-26T01:33:07.476856Z"
    }
   },
   "cell_type": "code",
   "source": [
    "#Nested Condiitonal Statements\n",
    "#Nested conditional statements allow you to place one or more if, elif, or else statements inside another if, elif, or else statement to create complex decision structures.\n",
    "#number even,odd,negative\n",
    "\n",
    "number = int(input(\"Enter the number: \"))\n",
    "if number > 0:\n",
    "    print(\"The number is positive.\")\n",
    "    if number % 2 == 0:\n",
    "        print(\"The number is even.\")\n",
    "    else:\n",
    "        print(\"The number is odd.\")\n",
    "else:\n",
    "    print(\"The number is zero or negative.\")"
   ],
   "id": "72ebf3409dd1091f",
   "outputs": [
    {
     "name": "stdout",
     "output_type": "stream",
     "text": [
      "The number is positive.\n",
      "The number is odd.\n"
     ]
    }
   ],
   "execution_count": 6
  },
  {
   "metadata": {
    "ExecuteTime": {
     "end_time": "2025-09-26T02:42:45.449967Z",
     "start_time": "2025-09-26T02:42:39.776690Z"
    }
   },
   "cell_type": "code",
   "source": [
    "#Practical Examples\n",
    "##Determine if a year is a leap year using nested condition statement\n",
    "year=int(input(\"Enter the year: \"))\n",
    "\n",
    "if year%4==0:\n",
    "    if year%100==0:\n",
    "        if year%400==0:\n",
    "            print(year,\"The year is a leap year.\")\n",
    "        else:\n",
    "            print(year,\"is not a leap year.\")\n",
    "    else:\n",
    "        print(year,\"is not a leap year.\")\n",
    "\n",
    "else:\n",
    "    print(year,\"is not a leap year.\")"
   ],
   "id": "f0f2c0ddb3e65bc3",
   "outputs": [
    {
     "name": "stdout",
     "output_type": "stream",
     "text": [
      "2024 is not a leap year.\n"
     ]
    }
   ],
   "execution_count": 8
  },
  {
   "metadata": {
    "ExecuteTime": {
     "end_time": "2025-09-26T02:47:32.774007Z",
     "start_time": "2025-09-26T02:47:14.692101Z"
    }
   },
   "cell_type": "code",
   "source": [
    "##Assignment\n",
    "##Simple Calculator Program\n",
    "\n",
    "num1 = float(input(\"Enter the first number: \"))\n",
    "num2 = float(input(\"Enter the second number: \"))\n",
    "operation = input(\"Enter operation (+, -, *, /): \")\n",
    "if operation == '+':\n",
    "    result = num1 + num2\n",
    "    print(result)\n",
    "elif operation == '-':\n",
    "    result = num1 - num2\n",
    "    print(result)\n",
    "elif operation == '*':\n",
    "    result = num1 * num2\n",
    "    print(result)\n",
    "elif operation == '/':\n",
    "    if num2 != 0:\n",
    "        result = num1 / num2\n",
    "        print(result)\n",
    "    else:\n",
    "        print(\"Division by zero is not allowed.\")\n",
    "else:\n",
    "    print(\"Invalid operation.\")\n"
   ],
   "id": "e8b201bb82731c49",
   "outputs": [
    {
     "name": "stdout",
     "output_type": "stream",
     "text": [
      "33.0\n"
     ]
    }
   ],
   "execution_count": 9
  },
  {
   "metadata": {
    "ExecuteTime": {
     "end_time": "2025-09-26T02:49:58.493117Z",
     "start_time": "2025-09-26T02:49:42.849878Z"
    }
   },
   "cell_type": "code",
   "source": [
    "#Assignment: Ticket Price Based on Age\n",
    "#Another example is to determine the ticket price based on age and whether the person is a student. Try to implement this logic using conditional statements.\n",
    "age = int(input(\"Enter your age: \"))\n",
    "is_student = input(\"Are you a student? (yes/no): \")\n",
    "if age < 5:\n",
    "    price = 0\n",
    "elif age < 12:\n",
    "    price = 10\n",
    "elif age < 17:\n",
    "    if is_student.lower() == 'yes':\n",
    "        price = 12\n",
    "    else:\n",
    "        price = 15\n",
    "else:\n",
    "    price = 20\n",
    "print(f\"Ticket price: {price}\")"
   ],
   "id": "f37e8a12a011e076",
   "outputs": [
    {
     "name": "stdout",
     "output_type": "stream",
     "text": [
      "Ticket price: 20\n"
     ]
    }
   ],
   "execution_count": 10
  }
 ],
 "metadata": {
  "kernelspec": {
   "display_name": "Python 3",
   "language": "python",
   "name": "python3"
  },
  "language_info": {
   "codemirror_mode": {
    "name": "ipython",
    "version": 2
   },
   "file_extension": ".py",
   "mimetype": "text/x-python",
   "name": "python",
   "nbconvert_exporter": "python",
   "pygments_lexer": "ipython2",
   "version": "2.7.6"
  }
 },
 "nbformat": 4,
 "nbformat_minor": 5
}
