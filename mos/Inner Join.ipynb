{
 "cells": [
  {
   "cell_type": "code",
   "id": "initial_id",
   "metadata": {
    "collapsed": true,
    "ExecuteTime": {
     "end_time": "2025-09-12T10:50:32.591688Z",
     "start_time": "2025-09-12T10:50:31.373452Z"
    }
   },
   "source": "import pandas as pd",
   "outputs": [],
   "execution_count": 1
  },
  {
   "metadata": {
    "ExecuteTime": {
     "end_time": "2025-09-12T10:54:36.794172Z",
     "start_time": "2025-09-12T10:54:36.779495Z"
    }
   },
   "cell_type": "code",
   "source": [
    "#Sales Representatives Table (Parent\n",
    "sales_reps = pd.DataFrame({\n",
    "    \"rep_id\": [1, 2, 3],\n",
    "    \"name\":[\"Alice\",\"Bob\",\"Charlie\"],\n",
    "    \"region\": [\"North\",\"South\",\"West\"]\n",
    "})"
   ],
   "id": "3dcfef66d5a157bf",
   "outputs": [],
   "execution_count": 2
  },
  {
   "metadata": {
    "ExecuteTime": {
     "end_time": "2025-09-12T11:00:25.051832Z",
     "start_time": "2025-09-12T11:00:25.045718Z"
    }
   },
   "cell_type": "code",
   "source": [
    "# Sales Data Table(Child)\n",
    "sales = pd.DataFrame({\n",
    "    \"sale_id\": [101, 102, 103, 104],\n",
    "    \"sale_rep_id\":[1, 2, None, 4],#Incudes a missing and an unmatched ID\n",
    "    \"sale_amount\": [500,1000, 750, 1200]\n",
    "})"
   ],
   "id": "ca6ccee598af7db3",
   "outputs": [],
   "execution_count": 6
  },
  {
   "metadata": {
    "ExecuteTime": {
     "end_time": "2025-09-12T10:59:28.212775Z",
     "start_time": "2025-09-12T10:59:28.189334Z"
    }
   },
   "cell_type": "code",
   "source": "sales_reps",
   "id": "f1b6e3f730188490",
   "outputs": [
    {
     "data": {
      "text/plain": [
       "   rep_id     name region\n",
       "0       1    Alice  North\n",
       "1       2      Bob  South\n",
       "2       3  Charlie   West"
      ],
      "text/html": [
       "<div>\n",
       "<style scoped>\n",
       "    .dataframe tbody tr th:only-of-type {\n",
       "        vertical-align: middle;\n",
       "    }\n",
       "\n",
       "    .dataframe tbody tr th {\n",
       "        vertical-align: top;\n",
       "    }\n",
       "\n",
       "    .dataframe thead th {\n",
       "        text-align: right;\n",
       "    }\n",
       "</style>\n",
       "<table border=\"1\" class=\"dataframe\">\n",
       "  <thead>\n",
       "    <tr style=\"text-align: right;\">\n",
       "      <th></th>\n",
       "      <th>rep_id</th>\n",
       "      <th>name</th>\n",
       "      <th>region</th>\n",
       "    </tr>\n",
       "  </thead>\n",
       "  <tbody>\n",
       "    <tr>\n",
       "      <th>0</th>\n",
       "      <td>1</td>\n",
       "      <td>Alice</td>\n",
       "      <td>North</td>\n",
       "    </tr>\n",
       "    <tr>\n",
       "      <th>1</th>\n",
       "      <td>2</td>\n",
       "      <td>Bob</td>\n",
       "      <td>South</td>\n",
       "    </tr>\n",
       "    <tr>\n",
       "      <th>2</th>\n",
       "      <td>3</td>\n",
       "      <td>Charlie</td>\n",
       "      <td>West</td>\n",
       "    </tr>\n",
       "  </tbody>\n",
       "</table>\n",
       "</div>"
      ]
     },
     "execution_count": 4,
     "metadata": {},
     "output_type": "execute_result"
    }
   ],
   "execution_count": 4
  },
  {
   "metadata": {
    "ExecuteTime": {
     "end_time": "2025-09-12T11:00:31.594472Z",
     "start_time": "2025-09-12T11:00:31.579311Z"
    }
   },
   "cell_type": "code",
   "source": "sales",
   "id": "b08d6721797edb78",
   "outputs": [
    {
     "data": {
      "text/plain": [
       "   sale_id  sale_rep_id  sale_amount\n",
       "0      101          1.0          500\n",
       "1      102          2.0         1000\n",
       "2      103          NaN          750\n",
       "3      104          4.0         1200"
      ],
      "text/html": [
       "<div>\n",
       "<style scoped>\n",
       "    .dataframe tbody tr th:only-of-type {\n",
       "        vertical-align: middle;\n",
       "    }\n",
       "\n",
       "    .dataframe tbody tr th {\n",
       "        vertical-align: top;\n",
       "    }\n",
       "\n",
       "    .dataframe thead th {\n",
       "        text-align: right;\n",
       "    }\n",
       "</style>\n",
       "<table border=\"1\" class=\"dataframe\">\n",
       "  <thead>\n",
       "    <tr style=\"text-align: right;\">\n",
       "      <th></th>\n",
       "      <th>sale_id</th>\n",
       "      <th>sale_rep_id</th>\n",
       "      <th>sale_amount</th>\n",
       "    </tr>\n",
       "  </thead>\n",
       "  <tbody>\n",
       "    <tr>\n",
       "      <th>0</th>\n",
       "      <td>101</td>\n",
       "      <td>1.0</td>\n",
       "      <td>500</td>\n",
       "    </tr>\n",
       "    <tr>\n",
       "      <th>1</th>\n",
       "      <td>102</td>\n",
       "      <td>2.0</td>\n",
       "      <td>1000</td>\n",
       "    </tr>\n",
       "    <tr>\n",
       "      <th>2</th>\n",
       "      <td>103</td>\n",
       "      <td>NaN</td>\n",
       "      <td>750</td>\n",
       "    </tr>\n",
       "    <tr>\n",
       "      <th>3</th>\n",
       "      <td>104</td>\n",
       "      <td>4.0</td>\n",
       "      <td>1200</td>\n",
       "    </tr>\n",
       "  </tbody>\n",
       "</table>\n",
       "</div>"
      ]
     },
     "execution_count": 7,
     "metadata": {},
     "output_type": "execute_result"
    }
   ],
   "execution_count": 7
  },
  {
   "metadata": {
    "ExecuteTime": {
     "end_time": "2025-09-12T11:04:58.284254Z",
     "start_time": "2025-09-12T11:04:58.272843Z"
    }
   },
   "cell_type": "code",
   "source": [
    "inner_join = pd.merge(\n",
    "    sales_reps,\n",
    "    sales,\n",
    "    left_on=\"rep_id\",\n",
    "    right_on=\"sale_rep_id\",\n",
    "    how=\"inner\"\n",
    ")"
   ],
   "id": "6380b70f2029346a",
   "outputs": [],
   "execution_count": 9
  },
  {
   "metadata": {
    "ExecuteTime": {
     "end_time": "2025-09-12T11:05:03.852732Z",
     "start_time": "2025-09-12T11:05:03.839349Z"
    }
   },
   "cell_type": "code",
   "source": "inner_join",
   "id": "d1124cf960f95e0",
   "outputs": [
    {
     "data": {
      "text/plain": [
       "   rep_id   name region  sale_id  sale_rep_id  sale_amount\n",
       "0       1  Alice  North      101          1.0          500\n",
       "1       2    Bob  South      102          2.0         1000"
      ],
      "text/html": [
       "<div>\n",
       "<style scoped>\n",
       "    .dataframe tbody tr th:only-of-type {\n",
       "        vertical-align: middle;\n",
       "    }\n",
       "\n",
       "    .dataframe tbody tr th {\n",
       "        vertical-align: top;\n",
       "    }\n",
       "\n",
       "    .dataframe thead th {\n",
       "        text-align: right;\n",
       "    }\n",
       "</style>\n",
       "<table border=\"1\" class=\"dataframe\">\n",
       "  <thead>\n",
       "    <tr style=\"text-align: right;\">\n",
       "      <th></th>\n",
       "      <th>rep_id</th>\n",
       "      <th>name</th>\n",
       "      <th>region</th>\n",
       "      <th>sale_id</th>\n",
       "      <th>sale_rep_id</th>\n",
       "      <th>sale_amount</th>\n",
       "    </tr>\n",
       "  </thead>\n",
       "  <tbody>\n",
       "    <tr>\n",
       "      <th>0</th>\n",
       "      <td>1</td>\n",
       "      <td>Alice</td>\n",
       "      <td>North</td>\n",
       "      <td>101</td>\n",
       "      <td>1.0</td>\n",
       "      <td>500</td>\n",
       "    </tr>\n",
       "    <tr>\n",
       "      <th>1</th>\n",
       "      <td>2</td>\n",
       "      <td>Bob</td>\n",
       "      <td>South</td>\n",
       "      <td>102</td>\n",
       "      <td>2.0</td>\n",
       "      <td>1000</td>\n",
       "    </tr>\n",
       "  </tbody>\n",
       "</table>\n",
       "</div>"
      ]
     },
     "execution_count": 10,
     "metadata": {},
     "output_type": "execute_result"
    }
   ],
   "execution_count": 10
  },
  {
   "metadata": {
    "ExecuteTime": {
     "end_time": "2025-09-12T11:16:25.353335Z",
     "start_time": "2025-09-12T11:16:25.292797Z"
    }
   },
   "cell_type": "code",
   "source": "sales_by_region = inner_join.groupby(\"region\")[\"sale_amount\"].sum().reset_index()",
   "id": "e1cd9bba335cb47",
   "outputs": [],
   "execution_count": 11
  },
  {
   "metadata": {
    "ExecuteTime": {
     "end_time": "2025-09-12T11:16:42.056217Z",
     "start_time": "2025-09-12T11:16:42.043179Z"
    }
   },
   "cell_type": "code",
   "source": "sales_by_region",
   "id": "65618a0fc16d7cca",
   "outputs": [
    {
     "data": {
      "text/plain": [
       "  region  sale_amount\n",
       "0  North          500\n",
       "1  South         1000"
      ],
      "text/html": [
       "<div>\n",
       "<style scoped>\n",
       "    .dataframe tbody tr th:only-of-type {\n",
       "        vertical-align: middle;\n",
       "    }\n",
       "\n",
       "    .dataframe tbody tr th {\n",
       "        vertical-align: top;\n",
       "    }\n",
       "\n",
       "    .dataframe thead th {\n",
       "        text-align: right;\n",
       "    }\n",
       "</style>\n",
       "<table border=\"1\" class=\"dataframe\">\n",
       "  <thead>\n",
       "    <tr style=\"text-align: right;\">\n",
       "      <th></th>\n",
       "      <th>region</th>\n",
       "      <th>sale_amount</th>\n",
       "    </tr>\n",
       "  </thead>\n",
       "  <tbody>\n",
       "    <tr>\n",
       "      <th>0</th>\n",
       "      <td>North</td>\n",
       "      <td>500</td>\n",
       "    </tr>\n",
       "    <tr>\n",
       "      <th>1</th>\n",
       "      <td>South</td>\n",
       "      <td>1000</td>\n",
       "    </tr>\n",
       "  </tbody>\n",
       "</table>\n",
       "</div>"
      ]
     },
     "execution_count": 12,
     "metadata": {},
     "output_type": "execute_result"
    }
   ],
   "execution_count": 12
  },
  {
   "metadata": {
    "ExecuteTime": {
     "end_time": "2025-09-12T11:18:50.240724Z",
     "start_time": "2025-09-12T11:18:50.231883Z"
    }
   },
   "cell_type": "code",
   "source": "inner_join.shape",
   "id": "b52842b938f257ac",
   "outputs": [
    {
     "data": {
      "text/plain": [
       "(2, 6)"
      ]
     },
     "execution_count": 13,
     "metadata": {},
     "output_type": "execute_result"
    }
   ],
   "execution_count": 13
  }
 ],
 "metadata": {
  "kernelspec": {
   "display_name": "Python 3",
   "language": "python",
   "name": "python3"
  },
  "language_info": {
   "codemirror_mode": {
    "name": "ipython",
    "version": 2
   },
   "file_extension": ".py",
   "mimetype": "text/x-python",
   "name": "python",
   "nbconvert_exporter": "python",
   "pygments_lexer": "ipython2",
   "version": "2.7.6"
  }
 },
 "nbformat": 4,
 "nbformat_minor": 5
}
