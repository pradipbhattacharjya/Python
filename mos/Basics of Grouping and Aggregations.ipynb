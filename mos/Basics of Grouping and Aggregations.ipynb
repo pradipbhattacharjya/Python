{
 "cells": [
  {
   "cell_type": "code",
   "id": "initial_id",
   "metadata": {
    "collapsed": true,
    "ExecuteTime": {
     "end_time": "2025-09-13T03:35:31.421134Z",
     "start_time": "2025-09-13T03:35:30.611764Z"
    }
   },
   "source": "import pandas as pd",
   "outputs": [],
   "execution_count": 1
  },
  {
   "metadata": {
    "ExecuteTime": {
     "end_time": "2025-09-13T03:42:00.176626Z",
     "start_time": "2025-09-13T03:42:00.142297Z"
    }
   },
   "cell_type": "code",
   "source": [
    "#Load the Toyota sales dataset\n",
    "toyota_sales_data = pd.read_csv(\"toyota_sales_data.csv\")"
   ],
   "id": "6a9347ee25078a2c",
   "outputs": [],
   "execution_count": 5
  },
  {
   "metadata": {
    "ExecuteTime": {
     "end_time": "2025-09-13T03:42:02.168549Z",
     "start_time": "2025-09-13T03:42:02.142121Z"
    }
   },
   "cell_type": "code",
   "source": "toyota_sales_data",
   "id": "93b314aa548fc862",
   "outputs": [
    {
     "data": {
      "text/plain": [
       "      sale_id  sale_rep_id   sale_date car_model  sale_amount  commission_pct  \\\n",
       "0           1           16  2024-11-18    Tundra     44496.88            0.05   \n",
       "1           2           11  2024-11-08    Tacoma     34824.72             NaN   \n",
       "2           3            5  2024-11-03   Corolla     20275.08             NaN   \n",
       "3           4           20  2024-11-06   Corolla     20068.93             NaN   \n",
       "4           5            1  2024-11-26    Tundra     49811.99            0.03   \n",
       "...       ...          ...         ...       ...          ...             ...   \n",
       "4995     4996            1  2024-11-06   Corolla     21484.83            0.05   \n",
       "4996     4997            8  2024-11-11     Camry     26519.24            0.05   \n",
       "4997     4998           18  2024-11-06    Tacoma     30780.39            0.02   \n",
       "4998     4999           10  2024-11-21   Corolla     22654.59             NaN   \n",
       "4999     5000           13  2024-11-21    Tundra     44525.85             NaN   \n",
       "\n",
       "     sale_status  \n",
       "0      Completed  \n",
       "1        Pending  \n",
       "2      Completed  \n",
       "3      Completed  \n",
       "4      Completed  \n",
       "...          ...  \n",
       "4995   Completed  \n",
       "4996     Pending  \n",
       "4997   Completed  \n",
       "4998   Completed  \n",
       "4999   Cancelled  \n",
       "\n",
       "[5000 rows x 7 columns]"
      ],
      "text/html": [
       "<div>\n",
       "<style scoped>\n",
       "    .dataframe tbody tr th:only-of-type {\n",
       "        vertical-align: middle;\n",
       "    }\n",
       "\n",
       "    .dataframe tbody tr th {\n",
       "        vertical-align: top;\n",
       "    }\n",
       "\n",
       "    .dataframe thead th {\n",
       "        text-align: right;\n",
       "    }\n",
       "</style>\n",
       "<table border=\"1\" class=\"dataframe\">\n",
       "  <thead>\n",
       "    <tr style=\"text-align: right;\">\n",
       "      <th></th>\n",
       "      <th>sale_id</th>\n",
       "      <th>sale_rep_id</th>\n",
       "      <th>sale_date</th>\n",
       "      <th>car_model</th>\n",
       "      <th>sale_amount</th>\n",
       "      <th>commission_pct</th>\n",
       "      <th>sale_status</th>\n",
       "    </tr>\n",
       "  </thead>\n",
       "  <tbody>\n",
       "    <tr>\n",
       "      <th>0</th>\n",
       "      <td>1</td>\n",
       "      <td>16</td>\n",
       "      <td>2024-11-18</td>\n",
       "      <td>Tundra</td>\n",
       "      <td>44496.88</td>\n",
       "      <td>0.05</td>\n",
       "      <td>Completed</td>\n",
       "    </tr>\n",
       "    <tr>\n",
       "      <th>1</th>\n",
       "      <td>2</td>\n",
       "      <td>11</td>\n",
       "      <td>2024-11-08</td>\n",
       "      <td>Tacoma</td>\n",
       "      <td>34824.72</td>\n",
       "      <td>NaN</td>\n",
       "      <td>Pending</td>\n",
       "    </tr>\n",
       "    <tr>\n",
       "      <th>2</th>\n",
       "      <td>3</td>\n",
       "      <td>5</td>\n",
       "      <td>2024-11-03</td>\n",
       "      <td>Corolla</td>\n",
       "      <td>20275.08</td>\n",
       "      <td>NaN</td>\n",
       "      <td>Completed</td>\n",
       "    </tr>\n",
       "    <tr>\n",
       "      <th>3</th>\n",
       "      <td>4</td>\n",
       "      <td>20</td>\n",
       "      <td>2024-11-06</td>\n",
       "      <td>Corolla</td>\n",
       "      <td>20068.93</td>\n",
       "      <td>NaN</td>\n",
       "      <td>Completed</td>\n",
       "    </tr>\n",
       "    <tr>\n",
       "      <th>4</th>\n",
       "      <td>5</td>\n",
       "      <td>1</td>\n",
       "      <td>2024-11-26</td>\n",
       "      <td>Tundra</td>\n",
       "      <td>49811.99</td>\n",
       "      <td>0.03</td>\n",
       "      <td>Completed</td>\n",
       "    </tr>\n",
       "    <tr>\n",
       "      <th>...</th>\n",
       "      <td>...</td>\n",
       "      <td>...</td>\n",
       "      <td>...</td>\n",
       "      <td>...</td>\n",
       "      <td>...</td>\n",
       "      <td>...</td>\n",
       "      <td>...</td>\n",
       "    </tr>\n",
       "    <tr>\n",
       "      <th>4995</th>\n",
       "      <td>4996</td>\n",
       "      <td>1</td>\n",
       "      <td>2024-11-06</td>\n",
       "      <td>Corolla</td>\n",
       "      <td>21484.83</td>\n",
       "      <td>0.05</td>\n",
       "      <td>Completed</td>\n",
       "    </tr>\n",
       "    <tr>\n",
       "      <th>4996</th>\n",
       "      <td>4997</td>\n",
       "      <td>8</td>\n",
       "      <td>2024-11-11</td>\n",
       "      <td>Camry</td>\n",
       "      <td>26519.24</td>\n",
       "      <td>0.05</td>\n",
       "      <td>Pending</td>\n",
       "    </tr>\n",
       "    <tr>\n",
       "      <th>4997</th>\n",
       "      <td>4998</td>\n",
       "      <td>18</td>\n",
       "      <td>2024-11-06</td>\n",
       "      <td>Tacoma</td>\n",
       "      <td>30780.39</td>\n",
       "      <td>0.02</td>\n",
       "      <td>Completed</td>\n",
       "    </tr>\n",
       "    <tr>\n",
       "      <th>4998</th>\n",
       "      <td>4999</td>\n",
       "      <td>10</td>\n",
       "      <td>2024-11-21</td>\n",
       "      <td>Corolla</td>\n",
       "      <td>22654.59</td>\n",
       "      <td>NaN</td>\n",
       "      <td>Completed</td>\n",
       "    </tr>\n",
       "    <tr>\n",
       "      <th>4999</th>\n",
       "      <td>5000</td>\n",
       "      <td>13</td>\n",
       "      <td>2024-11-21</td>\n",
       "      <td>Tundra</td>\n",
       "      <td>44525.85</td>\n",
       "      <td>NaN</td>\n",
       "      <td>Cancelled</td>\n",
       "    </tr>\n",
       "  </tbody>\n",
       "</table>\n",
       "<p>5000 rows × 7 columns</p>\n",
       "</div>"
      ]
     },
     "execution_count": 6,
     "metadata": {},
     "output_type": "execute_result"
    }
   ],
   "execution_count": 6
  },
  {
   "metadata": {},
   "cell_type": "code",
   "outputs": [],
   "execution_count": null,
   "source": "",
   "id": "83fe72754afa708a"
  },
  {
   "metadata": {
    "ExecuteTime": {
     "end_time": "2025-09-13T03:43:41.298608Z",
     "start_time": "2025-09-13T03:43:41.281745Z"
    }
   },
   "cell_type": "code",
   "source": "toyota_sales_data[\"sale_rep_id\"].unique()",
   "id": "b56e5c620cab6416",
   "outputs": [
    {
     "data": {
      "text/plain": [
       "array([16, 11,  5, 20,  1, 14, 12,  3,  9, 13,  2, 18,  8,  4,  6,  7, 17,\n",
       "       10, 19, 15])"
      ]
     },
     "execution_count": 7,
     "metadata": {},
     "output_type": "execute_result"
    }
   ],
   "execution_count": 7
  },
  {
   "metadata": {
    "ExecuteTime": {
     "end_time": "2025-09-13T03:51:59.191870Z",
     "start_time": "2025-09-13T03:51:59.126512Z"
    }
   },
   "cell_type": "code",
   "source": "toyota_sales_data.groupby(\"sale_rep_id\")[\"sale_amount\"].sum()\n",
   "id": "e73d69334b068b3e",
   "outputs": [
    {
     "data": {
      "text/plain": [
       "sale_rep_id\n",
       "1     8793624.75\n",
       "2     8721864.31\n",
       "3     7483168.82\n",
       "4     7473215.23\n",
       "5     7814744.92\n",
       "6     8089256.01\n",
       "7     8658437.14\n",
       "8     8672081.85\n",
       "9     8623533.39\n",
       "10    7822524.30\n",
       "11    7946648.50\n",
       "12    8493429.13\n",
       "13    8012200.98\n",
       "14    8268540.28\n",
       "15    8218385.64\n",
       "16    8161330.01\n",
       "17    8247398.75\n",
       "18    8759602.34\n",
       "19    8788981.01\n",
       "20    7849573.71\n",
       "Name: sale_amount, dtype: float64"
      ]
     },
     "execution_count": 10,
     "metadata": {},
     "output_type": "execute_result"
    }
   ],
   "execution_count": 10
  },
  {
   "metadata": {
    "ExecuteTime": {
     "end_time": "2025-09-13T03:54:04.431494Z",
     "start_time": "2025-09-13T03:54:04.398911Z"
    }
   },
   "cell_type": "code",
   "source": "toyota_sales_data.groupby(\"car_model\")[\"sale_amount\"].sum()",
   "id": "fae01b59ec159a0f",
   "outputs": [
    {
     "data": {
      "text/plain": [
       "car_model\n",
       "Camry         23515068.85\n",
       "Corolla       18559680.22\n",
       "Highlander    32562337.53\n",
       "RAV4          26647722.94\n",
       "Tacoma        28908731.32\n",
       "Tundra        34705000.21\n",
       "Name: sale_amount, dtype: float64"
      ]
     },
     "execution_count": 11,
     "metadata": {},
     "output_type": "execute_result"
    }
   ],
   "execution_count": 11
  },
  {
   "metadata": {
    "ExecuteTime": {
     "end_time": "2025-09-13T03:55:12.507824Z",
     "start_time": "2025-09-13T03:55:12.468270Z"
    }
   },
   "cell_type": "code",
   "source": "toyota_sales_data.groupby(\"car_model\")[\"sale_amount\"].mean()",
   "id": "c43ddde506e8c4b3",
   "outputs": [
    {
     "data": {
      "text/plain": [
       "car_model\n",
       "Camry         27470.874825\n",
       "Corolla       22442.176808\n",
       "Highlander    40002.871658\n",
       "RAV4          30985.724349\n",
       "Tacoma        34998.464068\n",
       "Tundra        42478.580428\n",
       "Name: sale_amount, dtype: float64"
      ]
     },
     "execution_count": 12,
     "metadata": {},
     "output_type": "execute_result"
    }
   ],
   "execution_count": 12
  },
  {
   "metadata": {
    "ExecuteTime": {
     "end_time": "2025-09-13T03:57:09.228112Z",
     "start_time": "2025-09-13T03:57:09.163794Z"
    }
   },
   "cell_type": "code",
   "source": "toyota_sales_data[\"sale_status\"].unique()",
   "id": "91608b16cc2eacd2",
   "outputs": [
    {
     "data": {
      "text/plain": [
       "array(['Completed', 'Pending', 'Cancelled'], dtype=object)"
      ]
     },
     "execution_count": 13,
     "metadata": {},
     "output_type": "execute_result"
    }
   ],
   "execution_count": 13
  },
  {
   "metadata": {
    "ExecuteTime": {
     "end_time": "2025-09-13T04:00:19.190480Z",
     "start_time": "2025-09-13T04:00:19.173043Z"
    }
   },
   "cell_type": "code",
   "source": [
    "toyota_sales_data.groupby(\"sale_rep_id\")[\"sale_amount\"].\\\n",
    "    agg([\"sum\",\"mean\"])"
   ],
   "id": "415ac2677bdf9585",
   "outputs": [
    {
     "data": {
      "text/plain": [
       "                    sum          mean\n",
       "sale_rep_id                          \n",
       "1            8793624.75  32934.924157\n",
       "2            8721864.31  32788.963571\n",
       "3            7483168.82  33556.810852\n",
       "4            7473215.23  32073.885107\n",
       "5            7814744.92  32426.327469\n",
       "6            8089256.01  33705.233375\n",
       "7            8658437.14  32673.347698\n",
       "8            8672081.85  33612.720349\n",
       "9            8623533.39  32789.100342\n",
       "10           7822524.30  33429.591026\n",
       "11           7946648.50  32435.300000\n",
       "12           8493429.13  33438.697362\n",
       "13           8012200.98  33384.170750\n",
       "14           8268540.28  33611.952358\n",
       "15           8218385.64  32873.542560\n",
       "16           8161330.01  32131.220512\n",
       "17           8247398.75  32858.162351\n",
       "18           8759602.34  32930.835865\n",
       "19           8788981.01  32672.791859\n",
       "20           7849573.71  33402.441319"
      ],
      "text/html": [
       "<div>\n",
       "<style scoped>\n",
       "    .dataframe tbody tr th:only-of-type {\n",
       "        vertical-align: middle;\n",
       "    }\n",
       "\n",
       "    .dataframe tbody tr th {\n",
       "        vertical-align: top;\n",
       "    }\n",
       "\n",
       "    .dataframe thead th {\n",
       "        text-align: right;\n",
       "    }\n",
       "</style>\n",
       "<table border=\"1\" class=\"dataframe\">\n",
       "  <thead>\n",
       "    <tr style=\"text-align: right;\">\n",
       "      <th></th>\n",
       "      <th>sum</th>\n",
       "      <th>mean</th>\n",
       "    </tr>\n",
       "    <tr>\n",
       "      <th>sale_rep_id</th>\n",
       "      <th></th>\n",
       "      <th></th>\n",
       "    </tr>\n",
       "  </thead>\n",
       "  <tbody>\n",
       "    <tr>\n",
       "      <th>1</th>\n",
       "      <td>8793624.75</td>\n",
       "      <td>32934.924157</td>\n",
       "    </tr>\n",
       "    <tr>\n",
       "      <th>2</th>\n",
       "      <td>8721864.31</td>\n",
       "      <td>32788.963571</td>\n",
       "    </tr>\n",
       "    <tr>\n",
       "      <th>3</th>\n",
       "      <td>7483168.82</td>\n",
       "      <td>33556.810852</td>\n",
       "    </tr>\n",
       "    <tr>\n",
       "      <th>4</th>\n",
       "      <td>7473215.23</td>\n",
       "      <td>32073.885107</td>\n",
       "    </tr>\n",
       "    <tr>\n",
       "      <th>5</th>\n",
       "      <td>7814744.92</td>\n",
       "      <td>32426.327469</td>\n",
       "    </tr>\n",
       "    <tr>\n",
       "      <th>6</th>\n",
       "      <td>8089256.01</td>\n",
       "      <td>33705.233375</td>\n",
       "    </tr>\n",
       "    <tr>\n",
       "      <th>7</th>\n",
       "      <td>8658437.14</td>\n",
       "      <td>32673.347698</td>\n",
       "    </tr>\n",
       "    <tr>\n",
       "      <th>8</th>\n",
       "      <td>8672081.85</td>\n",
       "      <td>33612.720349</td>\n",
       "    </tr>\n",
       "    <tr>\n",
       "      <th>9</th>\n",
       "      <td>8623533.39</td>\n",
       "      <td>32789.100342</td>\n",
       "    </tr>\n",
       "    <tr>\n",
       "      <th>10</th>\n",
       "      <td>7822524.30</td>\n",
       "      <td>33429.591026</td>\n",
       "    </tr>\n",
       "    <tr>\n",
       "      <th>11</th>\n",
       "      <td>7946648.50</td>\n",
       "      <td>32435.300000</td>\n",
       "    </tr>\n",
       "    <tr>\n",
       "      <th>12</th>\n",
       "      <td>8493429.13</td>\n",
       "      <td>33438.697362</td>\n",
       "    </tr>\n",
       "    <tr>\n",
       "      <th>13</th>\n",
       "      <td>8012200.98</td>\n",
       "      <td>33384.170750</td>\n",
       "    </tr>\n",
       "    <tr>\n",
       "      <th>14</th>\n",
       "      <td>8268540.28</td>\n",
       "      <td>33611.952358</td>\n",
       "    </tr>\n",
       "    <tr>\n",
       "      <th>15</th>\n",
       "      <td>8218385.64</td>\n",
       "      <td>32873.542560</td>\n",
       "    </tr>\n",
       "    <tr>\n",
       "      <th>16</th>\n",
       "      <td>8161330.01</td>\n",
       "      <td>32131.220512</td>\n",
       "    </tr>\n",
       "    <tr>\n",
       "      <th>17</th>\n",
       "      <td>8247398.75</td>\n",
       "      <td>32858.162351</td>\n",
       "    </tr>\n",
       "    <tr>\n",
       "      <th>18</th>\n",
       "      <td>8759602.34</td>\n",
       "      <td>32930.835865</td>\n",
       "    </tr>\n",
       "    <tr>\n",
       "      <th>19</th>\n",
       "      <td>8788981.01</td>\n",
       "      <td>32672.791859</td>\n",
       "    </tr>\n",
       "    <tr>\n",
       "      <th>20</th>\n",
       "      <td>7849573.71</td>\n",
       "      <td>33402.441319</td>\n",
       "    </tr>\n",
       "  </tbody>\n",
       "</table>\n",
       "</div>"
      ]
     },
     "execution_count": 16,
     "metadata": {},
     "output_type": "execute_result"
    }
   ],
   "execution_count": 16
  },
  {
   "metadata": {},
   "cell_type": "code",
   "outputs": [],
   "execution_count": null,
   "source": "",
   "id": "3016b2b9ba8ed841"
  }
 ],
 "metadata": {
  "kernelspec": {
   "display_name": "Python 3",
   "language": "python",
   "name": "python3"
  },
  "language_info": {
   "codemirror_mode": {
    "name": "ipython",
    "version": 2
   },
   "file_extension": ".py",
   "mimetype": "text/x-python",
   "name": "python",
   "nbconvert_exporter": "python",
   "pygments_lexer": "ipython2",
   "version": "2.7.6"
  }
 },
 "nbformat": 4,
 "nbformat_minor": 5
}
