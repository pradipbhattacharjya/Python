{
 "cells": [
  {
   "metadata": {},
   "cell_type": "markdown",
   "source": "Series",
   "id": "bb40c84731b36986"
  },
  {
   "metadata": {
    "ExecuteTime": {
     "end_time": "2025-09-15T00:49:59.783534Z",
     "start_time": "2025-09-15T00:49:58.950211Z"
    }
   },
   "cell_type": "code",
   "source": "import pandas as pd",
   "id": "325bd856a5e715b7",
   "outputs": [],
   "execution_count": 1
  },
  {
   "metadata": {
    "ExecuteTime": {
     "end_time": "2025-09-15T00:55:01.204378Z",
     "start_time": "2025-09-15T00:55:01.193474Z"
    }
   },
   "cell_type": "code",
   "source": [
    "x = [3,4,5,6]\n",
    "\n",
    "var = pd.Series(x)\n",
    "print(var)"
   ],
   "id": "6418d225b5c005e8",
   "outputs": [
    {
     "name": "stdout",
     "output_type": "stream",
     "text": [
      "0    3\n",
      "1    4\n",
      "2    5\n",
      "3    6\n",
      "dtype: int64\n"
     ]
    }
   ],
   "execution_count": 5
  },
  {
   "metadata": {
    "ExecuteTime": {
     "end_time": "2025-09-15T00:55:03.522422Z",
     "start_time": "2025-09-15T00:55:03.519011Z"
    }
   },
   "cell_type": "code",
   "source": "print(type(var))",
   "id": "e2a0517da5dbcb11",
   "outputs": [
    {
     "name": "stdout",
     "output_type": "stream",
     "text": [
      "<class 'pandas.core.series.Series'>\n"
     ]
    }
   ],
   "execution_count": 6
  },
  {
   "metadata": {
    "ExecuteTime": {
     "end_time": "2025-09-15T00:55:05.042675Z",
     "start_time": "2025-09-15T00:55:05.037094Z"
    }
   },
   "cell_type": "code",
   "source": "print(var[2])",
   "id": "24ca0784e6364db2",
   "outputs": [
    {
     "name": "stdout",
     "output_type": "stream",
     "text": [
      "5\n"
     ]
    }
   ],
   "execution_count": 7
  },
  {
   "metadata": {
    "ExecuteTime": {
     "end_time": "2025-09-15T01:01:29.376889Z",
     "start_time": "2025-09-15T01:01:29.369120Z"
    }
   },
   "cell_type": "code",
   "source": "var = pd.Series(x,index=['a','b','c','e'],dtype='float',name='python')",
   "id": "77cf6be6c9c83342",
   "outputs": [],
   "execution_count": 11
  },
  {
   "metadata": {
    "ExecuteTime": {
     "end_time": "2025-09-15T01:01:33.503643Z",
     "start_time": "2025-09-15T01:01:33.494791Z"
    }
   },
   "cell_type": "code",
   "source": "var",
   "id": "29ee01839a0a110f",
   "outputs": [
    {
     "data": {
      "text/plain": [
       "a    3.0\n",
       "b    4.0\n",
       "c    5.0\n",
       "e    6.0\n",
       "Name: python, dtype: float64"
      ]
     },
     "execution_count": 12,
     "metadata": {},
     "output_type": "execute_result"
    }
   ],
   "execution_count": 12
  },
  {
   "metadata": {},
   "cell_type": "markdown",
   "source": "Dictionary",
   "id": "bcde55a5b05d3282"
  },
  {
   "metadata": {
    "ExecuteTime": {
     "end_time": "2025-09-15T01:07:18.727061Z",
     "start_time": "2025-09-15T01:07:18.653632Z"
    }
   },
   "cell_type": "code",
   "source": "dic = {\"name\":['python','c','c++','java'],\"por\":[12,13,14,15],\"rank\":[1,4,3,2]}",
   "id": "d75929956391fe6c",
   "outputs": [],
   "execution_count": 13
  },
  {
   "metadata": {
    "ExecuteTime": {
     "end_time": "2025-09-15T01:07:42.276028Z",
     "start_time": "2025-09-15T01:07:42.258265Z"
    }
   },
   "cell_type": "code",
   "source": "var1 = pd.Series(dic)",
   "id": "2c61a9030da9701d",
   "outputs": [],
   "execution_count": 14
  },
  {
   "metadata": {
    "ExecuteTime": {
     "end_time": "2025-09-15T01:07:47.754661Z",
     "start_time": "2025-09-15T01:07:47.727509Z"
    }
   },
   "cell_type": "code",
   "source": "var1",
   "id": "86e095564b09fbca",
   "outputs": [
    {
     "data": {
      "text/plain": [
       "name    [python, c, c++, java]\n",
       "por           [12, 13, 14, 15]\n",
       "rank              [1, 4, 3, 2]\n",
       "dtype: object"
      ]
     },
     "execution_count": 15,
     "metadata": {},
     "output_type": "execute_result"
    }
   ],
   "execution_count": 15
  },
  {
   "metadata": {
    "ExecuteTime": {
     "end_time": "2025-09-15T01:10:18.383377Z",
     "start_time": "2025-09-15T01:10:18.373045Z"
    }
   },
   "cell_type": "code",
   "source": [
    "s = pd.Series(12,index=[1,2,3,4,5,6,7])\n",
    "print(s)\n",
    "print(type(s))"
   ],
   "id": "db0e4694a446cfc",
   "outputs": [
    {
     "name": "stdout",
     "output_type": "stream",
     "text": [
      "1    12\n",
      "2    12\n",
      "3    12\n",
      "4    12\n",
      "5    12\n",
      "6    12\n",
      "7    12\n",
      "dtype: int64\n",
      "<class 'pandas.core.series.Series'>\n"
     ]
    }
   ],
   "execution_count": 18
  },
  {
   "metadata": {
    "ExecuteTime": {
     "end_time": "2025-09-15T01:13:43.772600Z",
     "start_time": "2025-09-15T01:13:43.767556Z"
    }
   },
   "cell_type": "code",
   "source": [
    "s1 = pd.Series(12,index=[1,2,3,4,5,6,7])\n",
    "s2 = pd.Series(12,index=[1,2,3,4])"
   ],
   "id": "d5ed3e5bb111f31",
   "outputs": [],
   "execution_count": 19
  },
  {
   "metadata": {
    "ExecuteTime": {
     "end_time": "2025-09-15T01:14:39.569792Z",
     "start_time": "2025-09-15T01:14:39.539666Z"
    }
   },
   "cell_type": "code",
   "source": "print(s1+s2)",
   "id": "ec17ecafe277c54",
   "outputs": [
    {
     "name": "stdout",
     "output_type": "stream",
     "text": [
      "1    24.0\n",
      "2    24.0\n",
      "3    24.0\n",
      "4    24.0\n",
      "5     NaN\n",
      "6     NaN\n",
      "7     NaN\n",
      "dtype: float64\n"
     ]
    }
   ],
   "execution_count": 20
  }
 ],
 "metadata": {
  "kernelspec": {
   "display_name": "Python 3",
   "language": "python",
   "name": "python3"
  },
  "language_info": {
   "codemirror_mode": {
    "name": "ipython",
    "version": 2
   },
   "file_extension": ".py",
   "mimetype": "text/x-python",
   "name": "python",
   "nbconvert_exporter": "python",
   "pygments_lexer": "ipython2",
   "version": "2.7.6"
  }
 },
 "nbformat": 4,
 "nbformat_minor": 5
}
