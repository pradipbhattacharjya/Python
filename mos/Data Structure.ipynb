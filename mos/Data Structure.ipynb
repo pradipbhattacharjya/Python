{
 "cells": [
  {
   "metadata": {},
   "cell_type": "markdown",
   "source": "Series",
   "id": "bb40c84731b36986"
  },
  {
   "metadata": {
    "ExecuteTime": {
     "end_time": "2025-09-15T00:49:59.783534Z",
     "start_time": "2025-09-15T00:49:58.950211Z"
    }
   },
   "cell_type": "code",
   "source": "import pandas as pd",
   "id": "325bd856a5e715b7",
   "outputs": [],
   "execution_count": 1
  },
  {
   "metadata": {
    "ExecuteTime": {
     "end_time": "2025-09-15T00:55:01.204378Z",
     "start_time": "2025-09-15T00:55:01.193474Z"
    }
   },
   "cell_type": "code",
   "source": [
    "x = [3,4,5,6]\n",
    "\n",
    "var = pd.Series(x)\n",
    "print(var)"
   ],
   "id": "6418d225b5c005e8",
   "outputs": [
    {
     "name": "stdout",
     "output_type": "stream",
     "text": [
      "0    3\n",
      "1    4\n",
      "2    5\n",
      "3    6\n",
      "dtype: int64\n"
     ]
    }
   ],
   "execution_count": 5
  },
  {
   "metadata": {
    "ExecuteTime": {
     "end_time": "2025-09-15T00:55:03.522422Z",
     "start_time": "2025-09-15T00:55:03.519011Z"
    }
   },
   "cell_type": "code",
   "source": "print(type(var))",
   "id": "e2a0517da5dbcb11",
   "outputs": [
    {
     "name": "stdout",
     "output_type": "stream",
     "text": [
      "<class 'pandas.core.series.Series'>\n"
     ]
    }
   ],
   "execution_count": 6
  },
  {
   "metadata": {
    "ExecuteTime": {
     "end_time": "2025-09-15T00:55:05.042675Z",
     "start_time": "2025-09-15T00:55:05.037094Z"
    }
   },
   "cell_type": "code",
   "source": "print(var[2])",
   "id": "24ca0784e6364db2",
   "outputs": [
    {
     "name": "stdout",
     "output_type": "stream",
     "text": [
      "5\n"
     ]
    }
   ],
   "execution_count": 7
  },
  {
   "metadata": {
    "ExecuteTime": {
     "end_time": "2025-09-15T01:01:29.376889Z",
     "start_time": "2025-09-15T01:01:29.369120Z"
    }
   },
   "cell_type": "code",
   "source": "var = pd.Series(x,index=['a','b','c','e'],dtype='float',name='python')",
   "id": "77cf6be6c9c83342",
   "outputs": [],
   "execution_count": 11
  },
  {
   "metadata": {
    "ExecuteTime": {
     "end_time": "2025-09-15T01:01:33.503643Z",
     "start_time": "2025-09-15T01:01:33.494791Z"
    }
   },
   "cell_type": "code",
   "source": "var",
   "id": "29ee01839a0a110f",
   "outputs": [
    {
     "data": {
      "text/plain": [
       "a    3.0\n",
       "b    4.0\n",
       "c    5.0\n",
       "e    6.0\n",
       "Name: python, dtype: float64"
      ]
     },
     "execution_count": 12,
     "metadata": {},
     "output_type": "execute_result"
    }
   ],
   "execution_count": 12
  }
 ],
 "metadata": {
  "kernelspec": {
   "display_name": "Python 3",
   "language": "python",
   "name": "python3"
  },
  "language_info": {
   "codemirror_mode": {
    "name": "ipython",
    "version": 2
   },
   "file_extension": ".py",
   "mimetype": "text/x-python",
   "name": "python",
   "nbconvert_exporter": "python",
   "pygments_lexer": "ipython2",
   "version": "2.7.6"
  }
 },
 "nbformat": 4,
 "nbformat_minor": 5
}
