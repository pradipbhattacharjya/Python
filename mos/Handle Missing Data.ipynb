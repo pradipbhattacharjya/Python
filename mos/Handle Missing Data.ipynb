{
 "cells": [
  {
   "cell_type": "code",
   "id": "initial_id",
   "metadata": {
    "collapsed": true,
    "ExecuteTime": {
     "end_time": "2025-09-11T10:00:57.081702Z",
     "start_time": "2025-09-11T10:00:55.970985Z"
    }
   },
   "source": "import pandas as pd",
   "outputs": [],
   "execution_count": 1
  },
  {
   "metadata": {
    "ExecuteTime": {
     "end_time": "2025-09-11T10:03:52.829927Z",
     "start_time": "2025-09-11T10:03:52.802126Z"
    }
   },
   "cell_type": "code",
   "source": [
    "#Load the Toyota sales dataset\n",
    "toyota_data = pd.read_csv('toyota_sales_data.csv')"
   ],
   "id": "1b4349d7bb733b40",
   "outputs": [],
   "execution_count": 3
  },
  {
   "metadata": {
    "ExecuteTime": {
     "end_time": "2025-09-11T10:04:45.184395Z",
     "start_time": "2025-09-11T10:04:45.166810Z"
    }
   },
   "cell_type": "code",
   "source": "toyota_data.head()",
   "id": "f8b893a3d7af43be",
   "outputs": [
    {
     "data": {
      "text/plain": [
       "   sale_id  sale_rep_id   sale_date car_model  sale_amount  commission_pct  \\\n",
       "0        1           16  2024-11-18    Tundra     44496.88            0.05   \n",
       "1        2           11  2024-11-08    Tacoma     34824.72             NaN   \n",
       "2        3            5  2024-11-03   Corolla     20275.08             NaN   \n",
       "3        4           20  2024-11-06   Corolla     20068.93             NaN   \n",
       "4        5            1  2024-11-26    Tundra     49811.99            0.03   \n",
       "\n",
       "  sale_status  \n",
       "0   Completed  \n",
       "1     Pending  \n",
       "2   Completed  \n",
       "3   Completed  \n",
       "4   Completed  "
      ],
      "text/html": [
       "<div>\n",
       "<style scoped>\n",
       "    .dataframe tbody tr th:only-of-type {\n",
       "        vertical-align: middle;\n",
       "    }\n",
       "\n",
       "    .dataframe tbody tr th {\n",
       "        vertical-align: top;\n",
       "    }\n",
       "\n",
       "    .dataframe thead th {\n",
       "        text-align: right;\n",
       "    }\n",
       "</style>\n",
       "<table border=\"1\" class=\"dataframe\">\n",
       "  <thead>\n",
       "    <tr style=\"text-align: right;\">\n",
       "      <th></th>\n",
       "      <th>sale_id</th>\n",
       "      <th>sale_rep_id</th>\n",
       "      <th>sale_date</th>\n",
       "      <th>car_model</th>\n",
       "      <th>sale_amount</th>\n",
       "      <th>commission_pct</th>\n",
       "      <th>sale_status</th>\n",
       "    </tr>\n",
       "  </thead>\n",
       "  <tbody>\n",
       "    <tr>\n",
       "      <th>0</th>\n",
       "      <td>1</td>\n",
       "      <td>16</td>\n",
       "      <td>2024-11-18</td>\n",
       "      <td>Tundra</td>\n",
       "      <td>44496.88</td>\n",
       "      <td>0.05</td>\n",
       "      <td>Completed</td>\n",
       "    </tr>\n",
       "    <tr>\n",
       "      <th>1</th>\n",
       "      <td>2</td>\n",
       "      <td>11</td>\n",
       "      <td>2024-11-08</td>\n",
       "      <td>Tacoma</td>\n",
       "      <td>34824.72</td>\n",
       "      <td>NaN</td>\n",
       "      <td>Pending</td>\n",
       "    </tr>\n",
       "    <tr>\n",
       "      <th>2</th>\n",
       "      <td>3</td>\n",
       "      <td>5</td>\n",
       "      <td>2024-11-03</td>\n",
       "      <td>Corolla</td>\n",
       "      <td>20275.08</td>\n",
       "      <td>NaN</td>\n",
       "      <td>Completed</td>\n",
       "    </tr>\n",
       "    <tr>\n",
       "      <th>3</th>\n",
       "      <td>4</td>\n",
       "      <td>20</td>\n",
       "      <td>2024-11-06</td>\n",
       "      <td>Corolla</td>\n",
       "      <td>20068.93</td>\n",
       "      <td>NaN</td>\n",
       "      <td>Completed</td>\n",
       "    </tr>\n",
       "    <tr>\n",
       "      <th>4</th>\n",
       "      <td>5</td>\n",
       "      <td>1</td>\n",
       "      <td>2024-11-26</td>\n",
       "      <td>Tundra</td>\n",
       "      <td>49811.99</td>\n",
       "      <td>0.03</td>\n",
       "      <td>Completed</td>\n",
       "    </tr>\n",
       "  </tbody>\n",
       "</table>\n",
       "</div>"
      ]
     },
     "execution_count": 5,
     "metadata": {},
     "output_type": "execute_result"
    }
   ],
   "execution_count": 5
  },
  {
   "metadata": {
    "ExecuteTime": {
     "end_time": "2025-09-11T10:05:28.265687Z",
     "start_time": "2025-09-11T10:05:28.244401Z"
    }
   },
   "cell_type": "code",
   "source": "toyota_data.isnull()",
   "id": "231fdf18bab4c308",
   "outputs": [
    {
     "data": {
      "text/plain": [
       "      sale_id  sale_rep_id  sale_date  car_model  sale_amount  commission_pct  \\\n",
       "0       False        False      False      False        False           False   \n",
       "1       False        False      False      False        False            True   \n",
       "2       False        False      False      False        False            True   \n",
       "3       False        False      False      False        False            True   \n",
       "4       False        False      False      False        False           False   \n",
       "...       ...          ...        ...        ...          ...             ...   \n",
       "4995    False        False      False      False        False           False   \n",
       "4996    False        False      False      False        False           False   \n",
       "4997    False        False      False      False        False           False   \n",
       "4998    False        False      False      False        False            True   \n",
       "4999    False        False      False      False        False            True   \n",
       "\n",
       "      sale_status  \n",
       "0           False  \n",
       "1           False  \n",
       "2           False  \n",
       "3           False  \n",
       "4           False  \n",
       "...           ...  \n",
       "4995        False  \n",
       "4996        False  \n",
       "4997        False  \n",
       "4998        False  \n",
       "4999        False  \n",
       "\n",
       "[5000 rows x 7 columns]"
      ],
      "text/html": [
       "<div>\n",
       "<style scoped>\n",
       "    .dataframe tbody tr th:only-of-type {\n",
       "        vertical-align: middle;\n",
       "    }\n",
       "\n",
       "    .dataframe tbody tr th {\n",
       "        vertical-align: top;\n",
       "    }\n",
       "\n",
       "    .dataframe thead th {\n",
       "        text-align: right;\n",
       "    }\n",
       "</style>\n",
       "<table border=\"1\" class=\"dataframe\">\n",
       "  <thead>\n",
       "    <tr style=\"text-align: right;\">\n",
       "      <th></th>\n",
       "      <th>sale_id</th>\n",
       "      <th>sale_rep_id</th>\n",
       "      <th>sale_date</th>\n",
       "      <th>car_model</th>\n",
       "      <th>sale_amount</th>\n",
       "      <th>commission_pct</th>\n",
       "      <th>sale_status</th>\n",
       "    </tr>\n",
       "  </thead>\n",
       "  <tbody>\n",
       "    <tr>\n",
       "      <th>0</th>\n",
       "      <td>False</td>\n",
       "      <td>False</td>\n",
       "      <td>False</td>\n",
       "      <td>False</td>\n",
       "      <td>False</td>\n",
       "      <td>False</td>\n",
       "      <td>False</td>\n",
       "    </tr>\n",
       "    <tr>\n",
       "      <th>1</th>\n",
       "      <td>False</td>\n",
       "      <td>False</td>\n",
       "      <td>False</td>\n",
       "      <td>False</td>\n",
       "      <td>False</td>\n",
       "      <td>True</td>\n",
       "      <td>False</td>\n",
       "    </tr>\n",
       "    <tr>\n",
       "      <th>2</th>\n",
       "      <td>False</td>\n",
       "      <td>False</td>\n",
       "      <td>False</td>\n",
       "      <td>False</td>\n",
       "      <td>False</td>\n",
       "      <td>True</td>\n",
       "      <td>False</td>\n",
       "    </tr>\n",
       "    <tr>\n",
       "      <th>3</th>\n",
       "      <td>False</td>\n",
       "      <td>False</td>\n",
       "      <td>False</td>\n",
       "      <td>False</td>\n",
       "      <td>False</td>\n",
       "      <td>True</td>\n",
       "      <td>False</td>\n",
       "    </tr>\n",
       "    <tr>\n",
       "      <th>4</th>\n",
       "      <td>False</td>\n",
       "      <td>False</td>\n",
       "      <td>False</td>\n",
       "      <td>False</td>\n",
       "      <td>False</td>\n",
       "      <td>False</td>\n",
       "      <td>False</td>\n",
       "    </tr>\n",
       "    <tr>\n",
       "      <th>...</th>\n",
       "      <td>...</td>\n",
       "      <td>...</td>\n",
       "      <td>...</td>\n",
       "      <td>...</td>\n",
       "      <td>...</td>\n",
       "      <td>...</td>\n",
       "      <td>...</td>\n",
       "    </tr>\n",
       "    <tr>\n",
       "      <th>4995</th>\n",
       "      <td>False</td>\n",
       "      <td>False</td>\n",
       "      <td>False</td>\n",
       "      <td>False</td>\n",
       "      <td>False</td>\n",
       "      <td>False</td>\n",
       "      <td>False</td>\n",
       "    </tr>\n",
       "    <tr>\n",
       "      <th>4996</th>\n",
       "      <td>False</td>\n",
       "      <td>False</td>\n",
       "      <td>False</td>\n",
       "      <td>False</td>\n",
       "      <td>False</td>\n",
       "      <td>False</td>\n",
       "      <td>False</td>\n",
       "    </tr>\n",
       "    <tr>\n",
       "      <th>4997</th>\n",
       "      <td>False</td>\n",
       "      <td>False</td>\n",
       "      <td>False</td>\n",
       "      <td>False</td>\n",
       "      <td>False</td>\n",
       "      <td>False</td>\n",
       "      <td>False</td>\n",
       "    </tr>\n",
       "    <tr>\n",
       "      <th>4998</th>\n",
       "      <td>False</td>\n",
       "      <td>False</td>\n",
       "      <td>False</td>\n",
       "      <td>False</td>\n",
       "      <td>False</td>\n",
       "      <td>True</td>\n",
       "      <td>False</td>\n",
       "    </tr>\n",
       "    <tr>\n",
       "      <th>4999</th>\n",
       "      <td>False</td>\n",
       "      <td>False</td>\n",
       "      <td>False</td>\n",
       "      <td>False</td>\n",
       "      <td>False</td>\n",
       "      <td>True</td>\n",
       "      <td>False</td>\n",
       "    </tr>\n",
       "  </tbody>\n",
       "</table>\n",
       "<p>5000 rows × 7 columns</p>\n",
       "</div>"
      ]
     },
     "execution_count": 6,
     "metadata": {},
     "output_type": "execute_result"
    }
   ],
   "execution_count": 6
  },
  {
   "metadata": {
    "ExecuteTime": {
     "end_time": "2025-09-11T10:05:59.880579Z",
     "start_time": "2025-09-11T10:05:59.867971Z"
    }
   },
   "cell_type": "code",
   "source": "toyota_data.isnull().sum()",
   "id": "9ed50d764063b161",
   "outputs": [
    {
     "data": {
      "text/plain": [
       "sale_id              0\n",
       "sale_rep_id          0\n",
       "sale_date            0\n",
       "car_model            0\n",
       "sale_amount          0\n",
       "commission_pct    1274\n",
       "sale_status          0\n",
       "dtype: int64"
      ]
     },
     "execution_count": 7,
     "metadata": {},
     "output_type": "execute_result"
    }
   ],
   "execution_count": 7
  },
  {
   "metadata": {
    "ExecuteTime": {
     "end_time": "2025-09-11T10:08:46.014565Z",
     "start_time": "2025-09-11T10:08:46.005588Z"
    }
   },
   "cell_type": "code",
   "source": "toyota_data[\"commission_pct\"] = toyota_data[\"commission_pct\"].fillna(0)",
   "id": "21f186005b9f2dd3",
   "outputs": [],
   "execution_count": 8
  },
  {
   "metadata": {
    "ExecuteTime": {
     "end_time": "2025-09-11T10:09:45.539488Z",
     "start_time": "2025-09-11T10:09:45.526421Z"
    }
   },
   "cell_type": "code",
   "source": "toyota_data.head()",
   "id": "20c418cd03de3ac6",
   "outputs": [
    {
     "data": {
      "text/plain": [
       "   sale_id  sale_rep_id   sale_date car_model  sale_amount  commission_pct  \\\n",
       "0        1           16  2024-11-18    Tundra     44496.88            0.05   \n",
       "1        2           11  2024-11-08    Tacoma     34824.72            0.00   \n",
       "2        3            5  2024-11-03   Corolla     20275.08            0.00   \n",
       "3        4           20  2024-11-06   Corolla     20068.93            0.00   \n",
       "4        5            1  2024-11-26    Tundra     49811.99            0.03   \n",
       "\n",
       "  sale_status  \n",
       "0   Completed  \n",
       "1     Pending  \n",
       "2   Completed  \n",
       "3   Completed  \n",
       "4   Completed  "
      ],
      "text/html": [
       "<div>\n",
       "<style scoped>\n",
       "    .dataframe tbody tr th:only-of-type {\n",
       "        vertical-align: middle;\n",
       "    }\n",
       "\n",
       "    .dataframe tbody tr th {\n",
       "        vertical-align: top;\n",
       "    }\n",
       "\n",
       "    .dataframe thead th {\n",
       "        text-align: right;\n",
       "    }\n",
       "</style>\n",
       "<table border=\"1\" class=\"dataframe\">\n",
       "  <thead>\n",
       "    <tr style=\"text-align: right;\">\n",
       "      <th></th>\n",
       "      <th>sale_id</th>\n",
       "      <th>sale_rep_id</th>\n",
       "      <th>sale_date</th>\n",
       "      <th>car_model</th>\n",
       "      <th>sale_amount</th>\n",
       "      <th>commission_pct</th>\n",
       "      <th>sale_status</th>\n",
       "    </tr>\n",
       "  </thead>\n",
       "  <tbody>\n",
       "    <tr>\n",
       "      <th>0</th>\n",
       "      <td>1</td>\n",
       "      <td>16</td>\n",
       "      <td>2024-11-18</td>\n",
       "      <td>Tundra</td>\n",
       "      <td>44496.88</td>\n",
       "      <td>0.05</td>\n",
       "      <td>Completed</td>\n",
       "    </tr>\n",
       "    <tr>\n",
       "      <th>1</th>\n",
       "      <td>2</td>\n",
       "      <td>11</td>\n",
       "      <td>2024-11-08</td>\n",
       "      <td>Tacoma</td>\n",
       "      <td>34824.72</td>\n",
       "      <td>0.00</td>\n",
       "      <td>Pending</td>\n",
       "    </tr>\n",
       "    <tr>\n",
       "      <th>2</th>\n",
       "      <td>3</td>\n",
       "      <td>5</td>\n",
       "      <td>2024-11-03</td>\n",
       "      <td>Corolla</td>\n",
       "      <td>20275.08</td>\n",
       "      <td>0.00</td>\n",
       "      <td>Completed</td>\n",
       "    </tr>\n",
       "    <tr>\n",
       "      <th>3</th>\n",
       "      <td>4</td>\n",
       "      <td>20</td>\n",
       "      <td>2024-11-06</td>\n",
       "      <td>Corolla</td>\n",
       "      <td>20068.93</td>\n",
       "      <td>0.00</td>\n",
       "      <td>Completed</td>\n",
       "    </tr>\n",
       "    <tr>\n",
       "      <th>4</th>\n",
       "      <td>5</td>\n",
       "      <td>1</td>\n",
       "      <td>2024-11-26</td>\n",
       "      <td>Tundra</td>\n",
       "      <td>49811.99</td>\n",
       "      <td>0.03</td>\n",
       "      <td>Completed</td>\n",
       "    </tr>\n",
       "  </tbody>\n",
       "</table>\n",
       "</div>"
      ]
     },
     "execution_count": 10,
     "metadata": {},
     "output_type": "execute_result"
    }
   ],
   "execution_count": 10
  },
  {
   "metadata": {
    "ExecuteTime": {
     "end_time": "2025-09-11T10:09:59.524164Z",
     "start_time": "2025-09-11T10:09:59.513936Z"
    }
   },
   "cell_type": "code",
   "source": "toyota_data.isnull().sum()",
   "id": "dec4400339d9c046",
   "outputs": [
    {
     "data": {
      "text/plain": [
       "sale_id           0\n",
       "sale_rep_id       0\n",
       "sale_date         0\n",
       "car_model         0\n",
       "sale_amount       0\n",
       "commission_pct    0\n",
       "sale_status       0\n",
       "dtype: int64"
      ]
     },
     "execution_count": 11,
     "metadata": {},
     "output_type": "execute_result"
    }
   ],
   "execution_count": 11
  },
  {
   "metadata": {
    "ExecuteTime": {
     "end_time": "2025-09-11T10:11:46.923449Z",
     "start_time": "2025-09-11T10:11:46.912361Z"
    }
   },
   "cell_type": "code",
   "source": "toyota_data = toyota_data.dropna(subset =[\"commission_pct\"])\n",
   "id": "9d9e495793a57b18",
   "outputs": [],
   "execution_count": 12
  },
  {
   "metadata": {
    "ExecuteTime": {
     "end_time": "2025-09-11T10:12:31.930257Z",
     "start_time": "2025-09-11T10:12:31.921376Z"
    }
   },
   "cell_type": "code",
   "source": "toyota_data.shape",
   "id": "33ba44e55c1151da",
   "outputs": [
    {
     "data": {
      "text/plain": [
       "(5000, 7)"
      ]
     },
     "execution_count": 14,
     "metadata": {},
     "output_type": "execute_result"
    }
   ],
   "execution_count": 14
  },
  {
   "metadata": {
    "ExecuteTime": {
     "end_time": "2025-09-11T10:13:16.039022Z",
     "start_time": "2025-09-11T10:13:16.016419Z"
    }
   },
   "cell_type": "code",
   "source": "toyota_data = pd.read_csv('toyota_sales_data.csv')",
   "id": "7988771b3bef292f",
   "outputs": [],
   "execution_count": 15
  },
  {
   "metadata": {
    "ExecuteTime": {
     "end_time": "2025-09-11T10:13:45.145206Z",
     "start_time": "2025-09-11T10:13:45.135376Z"
    }
   },
   "cell_type": "code",
   "source": "toyota_data = toyota_data.dropna(subset =[\"commission_pct\"])",
   "id": "ef0749bec41c957d",
   "outputs": [],
   "execution_count": 16
  },
  {
   "metadata": {
    "ExecuteTime": {
     "end_time": "2025-09-11T10:13:59.276175Z",
     "start_time": "2025-09-11T10:13:59.268395Z"
    }
   },
   "cell_type": "code",
   "source": "toyota_data.shape",
   "id": "bd08e3d41bca894e",
   "outputs": [
    {
     "data": {
      "text/plain": [
       "(3726, 7)"
      ]
     },
     "execution_count": 17,
     "metadata": {},
     "output_type": "execute_result"
    }
   ],
   "execution_count": 17
  },
  {
   "metadata": {
    "ExecuteTime": {
     "end_time": "2025-09-11T10:15:33.328750Z",
     "start_time": "2025-09-11T10:15:33.307273Z"
    }
   },
   "cell_type": "code",
   "source": "toyota_data = pd.read_csv('toyota_sales_data.csv')",
   "id": "1389423560b4ab4e",
   "outputs": [],
   "execution_count": 18
  },
  {
   "metadata": {
    "ExecuteTime": {
     "end_time": "2025-09-11T10:16:13.510787Z",
     "start_time": "2025-09-11T10:16:13.504033Z"
    }
   },
   "cell_type": "code",
   "source": "median_commission = toyota_data[\"commission_pct\"].median()",
   "id": "219ed4c06fb7eaa0",
   "outputs": [],
   "execution_count": 19
  },
  {
   "metadata": {
    "ExecuteTime": {
     "end_time": "2025-09-11T10:16:22.006516Z",
     "start_time": "2025-09-11T10:16:21.995038Z"
    }
   },
   "cell_type": "code",
   "source": "median_commission",
   "id": "5ed075d36ac70ab8",
   "outputs": [
    {
     "data": {
      "text/plain": [
       "np.float64(0.03)"
      ]
     },
     "execution_count": 20,
     "metadata": {},
     "output_type": "execute_result"
    }
   ],
   "execution_count": 20
  },
  {
   "metadata": {
    "ExecuteTime": {
     "end_time": "2025-09-11T10:18:07.285205Z",
     "start_time": "2025-09-11T10:18:07.268850Z"
    }
   },
   "cell_type": "code",
   "source": "toyota_data[\"commission_pct\"] = toyota_data[\"commission_pct\"].fillna(median_commission).fillna(median_commission)",
   "id": "6dcfe3eeb3a6ae0c",
   "outputs": [],
   "execution_count": 21
  },
  {
   "metadata": {
    "ExecuteTime": {
     "end_time": "2025-09-11T10:18:16.874353Z",
     "start_time": "2025-09-11T10:18:16.857421Z"
    }
   },
   "cell_type": "code",
   "source": "toyota_data",
   "id": "e2be790fd0b984f6",
   "outputs": [
    {
     "data": {
      "text/plain": [
       "      sale_id  sale_rep_id   sale_date car_model  sale_amount  commission_pct  \\\n",
       "0           1           16  2024-11-18    Tundra     44496.88            0.05   \n",
       "1           2           11  2024-11-08    Tacoma     34824.72            0.03   \n",
       "2           3            5  2024-11-03   Corolla     20275.08            0.03   \n",
       "3           4           20  2024-11-06   Corolla     20068.93            0.03   \n",
       "4           5            1  2024-11-26    Tundra     49811.99            0.03   \n",
       "...       ...          ...         ...       ...          ...             ...   \n",
       "4995     4996            1  2024-11-06   Corolla     21484.83            0.05   \n",
       "4996     4997            8  2024-11-11     Camry     26519.24            0.05   \n",
       "4997     4998           18  2024-11-06    Tacoma     30780.39            0.02   \n",
       "4998     4999           10  2024-11-21   Corolla     22654.59            0.03   \n",
       "4999     5000           13  2024-11-21    Tundra     44525.85            0.03   \n",
       "\n",
       "     sale_status  \n",
       "0      Completed  \n",
       "1        Pending  \n",
       "2      Completed  \n",
       "3      Completed  \n",
       "4      Completed  \n",
       "...          ...  \n",
       "4995   Completed  \n",
       "4996     Pending  \n",
       "4997   Completed  \n",
       "4998   Completed  \n",
       "4999   Cancelled  \n",
       "\n",
       "[5000 rows x 7 columns]"
      ],
      "text/html": [
       "<div>\n",
       "<style scoped>\n",
       "    .dataframe tbody tr th:only-of-type {\n",
       "        vertical-align: middle;\n",
       "    }\n",
       "\n",
       "    .dataframe tbody tr th {\n",
       "        vertical-align: top;\n",
       "    }\n",
       "\n",
       "    .dataframe thead th {\n",
       "        text-align: right;\n",
       "    }\n",
       "</style>\n",
       "<table border=\"1\" class=\"dataframe\">\n",
       "  <thead>\n",
       "    <tr style=\"text-align: right;\">\n",
       "      <th></th>\n",
       "      <th>sale_id</th>\n",
       "      <th>sale_rep_id</th>\n",
       "      <th>sale_date</th>\n",
       "      <th>car_model</th>\n",
       "      <th>sale_amount</th>\n",
       "      <th>commission_pct</th>\n",
       "      <th>sale_status</th>\n",
       "    </tr>\n",
       "  </thead>\n",
       "  <tbody>\n",
       "    <tr>\n",
       "      <th>0</th>\n",
       "      <td>1</td>\n",
       "      <td>16</td>\n",
       "      <td>2024-11-18</td>\n",
       "      <td>Tundra</td>\n",
       "      <td>44496.88</td>\n",
       "      <td>0.05</td>\n",
       "      <td>Completed</td>\n",
       "    </tr>\n",
       "    <tr>\n",
       "      <th>1</th>\n",
       "      <td>2</td>\n",
       "      <td>11</td>\n",
       "      <td>2024-11-08</td>\n",
       "      <td>Tacoma</td>\n",
       "      <td>34824.72</td>\n",
       "      <td>0.03</td>\n",
       "      <td>Pending</td>\n",
       "    </tr>\n",
       "    <tr>\n",
       "      <th>2</th>\n",
       "      <td>3</td>\n",
       "      <td>5</td>\n",
       "      <td>2024-11-03</td>\n",
       "      <td>Corolla</td>\n",
       "      <td>20275.08</td>\n",
       "      <td>0.03</td>\n",
       "      <td>Completed</td>\n",
       "    </tr>\n",
       "    <tr>\n",
       "      <th>3</th>\n",
       "      <td>4</td>\n",
       "      <td>20</td>\n",
       "      <td>2024-11-06</td>\n",
       "      <td>Corolla</td>\n",
       "      <td>20068.93</td>\n",
       "      <td>0.03</td>\n",
       "      <td>Completed</td>\n",
       "    </tr>\n",
       "    <tr>\n",
       "      <th>4</th>\n",
       "      <td>5</td>\n",
       "      <td>1</td>\n",
       "      <td>2024-11-26</td>\n",
       "      <td>Tundra</td>\n",
       "      <td>49811.99</td>\n",
       "      <td>0.03</td>\n",
       "      <td>Completed</td>\n",
       "    </tr>\n",
       "    <tr>\n",
       "      <th>...</th>\n",
       "      <td>...</td>\n",
       "      <td>...</td>\n",
       "      <td>...</td>\n",
       "      <td>...</td>\n",
       "      <td>...</td>\n",
       "      <td>...</td>\n",
       "      <td>...</td>\n",
       "    </tr>\n",
       "    <tr>\n",
       "      <th>4995</th>\n",
       "      <td>4996</td>\n",
       "      <td>1</td>\n",
       "      <td>2024-11-06</td>\n",
       "      <td>Corolla</td>\n",
       "      <td>21484.83</td>\n",
       "      <td>0.05</td>\n",
       "      <td>Completed</td>\n",
       "    </tr>\n",
       "    <tr>\n",
       "      <th>4996</th>\n",
       "      <td>4997</td>\n",
       "      <td>8</td>\n",
       "      <td>2024-11-11</td>\n",
       "      <td>Camry</td>\n",
       "      <td>26519.24</td>\n",
       "      <td>0.05</td>\n",
       "      <td>Pending</td>\n",
       "    </tr>\n",
       "    <tr>\n",
       "      <th>4997</th>\n",
       "      <td>4998</td>\n",
       "      <td>18</td>\n",
       "      <td>2024-11-06</td>\n",
       "      <td>Tacoma</td>\n",
       "      <td>30780.39</td>\n",
       "      <td>0.02</td>\n",
       "      <td>Completed</td>\n",
       "    </tr>\n",
       "    <tr>\n",
       "      <th>4998</th>\n",
       "      <td>4999</td>\n",
       "      <td>10</td>\n",
       "      <td>2024-11-21</td>\n",
       "      <td>Corolla</td>\n",
       "      <td>22654.59</td>\n",
       "      <td>0.03</td>\n",
       "      <td>Completed</td>\n",
       "    </tr>\n",
       "    <tr>\n",
       "      <th>4999</th>\n",
       "      <td>5000</td>\n",
       "      <td>13</td>\n",
       "      <td>2024-11-21</td>\n",
       "      <td>Tundra</td>\n",
       "      <td>44525.85</td>\n",
       "      <td>0.03</td>\n",
       "      <td>Cancelled</td>\n",
       "    </tr>\n",
       "  </tbody>\n",
       "</table>\n",
       "<p>5000 rows × 7 columns</p>\n",
       "</div>"
      ]
     },
     "execution_count": 22,
     "metadata": {},
     "output_type": "execute_result"
    }
   ],
   "execution_count": 22
  }
 ],
 "metadata": {
  "kernelspec": {
   "display_name": "Python 3",
   "language": "python",
   "name": "python3"
  },
  "language_info": {
   "codemirror_mode": {
    "name": "ipython",
    "version": 2
   },
   "file_extension": ".py",
   "mimetype": "text/x-python",
   "name": "python",
   "nbconvert_exporter": "python",
   "pygments_lexer": "ipython2",
   "version": "2.7.6"
  }
 },
 "nbformat": 4,
 "nbformat_minor": 5
}
