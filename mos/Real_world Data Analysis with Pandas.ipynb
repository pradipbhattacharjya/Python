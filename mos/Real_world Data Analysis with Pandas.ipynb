{
 "cells": [
  {
   "cell_type": "code",
   "id": "initial_id",
   "metadata": {
    "collapsed": true,
    "ExecuteTime": {
     "end_time": "2025-09-10T09:51:50.102658Z",
     "start_time": "2025-09-10T09:51:49.042128Z"
    }
   },
   "source": "import pandas as pd",
   "outputs": [],
   "execution_count": 1
  },
  {
   "metadata": {
    "ExecuteTime": {
     "end_time": "2025-09-10T10:00:15.682387Z",
     "start_time": "2025-09-10T10:00:15.622597Z"
    }
   },
   "cell_type": "code",
   "source": "toyota_dataT = pd.read_csv(\"toyota_sales_data.csv\")\n",
   "id": "3144bad20e41769d",
   "outputs": [],
   "execution_count": 4
  },
  {
   "metadata": {
    "ExecuteTime": {
     "end_time": "2025-09-10T10:00:24.082012Z",
     "start_time": "2025-09-10T10:00:24.043482Z"
    }
   },
   "cell_type": "code",
   "source": "toyota_dataT",
   "id": "818208ace1028bd3",
   "outputs": [
    {
     "data": {
      "text/plain": [
       "      sale_id  sale_rep_id   sale_date car_model  sale_amount  commission_pct  \\\n",
       "0           1           16  2024-11-18    Tundra     44496.88            0.05   \n",
       "1           2           11  2024-11-08    Tacoma     34824.72             NaN   \n",
       "2           3            5  2024-11-03   Corolla     20275.08             NaN   \n",
       "3           4           20  2024-11-06   Corolla     20068.93             NaN   \n",
       "4           5            1  2024-11-26    Tundra     49811.99            0.03   \n",
       "...       ...          ...         ...       ...          ...             ...   \n",
       "4995     4996            1  2024-11-06   Corolla     21484.83            0.05   \n",
       "4996     4997            8  2024-11-11     Camry     26519.24            0.05   \n",
       "4997     4998           18  2024-11-06    Tacoma     30780.39            0.02   \n",
       "4998     4999           10  2024-11-21   Corolla     22654.59             NaN   \n",
       "4999     5000           13  2024-11-21    Tundra     44525.85             NaN   \n",
       "\n",
       "     sale_status  \n",
       "0      Completed  \n",
       "1        Pending  \n",
       "2      Completed  \n",
       "3      Completed  \n",
       "4      Completed  \n",
       "...          ...  \n",
       "4995   Completed  \n",
       "4996     Pending  \n",
       "4997   Completed  \n",
       "4998   Completed  \n",
       "4999   Cancelled  \n",
       "\n",
       "[5000 rows x 7 columns]"
      ],
      "text/html": [
       "<div>\n",
       "<style scoped>\n",
       "    .dataframe tbody tr th:only-of-type {\n",
       "        vertical-align: middle;\n",
       "    }\n",
       "\n",
       "    .dataframe tbody tr th {\n",
       "        vertical-align: top;\n",
       "    }\n",
       "\n",
       "    .dataframe thead th {\n",
       "        text-align: right;\n",
       "    }\n",
       "</style>\n",
       "<table border=\"1\" class=\"dataframe\">\n",
       "  <thead>\n",
       "    <tr style=\"text-align: right;\">\n",
       "      <th></th>\n",
       "      <th>sale_id</th>\n",
       "      <th>sale_rep_id</th>\n",
       "      <th>sale_date</th>\n",
       "      <th>car_model</th>\n",
       "      <th>sale_amount</th>\n",
       "      <th>commission_pct</th>\n",
       "      <th>sale_status</th>\n",
       "    </tr>\n",
       "  </thead>\n",
       "  <tbody>\n",
       "    <tr>\n",
       "      <th>0</th>\n",
       "      <td>1</td>\n",
       "      <td>16</td>\n",
       "      <td>2024-11-18</td>\n",
       "      <td>Tundra</td>\n",
       "      <td>44496.88</td>\n",
       "      <td>0.05</td>\n",
       "      <td>Completed</td>\n",
       "    </tr>\n",
       "    <tr>\n",
       "      <th>1</th>\n",
       "      <td>2</td>\n",
       "      <td>11</td>\n",
       "      <td>2024-11-08</td>\n",
       "      <td>Tacoma</td>\n",
       "      <td>34824.72</td>\n",
       "      <td>NaN</td>\n",
       "      <td>Pending</td>\n",
       "    </tr>\n",
       "    <tr>\n",
       "      <th>2</th>\n",
       "      <td>3</td>\n",
       "      <td>5</td>\n",
       "      <td>2024-11-03</td>\n",
       "      <td>Corolla</td>\n",
       "      <td>20275.08</td>\n",
       "      <td>NaN</td>\n",
       "      <td>Completed</td>\n",
       "    </tr>\n",
       "    <tr>\n",
       "      <th>3</th>\n",
       "      <td>4</td>\n",
       "      <td>20</td>\n",
       "      <td>2024-11-06</td>\n",
       "      <td>Corolla</td>\n",
       "      <td>20068.93</td>\n",
       "      <td>NaN</td>\n",
       "      <td>Completed</td>\n",
       "    </tr>\n",
       "    <tr>\n",
       "      <th>4</th>\n",
       "      <td>5</td>\n",
       "      <td>1</td>\n",
       "      <td>2024-11-26</td>\n",
       "      <td>Tundra</td>\n",
       "      <td>49811.99</td>\n",
       "      <td>0.03</td>\n",
       "      <td>Completed</td>\n",
       "    </tr>\n",
       "    <tr>\n",
       "      <th>...</th>\n",
       "      <td>...</td>\n",
       "      <td>...</td>\n",
       "      <td>...</td>\n",
       "      <td>...</td>\n",
       "      <td>...</td>\n",
       "      <td>...</td>\n",
       "      <td>...</td>\n",
       "    </tr>\n",
       "    <tr>\n",
       "      <th>4995</th>\n",
       "      <td>4996</td>\n",
       "      <td>1</td>\n",
       "      <td>2024-11-06</td>\n",
       "      <td>Corolla</td>\n",
       "      <td>21484.83</td>\n",
       "      <td>0.05</td>\n",
       "      <td>Completed</td>\n",
       "    </tr>\n",
       "    <tr>\n",
       "      <th>4996</th>\n",
       "      <td>4997</td>\n",
       "      <td>8</td>\n",
       "      <td>2024-11-11</td>\n",
       "      <td>Camry</td>\n",
       "      <td>26519.24</td>\n",
       "      <td>0.05</td>\n",
       "      <td>Pending</td>\n",
       "    </tr>\n",
       "    <tr>\n",
       "      <th>4997</th>\n",
       "      <td>4998</td>\n",
       "      <td>18</td>\n",
       "      <td>2024-11-06</td>\n",
       "      <td>Tacoma</td>\n",
       "      <td>30780.39</td>\n",
       "      <td>0.02</td>\n",
       "      <td>Completed</td>\n",
       "    </tr>\n",
       "    <tr>\n",
       "      <th>4998</th>\n",
       "      <td>4999</td>\n",
       "      <td>10</td>\n",
       "      <td>2024-11-21</td>\n",
       "      <td>Corolla</td>\n",
       "      <td>22654.59</td>\n",
       "      <td>NaN</td>\n",
       "      <td>Completed</td>\n",
       "    </tr>\n",
       "    <tr>\n",
       "      <th>4999</th>\n",
       "      <td>5000</td>\n",
       "      <td>13</td>\n",
       "      <td>2024-11-21</td>\n",
       "      <td>Tundra</td>\n",
       "      <td>44525.85</td>\n",
       "      <td>NaN</td>\n",
       "      <td>Cancelled</td>\n",
       "    </tr>\n",
       "  </tbody>\n",
       "</table>\n",
       "<p>5000 rows × 7 columns</p>\n",
       "</div>"
      ]
     },
     "execution_count": 5,
     "metadata": {},
     "output_type": "execute_result"
    }
   ],
   "execution_count": 5
  },
  {
   "metadata": {
    "ExecuteTime": {
     "end_time": "2025-09-10T10:02:35.692815Z",
     "start_time": "2025-09-10T10:02:35.684032Z"
    }
   },
   "cell_type": "code",
   "source": "type(toyota_dataT)",
   "id": "ca41ea3572444cda",
   "outputs": [
    {
     "data": {
      "text/plain": [
       "pandas.core.frame.DataFrame"
      ]
     },
     "execution_count": 8,
     "metadata": {},
     "output_type": "execute_result"
    }
   ],
   "execution_count": 8
  },
  {
   "metadata": {
    "ExecuteTime": {
     "end_time": "2025-09-10T10:03:39.362871Z",
     "start_time": "2025-09-10T10:03:39.351610Z"
    }
   },
   "cell_type": "code",
   "source": "toyota_dataT.shape",
   "id": "db4e1b5ef027bf35",
   "outputs": [
    {
     "data": {
      "text/plain": [
       "(5000, 7)"
      ]
     },
     "execution_count": 10,
     "metadata": {},
     "output_type": "execute_result"
    }
   ],
   "execution_count": 10
  },
  {
   "metadata": {
    "ExecuteTime": {
     "end_time": "2025-09-10T10:02:00.716667Z",
     "start_time": "2025-09-10T10:02:00.709326Z"
    }
   },
   "cell_type": "code",
   "source": "model_series = toyota_dataT['car_model']",
   "id": "65cc1d1cd10fd7d8",
   "outputs": [],
   "execution_count": 6
  },
  {
   "metadata": {
    "ExecuteTime": {
     "end_time": "2025-09-10T10:02:42.109440Z",
     "start_time": "2025-09-10T10:02:42.099021Z"
    }
   },
   "cell_type": "code",
   "source": "model_series",
   "id": "617bd51ae08a6b21",
   "outputs": [
    {
     "data": {
      "text/plain": [
       "0        Tundra\n",
       "1        Tacoma\n",
       "2       Corolla\n",
       "3       Corolla\n",
       "4        Tundra\n",
       "         ...   \n",
       "4995    Corolla\n",
       "4996      Camry\n",
       "4997     Tacoma\n",
       "4998    Corolla\n",
       "4999     Tundra\n",
       "Name: car_model, Length: 5000, dtype: object"
      ]
     },
     "execution_count": 9,
     "metadata": {},
     "output_type": "execute_result"
    }
   ],
   "execution_count": 9
  },
  {
   "metadata": {
    "ExecuteTime": {
     "end_time": "2025-09-10T10:04:07.414699Z",
     "start_time": "2025-09-10T10:04:07.406257Z"
    }
   },
   "cell_type": "code",
   "source": "type(model_series)",
   "id": "41c629bb334b0128",
   "outputs": [
    {
     "data": {
      "text/plain": [
       "pandas.core.series.Series"
      ]
     },
     "execution_count": 11,
     "metadata": {},
     "output_type": "execute_result"
    }
   ],
   "execution_count": 11
  },
  {
   "metadata": {
    "ExecuteTime": {
     "end_time": "2025-09-10T10:04:35.858264Z",
     "start_time": "2025-09-10T10:04:35.845223Z"
    }
   },
   "cell_type": "code",
   "source": "model_series.head()",
   "id": "52305b7f74aaf452",
   "outputs": [
    {
     "data": {
      "text/plain": [
       "0     Tundra\n",
       "1     Tacoma\n",
       "2    Corolla\n",
       "3    Corolla\n",
       "4     Tundra\n",
       "Name: car_model, dtype: object"
      ]
     },
     "execution_count": 12,
     "metadata": {},
     "output_type": "execute_result"
    }
   ],
   "execution_count": 12
  },
  {
   "metadata": {
    "ExecuteTime": {
     "end_time": "2025-09-10T10:09:04.360523Z",
     "start_time": "2025-09-10T10:09:04.322532Z"
    }
   },
   "cell_type": "code",
   "source": "model_series.index",
   "id": "8c33e0b39a6da258",
   "outputs": [
    {
     "data": {
      "text/plain": [
       "RangeIndex(start=0, stop=5000, step=1)"
      ]
     },
     "execution_count": 13,
     "metadata": {},
     "output_type": "execute_result"
    }
   ],
   "execution_count": 13
  },
  {
   "metadata": {
    "ExecuteTime": {
     "end_time": "2025-09-10T10:09:40.328046Z",
     "start_time": "2025-09-10T10:09:40.296009Z"
    }
   },
   "cell_type": "code",
   "source": "model_series.describe()",
   "id": "1875581f9640d59d",
   "outputs": [
    {
     "data": {
      "text/plain": [
       "count     5000\n",
       "unique       6\n",
       "top       RAV4\n",
       "freq       860\n",
       "Name: car_model, dtype: object"
      ]
     },
     "execution_count": 14,
     "metadata": {},
     "output_type": "execute_result"
    }
   ],
   "execution_count": 14
  },
  {
   "metadata": {
    "ExecuteTime": {
     "end_time": "2025-09-10T10:10:11.772704Z",
     "start_time": "2025-09-10T10:10:11.755361Z"
    }
   },
   "cell_type": "code",
   "source": "model_series.unique()",
   "id": "83161e947ad599a5",
   "outputs": [
    {
     "data": {
      "text/plain": [
       "array(['Tundra', 'Tacoma', 'Corolla', 'RAV4', 'Camry', 'Highlander'],\n",
       "      dtype=object)"
      ]
     },
     "execution_count": 15,
     "metadata": {},
     "output_type": "execute_result"
    }
   ],
   "execution_count": 15
  },
  {
   "metadata": {
    "ExecuteTime": {
     "end_time": "2025-09-10T10:10:29.077492Z",
     "start_time": "2025-09-10T10:10:29.068322Z"
    }
   },
   "cell_type": "code",
   "source": "model_series.nunique()",
   "id": "3660771e91e94b1a",
   "outputs": [
    {
     "data": {
      "text/plain": [
       "6"
      ]
     },
     "execution_count": 16,
     "metadata": {},
     "output_type": "execute_result"
    }
   ],
   "execution_count": 16
  },
  {
   "metadata": {
    "ExecuteTime": {
     "end_time": "2025-09-10T10:10:46.548881Z",
     "start_time": "2025-09-10T10:10:46.531517Z"
    }
   },
   "cell_type": "code",
   "source": "model_series.isnull()",
   "id": "8f574f2d2e1a6839",
   "outputs": [
    {
     "data": {
      "text/plain": [
       "0       False\n",
       "1       False\n",
       "2       False\n",
       "3       False\n",
       "4       False\n",
       "        ...  \n",
       "4995    False\n",
       "4996    False\n",
       "4997    False\n",
       "4998    False\n",
       "4999    False\n",
       "Name: car_model, Length: 5000, dtype: bool"
      ]
     },
     "execution_count": 17,
     "metadata": {},
     "output_type": "execute_result"
    }
   ],
   "execution_count": 17
  },
  {
   "metadata": {
    "ExecuteTime": {
     "end_time": "2025-09-10T10:11:04.590765Z",
     "start_time": "2025-09-10T10:11:04.575791Z"
    }
   },
   "cell_type": "code",
   "source": "model_series.isnull().sum()",
   "id": "6b008e4284d3ceaf",
   "outputs": [
    {
     "data": {
      "text/plain": [
       "np.int64(0)"
      ]
     },
     "execution_count": 18,
     "metadata": {},
     "output_type": "execute_result"
    }
   ],
   "execution_count": 18
  },
  {
   "metadata": {
    "ExecuteTime": {
     "end_time": "2025-09-10T10:12:45.555968Z",
     "start_time": "2025-09-10T10:12:45.548587Z"
    }
   },
   "cell_type": "code",
   "source": "cp_series = toyota_dataT['commission_pct']\n",
   "id": "f4d857f539f0c44b",
   "outputs": [],
   "execution_count": 21
  },
  {
   "metadata": {
    "ExecuteTime": {
     "end_time": "2025-09-10T10:12:48.328768Z",
     "start_time": "2025-09-10T10:12:48.320375Z"
    }
   },
   "cell_type": "code",
   "source": "cp_series",
   "id": "eeaec2dc5c5adc08",
   "outputs": [
    {
     "data": {
      "text/plain": [
       "0       0.05\n",
       "1        NaN\n",
       "2        NaN\n",
       "3        NaN\n",
       "4       0.03\n",
       "        ... \n",
       "4995    0.05\n",
       "4996    0.05\n",
       "4997    0.02\n",
       "4998     NaN\n",
       "4999     NaN\n",
       "Name: commission_pct, Length: 5000, dtype: float64"
      ]
     },
     "execution_count": 22,
     "metadata": {},
     "output_type": "execute_result"
    }
   ],
   "execution_count": 22
  },
  {
   "metadata": {
    "ExecuteTime": {
     "end_time": "2025-09-10T10:13:06.569881Z",
     "start_time": "2025-09-10T10:13:06.554151Z"
    }
   },
   "cell_type": "code",
   "source": "cp_series.isnull()",
   "id": "1002bf2850ff34e7",
   "outputs": [
    {
     "data": {
      "text/plain": [
       "0       False\n",
       "1        True\n",
       "2        True\n",
       "3        True\n",
       "4       False\n",
       "        ...  \n",
       "4995    False\n",
       "4996    False\n",
       "4997    False\n",
       "4998     True\n",
       "4999     True\n",
       "Name: commission_pct, Length: 5000, dtype: bool"
      ]
     },
     "execution_count": 23,
     "metadata": {},
     "output_type": "execute_result"
    }
   ],
   "execution_count": 23
  },
  {
   "metadata": {
    "ExecuteTime": {
     "end_time": "2025-09-10T10:13:31.826307Z",
     "start_time": "2025-09-10T10:13:31.814250Z"
    }
   },
   "cell_type": "code",
   "source": "cp_series.isnull().sum()",
   "id": "debc437627acb722",
   "outputs": [
    {
     "data": {
      "text/plain": [
       "np.int64(1274)"
      ]
     },
     "execution_count": 24,
     "metadata": {},
     "output_type": "execute_result"
    }
   ],
   "execution_count": 24
  },
  {
   "metadata": {
    "ExecuteTime": {
     "end_time": "2025-09-10T10:14:34.141747Z",
     "start_time": "2025-09-10T10:14:34.115770Z"
    }
   },
   "cell_type": "code",
   "source": "cp_series.describe()",
   "id": "a4747f15faefd9f4",
   "outputs": [
    {
     "data": {
      "text/plain": [
       "count    3726.000000\n",
       "mean        0.033725\n",
       "std         0.012503\n",
       "min         0.020000\n",
       "25%         0.020000\n",
       "50%         0.030000\n",
       "75%         0.050000\n",
       "max         0.050000\n",
       "Name: commission_pct, dtype: float64"
      ]
     },
     "execution_count": 25,
     "metadata": {},
     "output_type": "execute_result"
    }
   ],
   "execution_count": 25
  },
  {
   "metadata": {
    "ExecuteTime": {
     "end_time": "2025-09-10T10:16:05.739682Z",
     "start_time": "2025-09-10T10:16:05.730435Z"
    }
   },
   "cell_type": "code",
   "source": "model_series",
   "id": "44d4c45879c02eb1",
   "outputs": [
    {
     "data": {
      "text/plain": [
       "0        Tundra\n",
       "1        Tacoma\n",
       "2       Corolla\n",
       "3       Corolla\n",
       "4        Tundra\n",
       "         ...   \n",
       "4995    Corolla\n",
       "4996      Camry\n",
       "4997     Tacoma\n",
       "4998    Corolla\n",
       "4999     Tundra\n",
       "Name: car_model, Length: 5000, dtype: object"
      ]
     },
     "execution_count": 26,
     "metadata": {},
     "output_type": "execute_result"
    }
   ],
   "execution_count": 26
  },
  {
   "metadata": {
    "ExecuteTime": {
     "end_time": "2025-09-10T10:16:41.403438Z",
     "start_time": "2025-09-10T10:16:41.371159Z"
    }
   },
   "cell_type": "code",
   "source": "model_series.str.upper()",
   "id": "8b0afd3f2c716f96",
   "outputs": [
    {
     "data": {
      "text/plain": [
       "0        TUNDRA\n",
       "1        TACOMA\n",
       "2       COROLLA\n",
       "3       COROLLA\n",
       "4        TUNDRA\n",
       "         ...   \n",
       "4995    COROLLA\n",
       "4996      CAMRY\n",
       "4997     TACOMA\n",
       "4998    COROLLA\n",
       "4999     TUNDRA\n",
       "Name: car_model, Length: 5000, dtype: object"
      ]
     },
     "execution_count": 27,
     "metadata": {},
     "output_type": "execute_result"
    }
   ],
   "execution_count": 27
  }
 ],
 "metadata": {
  "kernelspec": {
   "display_name": "Python 3",
   "language": "python",
   "name": "python3"
  },
  "language_info": {
   "codemirror_mode": {
    "name": "ipython",
    "version": 2
   },
   "file_extension": ".py",
   "mimetype": "text/x-python",
   "name": "python",
   "nbconvert_exporter": "python",
   "pygments_lexer": "ipython2",
   "version": "2.7.6"
  }
 },
 "nbformat": 4,
 "nbformat_minor": 5
}
