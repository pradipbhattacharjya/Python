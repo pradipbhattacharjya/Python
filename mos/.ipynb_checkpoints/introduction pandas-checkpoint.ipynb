{
 "cells": [
  {
   "cell_type": "code",
   "id": "initial_id",
   "metadata": {
    "collapsed": true,
    "ExecuteTime": {
     "end_time": "2025-09-06T03:51:33.863044Z",
     "start_time": "2025-09-06T03:51:33.858018Z"
    }
   },
   "source": [
    "from matplotlib.pyplot import margins\n",
    "\n",
    "print(\"Hello World\")"
   ],
   "outputs": [
    {
     "name": "stdout",
     "output_type": "stream",
     "text": [
      "Hello World\n"
     ]
    }
   ],
   "execution_count": 2
  },
  {
   "metadata": {
    "ExecuteTime": {
     "end_time": "2025-09-06T10:10:35.704589Z",
     "start_time": "2025-09-06T10:10:35.690960Z"
    }
   },
   "cell_type": "code",
   "source": "import pandas as pd",
   "id": "f0cad4dfbe6a79ac",
   "outputs": [],
   "execution_count": 7
  },
  {
   "metadata": {},
   "cell_type": "markdown",
   "source": [
    "key Data Structures in Pands\n",
    "#Series\n",
    "#DataFrame\n",
    "\n"
   ],
   "id": "d8ddc1d7b72b05c6"
  },
  {
   "metadata": {
    "ExecuteTime": {
     "end_time": "2025-09-06T09:57:44.741371Z",
     "start_time": "2025-09-06T09:57:44.735913Z"
    }
   },
   "cell_type": "code",
   "source": "s = pd.Series([1,2,3,4,5], index=['a','b','c','d','e'] )",
   "id": "ff421365178ce038",
   "outputs": [],
   "execution_count": 4
  },
  {
   "metadata": {
    "ExecuteTime": {
     "end_time": "2025-09-06T09:58:00.635811Z",
     "start_time": "2025-09-06T09:58:00.615783Z"
    }
   },
   "cell_type": "code",
   "source": "s",
   "id": "2dd71df2948c226",
   "outputs": [
    {
     "data": {
      "text/plain": [
       "a    1\n",
       "b    2\n",
       "c    3\n",
       "d    4\n",
       "e    5\n",
       "dtype: int64"
      ]
     },
     "execution_count": 5,
     "metadata": {},
     "output_type": "execute_result"
    }
   ],
   "execution_count": 5
  },
  {
   "metadata": {
    "ExecuteTime": {
     "end_time": "2025-09-06T10:11:05.838767Z",
     "start_time": "2025-09-06T10:11:05.802666Z"
    }
   },
   "cell_type": "code",
   "source": "df = pd.DataFrame({\"name\": [\"Harry\",\"Rohan\", \"Shubham\"], \"mark\" :[100,53,45]})",
   "id": "5d9522b7ee8b63ab",
   "outputs": [],
   "execution_count": 9
  }
 ],
 "metadata": {
  "kernelspec": {
   "display_name": "Python 3",
   "language": "python",
   "name": "python3"
  },
  "language_info": {
   "codemirror_mode": {
    "name": "ipython",
    "version": 2
   },
   "file_extension": ".py",
   "mimetype": "text/x-python",
   "name": "python",
   "nbconvert_exporter": "python",
   "pygments_lexer": "ipython2",
   "version": "2.7.6"
  }
 },
 "nbformat": 4,
 "nbformat_minor": 5
}
