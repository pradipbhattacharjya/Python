{
 "cells": [
  {
   "cell_type": "code",
   "id": "initial_id",
   "metadata": {
    "collapsed": true,
    "ExecuteTime": {
     "end_time": "2025-09-15T00:00:03.266937Z",
     "start_time": "2025-09-15T00:00:02.253851Z"
    }
   },
   "source": "import pandas as pd",
   "outputs": [],
   "execution_count": 1
  },
  {
   "metadata": {
    "ExecuteTime": {
     "end_time": "2025-09-15T00:09:30.389021Z",
     "start_time": "2025-09-15T00:09:30.349201Z"
    }
   },
   "cell_type": "code",
   "source": [
    "#Creating a sample dataset for car sales\n",
    "\n",
    "data = {\n",
    "    'Salesperson': ['Alice', 'Bob', 'Charlie', 'Alice','Charlie'],\n",
    "    'Car Model': ['Corolla', 'Camry','Rav4', 'Highlander', 'Corolla'],\n",
    "    'Sale Price':[20000,25000,27000,32000,21000]\n",
    "}\n",
    "\n",
    "df = pd.DataFrame(data)"
   ],
   "id": "4eb5f47b97f9ff35",
   "outputs": [],
   "execution_count": 5
  },
  {
   "metadata": {
    "ExecuteTime": {
     "end_time": "2025-09-15T00:09:32.691222Z",
     "start_time": "2025-09-15T00:09:32.652041Z"
    }
   },
   "cell_type": "code",
   "source": "df",
   "id": "857688c9863d16a9",
   "outputs": [
    {
     "data": {
      "text/plain": [
       "  Salesperson   Car Model  Sale Price\n",
       "0       Alice     Corolla       20000\n",
       "1         Bob       Camry       25000\n",
       "2     Charlie        Rav4       27000\n",
       "3       Alice  Highlander       32000\n",
       "4     Charlie     Corolla       21000"
      ],
      "text/html": [
       "<div>\n",
       "<style scoped>\n",
       "    .dataframe tbody tr th:only-of-type {\n",
       "        vertical-align: middle;\n",
       "    }\n",
       "\n",
       "    .dataframe tbody tr th {\n",
       "        vertical-align: top;\n",
       "    }\n",
       "\n",
       "    .dataframe thead th {\n",
       "        text-align: right;\n",
       "    }\n",
       "</style>\n",
       "<table border=\"1\" class=\"dataframe\">\n",
       "  <thead>\n",
       "    <tr style=\"text-align: right;\">\n",
       "      <th></th>\n",
       "      <th>Salesperson</th>\n",
       "      <th>Car Model</th>\n",
       "      <th>Sale Price</th>\n",
       "    </tr>\n",
       "  </thead>\n",
       "  <tbody>\n",
       "    <tr>\n",
       "      <th>0</th>\n",
       "      <td>Alice</td>\n",
       "      <td>Corolla</td>\n",
       "      <td>20000</td>\n",
       "    </tr>\n",
       "    <tr>\n",
       "      <th>1</th>\n",
       "      <td>Bob</td>\n",
       "      <td>Camry</td>\n",
       "      <td>25000</td>\n",
       "    </tr>\n",
       "    <tr>\n",
       "      <th>2</th>\n",
       "      <td>Charlie</td>\n",
       "      <td>Rav4</td>\n",
       "      <td>27000</td>\n",
       "    </tr>\n",
       "    <tr>\n",
       "      <th>3</th>\n",
       "      <td>Alice</td>\n",
       "      <td>Highlander</td>\n",
       "      <td>32000</td>\n",
       "    </tr>\n",
       "    <tr>\n",
       "      <th>4</th>\n",
       "      <td>Charlie</td>\n",
       "      <td>Corolla</td>\n",
       "      <td>21000</td>\n",
       "    </tr>\n",
       "  </tbody>\n",
       "</table>\n",
       "</div>"
      ]
     },
     "execution_count": 6,
     "metadata": {},
     "output_type": "execute_result"
    }
   ],
   "execution_count": 6
  },
  {
   "metadata": {},
   "cell_type": "markdown",
   "source": "Descriptve statistics",
   "id": "fc3ebdeba43d630b"
  },
  {
   "metadata": {
    "ExecuteTime": {
     "end_time": "2025-09-15T00:11:44.362287Z",
     "start_time": "2025-09-15T00:11:44.356084Z"
    }
   },
   "cell_type": "code",
   "source": [
    "#Descriptve statistics\n",
    "print(\"Average Sale Price:\", df['Sale Price'].mean())"
   ],
   "id": "e56f5a8c92b11a38",
   "outputs": [
    {
     "name": "stdout",
     "output_type": "stream",
     "text": [
      "Average Sale Price: 25000.0\n"
     ]
    }
   ],
   "execution_count": 10
  },
  {
   "metadata": {
    "ExecuteTime": {
     "end_time": "2025-09-15T00:10:44.622090Z",
     "start_time": "2025-09-15T00:10:44.612053Z"
    }
   },
   "cell_type": "code",
   "source": "print(\"Total Sales:\", df['Sale Price'].sum())",
   "id": "b2d849c10e312010",
   "outputs": [
    {
     "name": "stdout",
     "output_type": "stream",
     "text": [
      "Total Sales: 125000\n"
     ]
    }
   ],
   "execution_count": 8
  },
  {
   "metadata": {
    "ExecuteTime": {
     "end_time": "2025-09-15T00:11:09.279364Z",
     "start_time": "2025-09-15T00:11:09.270040Z"
    }
   },
   "cell_type": "code",
   "source": "print(\"Most Expensive Sale:\", df['Sale Price'].max())",
   "id": "7053800c96b550db",
   "outputs": [
    {
     "name": "stdout",
     "output_type": "stream",
     "text": [
      "Most Expensive Sale: 32000\n"
     ]
    }
   ],
   "execution_count": 9
  }
 ],
 "metadata": {
  "kernelspec": {
   "display_name": "Python 3",
   "language": "python",
   "name": "python3"
  },
  "language_info": {
   "codemirror_mode": {
    "name": "ipython",
    "version": 2
   },
   "file_extension": ".py",
   "mimetype": "text/x-python",
   "name": "python",
   "nbconvert_exporter": "python",
   "pygments_lexer": "ipython2",
   "version": "2.7.6"
  }
 },
 "nbformat": 4,
 "nbformat_minor": 5
}
