{
 "cells": [
  {
   "cell_type": "code",
   "id": "initial_id",
   "metadata": {
    "collapsed": true,
    "ExecuteTime": {
     "end_time": "2025-09-12T09:54:48.674852Z",
     "start_time": "2025-09-12T09:54:47.949132Z"
    }
   },
   "source": "import pandas as pd",
   "outputs": [],
   "execution_count": 1
  },
  {
   "metadata": {
    "ExecuteTime": {
     "end_time": "2025-09-12T10:23:06.272624Z",
     "start_time": "2025-09-12T10:23:06.257522Z"
    }
   },
   "cell_type": "code",
   "source": [
    "data = [\n",
    "    {\"sale_id\": 1, \"sale_rep_id\": 101, \"sale_data\": \"2024-01-01\",\"car_model\": \"Camry\", \"sale_amount\":20000, \"commission_pct\": 5, \"sale_status\":\"Completed\"},\n",
    "    {\"sale_id\": 2, \"sale_rep_id\": 102, \"sale_data\": \"2024-01-02\",\"car_model\": \"Corolla\", \"sale_amount\":18000, \"commission_pct\": 4, \"sale_status\":\"Completed\"},\n",
    "    {\"sale_id\": 3, \"sale_rep_id\": 103, \"sale_data\": \"2024-01-03\",\"car_model\": \"RAV4\", \"sale_amount\":30000, \"commission_pct\": 6, \"sale_status\":\"Completed\"},\n",
    "    {\"sale_id\": 2, \"sale_rep_id\": 102, \"sale_data\": \"2024-01-02\",\"car_model\": \"Corolla\", \"sale_amount\":18000, \"commission_pct\": 4, \"sale_status\":\"Completed\"},\n",
    "    {\"sale_id\": 4, \"sale_rep_id\": 104, \"sale_data\": \"2024-01-04\",\"car_model\": \"Highlander\", \"sale_amount\":35000, \"commission_pct\": 7, \"sale_status\":\"Pending\"}\n",
    "\n",
    "]\n",
    "\n",
    "custom_df = pd.DataFrame(data)"
   ],
   "id": "68571441e5be223e",
   "outputs": [],
   "execution_count": 17
  },
  {
   "metadata": {
    "ExecuteTime": {
     "end_time": "2025-09-12T10:23:10.374622Z",
     "start_time": "2025-09-12T10:23:10.355168Z"
    }
   },
   "cell_type": "code",
   "source": "custom_df.head()",
   "id": "a7566c3488ad1aa5",
   "outputs": [
    {
     "data": {
      "text/plain": [
       "   sale_id  sale_rep_id   sale_data   car_model  sale_amount  commission_pct  \\\n",
       "0        1          101  2024-01-01       Camry        20000               5   \n",
       "1        2          102  2024-01-02     Corolla        18000               4   \n",
       "2        3          103  2024-01-03        RAV4        30000               6   \n",
       "3        2          102  2024-01-02     Corolla        18000               4   \n",
       "4        4          104  2024-01-04  Highlander        35000               7   \n",
       "\n",
       "  sale_status  \n",
       "0   Completed  \n",
       "1   Completed  \n",
       "2   Completed  \n",
       "3   Completed  \n",
       "4     Pending  "
      ],
      "text/html": [
       "<div>\n",
       "<style scoped>\n",
       "    .dataframe tbody tr th:only-of-type {\n",
       "        vertical-align: middle;\n",
       "    }\n",
       "\n",
       "    .dataframe tbody tr th {\n",
       "        vertical-align: top;\n",
       "    }\n",
       "\n",
       "    .dataframe thead th {\n",
       "        text-align: right;\n",
       "    }\n",
       "</style>\n",
       "<table border=\"1\" class=\"dataframe\">\n",
       "  <thead>\n",
       "    <tr style=\"text-align: right;\">\n",
       "      <th></th>\n",
       "      <th>sale_id</th>\n",
       "      <th>sale_rep_id</th>\n",
       "      <th>sale_data</th>\n",
       "      <th>car_model</th>\n",
       "      <th>sale_amount</th>\n",
       "      <th>commission_pct</th>\n",
       "      <th>sale_status</th>\n",
       "    </tr>\n",
       "  </thead>\n",
       "  <tbody>\n",
       "    <tr>\n",
       "      <th>0</th>\n",
       "      <td>1</td>\n",
       "      <td>101</td>\n",
       "      <td>2024-01-01</td>\n",
       "      <td>Camry</td>\n",
       "      <td>20000</td>\n",
       "      <td>5</td>\n",
       "      <td>Completed</td>\n",
       "    </tr>\n",
       "    <tr>\n",
       "      <th>1</th>\n",
       "      <td>2</td>\n",
       "      <td>102</td>\n",
       "      <td>2024-01-02</td>\n",
       "      <td>Corolla</td>\n",
       "      <td>18000</td>\n",
       "      <td>4</td>\n",
       "      <td>Completed</td>\n",
       "    </tr>\n",
       "    <tr>\n",
       "      <th>2</th>\n",
       "      <td>3</td>\n",
       "      <td>103</td>\n",
       "      <td>2024-01-03</td>\n",
       "      <td>RAV4</td>\n",
       "      <td>30000</td>\n",
       "      <td>6</td>\n",
       "      <td>Completed</td>\n",
       "    </tr>\n",
       "    <tr>\n",
       "      <th>3</th>\n",
       "      <td>2</td>\n",
       "      <td>102</td>\n",
       "      <td>2024-01-02</td>\n",
       "      <td>Corolla</td>\n",
       "      <td>18000</td>\n",
       "      <td>4</td>\n",
       "      <td>Completed</td>\n",
       "    </tr>\n",
       "    <tr>\n",
       "      <th>4</th>\n",
       "      <td>4</td>\n",
       "      <td>104</td>\n",
       "      <td>2024-01-04</td>\n",
       "      <td>Highlander</td>\n",
       "      <td>35000</td>\n",
       "      <td>7</td>\n",
       "      <td>Pending</td>\n",
       "    </tr>\n",
       "  </tbody>\n",
       "</table>\n",
       "</div>"
      ]
     },
     "execution_count": 18,
     "metadata": {},
     "output_type": "execute_result"
    }
   ],
   "execution_count": 18
  },
  {
   "metadata": {
    "ExecuteTime": {
     "end_time": "2025-09-12T10:02:16.890432Z",
     "start_time": "2025-09-12T10:02:16.874448Z"
    }
   },
   "cell_type": "code",
   "source": "deduplicated_df = custom_df.drop_duplicates(subset=[\"sale_id\"])",
   "id": "5eb1aaf65ffa3ecc",
   "outputs": [],
   "execution_count": 7
  },
  {
   "metadata": {
    "ExecuteTime": {
     "end_time": "2025-09-12T10:02:29.072511Z",
     "start_time": "2025-09-12T10:02:29.060450Z"
    }
   },
   "cell_type": "code",
   "source": "deduplicated_df",
   "id": "2a19c38d697c52b0",
   "outputs": [
    {
     "data": {
      "text/plain": [
       "   sale_id  sale_rep_id   sale_data   car_model  sale_amount  commission_pct  \\\n",
       "0        1          101  2024-01-01       Camry        20000               5   \n",
       "1        2          102  2024-01-02     Corolla        18000               4   \n",
       "2        3          103  2024-01-03        RAV4        30000               6   \n",
       "4        4          104  2024-01-04  Highlander        35000               7   \n",
       "\n",
       "  sale_status  \n",
       "0   Completed  \n",
       "1   Completed  \n",
       "2   Completed  \n",
       "4     Pending  "
      ],
      "text/html": [
       "<div>\n",
       "<style scoped>\n",
       "    .dataframe tbody tr th:only-of-type {\n",
       "        vertical-align: middle;\n",
       "    }\n",
       "\n",
       "    .dataframe tbody tr th {\n",
       "        vertical-align: top;\n",
       "    }\n",
       "\n",
       "    .dataframe thead th {\n",
       "        text-align: right;\n",
       "    }\n",
       "</style>\n",
       "<table border=\"1\" class=\"dataframe\">\n",
       "  <thead>\n",
       "    <tr style=\"text-align: right;\">\n",
       "      <th></th>\n",
       "      <th>sale_id</th>\n",
       "      <th>sale_rep_id</th>\n",
       "      <th>sale_data</th>\n",
       "      <th>car_model</th>\n",
       "      <th>sale_amount</th>\n",
       "      <th>commission_pct</th>\n",
       "      <th>sale_status</th>\n",
       "    </tr>\n",
       "  </thead>\n",
       "  <tbody>\n",
       "    <tr>\n",
       "      <th>0</th>\n",
       "      <td>1</td>\n",
       "      <td>101</td>\n",
       "      <td>2024-01-01</td>\n",
       "      <td>Camry</td>\n",
       "      <td>20000</td>\n",
       "      <td>5</td>\n",
       "      <td>Completed</td>\n",
       "    </tr>\n",
       "    <tr>\n",
       "      <th>1</th>\n",
       "      <td>2</td>\n",
       "      <td>102</td>\n",
       "      <td>2024-01-02</td>\n",
       "      <td>Corolla</td>\n",
       "      <td>18000</td>\n",
       "      <td>4</td>\n",
       "      <td>Completed</td>\n",
       "    </tr>\n",
       "    <tr>\n",
       "      <th>2</th>\n",
       "      <td>3</td>\n",
       "      <td>103</td>\n",
       "      <td>2024-01-03</td>\n",
       "      <td>RAV4</td>\n",
       "      <td>30000</td>\n",
       "      <td>6</td>\n",
       "      <td>Completed</td>\n",
       "    </tr>\n",
       "    <tr>\n",
       "      <th>4</th>\n",
       "      <td>4</td>\n",
       "      <td>104</td>\n",
       "      <td>2024-01-04</td>\n",
       "      <td>Highlander</td>\n",
       "      <td>35000</td>\n",
       "      <td>7</td>\n",
       "      <td>Pending</td>\n",
       "    </tr>\n",
       "  </tbody>\n",
       "</table>\n",
       "</div>"
      ]
     },
     "execution_count": 8,
     "metadata": {},
     "output_type": "execute_result"
    }
   ],
   "execution_count": 8
  },
  {
   "metadata": {
    "ExecuteTime": {
     "end_time": "2025-09-12T10:23:19.388302Z",
     "start_time": "2025-09-12T10:23:19.377973Z"
    }
   },
   "cell_type": "code",
   "source": "priority_order = pd.CategoricalDtype(categories=[\"High\", \"Medium\",\"Low\"])",
   "id": "2f1e3e2fe64aa73",
   "outputs": [],
   "execution_count": 19
  },
  {
   "metadata": {
    "ExecuteTime": {
     "end_time": "2025-09-12T10:20:10.564770Z",
     "start_time": "2025-09-12T10:20:10.535739Z"
    }
   },
   "cell_type": "code",
   "source": "custom_df",
   "id": "4ed16c5b4305f488",
   "outputs": [
    {
     "data": {
      "text/plain": [
       "   sale_id  sale_rep_id   sale_data   car_model  sale_amount  commission_pct  \\\n",
       "0        1          101  2024-01-01       Camry        20000               5   \n",
       "1        2          102  2024-01-02     Corolla        18000               4   \n",
       "2        3          103  2024-01-03        RAV4        30000               6   \n",
       "3        2          102  2024-01-02     Corolla        18000               4   \n",
       "4        4          104  2024-01-04  Highlander        35000               7   \n",
       "\n",
       "  sale_status  \n",
       "0   Completed  \n",
       "1   Completed  \n",
       "2   Completed  \n",
       "3   Completed  \n",
       "4     Pending  "
      ],
      "text/html": [
       "<div>\n",
       "<style scoped>\n",
       "    .dataframe tbody tr th:only-of-type {\n",
       "        vertical-align: middle;\n",
       "    }\n",
       "\n",
       "    .dataframe tbody tr th {\n",
       "        vertical-align: top;\n",
       "    }\n",
       "\n",
       "    .dataframe thead th {\n",
       "        text-align: right;\n",
       "    }\n",
       "</style>\n",
       "<table border=\"1\" class=\"dataframe\">\n",
       "  <thead>\n",
       "    <tr style=\"text-align: right;\">\n",
       "      <th></th>\n",
       "      <th>sale_id</th>\n",
       "      <th>sale_rep_id</th>\n",
       "      <th>sale_data</th>\n",
       "      <th>car_model</th>\n",
       "      <th>sale_amount</th>\n",
       "      <th>commission_pct</th>\n",
       "      <th>sale_status</th>\n",
       "    </tr>\n",
       "  </thead>\n",
       "  <tbody>\n",
       "    <tr>\n",
       "      <th>0</th>\n",
       "      <td>1</td>\n",
       "      <td>101</td>\n",
       "      <td>2024-01-01</td>\n",
       "      <td>Camry</td>\n",
       "      <td>20000</td>\n",
       "      <td>5</td>\n",
       "      <td>Completed</td>\n",
       "    </tr>\n",
       "    <tr>\n",
       "      <th>1</th>\n",
       "      <td>2</td>\n",
       "      <td>102</td>\n",
       "      <td>2024-01-02</td>\n",
       "      <td>Corolla</td>\n",
       "      <td>18000</td>\n",
       "      <td>4</td>\n",
       "      <td>Completed</td>\n",
       "    </tr>\n",
       "    <tr>\n",
       "      <th>2</th>\n",
       "      <td>3</td>\n",
       "      <td>103</td>\n",
       "      <td>2024-01-03</td>\n",
       "      <td>RAV4</td>\n",
       "      <td>30000</td>\n",
       "      <td>6</td>\n",
       "      <td>Completed</td>\n",
       "    </tr>\n",
       "    <tr>\n",
       "      <th>3</th>\n",
       "      <td>2</td>\n",
       "      <td>102</td>\n",
       "      <td>2024-01-02</td>\n",
       "      <td>Corolla</td>\n",
       "      <td>18000</td>\n",
       "      <td>4</td>\n",
       "      <td>Completed</td>\n",
       "    </tr>\n",
       "    <tr>\n",
       "      <th>4</th>\n",
       "      <td>4</td>\n",
       "      <td>104</td>\n",
       "      <td>2024-01-04</td>\n",
       "      <td>Highlander</td>\n",
       "      <td>35000</td>\n",
       "      <td>7</td>\n",
       "      <td>Pending</td>\n",
       "    </tr>\n",
       "  </tbody>\n",
       "</table>\n",
       "</div>"
      ]
     },
     "execution_count": 15,
     "metadata": {},
     "output_type": "execute_result"
    }
   ],
   "execution_count": 15
  },
  {
   "metadata": {
    "ExecuteTime": {
     "end_time": "2025-09-12T10:23:22.844069Z",
     "start_time": "2025-09-12T10:23:22.726614Z"
    }
   },
   "cell_type": "code",
   "source": "custom_df[\"priority\"] = custom_df[\"priority\"].astype(priority_order)",
   "id": "9ada79d5ce31f877",
   "outputs": [
    {
     "ename": "KeyError",
     "evalue": "'priority'",
     "output_type": "error",
     "traceback": [
      "\u001B[31m---------------------------------------------------------------------------\u001B[39m",
      "\u001B[31mKeyError\u001B[39m                                  Traceback (most recent call last)",
      "\u001B[36mFile \u001B[39m\u001B[32m~\\AppData\\Roaming\\Python\\Python313\\site-packages\\pandas\\core\\indexes\\base.py:3805\u001B[39m, in \u001B[36mIndex.get_loc\u001B[39m\u001B[34m(self, key)\u001B[39m\n\u001B[32m   3804\u001B[39m \u001B[38;5;28;01mtry\u001B[39;00m:\n\u001B[32m-> \u001B[39m\u001B[32m3805\u001B[39m     \u001B[38;5;28;01mreturn\u001B[39;00m \u001B[38;5;28;43mself\u001B[39;49m\u001B[43m.\u001B[49m\u001B[43m_engine\u001B[49m\u001B[43m.\u001B[49m\u001B[43mget_loc\u001B[49m\u001B[43m(\u001B[49m\u001B[43mcasted_key\u001B[49m\u001B[43m)\u001B[49m\n\u001B[32m   3806\u001B[39m \u001B[38;5;28;01mexcept\u001B[39;00m \u001B[38;5;167;01mKeyError\u001B[39;00m \u001B[38;5;28;01mas\u001B[39;00m err:\n",
      "\u001B[36mFile \u001B[39m\u001B[32mindex.pyx:167\u001B[39m, in \u001B[36mpandas._libs.index.IndexEngine.get_loc\u001B[39m\u001B[34m()\u001B[39m\n",
      "\u001B[36mFile \u001B[39m\u001B[32mindex.pyx:196\u001B[39m, in \u001B[36mpandas._libs.index.IndexEngine.get_loc\u001B[39m\u001B[34m()\u001B[39m\n",
      "\u001B[36mFile \u001B[39m\u001B[32mpandas\\\\_libs\\\\hashtable_class_helper.pxi:7081\u001B[39m, in \u001B[36mpandas._libs.hashtable.PyObjectHashTable.get_item\u001B[39m\u001B[34m()\u001B[39m\n",
      "\u001B[36mFile \u001B[39m\u001B[32mpandas\\\\_libs\\\\hashtable_class_helper.pxi:7089\u001B[39m, in \u001B[36mpandas._libs.hashtable.PyObjectHashTable.get_item\u001B[39m\u001B[34m()\u001B[39m\n",
      "\u001B[31mKeyError\u001B[39m: 'priority'",
      "\nThe above exception was the direct cause of the following exception:\n",
      "\u001B[31mKeyError\u001B[39m                                  Traceback (most recent call last)",
      "\u001B[36mCell\u001B[39m\u001B[36m \u001B[39m\u001B[32mIn[20]\u001B[39m\u001B[32m, line 1\u001B[39m\n\u001B[32m----> \u001B[39m\u001B[32m1\u001B[39m custom_df[\u001B[33m\"\u001B[39m\u001B[33mpriority\u001B[39m\u001B[33m\"\u001B[39m] = \u001B[43mcustom_df\u001B[49m\u001B[43m[\u001B[49m\u001B[33;43m\"\u001B[39;49m\u001B[33;43mpriority\u001B[39;49m\u001B[33;43m\"\u001B[39;49m\u001B[43m]\u001B[49m.astype(priority_order)\n",
      "\u001B[36mFile \u001B[39m\u001B[32m~\\AppData\\Roaming\\Python\\Python313\\site-packages\\pandas\\core\\frame.py:4102\u001B[39m, in \u001B[36mDataFrame.__getitem__\u001B[39m\u001B[34m(self, key)\u001B[39m\n\u001B[32m   4100\u001B[39m \u001B[38;5;28;01mif\u001B[39;00m \u001B[38;5;28mself\u001B[39m.columns.nlevels > \u001B[32m1\u001B[39m:\n\u001B[32m   4101\u001B[39m     \u001B[38;5;28;01mreturn\u001B[39;00m \u001B[38;5;28mself\u001B[39m._getitem_multilevel(key)\n\u001B[32m-> \u001B[39m\u001B[32m4102\u001B[39m indexer = \u001B[38;5;28;43mself\u001B[39;49m\u001B[43m.\u001B[49m\u001B[43mcolumns\u001B[49m\u001B[43m.\u001B[49m\u001B[43mget_loc\u001B[49m\u001B[43m(\u001B[49m\u001B[43mkey\u001B[49m\u001B[43m)\u001B[49m\n\u001B[32m   4103\u001B[39m \u001B[38;5;28;01mif\u001B[39;00m is_integer(indexer):\n\u001B[32m   4104\u001B[39m     indexer = [indexer]\n",
      "\u001B[36mFile \u001B[39m\u001B[32m~\\AppData\\Roaming\\Python\\Python313\\site-packages\\pandas\\core\\indexes\\base.py:3812\u001B[39m, in \u001B[36mIndex.get_loc\u001B[39m\u001B[34m(self, key)\u001B[39m\n\u001B[32m   3807\u001B[39m     \u001B[38;5;28;01mif\u001B[39;00m \u001B[38;5;28misinstance\u001B[39m(casted_key, \u001B[38;5;28mslice\u001B[39m) \u001B[38;5;129;01mor\u001B[39;00m (\n\u001B[32m   3808\u001B[39m         \u001B[38;5;28misinstance\u001B[39m(casted_key, abc.Iterable)\n\u001B[32m   3809\u001B[39m         \u001B[38;5;129;01mand\u001B[39;00m \u001B[38;5;28many\u001B[39m(\u001B[38;5;28misinstance\u001B[39m(x, \u001B[38;5;28mslice\u001B[39m) \u001B[38;5;28;01mfor\u001B[39;00m x \u001B[38;5;129;01min\u001B[39;00m casted_key)\n\u001B[32m   3810\u001B[39m     ):\n\u001B[32m   3811\u001B[39m         \u001B[38;5;28;01mraise\u001B[39;00m InvalidIndexError(key)\n\u001B[32m-> \u001B[39m\u001B[32m3812\u001B[39m     \u001B[38;5;28;01mraise\u001B[39;00m \u001B[38;5;167;01mKeyError\u001B[39;00m(key) \u001B[38;5;28;01mfrom\u001B[39;00m\u001B[38;5;250m \u001B[39m\u001B[34;01merr\u001B[39;00m\n\u001B[32m   3813\u001B[39m \u001B[38;5;28;01mexcept\u001B[39;00m \u001B[38;5;167;01mTypeError\u001B[39;00m:\n\u001B[32m   3814\u001B[39m     \u001B[38;5;66;03m# If we have a listlike key, _check_indexing_error will raise\u001B[39;00m\n\u001B[32m   3815\u001B[39m     \u001B[38;5;66;03m#  InvalidIndexError. Otherwise we fall through and re-raise\u001B[39;00m\n\u001B[32m   3816\u001B[39m     \u001B[38;5;66;03m#  the TypeError.\u001B[39;00m\n\u001B[32m   3817\u001B[39m     \u001B[38;5;28mself\u001B[39m._check_indexing_error(key)\n",
      "\u001B[31mKeyError\u001B[39m: 'priority'"
     ]
    }
   ],
   "execution_count": 20
  },
  {
   "metadata": {
    "ExecuteTime": {
     "end_time": "2025-09-12T10:22:49.442594Z",
     "start_time": "2025-09-12T10:22:49.080768Z"
    }
   },
   "cell_type": "code",
   "source": "custom_df.sort_values(by=\"priority\")",
   "id": "935b7b714e43466",
   "outputs": [
    {
     "ename": "KeyError",
     "evalue": "'priority'",
     "output_type": "error",
     "traceback": [
      "\u001B[31m---------------------------------------------------------------------------\u001B[39m",
      "\u001B[31mKeyError\u001B[39m                                  Traceback (most recent call last)",
      "\u001B[32m~\\AppData\\Local\\Temp\\ipykernel_1436\\2858305311.py\u001B[39m in \u001B[36m?\u001B[39m\u001B[34m()\u001B[39m\n\u001B[32m----> \u001B[39m\u001B[32m1\u001B[39m custom_df.sort_values(by=\u001B[33m\"priority\"\u001B[39m)\n",
      "\u001B[32m~\\AppData\\Roaming\\Python\\Python313\\site-packages\\pandas\\core\\frame.py\u001B[39m in \u001B[36m?\u001B[39m\u001B[34m(self, by, axis, ascending, inplace, kind, na_position, ignore_index, key)\u001B[39m\n\u001B[32m   7185\u001B[39m             )\n\u001B[32m   7186\u001B[39m         \u001B[38;5;28;01melif\u001B[39;00m len(by):\n\u001B[32m   7187\u001B[39m             \u001B[38;5;66;03m# len(by) == 1\u001B[39;00m\n\u001B[32m   7188\u001B[39m \n\u001B[32m-> \u001B[39m\u001B[32m7189\u001B[39m             k = self._get_label_or_level_values(by[\u001B[32m0\u001B[39m], axis=axis)\n\u001B[32m   7190\u001B[39m \n\u001B[32m   7191\u001B[39m             \u001B[38;5;66;03m# need to rewrap column in Series to apply key function\u001B[39;00m\n\u001B[32m   7192\u001B[39m             \u001B[38;5;28;01mif\u001B[39;00m key \u001B[38;5;28;01mis\u001B[39;00m \u001B[38;5;28;01mnot\u001B[39;00m \u001B[38;5;28;01mNone\u001B[39;00m:\n",
      "\u001B[32m~\\AppData\\Roaming\\Python\\Python313\\site-packages\\pandas\\core\\generic.py\u001B[39m in \u001B[36m?\u001B[39m\u001B[34m(self, key, axis)\u001B[39m\n\u001B[32m   1907\u001B[39m             values = self.xs(key, axis=other_axes[\u001B[32m0\u001B[39m])._values\n\u001B[32m   1908\u001B[39m         \u001B[38;5;28;01melif\u001B[39;00m self._is_level_reference(key, axis=axis):\n\u001B[32m   1909\u001B[39m             values = self.axes[axis].get_level_values(key)._values\n\u001B[32m   1910\u001B[39m         \u001B[38;5;28;01melse\u001B[39;00m:\n\u001B[32m-> \u001B[39m\u001B[32m1911\u001B[39m             \u001B[38;5;28;01mraise\u001B[39;00m KeyError(key)\n\u001B[32m   1912\u001B[39m \n\u001B[32m   1913\u001B[39m         \u001B[38;5;66;03m# Check for duplicates\u001B[39;00m\n\u001B[32m   1914\u001B[39m         \u001B[38;5;28;01mif\u001B[39;00m values.ndim > \u001B[32m1\u001B[39m:\n",
      "\u001B[31mKeyError\u001B[39m: 'priority'"
     ]
    }
   ],
   "execution_count": 16
  }
 ],
 "metadata": {
  "kernelspec": {
   "display_name": "Python 3",
   "language": "python",
   "name": "python3"
  },
  "language_info": {
   "codemirror_mode": {
    "name": "ipython",
    "version": 2
   },
   "file_extension": ".py",
   "mimetype": "text/x-python",
   "name": "python",
   "nbconvert_exporter": "python",
   "pygments_lexer": "ipython2",
   "version": "2.7.6"
  }
 },
 "nbformat": 4,
 "nbformat_minor": 5
}
