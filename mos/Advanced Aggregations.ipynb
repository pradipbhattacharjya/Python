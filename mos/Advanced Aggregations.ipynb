{
 "cells": [
  {
   "cell_type": "code",
   "id": "initial_id",
   "metadata": {
    "collapsed": true,
    "ExecuteTime": {
     "end_time": "2025-09-13T04:10:01.373343Z",
     "start_time": "2025-09-13T04:10:00.579175Z"
    }
   },
   "source": "import pandas as pd",
   "outputs": [],
   "execution_count": 1
  },
  {
   "metadata": {
    "ExecuteTime": {
     "end_time": "2025-09-13T04:11:34.025189Z",
     "start_time": "2025-09-13T04:11:33.966807Z"
    }
   },
   "cell_type": "code",
   "source": [
    "#Load the Toyota sales dataset\n",
    "toyota_sales_data = pd.read_csv(\"toyota_sales_data.csv\")"
   ],
   "id": "40a18cf084f52097",
   "outputs": [],
   "execution_count": 2
  },
  {
   "metadata": {
    "ExecuteTime": {
     "end_time": "2025-09-13T04:14:56.961893Z",
     "start_time": "2025-09-13T04:14:56.898126Z"
    }
   },
   "cell_type": "code",
   "source": [
    "aggregations = toyota_sales_data.groupby(\"car_model\")[\"sale_amount\"].\\\n",
    "    agg([\"sum\",\"mean\"])"
   ],
   "id": "ff1bfb3d68262588",
   "outputs": [],
   "execution_count": 4
  },
  {
   "metadata": {
    "ExecuteTime": {
     "end_time": "2025-09-13T04:15:57.413878Z",
     "start_time": "2025-09-13T04:15:57.398758Z"
    }
   },
   "cell_type": "code",
   "source": "aggregations",
   "id": "c5b11299ce1b3ac0",
   "outputs": [
    {
     "data": {
      "text/plain": [
       "                    sum          mean\n",
       "car_model                            \n",
       "Camry       23515068.85  27470.874825\n",
       "Corolla     18559680.22  22442.176808\n",
       "Highlander  32562337.53  40002.871658\n",
       "RAV4        26647722.94  30985.724349\n",
       "Tacoma      28908731.32  34998.464068\n",
       "Tundra      34705000.21  42478.580428"
      ],
      "text/html": [
       "<div>\n",
       "<style scoped>\n",
       "    .dataframe tbody tr th:only-of-type {\n",
       "        vertical-align: middle;\n",
       "    }\n",
       "\n",
       "    .dataframe tbody tr th {\n",
       "        vertical-align: top;\n",
       "    }\n",
       "\n",
       "    .dataframe thead th {\n",
       "        text-align: right;\n",
       "    }\n",
       "</style>\n",
       "<table border=\"1\" class=\"dataframe\">\n",
       "  <thead>\n",
       "    <tr style=\"text-align: right;\">\n",
       "      <th></th>\n",
       "      <th>sum</th>\n",
       "      <th>mean</th>\n",
       "    </tr>\n",
       "    <tr>\n",
       "      <th>car_model</th>\n",
       "      <th></th>\n",
       "      <th></th>\n",
       "    </tr>\n",
       "  </thead>\n",
       "  <tbody>\n",
       "    <tr>\n",
       "      <th>Camry</th>\n",
       "      <td>23515068.85</td>\n",
       "      <td>27470.874825</td>\n",
       "    </tr>\n",
       "    <tr>\n",
       "      <th>Corolla</th>\n",
       "      <td>18559680.22</td>\n",
       "      <td>22442.176808</td>\n",
       "    </tr>\n",
       "    <tr>\n",
       "      <th>Highlander</th>\n",
       "      <td>32562337.53</td>\n",
       "      <td>40002.871658</td>\n",
       "    </tr>\n",
       "    <tr>\n",
       "      <th>RAV4</th>\n",
       "      <td>26647722.94</td>\n",
       "      <td>30985.724349</td>\n",
       "    </tr>\n",
       "    <tr>\n",
       "      <th>Tacoma</th>\n",
       "      <td>28908731.32</td>\n",
       "      <td>34998.464068</td>\n",
       "    </tr>\n",
       "    <tr>\n",
       "      <th>Tundra</th>\n",
       "      <td>34705000.21</td>\n",
       "      <td>42478.580428</td>\n",
       "    </tr>\n",
       "  </tbody>\n",
       "</table>\n",
       "</div>"
      ]
     },
     "execution_count": 6,
     "metadata": {},
     "output_type": "execute_result"
    }
   ],
   "execution_count": 6
  },
  {
   "metadata": {
    "ExecuteTime": {
     "end_time": "2025-09-13T04:19:50.145915Z",
     "start_time": "2025-09-13T04:19:50.139960Z"
    }
   },
   "cell_type": "code",
   "source": [
    "renamed_columns = {\n",
    "    \"total_sales\": \"sum\",\n",
    "    \"average_sales\": \"mean\"\n",
    "}"
   ],
   "id": "1c2da04edaf2f6f7",
   "outputs": [],
   "execution_count": 7
  },
  {
   "metadata": {
    "ExecuteTime": {
     "end_time": "2025-09-13T04:19:59.437537Z",
     "start_time": "2025-09-13T04:19:59.417187Z"
    }
   },
   "cell_type": "code",
   "source": [
    "toyota_sales_data.groupby(\"car_model\")[\"sale_amount\"].\\\n",
    "    agg(** renamed_columns)"
   ],
   "id": "7e41d3116d8071b5",
   "outputs": [
    {
     "data": {
      "text/plain": [
       "            total_sales  average_sales\n",
       "car_model                             \n",
       "Camry       23515068.85   27470.874825\n",
       "Corolla     18559680.22   22442.176808\n",
       "Highlander  32562337.53   40002.871658\n",
       "RAV4        26647722.94   30985.724349\n",
       "Tacoma      28908731.32   34998.464068\n",
       "Tundra      34705000.21   42478.580428"
      ],
      "text/html": [
       "<div>\n",
       "<style scoped>\n",
       "    .dataframe tbody tr th:only-of-type {\n",
       "        vertical-align: middle;\n",
       "    }\n",
       "\n",
       "    .dataframe tbody tr th {\n",
       "        vertical-align: top;\n",
       "    }\n",
       "\n",
       "    .dataframe thead th {\n",
       "        text-align: right;\n",
       "    }\n",
       "</style>\n",
       "<table border=\"1\" class=\"dataframe\">\n",
       "  <thead>\n",
       "    <tr style=\"text-align: right;\">\n",
       "      <th></th>\n",
       "      <th>total_sales</th>\n",
       "      <th>average_sales</th>\n",
       "    </tr>\n",
       "    <tr>\n",
       "      <th>car_model</th>\n",
       "      <th></th>\n",
       "      <th></th>\n",
       "    </tr>\n",
       "  </thead>\n",
       "  <tbody>\n",
       "    <tr>\n",
       "      <th>Camry</th>\n",
       "      <td>23515068.85</td>\n",
       "      <td>27470.874825</td>\n",
       "    </tr>\n",
       "    <tr>\n",
       "      <th>Corolla</th>\n",
       "      <td>18559680.22</td>\n",
       "      <td>22442.176808</td>\n",
       "    </tr>\n",
       "    <tr>\n",
       "      <th>Highlander</th>\n",
       "      <td>32562337.53</td>\n",
       "      <td>40002.871658</td>\n",
       "    </tr>\n",
       "    <tr>\n",
       "      <th>RAV4</th>\n",
       "      <td>26647722.94</td>\n",
       "      <td>30985.724349</td>\n",
       "    </tr>\n",
       "    <tr>\n",
       "      <th>Tacoma</th>\n",
       "      <td>28908731.32</td>\n",
       "      <td>34998.464068</td>\n",
       "    </tr>\n",
       "    <tr>\n",
       "      <th>Tundra</th>\n",
       "      <td>34705000.21</td>\n",
       "      <td>42478.580428</td>\n",
       "    </tr>\n",
       "  </tbody>\n",
       "</table>\n",
       "</div>"
      ]
     },
     "execution_count": 8,
     "metadata": {},
     "output_type": "execute_result"
    }
   ],
   "execution_count": 8
  },
  {
   "metadata": {
    "ExecuteTime": {
     "end_time": "2025-09-13T04:21:31.704953Z",
     "start_time": "2025-09-13T04:21:31.692269Z"
    }
   },
   "cell_type": "code",
   "source": [
    "toyota_sales_data.groupby(\"car_model\")[\"sale_amount\"].\\\n",
    "    agg(total_sales=\"sum\",average_sales=\"mean\")"
   ],
   "id": "378993cc005811ed",
   "outputs": [
    {
     "data": {
      "text/plain": [
       "            total_sales  average_sales\n",
       "car_model                             \n",
       "Camry       23515068.85   27470.874825\n",
       "Corolla     18559680.22   22442.176808\n",
       "Highlander  32562337.53   40002.871658\n",
       "RAV4        26647722.94   30985.724349\n",
       "Tacoma      28908731.32   34998.464068\n",
       "Tundra      34705000.21   42478.580428"
      ],
      "text/html": [
       "<div>\n",
       "<style scoped>\n",
       "    .dataframe tbody tr th:only-of-type {\n",
       "        vertical-align: middle;\n",
       "    }\n",
       "\n",
       "    .dataframe tbody tr th {\n",
       "        vertical-align: top;\n",
       "    }\n",
       "\n",
       "    .dataframe thead th {\n",
       "        text-align: right;\n",
       "    }\n",
       "</style>\n",
       "<table border=\"1\" class=\"dataframe\">\n",
       "  <thead>\n",
       "    <tr style=\"text-align: right;\">\n",
       "      <th></th>\n",
       "      <th>total_sales</th>\n",
       "      <th>average_sales</th>\n",
       "    </tr>\n",
       "    <tr>\n",
       "      <th>car_model</th>\n",
       "      <th></th>\n",
       "      <th></th>\n",
       "    </tr>\n",
       "  </thead>\n",
       "  <tbody>\n",
       "    <tr>\n",
       "      <th>Camry</th>\n",
       "      <td>23515068.85</td>\n",
       "      <td>27470.874825</td>\n",
       "    </tr>\n",
       "    <tr>\n",
       "      <th>Corolla</th>\n",
       "      <td>18559680.22</td>\n",
       "      <td>22442.176808</td>\n",
       "    </tr>\n",
       "    <tr>\n",
       "      <th>Highlander</th>\n",
       "      <td>32562337.53</td>\n",
       "      <td>40002.871658</td>\n",
       "    </tr>\n",
       "    <tr>\n",
       "      <th>RAV4</th>\n",
       "      <td>26647722.94</td>\n",
       "      <td>30985.724349</td>\n",
       "    </tr>\n",
       "    <tr>\n",
       "      <th>Tacoma</th>\n",
       "      <td>28908731.32</td>\n",
       "      <td>34998.464068</td>\n",
       "    </tr>\n",
       "    <tr>\n",
       "      <th>Tundra</th>\n",
       "      <td>34705000.21</td>\n",
       "      <td>42478.580428</td>\n",
       "    </tr>\n",
       "  </tbody>\n",
       "</table>\n",
       "</div>"
      ]
     },
     "execution_count": 10,
     "metadata": {},
     "output_type": "execute_result"
    }
   ],
   "execution_count": 10
  },
  {
   "metadata": {
    "ExecuteTime": {
     "end_time": "2025-09-13T04:25:02.867052Z",
     "start_time": "2025-09-13T04:25:02.805740Z"
    }
   },
   "cell_type": "code",
   "source": "toyota_sales_data.groupby(\"sale_status\").agg({\"sale_amount\": \"min\", \"commission_pct\": \"count\"})",
   "id": "f15e1522fd1ab81d",
   "outputs": [
    {
     "data": {
      "text/plain": [
       "             sale_amount  commission_pct\n",
       "sale_status                             \n",
       "Cancelled       20139.53             281\n",
       "Completed       20001.20            2671\n",
       "Pending         20000.94             774"
      ],
      "text/html": [
       "<div>\n",
       "<style scoped>\n",
       "    .dataframe tbody tr th:only-of-type {\n",
       "        vertical-align: middle;\n",
       "    }\n",
       "\n",
       "    .dataframe tbody tr th {\n",
       "        vertical-align: top;\n",
       "    }\n",
       "\n",
       "    .dataframe thead th {\n",
       "        text-align: right;\n",
       "    }\n",
       "</style>\n",
       "<table border=\"1\" class=\"dataframe\">\n",
       "  <thead>\n",
       "    <tr style=\"text-align: right;\">\n",
       "      <th></th>\n",
       "      <th>sale_amount</th>\n",
       "      <th>commission_pct</th>\n",
       "    </tr>\n",
       "    <tr>\n",
       "      <th>sale_status</th>\n",
       "      <th></th>\n",
       "      <th></th>\n",
       "    </tr>\n",
       "  </thead>\n",
       "  <tbody>\n",
       "    <tr>\n",
       "      <th>Cancelled</th>\n",
       "      <td>20139.53</td>\n",
       "      <td>281</td>\n",
       "    </tr>\n",
       "    <tr>\n",
       "      <th>Completed</th>\n",
       "      <td>20001.20</td>\n",
       "      <td>2671</td>\n",
       "    </tr>\n",
       "    <tr>\n",
       "      <th>Pending</th>\n",
       "      <td>20000.94</td>\n",
       "      <td>774</td>\n",
       "    </tr>\n",
       "  </tbody>\n",
       "</table>\n",
       "</div>"
      ]
     },
     "execution_count": 11,
     "metadata": {},
     "output_type": "execute_result"
    }
   ],
   "execution_count": 11
  },
  {
   "metadata": {
    "ExecuteTime": {
     "end_time": "2025-09-13T04:28:54.754189Z",
     "start_time": "2025-09-13T04:28:54.676602Z"
    }
   },
   "cell_type": "code",
   "source": [
    "toyota_sales_data.groupby(\"car_model\").agg(\n",
    "    total_sales =(\"sale_amount\", \"sum\"),\n",
    "    average_sales =(\"sale_amount\", \"mean\"),\n",
    "    commission_pct_count = (\"sale_amount\", \"count\"),\n",
    "    sales_count=(\"sale_id\",\"count\")\n",
    ")"
   ],
   "id": "a30d486ea323fa2e",
   "outputs": [
    {
     "data": {
      "text/plain": [
       "            total_sales  average_sales  commission_pct_count  sales_count\n",
       "car_model                                                                \n",
       "Camry       23515068.85   27470.874825                   856          856\n",
       "Corolla     18559680.22   22442.176808                   827          827\n",
       "Highlander  32562337.53   40002.871658                   814          814\n",
       "RAV4        26647722.94   30985.724349                   860          860\n",
       "Tacoma      28908731.32   34998.464068                   826          826\n",
       "Tundra      34705000.21   42478.580428                   817          817"
      ],
      "text/html": [
       "<div>\n",
       "<style scoped>\n",
       "    .dataframe tbody tr th:only-of-type {\n",
       "        vertical-align: middle;\n",
       "    }\n",
       "\n",
       "    .dataframe tbody tr th {\n",
       "        vertical-align: top;\n",
       "    }\n",
       "\n",
       "    .dataframe thead th {\n",
       "        text-align: right;\n",
       "    }\n",
       "</style>\n",
       "<table border=\"1\" class=\"dataframe\">\n",
       "  <thead>\n",
       "    <tr style=\"text-align: right;\">\n",
       "      <th></th>\n",
       "      <th>total_sales</th>\n",
       "      <th>average_sales</th>\n",
       "      <th>commission_pct_count</th>\n",
       "      <th>sales_count</th>\n",
       "    </tr>\n",
       "    <tr>\n",
       "      <th>car_model</th>\n",
       "      <th></th>\n",
       "      <th></th>\n",
       "      <th></th>\n",
       "      <th></th>\n",
       "    </tr>\n",
       "  </thead>\n",
       "  <tbody>\n",
       "    <tr>\n",
       "      <th>Camry</th>\n",
       "      <td>23515068.85</td>\n",
       "      <td>27470.874825</td>\n",
       "      <td>856</td>\n",
       "      <td>856</td>\n",
       "    </tr>\n",
       "    <tr>\n",
       "      <th>Corolla</th>\n",
       "      <td>18559680.22</td>\n",
       "      <td>22442.176808</td>\n",
       "      <td>827</td>\n",
       "      <td>827</td>\n",
       "    </tr>\n",
       "    <tr>\n",
       "      <th>Highlander</th>\n",
       "      <td>32562337.53</td>\n",
       "      <td>40002.871658</td>\n",
       "      <td>814</td>\n",
       "      <td>814</td>\n",
       "    </tr>\n",
       "    <tr>\n",
       "      <th>RAV4</th>\n",
       "      <td>26647722.94</td>\n",
       "      <td>30985.724349</td>\n",
       "      <td>860</td>\n",
       "      <td>860</td>\n",
       "    </tr>\n",
       "    <tr>\n",
       "      <th>Tacoma</th>\n",
       "      <td>28908731.32</td>\n",
       "      <td>34998.464068</td>\n",
       "      <td>826</td>\n",
       "      <td>826</td>\n",
       "    </tr>\n",
       "    <tr>\n",
       "      <th>Tundra</th>\n",
       "      <td>34705000.21</td>\n",
       "      <td>42478.580428</td>\n",
       "      <td>817</td>\n",
       "      <td>817</td>\n",
       "    </tr>\n",
       "  </tbody>\n",
       "</table>\n",
       "</div>"
      ]
     },
     "execution_count": 12,
     "metadata": {},
     "output_type": "execute_result"
    }
   ],
   "execution_count": 12
  }
 ],
 "metadata": {
  "kernelspec": {
   "display_name": "Python 3",
   "language": "python",
   "name": "python3"
  },
  "language_info": {
   "codemirror_mode": {
    "name": "ipython",
    "version": 2
   },
   "file_extension": ".py",
   "mimetype": "text/x-python",
   "name": "python",
   "nbconvert_exporter": "python",
   "pygments_lexer": "ipython2",
   "version": "2.7.6"
  }
 },
 "nbformat": 4,
 "nbformat_minor": 5
}
