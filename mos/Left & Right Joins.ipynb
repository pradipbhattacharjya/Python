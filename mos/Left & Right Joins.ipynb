{
 "cells": [
  {
   "cell_type": "code",
   "id": "initial_id",
   "metadata": {
    "collapsed": true,
    "ExecuteTime": {
     "end_time": "2025-09-12T14:23:20.219889Z",
     "start_time": "2025-09-12T14:23:19.572380Z"
    }
   },
   "source": "import pandas as pd",
   "outputs": [],
   "execution_count": 1
  },
  {
   "metadata": {
    "ExecuteTime": {
     "end_time": "2025-09-12T14:32:38.536806Z",
     "start_time": "2025-09-12T14:32:38.506161Z"
    }
   },
   "cell_type": "code",
   "source": [
    "sales_reps = pd.DataFrame({\n",
    "    \"rep_id\": [1, 2, 3],\n",
    "    \"name\":[\"Alice\",\"Bob\",\"Charlie\"],\n",
    "    \"region\": [\"North\",\"South\",\"West\"]\n",
    "})"
   ],
   "id": "16c66675332f6107",
   "outputs": [],
   "execution_count": 2
  },
  {
   "metadata": {
    "ExecuteTime": {
     "end_time": "2025-09-12T14:32:54.353154Z",
     "start_time": "2025-09-12T14:32:54.345400Z"
    }
   },
   "cell_type": "code",
   "source": [
    "# Sales Data Table(Child)\n",
    "sales = pd.DataFrame({\n",
    "    \"sale_id\": [101, 102, 103, 104],\n",
    "    \"sale_rep_id\":[1, 2, None, 4],#Incudes a missing and an unmatched ID\n",
    "    \"sale_amount\": [500,1000, 750, 1200]\n",
    "})"
   ],
   "id": "64b951e01e1c8643",
   "outputs": [],
   "execution_count": 3
  },
  {
   "metadata": {
    "ExecuteTime": {
     "end_time": "2025-09-12T14:34:39.734651Z",
     "start_time": "2025-09-12T14:34:39.704280Z"
    }
   },
   "cell_type": "code",
   "source": "sales_reps",
   "id": "9e8d8366447b505d",
   "outputs": [
    {
     "data": {
      "text/plain": [
       "   rep_id     name region\n",
       "0       1    Alice  North\n",
       "1       2      Bob  South\n",
       "2       3  Charlie   West"
      ],
      "text/html": [
       "<div>\n",
       "<style scoped>\n",
       "    .dataframe tbody tr th:only-of-type {\n",
       "        vertical-align: middle;\n",
       "    }\n",
       "\n",
       "    .dataframe tbody tr th {\n",
       "        vertical-align: top;\n",
       "    }\n",
       "\n",
       "    .dataframe thead th {\n",
       "        text-align: right;\n",
       "    }\n",
       "</style>\n",
       "<table border=\"1\" class=\"dataframe\">\n",
       "  <thead>\n",
       "    <tr style=\"text-align: right;\">\n",
       "      <th></th>\n",
       "      <th>rep_id</th>\n",
       "      <th>name</th>\n",
       "      <th>region</th>\n",
       "    </tr>\n",
       "  </thead>\n",
       "  <tbody>\n",
       "    <tr>\n",
       "      <th>0</th>\n",
       "      <td>1</td>\n",
       "      <td>Alice</td>\n",
       "      <td>North</td>\n",
       "    </tr>\n",
       "    <tr>\n",
       "      <th>1</th>\n",
       "      <td>2</td>\n",
       "      <td>Bob</td>\n",
       "      <td>South</td>\n",
       "    </tr>\n",
       "    <tr>\n",
       "      <th>2</th>\n",
       "      <td>3</td>\n",
       "      <td>Charlie</td>\n",
       "      <td>West</td>\n",
       "    </tr>\n",
       "  </tbody>\n",
       "</table>\n",
       "</div>"
      ]
     },
     "execution_count": 4,
     "metadata": {},
     "output_type": "execute_result"
    }
   ],
   "execution_count": 4
  },
  {
   "metadata": {
    "ExecuteTime": {
     "end_time": "2025-09-12T14:34:52.913988Z",
     "start_time": "2025-09-12T14:34:52.904228Z"
    }
   },
   "cell_type": "code",
   "source": "sales",
   "id": "3672b30320a73513",
   "outputs": [
    {
     "data": {
      "text/plain": [
       "   sale_id  sale_rep_id  sale_amount\n",
       "0      101          1.0          500\n",
       "1      102          2.0         1000\n",
       "2      103          NaN          750\n",
       "3      104          4.0         1200"
      ],
      "text/html": [
       "<div>\n",
       "<style scoped>\n",
       "    .dataframe tbody tr th:only-of-type {\n",
       "        vertical-align: middle;\n",
       "    }\n",
       "\n",
       "    .dataframe tbody tr th {\n",
       "        vertical-align: top;\n",
       "    }\n",
       "\n",
       "    .dataframe thead th {\n",
       "        text-align: right;\n",
       "    }\n",
       "</style>\n",
       "<table border=\"1\" class=\"dataframe\">\n",
       "  <thead>\n",
       "    <tr style=\"text-align: right;\">\n",
       "      <th></th>\n",
       "      <th>sale_id</th>\n",
       "      <th>sale_rep_id</th>\n",
       "      <th>sale_amount</th>\n",
       "    </tr>\n",
       "  </thead>\n",
       "  <tbody>\n",
       "    <tr>\n",
       "      <th>0</th>\n",
       "      <td>101</td>\n",
       "      <td>1.0</td>\n",
       "      <td>500</td>\n",
       "    </tr>\n",
       "    <tr>\n",
       "      <th>1</th>\n",
       "      <td>102</td>\n",
       "      <td>2.0</td>\n",
       "      <td>1000</td>\n",
       "    </tr>\n",
       "    <tr>\n",
       "      <th>2</th>\n",
       "      <td>103</td>\n",
       "      <td>NaN</td>\n",
       "      <td>750</td>\n",
       "    </tr>\n",
       "    <tr>\n",
       "      <th>3</th>\n",
       "      <td>104</td>\n",
       "      <td>4.0</td>\n",
       "      <td>1200</td>\n",
       "    </tr>\n",
       "  </tbody>\n",
       "</table>\n",
       "</div>"
      ]
     },
     "execution_count": 5,
     "metadata": {},
     "output_type": "execute_result"
    }
   ],
   "execution_count": 5
  },
  {
   "metadata": {},
   "cell_type": "markdown",
   "source": "Left Join",
   "id": "6031150017104ca3"
  },
  {
   "metadata": {
    "ExecuteTime": {
     "end_time": "2025-09-12T14:38:13.682429Z",
     "start_time": "2025-09-12T14:38:13.653744Z"
    }
   },
   "cell_type": "code",
   "source": [
    "left_join = pd.merge(\n",
    "    sales_reps,\n",
    "    sales,\n",
    "    left_on=\"rep_id\",\n",
    "    right_on =\"sale_rep_id\",\n",
    "    how=\"left\"\n",
    ")"
   ],
   "id": "42cc25284faf25ed",
   "outputs": [],
   "execution_count": 6
  },
  {
   "metadata": {
    "ExecuteTime": {
     "end_time": "2025-09-12T14:38:22.797022Z",
     "start_time": "2025-09-12T14:38:22.783455Z"
    }
   },
   "cell_type": "code",
   "source": "left_join",
   "id": "57c6c794e59a8f33",
   "outputs": [
    {
     "data": {
      "text/plain": [
       "   rep_id     name region  sale_id  sale_rep_id  sale_amount\n",
       "0       1    Alice  North    101.0          1.0        500.0\n",
       "1       2      Bob  South    102.0          2.0       1000.0\n",
       "2       3  Charlie   West      NaN          NaN          NaN"
      ],
      "text/html": [
       "<div>\n",
       "<style scoped>\n",
       "    .dataframe tbody tr th:only-of-type {\n",
       "        vertical-align: middle;\n",
       "    }\n",
       "\n",
       "    .dataframe tbody tr th {\n",
       "        vertical-align: top;\n",
       "    }\n",
       "\n",
       "    .dataframe thead th {\n",
       "        text-align: right;\n",
       "    }\n",
       "</style>\n",
       "<table border=\"1\" class=\"dataframe\">\n",
       "  <thead>\n",
       "    <tr style=\"text-align: right;\">\n",
       "      <th></th>\n",
       "      <th>rep_id</th>\n",
       "      <th>name</th>\n",
       "      <th>region</th>\n",
       "      <th>sale_id</th>\n",
       "      <th>sale_rep_id</th>\n",
       "      <th>sale_amount</th>\n",
       "    </tr>\n",
       "  </thead>\n",
       "  <tbody>\n",
       "    <tr>\n",
       "      <th>0</th>\n",
       "      <td>1</td>\n",
       "      <td>Alice</td>\n",
       "      <td>North</td>\n",
       "      <td>101.0</td>\n",
       "      <td>1.0</td>\n",
       "      <td>500.0</td>\n",
       "    </tr>\n",
       "    <tr>\n",
       "      <th>1</th>\n",
       "      <td>2</td>\n",
       "      <td>Bob</td>\n",
       "      <td>South</td>\n",
       "      <td>102.0</td>\n",
       "      <td>2.0</td>\n",
       "      <td>1000.0</td>\n",
       "    </tr>\n",
       "    <tr>\n",
       "      <th>2</th>\n",
       "      <td>3</td>\n",
       "      <td>Charlie</td>\n",
       "      <td>West</td>\n",
       "      <td>NaN</td>\n",
       "      <td>NaN</td>\n",
       "      <td>NaN</td>\n",
       "    </tr>\n",
       "  </tbody>\n",
       "</table>\n",
       "</div>"
      ]
     },
     "execution_count": 7,
     "metadata": {},
     "output_type": "execute_result"
    }
   ],
   "execution_count": 7
  }
 ],
 "metadata": {
  "kernelspec": {
   "display_name": "Python 3",
   "language": "python",
   "name": "python3"
  },
  "language_info": {
   "codemirror_mode": {
    "name": "ipython",
    "version": 2
   },
   "file_extension": ".py",
   "mimetype": "text/x-python",
   "name": "python",
   "nbconvert_exporter": "python",
   "pygments_lexer": "ipython2",
   "version": "2.7.6"
  }
 },
 "nbformat": 4,
 "nbformat_minor": 5
}
