{
 "cells": [
  {
   "cell_type": "code",
   "execution_count": 2,
   "id": "initial_id",
   "metadata": {
    "ExecuteTime": {
     "end_time": "2025-09-06T03:51:33.863044Z",
     "start_time": "2025-09-06T03:51:33.858018Z"
    },
    "collapsed": true,
    "jupyter": {
     "outputs_hidden": true
    }
   },
   "outputs": [
    {
     "name": "stdout",
     "output_type": "stream",
     "text": [
      "Hello World\n"
     ]
    }
   ],
   "source": [
    "from matplotlib.pyplot import margins\n",
    "\n",
    "print(\"Hello World\")"
   ]
  },
  {
   "cell_type": "code",
   "execution_count": 7,
   "id": "f0cad4dfbe6a79ac",
   "metadata": {
    "ExecuteTime": {
     "end_time": "2025-09-06T10:10:35.704589Z",
     "start_time": "2025-09-06T10:10:35.690960Z"
    }
   },
   "outputs": [],
   "source": [
    "import pandas as pd"
   ]
  },
  {
   "cell_type": "markdown",
   "id": "d8ddc1d7b72b05c6",
   "metadata": {},
   "source": [
    "key Data Structures in Pands\n",
    "#Series\n",
    "#DataFrame\n",
    "\n"
   ]
  },
  {
   "cell_type": "code",
   "execution_count": 4,
   "id": "ff421365178ce038",
   "metadata": {
    "ExecuteTime": {
     "end_time": "2025-09-06T09:57:44.741371Z",
     "start_time": "2025-09-06T09:57:44.735913Z"
    }
   },
   "outputs": [],
   "source": [
    "s = pd.Series([1,2,3,4,5], index=['a','b','c','d','e'] )"
   ]
  },
  {
   "cell_type": "code",
   "execution_count": 5,
   "id": "2dd71df2948c226",
   "metadata": {
    "ExecuteTime": {
     "end_time": "2025-09-06T09:58:00.635811Z",
     "start_time": "2025-09-06T09:58:00.615783Z"
    }
   },
   "outputs": [
    {
     "data": {
      "text/plain": [
       "a    1\n",
       "b    2\n",
       "c    3\n",
       "d    4\n",
       "e    5\n",
       "dtype: int64"
      ]
     },
     "execution_count": 5,
     "metadata": {},
     "output_type": "execute_result"
    }
   ],
   "source": [
    "s"
   ]
  },
  {
   "cell_type": "code",
   "execution_count": 9,
   "id": "5d9522b7ee8b63ab",
   "metadata": {
    "ExecuteTime": {
     "end_time": "2025-09-06T10:11:05.838767Z",
     "start_time": "2025-09-06T10:11:05.802666Z"
    }
   },
   "outputs": [],
   "source": [
    "df = pd.DataFrame({\"name\": [\"Harry\",\"Rohan\", \"Shubham\"], \"mark\" :[100,53,45]})"
   ]
  },
  {
   "metadata": {},
   "cell_type": "code",
   "outputs": [],
   "execution_count": null,
   "source": "",
   "id": "a8a7c7d0f347749"
  }
 ],
 "metadata": {
  "kernelspec": {
   "display_name": "Python 3 (ipykernel)",
   "language": "python",
   "name": "python3"
  },
  "language_info": {
   "codemirror_mode": {
    "name": "ipython",
    "version": 3
   },
   "file_extension": ".py",
   "mimetype": "text/x-python",
   "name": "python",
   "nbconvert_exporter": "python",
   "pygments_lexer": "ipython3",
   "version": "3.13.1"
  }
 },
 "nbformat": 4,
 "nbformat_minor": 5
}
