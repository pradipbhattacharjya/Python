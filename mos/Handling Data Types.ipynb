{
 "cells": [
  {
   "cell_type": "code",
   "id": "initial_id",
   "metadata": {
    "collapsed": true,
    "ExecuteTime": {
     "end_time": "2025-09-12T01:08:49.232189Z",
     "start_time": "2025-09-12T01:08:48.341231Z"
    }
   },
   "source": "import pandas as pd",
   "outputs": [],
   "execution_count": 1
  },
  {
   "metadata": {
    "ExecuteTime": {
     "end_time": "2025-09-12T01:29:12.847162Z",
     "start_time": "2025-09-12T01:29:12.841657Z"
    }
   },
   "cell_type": "code",
   "source": [
    "#Sample structure based on toyota_sales_data.csv\n",
    "data = [\n",
    "    {\"sale_id\": 1, \"sale_rep_id\": 101, \"sale_date\": \"2024-01-01\",\"car_model\": \"Camry\", \"sale_amount\":20000, \"commission_pct\": 5, \"sale_status\":\"Completed\"},\n",
    "    {\"sale_id\": 2, \"sale_rep_id\": 102, \"sale_date\": \"2024-01-02\",\"car_model\": \"Corolla\", \"sale_amount\":18000, \"commission_pct\": 4, \"sale_status\":\"Completed\"},\n",
    "    {\"sale_id\": 3, \"sale_rep_id\": 103, \"sale_date\": \"2024-01-03\",\"car_model\": \"RAV4\", \"sale_amount\":30000, \"commission_pct\": 6, \"sale_status\":\"Completed\"},\n",
    "    {\"sale_id\": 4, \"sale_rep_id\": 104, \"sale_date\": \"2024-01-04\",\"car_model\": \"Highlander\", \"sale_amount\":35000, \"commission_pct\": 7, \"sale_status\":\"Pending\"}\n",
    "\n",
    "]\n",
    "\n",
    "df = pd.DataFrame(data)"
   ],
   "id": "680467a29acd279b",
   "outputs": [],
   "execution_count": 7
  },
  {
   "metadata": {
    "ExecuteTime": {
     "end_time": "2025-09-12T01:29:15.762782Z",
     "start_time": "2025-09-12T01:29:15.755003Z"
    }
   },
   "cell_type": "code",
   "source": "df",
   "id": "1b81561aeedc33bf",
   "outputs": [
    {
     "data": {
      "text/plain": [
       "   sale_id  sale_rep_id   sale_date   car_model  sale_amount  commission_pct  \\\n",
       "0        1          101  2024-01-01       Camry        20000               5   \n",
       "1        2          102  2024-01-02     Corolla        18000               4   \n",
       "2        3          103  2024-01-03        RAV4        30000               6   \n",
       "3        4          104  2024-01-04  Highlander        35000               7   \n",
       "\n",
       "  sale_status  \n",
       "0   Completed  \n",
       "1   Completed  \n",
       "2   Completed  \n",
       "3     Pending  "
      ],
      "text/html": [
       "<div>\n",
       "<style scoped>\n",
       "    .dataframe tbody tr th:only-of-type {\n",
       "        vertical-align: middle;\n",
       "    }\n",
       "\n",
       "    .dataframe tbody tr th {\n",
       "        vertical-align: top;\n",
       "    }\n",
       "\n",
       "    .dataframe thead th {\n",
       "        text-align: right;\n",
       "    }\n",
       "</style>\n",
       "<table border=\"1\" class=\"dataframe\">\n",
       "  <thead>\n",
       "    <tr style=\"text-align: right;\">\n",
       "      <th></th>\n",
       "      <th>sale_id</th>\n",
       "      <th>sale_rep_id</th>\n",
       "      <th>sale_date</th>\n",
       "      <th>car_model</th>\n",
       "      <th>sale_amount</th>\n",
       "      <th>commission_pct</th>\n",
       "      <th>sale_status</th>\n",
       "    </tr>\n",
       "  </thead>\n",
       "  <tbody>\n",
       "    <tr>\n",
       "      <th>0</th>\n",
       "      <td>1</td>\n",
       "      <td>101</td>\n",
       "      <td>2024-01-01</td>\n",
       "      <td>Camry</td>\n",
       "      <td>20000</td>\n",
       "      <td>5</td>\n",
       "      <td>Completed</td>\n",
       "    </tr>\n",
       "    <tr>\n",
       "      <th>1</th>\n",
       "      <td>2</td>\n",
       "      <td>102</td>\n",
       "      <td>2024-01-02</td>\n",
       "      <td>Corolla</td>\n",
       "      <td>18000</td>\n",
       "      <td>4</td>\n",
       "      <td>Completed</td>\n",
       "    </tr>\n",
       "    <tr>\n",
       "      <th>2</th>\n",
       "      <td>3</td>\n",
       "      <td>103</td>\n",
       "      <td>2024-01-03</td>\n",
       "      <td>RAV4</td>\n",
       "      <td>30000</td>\n",
       "      <td>6</td>\n",
       "      <td>Completed</td>\n",
       "    </tr>\n",
       "    <tr>\n",
       "      <th>3</th>\n",
       "      <td>4</td>\n",
       "      <td>104</td>\n",
       "      <td>2024-01-04</td>\n",
       "      <td>Highlander</td>\n",
       "      <td>35000</td>\n",
       "      <td>7</td>\n",
       "      <td>Pending</td>\n",
       "    </tr>\n",
       "  </tbody>\n",
       "</table>\n",
       "</div>"
      ]
     },
     "execution_count": 8,
     "metadata": {},
     "output_type": "execute_result"
    }
   ],
   "execution_count": 8
  },
  {
   "metadata": {
    "ExecuteTime": {
     "end_time": "2025-09-12T01:29:21.864110Z",
     "start_time": "2025-09-12T01:29:21.856082Z"
    }
   },
   "cell_type": "code",
   "source": "df.dtypes",
   "id": "16632e9f0b8ef239",
   "outputs": [
    {
     "data": {
      "text/plain": [
       "sale_id            int64\n",
       "sale_rep_id        int64\n",
       "sale_date         object\n",
       "car_model         object\n",
       "sale_amount        int64\n",
       "commission_pct     int64\n",
       "sale_status       object\n",
       "dtype: object"
      ]
     },
     "execution_count": 9,
     "metadata": {},
     "output_type": "execute_result"
    }
   ],
   "execution_count": 9
  },
  {
   "metadata": {
    "ExecuteTime": {
     "end_time": "2025-09-12T01:29:26.974812Z",
     "start_time": "2025-09-12T01:29:26.957389Z"
    }
   },
   "cell_type": "code",
   "source": "df[\"sale_date\"] = pd.to_datetime(df['sale_date'])",
   "id": "3d7dd545b60a108d",
   "outputs": [],
   "execution_count": 10
  },
  {
   "metadata": {
    "ExecuteTime": {
     "end_time": "2025-09-12T01:29:44.333972Z",
     "start_time": "2025-09-12T01:29:44.326506Z"
    }
   },
   "cell_type": "code",
   "source": "df.dtypes",
   "id": "831835124a03b26b",
   "outputs": [
    {
     "data": {
      "text/plain": [
       "sale_id                    int64\n",
       "sale_rep_id                int64\n",
       "sale_date         datetime64[ns]\n",
       "car_model                 object\n",
       "sale_amount                int64\n",
       "commission_pct             int64\n",
       "sale_status               object\n",
       "dtype: object"
      ]
     },
     "execution_count": 11,
     "metadata": {},
     "output_type": "execute_result"
    }
   ],
   "execution_count": 11
  },
  {
   "metadata": {
    "ExecuteTime": {
     "end_time": "2025-09-12T01:32:43.900346Z",
     "start_time": "2025-09-12T01:32:43.893444Z"
    }
   },
   "cell_type": "code",
   "source": "df['sale_amount'] = pd.to_numeric(df['sale_amount'])",
   "id": "b1365b881078b6db",
   "outputs": [],
   "execution_count": 12
  },
  {
   "metadata": {
    "ExecuteTime": {
     "end_time": "2025-09-12T01:32:53.418254Z",
     "start_time": "2025-09-12T01:32:53.409565Z"
    }
   },
   "cell_type": "code",
   "source": "df.dtypes",
   "id": "f1cd428251be0b92",
   "outputs": [
    {
     "data": {
      "text/plain": [
       "sale_id                    int64\n",
       "sale_rep_id                int64\n",
       "sale_date         datetime64[ns]\n",
       "car_model                 object\n",
       "sale_amount                int64\n",
       "commission_pct             int64\n",
       "sale_status               object\n",
       "dtype: object"
      ]
     },
     "execution_count": 13,
     "metadata": {},
     "output_type": "execute_result"
    }
   ],
   "execution_count": 13
  },
  {
   "metadata": {
    "ExecuteTime": {
     "end_time": "2025-09-12T01:34:25.012485Z",
     "start_time": "2025-09-12T01:34:25.001037Z"
    }
   },
   "cell_type": "code",
   "source": "df",
   "id": "3c6388c9b73aed41",
   "outputs": [
    {
     "data": {
      "text/plain": [
       "   sale_id  sale_rep_id  sale_date   car_model  sale_amount  commission_pct  \\\n",
       "0        1          101 2024-01-01       Camry        20000               5   \n",
       "1        2          102 2024-01-02     Corolla        18000               4   \n",
       "2        3          103 2024-01-03        RAV4        30000               6   \n",
       "3        4          104 2024-01-04  Highlander        35000               7   \n",
       "\n",
       "  sale_status  \n",
       "0   Completed  \n",
       "1   Completed  \n",
       "2   Completed  \n",
       "3     Pending  "
      ],
      "text/html": [
       "<div>\n",
       "<style scoped>\n",
       "    .dataframe tbody tr th:only-of-type {\n",
       "        vertical-align: middle;\n",
       "    }\n",
       "\n",
       "    .dataframe tbody tr th {\n",
       "        vertical-align: top;\n",
       "    }\n",
       "\n",
       "    .dataframe thead th {\n",
       "        text-align: right;\n",
       "    }\n",
       "</style>\n",
       "<table border=\"1\" class=\"dataframe\">\n",
       "  <thead>\n",
       "    <tr style=\"text-align: right;\">\n",
       "      <th></th>\n",
       "      <th>sale_id</th>\n",
       "      <th>sale_rep_id</th>\n",
       "      <th>sale_date</th>\n",
       "      <th>car_model</th>\n",
       "      <th>sale_amount</th>\n",
       "      <th>commission_pct</th>\n",
       "      <th>sale_status</th>\n",
       "    </tr>\n",
       "  </thead>\n",
       "  <tbody>\n",
       "    <tr>\n",
       "      <th>0</th>\n",
       "      <td>1</td>\n",
       "      <td>101</td>\n",
       "      <td>2024-01-01</td>\n",
       "      <td>Camry</td>\n",
       "      <td>20000</td>\n",
       "      <td>5</td>\n",
       "      <td>Completed</td>\n",
       "    </tr>\n",
       "    <tr>\n",
       "      <th>1</th>\n",
       "      <td>2</td>\n",
       "      <td>102</td>\n",
       "      <td>2024-01-02</td>\n",
       "      <td>Corolla</td>\n",
       "      <td>18000</td>\n",
       "      <td>4</td>\n",
       "      <td>Completed</td>\n",
       "    </tr>\n",
       "    <tr>\n",
       "      <th>2</th>\n",
       "      <td>3</td>\n",
       "      <td>103</td>\n",
       "      <td>2024-01-03</td>\n",
       "      <td>RAV4</td>\n",
       "      <td>30000</td>\n",
       "      <td>6</td>\n",
       "      <td>Completed</td>\n",
       "    </tr>\n",
       "    <tr>\n",
       "      <th>3</th>\n",
       "      <td>4</td>\n",
       "      <td>104</td>\n",
       "      <td>2024-01-04</td>\n",
       "      <td>Highlander</td>\n",
       "      <td>35000</td>\n",
       "      <td>7</td>\n",
       "      <td>Pending</td>\n",
       "    </tr>\n",
       "  </tbody>\n",
       "</table>\n",
       "</div>"
      ]
     },
     "execution_count": 14,
     "metadata": {},
     "output_type": "execute_result"
    }
   ],
   "execution_count": 14
  },
  {
   "metadata": {
    "ExecuteTime": {
     "end_time": "2025-09-12T01:37:45.840778Z",
     "start_time": "2025-09-12T01:37:45.804304Z"
    }
   },
   "cell_type": "code",
   "source": "toyota_data = pd.read_csv('toyota_sales_data.csv')",
   "id": "48e4844bf65643a5",
   "outputs": [],
   "execution_count": 15
  },
  {
   "metadata": {
    "ExecuteTime": {
     "end_time": "2025-09-12T01:38:02.382202Z",
     "start_time": "2025-09-12T01:38:02.356650Z"
    }
   },
   "cell_type": "code",
   "source": "toyota_data",
   "id": "3618106657f93ef2",
   "outputs": [
    {
     "data": {
      "text/plain": [
       "      sale_id  sale_rep_id   sale_date car_model  sale_amount  commission_pct  \\\n",
       "0           1           16  2024-11-18    Tundra     44496.88            0.05   \n",
       "1           2           11  2024-11-08    Tacoma     34824.72             NaN   \n",
       "2           3            5  2024-11-03   Corolla     20275.08             NaN   \n",
       "3           4           20  2024-11-06   Corolla     20068.93             NaN   \n",
       "4           5            1  2024-11-26    Tundra     49811.99            0.03   \n",
       "...       ...          ...         ...       ...          ...             ...   \n",
       "4995     4996            1  2024-11-06   Corolla     21484.83            0.05   \n",
       "4996     4997            8  2024-11-11     Camry     26519.24            0.05   \n",
       "4997     4998           18  2024-11-06    Tacoma     30780.39            0.02   \n",
       "4998     4999           10  2024-11-21   Corolla     22654.59             NaN   \n",
       "4999     5000           13  2024-11-21    Tundra     44525.85             NaN   \n",
       "\n",
       "     sale_status  \n",
       "0      Completed  \n",
       "1        Pending  \n",
       "2      Completed  \n",
       "3      Completed  \n",
       "4      Completed  \n",
       "...          ...  \n",
       "4995   Completed  \n",
       "4996     Pending  \n",
       "4997   Completed  \n",
       "4998   Completed  \n",
       "4999   Cancelled  \n",
       "\n",
       "[5000 rows x 7 columns]"
      ],
      "text/html": [
       "<div>\n",
       "<style scoped>\n",
       "    .dataframe tbody tr th:only-of-type {\n",
       "        vertical-align: middle;\n",
       "    }\n",
       "\n",
       "    .dataframe tbody tr th {\n",
       "        vertical-align: top;\n",
       "    }\n",
       "\n",
       "    .dataframe thead th {\n",
       "        text-align: right;\n",
       "    }\n",
       "</style>\n",
       "<table border=\"1\" class=\"dataframe\">\n",
       "  <thead>\n",
       "    <tr style=\"text-align: right;\">\n",
       "      <th></th>\n",
       "      <th>sale_id</th>\n",
       "      <th>sale_rep_id</th>\n",
       "      <th>sale_date</th>\n",
       "      <th>car_model</th>\n",
       "      <th>sale_amount</th>\n",
       "      <th>commission_pct</th>\n",
       "      <th>sale_status</th>\n",
       "    </tr>\n",
       "  </thead>\n",
       "  <tbody>\n",
       "    <tr>\n",
       "      <th>0</th>\n",
       "      <td>1</td>\n",
       "      <td>16</td>\n",
       "      <td>2024-11-18</td>\n",
       "      <td>Tundra</td>\n",
       "      <td>44496.88</td>\n",
       "      <td>0.05</td>\n",
       "      <td>Completed</td>\n",
       "    </tr>\n",
       "    <tr>\n",
       "      <th>1</th>\n",
       "      <td>2</td>\n",
       "      <td>11</td>\n",
       "      <td>2024-11-08</td>\n",
       "      <td>Tacoma</td>\n",
       "      <td>34824.72</td>\n",
       "      <td>NaN</td>\n",
       "      <td>Pending</td>\n",
       "    </tr>\n",
       "    <tr>\n",
       "      <th>2</th>\n",
       "      <td>3</td>\n",
       "      <td>5</td>\n",
       "      <td>2024-11-03</td>\n",
       "      <td>Corolla</td>\n",
       "      <td>20275.08</td>\n",
       "      <td>NaN</td>\n",
       "      <td>Completed</td>\n",
       "    </tr>\n",
       "    <tr>\n",
       "      <th>3</th>\n",
       "      <td>4</td>\n",
       "      <td>20</td>\n",
       "      <td>2024-11-06</td>\n",
       "      <td>Corolla</td>\n",
       "      <td>20068.93</td>\n",
       "      <td>NaN</td>\n",
       "      <td>Completed</td>\n",
       "    </tr>\n",
       "    <tr>\n",
       "      <th>4</th>\n",
       "      <td>5</td>\n",
       "      <td>1</td>\n",
       "      <td>2024-11-26</td>\n",
       "      <td>Tundra</td>\n",
       "      <td>49811.99</td>\n",
       "      <td>0.03</td>\n",
       "      <td>Completed</td>\n",
       "    </tr>\n",
       "    <tr>\n",
       "      <th>...</th>\n",
       "      <td>...</td>\n",
       "      <td>...</td>\n",
       "      <td>...</td>\n",
       "      <td>...</td>\n",
       "      <td>...</td>\n",
       "      <td>...</td>\n",
       "      <td>...</td>\n",
       "    </tr>\n",
       "    <tr>\n",
       "      <th>4995</th>\n",
       "      <td>4996</td>\n",
       "      <td>1</td>\n",
       "      <td>2024-11-06</td>\n",
       "      <td>Corolla</td>\n",
       "      <td>21484.83</td>\n",
       "      <td>0.05</td>\n",
       "      <td>Completed</td>\n",
       "    </tr>\n",
       "    <tr>\n",
       "      <th>4996</th>\n",
       "      <td>4997</td>\n",
       "      <td>8</td>\n",
       "      <td>2024-11-11</td>\n",
       "      <td>Camry</td>\n",
       "      <td>26519.24</td>\n",
       "      <td>0.05</td>\n",
       "      <td>Pending</td>\n",
       "    </tr>\n",
       "    <tr>\n",
       "      <th>4997</th>\n",
       "      <td>4998</td>\n",
       "      <td>18</td>\n",
       "      <td>2024-11-06</td>\n",
       "      <td>Tacoma</td>\n",
       "      <td>30780.39</td>\n",
       "      <td>0.02</td>\n",
       "      <td>Completed</td>\n",
       "    </tr>\n",
       "    <tr>\n",
       "      <th>4998</th>\n",
       "      <td>4999</td>\n",
       "      <td>10</td>\n",
       "      <td>2024-11-21</td>\n",
       "      <td>Corolla</td>\n",
       "      <td>22654.59</td>\n",
       "      <td>NaN</td>\n",
       "      <td>Completed</td>\n",
       "    </tr>\n",
       "    <tr>\n",
       "      <th>4999</th>\n",
       "      <td>5000</td>\n",
       "      <td>13</td>\n",
       "      <td>2024-11-21</td>\n",
       "      <td>Tundra</td>\n",
       "      <td>44525.85</td>\n",
       "      <td>NaN</td>\n",
       "      <td>Cancelled</td>\n",
       "    </tr>\n",
       "  </tbody>\n",
       "</table>\n",
       "<p>5000 rows × 7 columns</p>\n",
       "</div>"
      ]
     },
     "execution_count": 16,
     "metadata": {},
     "output_type": "execute_result"
    }
   ],
   "execution_count": 16
  },
  {
   "metadata": {
    "ExecuteTime": {
     "end_time": "2025-09-12T01:38:41.584880Z",
     "start_time": "2025-09-12T01:38:41.575266Z"
    }
   },
   "cell_type": "code",
   "source": "toyota_data.dtypes",
   "id": "d2e960754d008b13",
   "outputs": [
    {
     "data": {
      "text/plain": [
       "sale_id             int64\n",
       "sale_rep_id         int64\n",
       "sale_date          object\n",
       "car_model          object\n",
       "sale_amount       float64\n",
       "commission_pct    float64\n",
       "sale_status        object\n",
       "dtype: object"
      ]
     },
     "execution_count": 17,
     "metadata": {},
     "output_type": "execute_result"
    }
   ],
   "execution_count": 17
  },
  {
   "metadata": {
    "ExecuteTime": {
     "end_time": "2025-09-12T01:39:42.953459Z",
     "start_time": "2025-09-12T01:39:42.933195Z"
    }
   },
   "cell_type": "code",
   "source": "toyota_data[\"sale_date\"] = pd.to_datetime(toyota_data[\"sale_date\"])",
   "id": "883379f2e764a22a",
   "outputs": [],
   "execution_count": 18
  },
  {
   "metadata": {
    "ExecuteTime": {
     "end_time": "2025-09-12T01:39:55.132766Z",
     "start_time": "2025-09-12T01:39:55.123268Z"
    }
   },
   "cell_type": "code",
   "source": "toyota_data.dtypes",
   "id": "7b949d2a1c2ae9c4",
   "outputs": [
    {
     "data": {
      "text/plain": [
       "sale_id                    int64\n",
       "sale_rep_id                int64\n",
       "sale_date         datetime64[ns]\n",
       "car_model                 object\n",
       "sale_amount              float64\n",
       "commission_pct           float64\n",
       "sale_status               object\n",
       "dtype: object"
      ]
     },
     "execution_count": 19,
     "metadata": {},
     "output_type": "execute_result"
    }
   ],
   "execution_count": 19
  },
  {
   "metadata": {
    "ExecuteTime": {
     "end_time": "2025-09-12T01:44:26.091056Z",
     "start_time": "2025-09-12T01:44:26.081527Z"
    }
   },
   "cell_type": "code",
   "source": "toyota_data[\"car_model\"] = df[\"car_model\"].astype(\"category\")",
   "id": "bb7db6cd20a0f4fb",
   "outputs": [],
   "execution_count": 20
  },
  {
   "metadata": {
    "ExecuteTime": {
     "end_time": "2025-09-12T01:45:01.853954Z",
     "start_time": "2025-09-12T01:45:01.840844Z"
    }
   },
   "cell_type": "code",
   "source": "toyota_data.dtypes",
   "id": "9f06573d5bae7492",
   "outputs": [
    {
     "data": {
      "text/plain": [
       "sale_id                    int64\n",
       "sale_rep_id                int64\n",
       "sale_date         datetime64[ns]\n",
       "car_model               category\n",
       "sale_amount              float64\n",
       "commission_pct           float64\n",
       "sale_status               object\n",
       "dtype: object"
      ]
     },
     "execution_count": 21,
     "metadata": {},
     "output_type": "execute_result"
    }
   ],
   "execution_count": 21
  },
  {
   "metadata": {
    "ExecuteTime": {
     "end_time": "2025-09-12T01:47:29.915303Z",
     "start_time": "2025-09-12T01:47:29.902930Z"
    }
   },
   "cell_type": "code",
   "source": "toyota_data[\"sale_status\"]= toyota_data[\"sale_status\"].astype(\"category\")",
   "id": "30b1050ca26c7b2b",
   "outputs": [],
   "execution_count": 22
  },
  {
   "metadata": {
    "ExecuteTime": {
     "end_time": "2025-09-12T01:47:45.352230Z",
     "start_time": "2025-09-12T01:47:45.339322Z"
    }
   },
   "cell_type": "code",
   "source": "toyota_data.dtypes",
   "id": "a09342f95269b0e7",
   "outputs": [
    {
     "data": {
      "text/plain": [
       "sale_id                    int64\n",
       "sale_rep_id                int64\n",
       "sale_date         datetime64[ns]\n",
       "car_model               category\n",
       "sale_amount              float64\n",
       "commission_pct           float64\n",
       "sale_status             category\n",
       "dtype: object"
      ]
     },
     "execution_count": 23,
     "metadata": {},
     "output_type": "execute_result"
    }
   ],
   "execution_count": 23
  },
  {
   "metadata": {
    "ExecuteTime": {
     "end_time": "2025-09-12T01:49:28.791268Z",
     "start_time": "2025-09-12T01:49:28.759030Z"
    }
   },
   "cell_type": "code",
   "source": "toyota_data.nunique()",
   "id": "c37d2f2721971c75",
   "outputs": [
    {
     "data": {
      "text/plain": [
       "sale_id           5000\n",
       "sale_rep_id         20\n",
       "sale_date           30\n",
       "car_model            4\n",
       "sale_amount       4996\n",
       "commission_pct       3\n",
       "sale_status          3\n",
       "dtype: int64"
      ]
     },
     "execution_count": 24,
     "metadata": {},
     "output_type": "execute_result"
    }
   ],
   "execution_count": 24
  },
  {
   "metadata": {
    "ExecuteTime": {
     "end_time": "2025-09-12T01:58:15.134668Z",
     "start_time": "2025-09-12T01:58:14.941791Z"
    }
   },
   "cell_type": "code",
   "source": "completed_sales = toyota_data[toyota_data[\"sale_status\"] == \"Completed\"].sort_values(by=\"sale_date\")",
   "id": "7fc8a30bd10ceb6c",
   "outputs": [],
   "execution_count": 25
  },
  {
   "metadata": {
    "ExecuteTime": {
     "end_time": "2025-09-12T01:58:42.707823Z",
     "start_time": "2025-09-12T01:58:42.671453Z"
    }
   },
   "cell_type": "code",
   "source": "completed_sales",
   "id": "faacadadfcb2f745",
   "outputs": [
    {
     "data": {
      "text/plain": [
       "      sale_id  sale_rep_id  sale_date car_model  sale_amount  commission_pct  \\\n",
       "4445     4446           18 2024-11-01       NaN     26460.96             NaN   \n",
       "316       317            1 2024-11-01       NaN     27690.66            0.03   \n",
       "2728     2729            1 2024-11-01       NaN     22248.02            0.05   \n",
       "153       154           20 2024-11-01       NaN     27486.46             NaN   \n",
       "4097     4098           17 2024-11-01       NaN     48422.66             NaN   \n",
       "...       ...          ...        ...       ...          ...             ...   \n",
       "2658     2659           17 2024-11-30       NaN     27133.62            0.03   \n",
       "3903     3904           19 2024-11-30       NaN     28494.06            0.02   \n",
       "745       746            9 2024-11-30       NaN     41530.72            0.02   \n",
       "1024     1025           18 2024-11-30       NaN     26696.07            0.03   \n",
       "2631     2632           13 2024-11-30       NaN     28041.83            0.05   \n",
       "\n",
       "     sale_status  \n",
       "4445   Completed  \n",
       "316    Completed  \n",
       "2728   Completed  \n",
       "153    Completed  \n",
       "4097   Completed  \n",
       "...          ...  \n",
       "2658   Completed  \n",
       "3903   Completed  \n",
       "745    Completed  \n",
       "1024   Completed  \n",
       "2631   Completed  \n",
       "\n",
       "[3543 rows x 7 columns]"
      ],
      "text/html": [
       "<div>\n",
       "<style scoped>\n",
       "    .dataframe tbody tr th:only-of-type {\n",
       "        vertical-align: middle;\n",
       "    }\n",
       "\n",
       "    .dataframe tbody tr th {\n",
       "        vertical-align: top;\n",
       "    }\n",
       "\n",
       "    .dataframe thead th {\n",
       "        text-align: right;\n",
       "    }\n",
       "</style>\n",
       "<table border=\"1\" class=\"dataframe\">\n",
       "  <thead>\n",
       "    <tr style=\"text-align: right;\">\n",
       "      <th></th>\n",
       "      <th>sale_id</th>\n",
       "      <th>sale_rep_id</th>\n",
       "      <th>sale_date</th>\n",
       "      <th>car_model</th>\n",
       "      <th>sale_amount</th>\n",
       "      <th>commission_pct</th>\n",
       "      <th>sale_status</th>\n",
       "    </tr>\n",
       "  </thead>\n",
       "  <tbody>\n",
       "    <tr>\n",
       "      <th>4445</th>\n",
       "      <td>4446</td>\n",
       "      <td>18</td>\n",
       "      <td>2024-11-01</td>\n",
       "      <td>NaN</td>\n",
       "      <td>26460.96</td>\n",
       "      <td>NaN</td>\n",
       "      <td>Completed</td>\n",
       "    </tr>\n",
       "    <tr>\n",
       "      <th>316</th>\n",
       "      <td>317</td>\n",
       "      <td>1</td>\n",
       "      <td>2024-11-01</td>\n",
       "      <td>NaN</td>\n",
       "      <td>27690.66</td>\n",
       "      <td>0.03</td>\n",
       "      <td>Completed</td>\n",
       "    </tr>\n",
       "    <tr>\n",
       "      <th>2728</th>\n",
       "      <td>2729</td>\n",
       "      <td>1</td>\n",
       "      <td>2024-11-01</td>\n",
       "      <td>NaN</td>\n",
       "      <td>22248.02</td>\n",
       "      <td>0.05</td>\n",
       "      <td>Completed</td>\n",
       "    </tr>\n",
       "    <tr>\n",
       "      <th>153</th>\n",
       "      <td>154</td>\n",
       "      <td>20</td>\n",
       "      <td>2024-11-01</td>\n",
       "      <td>NaN</td>\n",
       "      <td>27486.46</td>\n",
       "      <td>NaN</td>\n",
       "      <td>Completed</td>\n",
       "    </tr>\n",
       "    <tr>\n",
       "      <th>4097</th>\n",
       "      <td>4098</td>\n",
       "      <td>17</td>\n",
       "      <td>2024-11-01</td>\n",
       "      <td>NaN</td>\n",
       "      <td>48422.66</td>\n",
       "      <td>NaN</td>\n",
       "      <td>Completed</td>\n",
       "    </tr>\n",
       "    <tr>\n",
       "      <th>...</th>\n",
       "      <td>...</td>\n",
       "      <td>...</td>\n",
       "      <td>...</td>\n",
       "      <td>...</td>\n",
       "      <td>...</td>\n",
       "      <td>...</td>\n",
       "      <td>...</td>\n",
       "    </tr>\n",
       "    <tr>\n",
       "      <th>2658</th>\n",
       "      <td>2659</td>\n",
       "      <td>17</td>\n",
       "      <td>2024-11-30</td>\n",
       "      <td>NaN</td>\n",
       "      <td>27133.62</td>\n",
       "      <td>0.03</td>\n",
       "      <td>Completed</td>\n",
       "    </tr>\n",
       "    <tr>\n",
       "      <th>3903</th>\n",
       "      <td>3904</td>\n",
       "      <td>19</td>\n",
       "      <td>2024-11-30</td>\n",
       "      <td>NaN</td>\n",
       "      <td>28494.06</td>\n",
       "      <td>0.02</td>\n",
       "      <td>Completed</td>\n",
       "    </tr>\n",
       "    <tr>\n",
       "      <th>745</th>\n",
       "      <td>746</td>\n",
       "      <td>9</td>\n",
       "      <td>2024-11-30</td>\n",
       "      <td>NaN</td>\n",
       "      <td>41530.72</td>\n",
       "      <td>0.02</td>\n",
       "      <td>Completed</td>\n",
       "    </tr>\n",
       "    <tr>\n",
       "      <th>1024</th>\n",
       "      <td>1025</td>\n",
       "      <td>18</td>\n",
       "      <td>2024-11-30</td>\n",
       "      <td>NaN</td>\n",
       "      <td>26696.07</td>\n",
       "      <td>0.03</td>\n",
       "      <td>Completed</td>\n",
       "    </tr>\n",
       "    <tr>\n",
       "      <th>2631</th>\n",
       "      <td>2632</td>\n",
       "      <td>13</td>\n",
       "      <td>2024-11-30</td>\n",
       "      <td>NaN</td>\n",
       "      <td>28041.83</td>\n",
       "      <td>0.05</td>\n",
       "      <td>Completed</td>\n",
       "    </tr>\n",
       "  </tbody>\n",
       "</table>\n",
       "<p>3543 rows × 7 columns</p>\n",
       "</div>"
      ]
     },
     "execution_count": 26,
     "metadata": {},
     "output_type": "execute_result"
    }
   ],
   "execution_count": 26
  }
 ],
 "metadata": {
  "kernelspec": {
   "display_name": "Python 3",
   "language": "python",
   "name": "python3"
  },
  "language_info": {
   "codemirror_mode": {
    "name": "ipython",
    "version": 2
   },
   "file_extension": ".py",
   "mimetype": "text/x-python",
   "name": "python",
   "nbconvert_exporter": "python",
   "pygments_lexer": "ipython2",
   "version": "2.7.6"
  }
 },
 "nbformat": 4,
 "nbformat_minor": 5
}
