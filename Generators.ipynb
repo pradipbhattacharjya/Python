{
 "cells": [
  {
   "cell_type": "code",
   "id": "initial_id",
   "metadata": {
    "collapsed": true,
    "ExecuteTime": {
     "end_time": "2025-10-02T02:55:35.834806Z",
     "start_time": "2025-10-02T02:55:35.828963Z"
    }
   },
   "source": [
    "from Fileoperation import file_path\n",
    "\n",
    "\n",
    "def square(n):\n",
    "    for i in range(3):\n",
    "        yield i**2"
   ],
   "outputs": [],
   "execution_count": 3
  },
  {
   "metadata": {
    "ExecuteTime": {
     "end_time": "2025-10-02T02:55:38.583758Z",
     "start_time": "2025-10-02T02:55:38.576812Z"
    }
   },
   "cell_type": "code",
   "source": "square(3)",
   "id": "e201fa600db99d64",
   "outputs": [
    {
     "data": {
      "text/plain": [
       "<generator object square at 0x00000167BB7C2F60>"
      ]
     },
     "execution_count": 4,
     "metadata": {},
     "output_type": "execute_result"
    }
   ],
   "execution_count": 4
  },
  {
   "metadata": {
    "ExecuteTime": {
     "end_time": "2025-10-02T02:57:47.133092Z",
     "start_time": "2025-10-02T02:57:47.124222Z"
    }
   },
   "cell_type": "code",
   "source": [
    "for i in square(3):\n",
    "    print(i)"
   ],
   "id": "574b398c6357762e",
   "outputs": [
    {
     "name": "stdout",
     "output_type": "stream",
     "text": [
      "0\n",
      "1\n",
      "4\n"
     ]
    }
   ],
   "execution_count": 5
  },
  {
   "metadata": {
    "ExecuteTime": {
     "end_time": "2025-10-02T02:59:02.464440Z",
     "start_time": "2025-10-02T02:59:02.456308Z"
    }
   },
   "cell_type": "code",
   "source": [
    "a=square(3)\n",
    "a"
   ],
   "id": "1cdbc6fcf27e4eb6",
   "outputs": [
    {
     "data": {
      "text/plain": [
       "<generator object square at 0x00000167BB94C520>"
      ]
     },
     "execution_count": 8,
     "metadata": {},
     "output_type": "execute_result"
    }
   ],
   "execution_count": 8
  },
  {
   "metadata": {
    "ExecuteTime": {
     "end_time": "2025-10-02T03:00:07.881529Z",
     "start_time": "2025-10-02T03:00:06.942326Z"
    }
   },
   "cell_type": "code",
   "source": "next(a)",
   "id": "f2147490eb758916",
   "outputs": [
    {
     "ename": "StopIteration",
     "evalue": "",
     "output_type": "error",
     "traceback": [
      "\u001B[31m---------------------------------------------------------------------------\u001B[39m",
      "\u001B[31mStopIteration\u001B[39m                             Traceback (most recent call last)",
      "\u001B[36mCell\u001B[39m\u001B[36m \u001B[39m\u001B[32mIn[12]\u001B[39m\u001B[32m, line 1\u001B[39m\n\u001B[32m----> \u001B[39m\u001B[32m1\u001B[39m \u001B[38;5;28;43mnext\u001B[39;49m\u001B[43m(\u001B[49m\u001B[43ma\u001B[49m\u001B[43m)\u001B[49m\n",
      "\u001B[31mStopIteration\u001B[39m: "
     ]
    }
   ],
   "execution_count": 12
  },
  {
   "metadata": {
    "ExecuteTime": {
     "end_time": "2025-10-02T03:00:51.080707Z",
     "start_time": "2025-10-02T03:00:51.071419Z"
    }
   },
   "cell_type": "code",
   "source": [
    "def my_generator():\n",
    "    yield 1\n",
    "    yield 2\n",
    "    yield 3\n"
   ],
   "id": "98de0c82e496b039",
   "outputs": [],
   "execution_count": 13
  },
  {
   "metadata": {
    "ExecuteTime": {
     "end_time": "2025-10-02T03:03:05.319229Z",
     "start_time": "2025-10-02T03:03:05.306756Z"
    }
   },
   "cell_type": "code",
   "source": [
    "gen=my_generator()\n",
    "gen\n",
    "gen"
   ],
   "id": "656ef6549479c591",
   "outputs": [
    {
     "data": {
      "text/plain": [
       "<generator object my_generator at 0x00000167BBFAC9E0>"
      ]
     },
     "execution_count": 21,
     "metadata": {},
     "output_type": "execute_result"
    }
   ],
   "execution_count": 21
  },
  {
   "metadata": {
    "ExecuteTime": {
     "end_time": "2025-10-02T03:02:51.181845Z",
     "start_time": "2025-10-02T03:02:51.156696Z"
    }
   },
   "cell_type": "code",
   "source": "next(gen)",
   "id": "20ebc3ad4387c431",
   "outputs": [
    {
     "ename": "StopIteration",
     "evalue": "",
     "output_type": "error",
     "traceback": [
      "\u001B[31m---------------------------------------------------------------------------\u001B[39m",
      "\u001B[31mStopIteration\u001B[39m                             Traceback (most recent call last)",
      "\u001B[36mCell\u001B[39m\u001B[36m \u001B[39m\u001B[32mIn[20]\u001B[39m\u001B[32m, line 1\u001B[39m\n\u001B[32m----> \u001B[39m\u001B[32m1\u001B[39m \u001B[38;5;28;43mnext\u001B[39;49m\u001B[43m(\u001B[49m\u001B[43mgen\u001B[49m\u001B[43m)\u001B[49m\n",
      "\u001B[31mStopIteration\u001B[39m: "
     ]
    }
   ],
   "execution_count": 20
  },
  {
   "metadata": {
    "ExecuteTime": {
     "end_time": "2025-10-02T03:03:08.500503Z",
     "start_time": "2025-10-02T03:03:08.491868Z"
    }
   },
   "cell_type": "code",
   "source": [
    "for val in gen:\n",
    "    print(val)"
   ],
   "id": "1bba5c81ae8480cf",
   "outputs": [
    {
     "name": "stdout",
     "output_type": "stream",
     "text": [
      "1\n",
      "2\n",
      "3\n"
     ]
    }
   ],
   "execution_count": 22
  },
  {
   "metadata": {
    "ExecuteTime": {
     "end_time": "2025-10-02T03:10:14.641895Z",
     "start_time": "2025-10-02T03:10:14.583492Z"
    }
   },
   "cell_type": "code",
   "source": [
    "#Practical : Reading Large Files\n",
    "\n",
    "def read_large_file(file_path):\n",
    "    with open(file_path,'r') as file:\n",
    "        for line in file:\n",
    "            yield  line"
   ],
   "id": "2a8e9b62b512244e",
   "outputs": [],
   "execution_count": 23
  },
  {
   "metadata": {
    "ExecuteTime": {
     "end_time": "2025-10-02T03:11:32.780751Z",
     "start_time": "2025-10-02T03:11:32.763656Z"
    }
   },
   "cell_type": "code",
   "source": [
    "file_path='large_file.txt'\n",
    "\n",
    "for line in read_large_file(file_path):\n",
    "    print(line.strip())"
   ],
   "id": "b9f9e4d0344ee726",
   "outputs": [
    {
     "name": "stdout",
     "output_type": "stream",
     "text": [
      "The President of India is the constitutional Head of State, a symbol of national unity, and the highest office in the country, serving for a five-year term. While all executive power is vested in the President, these powers are exercised by the Council of Ministers under the leadership of the Prime Minister, to whom the President is bound by advice. The President is indirectly elected by an electoral college of Parliament members and state assembly members. Key powers include the ability to declare war and peace, grant pardons, issue ordinances, and the crucial role of Commander-in-Chief of the Indian Armed Forces.\n",
      "Constitutional Role and Election\n",
      "Head of State: The President is the first citizen and head of the Republic of India, representing the nation.\n",
      "Indirect Election: The President is elected for a five-year term by an electoral college consisting of the elected members of both houses of Parliament and the elected members of the Legislative Assemblies of the states and union territories.\n",
      "Qualifications: To be elected, a candidate must be an Indian citizen, at least 35 years old, and eligible to be a member of the House of the People (Lok Sabha). They must also not hold any office of profit under the government or a public authority.\n",
      "Executive Powers and Functions\n",
      "Constitutional Head: The President's executive powers are primarily constitutional. They are bound by the advice of the Council of Ministers, headed by the Prime Minister.\n",
      "Commander-in-Chief: The President is the supreme commander of the Indian Armed Forces.\n",
      "Pardoning Power: The President has the power to grant pardons, reprieves, respites, and to suspend, remit, or commute sentences of punishment.\n",
      "Ordinance-Making Power: When Parliament is not in session, the President can issue an ordinance with the force of law under Article 123 of the Constitution, which remains valid for six weeks after the next Parliament session begins.\n",
      "Assent to Bills: The President must give assent to bills passed by Parliament. The President can send a bill back to Parliament for reconsideration (known as a pocket veto in India) but has to give assent to a constitutional amendment bill.\n",
      "Impeachment\n",
      "Grounds for Impeachment: The President can be removed from office by impeachment for infringing the Constitution.\n",
      "Process: Impeachment proceedings can be initiated by either house of Parliament.\n"
     ]
    }
   ],
   "execution_count": 24
  }
 ],
 "metadata": {
  "kernelspec": {
   "display_name": "Python 3",
   "language": "python",
   "name": "python3"
  },
  "language_info": {
   "codemirror_mode": {
    "name": "ipython",
    "version": 2
   },
   "file_extension": ".py",
   "mimetype": "text/x-python",
   "name": "python",
   "nbconvert_exporter": "python",
   "pygments_lexer": "ipython2",
   "version": "2.7.6"
  }
 },
 "nbformat": 4,
 "nbformat_minor": 5
}
