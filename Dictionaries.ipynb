{
 "cells": [
  {
   "cell_type": "code",
   "id": "initial_id",
   "metadata": {
    "collapsed": true,
    "ExecuteTime": {
     "end_time": "2025-09-28T00:28:02.514968Z",
     "start_time": "2025-09-28T00:28:02.507930Z"
    }
   },
   "source": [
    "#Creating Dictionaries\n",
    "empty_dict={}\n",
    "print(type(empty_dict))"
   ],
   "outputs": [
    {
     "name": "stdout",
     "output_type": "stream",
     "text": [
      "<class 'dict'>\n"
     ]
    }
   ],
   "execution_count": 1
  },
  {
   "metadata": {
    "ExecuteTime": {
     "end_time": "2025-09-28T00:28:55.952271Z",
     "start_time": "2025-09-28T00:28:55.941041Z"
    }
   },
   "cell_type": "code",
   "source": [
    "empty_dict=dict()\n",
    "empty_dict"
   ],
   "id": "2860fcdd640f948c",
   "outputs": [
    {
     "data": {
      "text/plain": [
       "{}"
      ]
     },
     "execution_count": 2,
     "metadata": {},
     "output_type": "execute_result"
    }
   ],
   "execution_count": 2
  },
  {
   "metadata": {
    "ExecuteTime": {
     "end_time": "2025-09-28T00:34:54.518214Z",
     "start_time": "2025-09-28T00:34:54.511400Z"
    }
   },
   "cell_type": "code",
   "source": [
    "student={\"name\":\"Pradip\",\"age\":32,\"grade\":24}\n",
    "print(student)\n",
    "print(type(student))"
   ],
   "id": "e1596ccb80cbbe98",
   "outputs": [
    {
     "name": "stdout",
     "output_type": "stream",
     "text": [
      "{'name': 'Pradip', 'age': 32, 'grade': 24}\n",
      "<class 'dict'>\n"
     ]
    }
   ],
   "execution_count": 4
  },
  {
   "metadata": {
    "ExecuteTime": {
     "end_time": "2025-09-28T06:58:13.111827Z",
     "start_time": "2025-09-28T06:58:13.108050Z"
    }
   },
   "cell_type": "code",
   "source": [
    "#Single key is saways used\n",
    "student={\"name\":\"Pradip\",\"age\":32,\"name\":24}\n"
   ],
   "id": "2f24575ee4781776",
   "outputs": [],
   "execution_count": 3
  },
  {
   "metadata": {
    "ExecuteTime": {
     "end_time": "2025-09-28T06:58:15.068721Z",
     "start_time": "2025-09-28T06:58:15.060795Z"
    }
   },
   "cell_type": "code",
   "source": [
    "#accessing Dictionary Elements\n",
    "student={\"name\":\"Pradip\",\"age\":32,\"grade\":'A'}\n",
    "print(student)\n"
   ],
   "id": "89e457be304ad2c3",
   "outputs": [
    {
     "name": "stdout",
     "output_type": "stream",
     "text": [
      "{'name': 'Pradip', 'age': 32, 'grade': 'A'}\n"
     ]
    }
   ],
   "execution_count": 4
  },
  {
   "metadata": {
    "ExecuteTime": {
     "end_time": "2025-09-28T06:58:17.680953Z",
     "start_time": "2025-09-28T06:58:17.674699Z"
    }
   },
   "cell_type": "code",
   "source": "print(student['grade'])",
   "id": "d31b6ce3857a60a6",
   "outputs": [
    {
     "name": "stdout",
     "output_type": "stream",
     "text": [
      "A\n"
     ]
    }
   ],
   "execution_count": 5
  },
  {
   "metadata": {
    "ExecuteTime": {
     "end_time": "2025-09-28T06:58:19.576139Z",
     "start_time": "2025-09-28T06:58:19.572411Z"
    }
   },
   "cell_type": "code",
   "source": "print(student['age'])",
   "id": "833da13cdbda0655",
   "outputs": [
    {
     "name": "stdout",
     "output_type": "stream",
     "text": [
      "32\n"
     ]
    }
   ],
   "execution_count": 6
  },
  {
   "metadata": {
    "ExecuteTime": {
     "end_time": "2025-09-28T06:58:22.148203Z",
     "start_time": "2025-09-28T06:58:22.141156Z"
    }
   },
   "cell_type": "code",
   "source": [
    "##Accessing using get() method\n",
    "print(student.get('grade'))\n",
    "print(student.get('last_name'))\n",
    "print(student.get('last_name','Not Available'))\n"
   ],
   "id": "341f90b7184718e",
   "outputs": [
    {
     "name": "stdout",
     "output_type": "stream",
     "text": [
      "A\n",
      "None\n",
      "Not Available\n"
     ]
    }
   ],
   "execution_count": 7
  },
  {
   "metadata": {
    "ExecuteTime": {
     "end_time": "2025-09-28T06:58:26.896224Z",
     "start_time": "2025-09-28T06:58:26.891791Z"
    }
   },
   "cell_type": "code",
   "source": [
    "#Modifying Dicitonary Elements\n",
    "#Dictionary are mutable, so you can add, update or delete elements\n",
    "print(student)"
   ],
   "id": "b5bec844fa215cee",
   "outputs": [
    {
     "name": "stdout",
     "output_type": "stream",
     "text": [
      "{'name': 'Pradip', 'age': 32, 'grade': 'A'}\n"
     ]
    }
   ],
   "execution_count": 8
  },
  {
   "metadata": {
    "ExecuteTime": {
     "end_time": "2025-09-28T06:58:29.882318Z",
     "start_time": "2025-09-28T06:58:29.877557Z"
    }
   },
   "cell_type": "code",
   "source": [
    "student['age']=33 #update value for the key\n",
    "print(student)\n",
    "student[\"address\"]=\"India\" ## added a new key and value\n",
    "print(student)"
   ],
   "id": "fd4bb58dde81d74a",
   "outputs": [
    {
     "name": "stdout",
     "output_type": "stream",
     "text": [
      "{'name': 'Pradip', 'age': 33, 'grade': 'A'}\n",
      "{'name': 'Pradip', 'age': 33, 'grade': 'A', 'address': 'India'}\n"
     ]
    }
   ],
   "execution_count": 9
  },
  {
   "metadata": {
    "ExecuteTime": {
     "end_time": "2025-09-28T06:58:32.488589Z",
     "start_time": "2025-09-28T06:58:32.483845Z"
    }
   },
   "cell_type": "code",
   "source": [
    "del student[\"grade\"] ##delete key and value pair\n",
    "print(student)"
   ],
   "id": "c886d5daae79678d",
   "outputs": [
    {
     "name": "stdout",
     "output_type": "stream",
     "text": [
      "{'name': 'Pradip', 'age': 33, 'address': 'India'}\n"
     ]
    }
   ],
   "execution_count": 10
  },
  {
   "metadata": {
    "ExecuteTime": {
     "end_time": "2025-09-28T06:58:34.867241Z",
     "start_time": "2025-09-28T06:58:34.861088Z"
    }
   },
   "cell_type": "code",
   "source": [
    "#Dictionary methods\n",
    "keys=student.keys() #get all the keys\n",
    "print(keys)\n",
    "values=student.values() #get all values\n",
    "print(values)\n",
    "\n",
    "items =student.items() #get all key value pairs\n",
    "print(items)"
   ],
   "id": "1a588a7251208df",
   "outputs": [
    {
     "name": "stdout",
     "output_type": "stream",
     "text": [
      "dict_keys(['name', 'age', 'address'])\n",
      "dict_values(['Pradip', 33, 'India'])\n",
      "dict_items([('name', 'Pradip'), ('age', 33), ('address', 'India')])\n"
     ]
    }
   ],
   "execution_count": 11
  },
  {
   "metadata": {
    "ExecuteTime": {
     "end_time": "2025-09-28T06:59:57.169790Z",
     "start_time": "2025-09-28T06:59:57.162016Z"
    }
   },
   "cell_type": "code",
   "source": [
    "#shallow copy\n",
    "student_copy=student\n",
    "print(student)\n",
    "print(student_copy)"
   ],
   "id": "453857e2e6042f46",
   "outputs": [
    {
     "name": "stdout",
     "output_type": "stream",
     "text": [
      "{'name': 'Pradip', 'age': 33, 'address': 'India'}\n",
      "{'name': 'Pradip', 'age': 33, 'address': 'India'}\n"
     ]
    }
   ],
   "execution_count": 12
  },
  {
   "metadata": {
    "ExecuteTime": {
     "end_time": "2025-09-28T07:00:47.845735Z",
     "start_time": "2025-09-28T07:00:47.836255Z"
    }
   },
   "cell_type": "code",
   "source": [
    "student[\"name\"]=\"Krish2\"\n",
    "print(student)\n",
    "print(student_copy)"
   ],
   "id": "7b055a3fa7dd3fff",
   "outputs": [
    {
     "name": "stdout",
     "output_type": "stream",
     "text": [
      "{'name': 'Krish2', 'age': 33, 'address': 'India'}\n",
      "{'name': 'Krish2', 'age': 33, 'address': 'India'}\n"
     ]
    }
   ],
   "execution_count": 13
  },
  {
   "metadata": {
    "ExecuteTime": {
     "end_time": "2025-09-28T07:02:10.047531Z",
     "start_time": "2025-09-28T07:02:10.040084Z"
    }
   },
   "cell_type": "code",
   "source": [
    "student_copy1=student.copy() # shallow copy\n",
    "print(student_copy1)\n",
    "print(student)"
   ],
   "id": "de2ea61648447341",
   "outputs": [
    {
     "name": "stdout",
     "output_type": "stream",
     "text": [
      "{'name': 'Krish2', 'age': 33, 'address': 'India'}\n",
      "{'name': 'Krish2', 'age': 33, 'address': 'India'}\n"
     ]
    }
   ],
   "execution_count": 14
  },
  {
   "metadata": {
    "ExecuteTime": {
     "end_time": "2025-09-28T07:03:08.406190Z",
     "start_time": "2025-09-28T07:03:08.400504Z"
    }
   },
   "cell_type": "code",
   "source": [
    "student['name']=\"kRish3\"\n",
    "print(student_copy1)\n",
    "print(student)"
   ],
   "id": "2a57b8c9dcf914ca",
   "outputs": [
    {
     "name": "stdout",
     "output_type": "stream",
     "text": [
      "{'name': 'Krish2', 'age': 33, 'address': 'India'}\n",
      "{'name': 'kRish3', 'age': 33, 'address': 'India'}\n"
     ]
    }
   ],
   "execution_count": 15
  },
  {
   "metadata": {
    "ExecuteTime": {
     "end_time": "2025-09-28T07:08:20.650444Z",
     "start_time": "2025-09-28T07:08:20.642772Z"
    }
   },
   "cell_type": "code",
   "source": [
    "#Iterating Over Dictionaries\n",
    "#Toy can use loops to iterative over dictionaries,keys,values, or items\n",
    "\n",
    "#Iterating over keys\n",
    "\n",
    "for keys in student.keys():\n",
    "    print(keys)\n"
   ],
   "id": "45ceb4e04011022f",
   "outputs": [
    {
     "name": "stdout",
     "output_type": "stream",
     "text": [
      "name\n",
      "age\n",
      "address\n"
     ]
    }
   ],
   "execution_count": 16
  },
  {
   "metadata": {
    "ExecuteTime": {
     "end_time": "2025-09-28T07:09:39.190288Z",
     "start_time": "2025-09-28T07:09:39.177413Z"
    }
   },
   "cell_type": "code",
   "source": [
    "#Iterate over values\n",
    "for value in student.values():\n",
    "    print(value)"
   ],
   "id": "849e56220abdc3a5",
   "outputs": [
    {
     "name": "stdout",
     "output_type": "stream",
     "text": [
      "kRish3\n",
      "33\n",
      "India\n"
     ]
    }
   ],
   "execution_count": 17
  },
  {
   "metadata": {
    "ExecuteTime": {
     "end_time": "2025-09-28T07:11:04.449309Z",
     "start_time": "2025-09-28T07:11:04.439481Z"
    }
   },
   "cell_type": "code",
   "source": [
    "#Iterate over key value pairs\n",
    "for key,value in student.items():\n",
    "    print(f\"{key}:{value}\")"
   ],
   "id": "369c4f8ff171a99b",
   "outputs": [
    {
     "name": "stdout",
     "output_type": "stream",
     "text": [
      "name:kRish3\n",
      "age:33\n",
      "address:India\n"
     ]
    }
   ],
   "execution_count": 18
  },
  {
   "metadata": {
    "ExecuteTime": {
     "end_time": "2025-09-28T07:14:28.458455Z",
     "start_time": "2025-09-28T07:14:28.445721Z"
    }
   },
   "cell_type": "code",
   "source": [
    "#Nested Disctionaries\n",
    "student={\n",
    "    \"student1\":{\"name\":\"Pradip\",\"age\":28},\n",
    "    \"student2\":{\"name\":\"Subha\",\"age\":27},\n",
    "}\n",
    "print(student)"
   ],
   "id": "f0a135fc6b765dae",
   "outputs": [
    {
     "name": "stdout",
     "output_type": "stream",
     "text": [
      "{'student1': {'name': 'Pradip', 'age': 28}, 'student2': {'name': 'Subha', 'age': 27}}\n"
     ]
    }
   ],
   "execution_count": 19
  },
  {
   "metadata": {
    "ExecuteTime": {
     "end_time": "2025-09-28T07:17:11.758561Z",
     "start_time": "2025-09-28T07:17:11.749076Z"
    }
   },
   "cell_type": "code",
   "source": [
    "#Access nested dictionaries elements\n",
    "print(student[\"student1\"][\"name\"])\n",
    "print(student[\"student1\"][\"age\"])"
   ],
   "id": "a74cd604bf2692f4",
   "outputs": [
    {
     "name": "stdout",
     "output_type": "stream",
     "text": [
      "Pradip\n",
      "28\n"
     ]
    }
   ],
   "execution_count": 20
  },
  {
   "metadata": {
    "ExecuteTime": {
     "end_time": "2025-09-28T07:20:31.643932Z",
     "start_time": "2025-09-28T07:20:31.564556Z"
    }
   },
   "cell_type": "code",
   "source": "student.items()",
   "id": "db7ce397f11dc589",
   "outputs": [
    {
     "data": {
      "text/plain": [
       "dict_items([('student1', {'name': 'Pradip', 'age': 28}), ('student2', {'name': 'Subha', 'age': 27})])"
      ]
     },
     "execution_count": 21,
     "metadata": {},
     "output_type": "execute_result"
    }
   ],
   "execution_count": 21
  },
  {
   "metadata": {
    "ExecuteTime": {
     "end_time": "2025-09-28T07:39:19.926272Z",
     "start_time": "2025-09-28T07:39:19.916780Z"
    }
   },
   "cell_type": "code",
   "source": [
    "# Iterating over nested dictionaries\n",
    "for student_id,student_info in student.items():\n",
    "    print(f\"{student_id}:{student_info}\")\n",
    "    for key,value in student_info.items():\n",
    "        print(f\"{key}:{value}\")"
   ],
   "id": "830ce03f38958ea",
   "outputs": [
    {
     "name": "stdout",
     "output_type": "stream",
     "text": [
      "student1:{'name': 'Pradip', 'age': 28}\n",
      "name:Pradip\n",
      "age:28\n",
      "student2:{'name': 'Subha', 'age': 27}\n",
      "name:Subha\n",
      "age:27\n"
     ]
    }
   ],
   "execution_count": 23
  },
  {
   "metadata": {
    "ExecuteTime": {
     "end_time": "2025-09-28T07:41:31.502232Z",
     "start_time": "2025-09-28T07:41:31.492339Z"
    }
   },
   "cell_type": "code",
   "source": [
    "#Dictionay Comprehension\n",
    "squares={x:x**2 for x in range(10)}\n",
    "print(squares)"
   ],
   "id": "f37434ca7b8ce59d",
   "outputs": [
    {
     "name": "stdout",
     "output_type": "stream",
     "text": [
      "{0: 0, 1: 1, 2: 4, 3: 9, 4: 16, 5: 25, 6: 36, 7: 49, 8: 64, 9: 81}\n"
     ]
    }
   ],
   "execution_count": 24
  },
  {
   "metadata": {
    "ExecuteTime": {
     "end_time": "2025-09-28T07:47:31.597424Z",
     "start_time": "2025-09-28T07:47:31.583322Z"
    }
   },
   "cell_type": "code",
   "source": [
    "#Condition dictionary comprehension\n",
    "evens={x:x**2 for x in range(10) if x%2==0}\n",
    "print(evens)"
   ],
   "id": "967912c1be7fd1ac",
   "outputs": [
    {
     "name": "stdout",
     "output_type": "stream",
     "text": [
      "{0: 0, 2: 4, 4: 16, 6: 36, 8: 64}\n"
     ]
    }
   ],
   "execution_count": 25
  },
  {
   "metadata": {
    "ExecuteTime": {
     "end_time": "2025-09-28T07:54:02.052448Z",
     "start_time": "2025-09-28T07:54:02.039127Z"
    }
   },
   "cell_type": "code",
   "source": [
    "#Ex---\n",
    "#Use a dictionary to count he frequency of elements in list\n",
    "numbers =[1,2,2,3,3,4,4,4,4]\n",
    "frequency={}\n",
    "\n",
    "for number in numbers:\n",
    "    if number in frequency:\n",
    "        frequency[number] += 1\n",
    "    else:\n",
    "        frequency[number] = 1\n",
    "print(frequency)"
   ],
   "id": "4e4d390e60c09530",
   "outputs": [
    {
     "name": "stdout",
     "output_type": "stream",
     "text": [
      "{1: 1, 2: 2, 3: 2, 4: 4}\n"
     ]
    }
   ],
   "execution_count": 27
  },
  {
   "metadata": {
    "ExecuteTime": {
     "end_time": "2025-09-28T07:58:17.731331Z",
     "start_time": "2025-09-28T07:58:17.720258Z"
    }
   },
   "cell_type": "code",
   "source": [
    "#Marge 2 dictionaries into one\n",
    "\n",
    "dict1={\"a\":1,\"b\":2}\n",
    "dict2={\"b\":3,\"c\":4}\n",
    "merged_dict={**dict1,**dict2}\n",
    "print(merged_dict)"
   ],
   "id": "5cf0868d6cab1284",
   "outputs": [
    {
     "name": "stdout",
     "output_type": "stream",
     "text": [
      "{'a': 1, 'b': 3, 'c': 4}\n"
     ]
    }
   ],
   "execution_count": 29
  },
  {
   "metadata": {
    "ExecuteTime": {
     "end_time": "2025-09-28T07:59:37.219233Z",
     "start_time": "2025-09-28T07:59:37.176141Z"
    }
   },
   "cell_type": "code",
   "source": "merged_dict",
   "id": "2b24975b06d4eb6e",
   "outputs": [
    {
     "data": {
      "text/plain": [
       "{'a': 1, 'b': 3, 'c': 4}"
      ]
     },
     "execution_count": 30,
     "metadata": {},
     "output_type": "execute_result"
    }
   ],
   "execution_count": 30
  }
 ],
 "metadata": {
  "kernelspec": {
   "display_name": "Python 3",
   "language": "python",
   "name": "python3"
  },
  "language_info": {
   "codemirror_mode": {
    "name": "ipython",
    "version": 2
   },
   "file_extension": ".py",
   "mimetype": "text/x-python",
   "name": "python",
   "nbconvert_exporter": "python",
   "pygments_lexer": "ipython2",
   "version": "2.7.6"
  }
 },
 "nbformat": 4,
 "nbformat_minor": 5
}
