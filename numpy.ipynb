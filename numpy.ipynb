{
 "cells": [
  {
   "cell_type": "code",
   "id": "initial_id",
   "metadata": {
    "collapsed": true,
    "ExecuteTime": {
     "end_time": "2025-10-02T09:38:16.724789Z",
     "start_time": "2025-10-02T09:38:14.671618Z"
    }
   },
   "source": "!pip install numpy",
   "outputs": [
    {
     "name": "stdout",
     "output_type": "stream",
     "text": [
      "Requirement already satisfied: numpy in c:\\users\\pradi\\appdata\\roaming\\python\\python313\\site-packages (2.2.1)\n"
     ]
    }
   ],
   "execution_count": 1
  },
  {
   "metadata": {
    "ExecuteTime": {
     "end_time": "2025-10-02T09:41:16.728143Z",
     "start_time": "2025-10-02T09:41:16.719440Z"
    }
   },
   "cell_type": "code",
   "source": [
    "import numpy as np\n",
    "\n",
    "#Create array using numpy\n",
    "#Create a 1D array\n",
    "arr1=np.array([1,2,3,4,5])\n",
    "print(arr1)\n",
    "print(type(arr1))\n",
    "print(arr1.shape)"
   ],
   "id": "66392e2c6280a76a",
   "outputs": [
    {
     "name": "stdout",
     "output_type": "stream",
     "text": [
      "[1 2 3 4 5]\n",
      "<class 'numpy.ndarray'>\n",
      "(5,)\n"
     ]
    }
   ],
   "execution_count": 4
  },
  {
   "metadata": {
    "ExecuteTime": {
     "end_time": "2025-10-02T09:43:51.754650Z",
     "start_time": "2025-10-02T09:43:51.732904Z"
    }
   },
   "cell_type": "code",
   "source": [
    "\n",
    "arr2=np.array([1,2,3,4,5])\n",
    "arr2.reshape(1,5) #1 row and 5 columns"
   ],
   "id": "8201f18a8b3b2a31",
   "outputs": [
    {
     "data": {
      "text/plain": [
       "array([[1, 2, 3, 4, 5]])"
      ]
     },
     "execution_count": 5,
     "metadata": {},
     "output_type": "execute_result"
    }
   ],
   "execution_count": 5
  },
  {
   "metadata": {
    "ExecuteTime": {
     "end_time": "2025-10-02T09:47:09.708805Z",
     "start_time": "2025-10-02T09:47:09.646929Z"
    }
   },
   "cell_type": "code",
   "source": [
    "#2d array\n",
    "arr2=np.array([[1,2,3,4,5],[2,3,4,5,6]])\n",
    "print(arr2)\n",
    "print(arr2.shape)"
   ],
   "id": "14ca872df462b999",
   "outputs": [
    {
     "name": "stdout",
     "output_type": "stream",
     "text": [
      "[[1 2 3 4 5]\n",
      " [2 3 4 5 6]]\n",
      "(2, 5)\n"
     ]
    }
   ],
   "execution_count": 6
  },
  {
   "metadata": {
    "ExecuteTime": {
     "end_time": "2025-10-02T09:49:05.473864Z",
     "start_time": "2025-10-02T09:49:05.459299Z"
    }
   },
   "cell_type": "code",
   "source": "np.arange(0,10,2).reshape(5,1)",
   "id": "2c3ded1aa1a8bdb2",
   "outputs": [
    {
     "data": {
      "text/plain": [
       "array([[0],\n",
       "       [2],\n",
       "       [4],\n",
       "       [6],\n",
       "       [8]])"
      ]
     },
     "execution_count": 8,
     "metadata": {},
     "output_type": "execute_result"
    }
   ],
   "execution_count": 8
  },
  {
   "metadata": {
    "ExecuteTime": {
     "end_time": "2025-10-02T09:49:50.191676Z",
     "start_time": "2025-10-02T09:49:50.164240Z"
    }
   },
   "cell_type": "code",
   "source": "np.ones((3,4))",
   "id": "8333343714e74a5e",
   "outputs": [
    {
     "data": {
      "text/plain": [
       "array([[1., 1., 1., 1.],\n",
       "       [1., 1., 1., 1.],\n",
       "       [1., 1., 1., 1.]])"
      ]
     },
     "execution_count": 9,
     "metadata": {},
     "output_type": "execute_result"
    }
   ],
   "execution_count": 9
  },
  {
   "metadata": {
    "ExecuteTime": {
     "end_time": "2025-10-02T09:51:43.030768Z",
     "start_time": "2025-10-02T09:51:43.016527Z"
    }
   },
   "cell_type": "code",
   "source": [
    "#identity matrix\n",
    "np.eye(3)"
   ],
   "id": "78790bd0315beb8a",
   "outputs": [
    {
     "data": {
      "text/plain": [
       "array([[1., 0., 0.],\n",
       "       [0., 1., 0.],\n",
       "       [0., 0., 1.]])"
      ]
     },
     "execution_count": 10,
     "metadata": {},
     "output_type": "execute_result"
    }
   ],
   "execution_count": 10
  },
  {
   "metadata": {
    "ExecuteTime": {
     "end_time": "2025-10-02T09:54:01.340401Z",
     "start_time": "2025-10-02T09:54:01.323653Z"
    }
   },
   "cell_type": "code",
   "source": [
    "#Attributes of Numpy Array\n",
    "arr = np.array([[1, 2, 3], [4, 5, 6]])\n",
    "\n",
    "print(\"Array:\\n\", arr)\n",
    "print(\"Shape:\", arr.shape) # Output: (2, 3)\n",
    "print(\"Number of dimensions:\", arr.ndim) # Output: 2\n",
    "print(\"Size (number of elements):\", arr.size) # Output: 6\n",
    "print(\"Data type:\", arr.dtype) # Output: int64 (may vary based on platform)\n",
    "print(\"Item size (in bytes):\", arr.itemsize) # Output: 8 (may vary based on"
   ],
   "id": "92a76a37cf84e100",
   "outputs": [
    {
     "name": "stdout",
     "output_type": "stream",
     "text": [
      "Array:\n",
      " [[1 2 3]\n",
      " [4 5 6]]\n",
      "Shape: (2, 3)\n",
      "Number of dimensions: 2\n",
      "Size (number of elements): 6\n",
      "Data type: int64\n",
      "Item size (in bytes): 8\n"
     ]
    }
   ],
   "execution_count": 11
  },
  {
   "metadata": {
    "ExecuteTime": {
     "end_time": "2025-10-02T09:59:48.019736Z",
     "start_time": "2025-10-02T09:59:47.962574Z"
    }
   },
   "cell_type": "code",
   "source": [
    "#Numpy Vectorized Operation\n",
    "arr1=np.array([1,2,3,4,5])\n",
    "arr2=np.array([10,20,30,40,50])\n",
    "\n",
    "#Element wise addition\n",
    "print(\"Addition:\", arr1+arr2)\n",
    "\n",
    "#Element wise Substraction\n",
    "print(\"Subtraction:\", arr1-arr2)\n",
    "print(\"Multiplication:\", arr1*arr2)\n",
    "print(\"Division:\", arr1/arr2)"
   ],
   "id": "6cec1b68a5d6cdfb",
   "outputs": [
    {
     "name": "stdout",
     "output_type": "stream",
     "text": [
      "Addition: [11 22 33 44 55]\n",
      "Subtraction: [ -9 -18 -27 -36 -45]\n",
      "Multiplication: [ 10  40  90 160 250]\n",
      "Division: [0.1 0.1 0.1 0.1 0.1]\n"
     ]
    }
   ],
   "execution_count": 12
  },
  {
   "metadata": {
    "ExecuteTime": {
     "end_time": "2025-10-02T10:04:14.261140Z",
     "start_time": "2025-10-02T10:04:14.225634Z"
    }
   },
   "cell_type": "code",
   "source": [
    "#Universal Function\n",
    "att=np.array([2,3,4,5,6])\n",
    "#square root\n",
    "print(np.sqrt(arr))\n",
    "\n",
    "#Exponential\n",
    "print(np.exp(arr))\n",
    "\n",
    "#Sine\n",
    "print(np.sin(arr))\n",
    "\n",
    "#natual log\n",
    "print(np.log(arr))"
   ],
   "id": "4265639b709bb150",
   "outputs": [
    {
     "name": "stdout",
     "output_type": "stream",
     "text": [
      "[[1.         1.41421356 1.73205081]\n",
      " [2.         2.23606798 2.44948974]]\n",
      "[[  2.71828183   7.3890561   20.08553692]\n",
      " [ 54.59815003 148.4131591  403.42879349]]\n",
      "[[ 0.84147098  0.90929743  0.14112001]\n",
      " [-0.7568025  -0.95892427 -0.2794155 ]]\n",
      "[[0.         0.69314718 1.09861229]\n",
      " [1.38629436 1.60943791 1.79175947]]\n"
     ]
    }
   ],
   "execution_count": 13
  },
  {
   "metadata": {
    "ExecuteTime": {
     "end_time": "2025-10-02T10:09:23.265616Z",
     "start_time": "2025-10-02T10:09:23.254002Z"
    }
   },
   "cell_type": "code",
   "source": [
    "#array slicing and Indexing\n",
    "arr=np.array([[1,2,3,4],[5,6,7,8],[9,10,11,12]])\n",
    "print(\"Array:\\n\", arr)\n",
    "\n"
   ],
   "id": "ac2964b365691083",
   "outputs": [
    {
     "name": "stdout",
     "output_type": "stream",
     "text": [
      "Array:\n",
      " [[ 1  2  3  4]\n",
      " [ 5  6  7  8]\n",
      " [ 9 10 11 12]]\n"
     ]
    }
   ],
   "execution_count": 16
  },
  {
   "metadata": {
    "ExecuteTime": {
     "end_time": "2025-10-02T10:14:48.307719Z",
     "start_time": "2025-10-02T10:14:48.297075Z"
    }
   },
   "cell_type": "code",
   "source": [
    "print(arr[0][0])\n",
    "print(arr[0:2,2:])"
   ],
   "id": "f481d5f5f7c7f2bf",
   "outputs": [
    {
     "name": "stdout",
     "output_type": "stream",
     "text": [
      "1\n",
      "[[3 4]\n",
      " [7 8]]\n"
     ]
    }
   ],
   "execution_count": 22
  },
  {
   "metadata": {
    "ExecuteTime": {
     "end_time": "2025-10-02T10:11:54.025963Z",
     "start_time": "2025-10-02T10:11:54.013327Z"
    }
   },
   "cell_type": "code",
   "source": "arr[1:,2:]",
   "id": "3bb49c8a9d5508d9",
   "outputs": [
    {
     "data": {
      "text/plain": [
       "array([[ 7,  8],\n",
       "       [11, 12]])"
      ]
     },
     "execution_count": 20,
     "metadata": {},
     "output_type": "execute_result"
    }
   ],
   "execution_count": 20
  },
  {
   "metadata": {
    "ExecuteTime": {
     "end_time": "2025-10-02T10:15:45.872750Z",
     "start_time": "2025-10-02T10:15:45.864134Z"
    }
   },
   "cell_type": "code",
   "source": "print(arr[1:,1:3])",
   "id": "65de8f7e00a1f829",
   "outputs": [
    {
     "name": "stdout",
     "output_type": "stream",
     "text": [
      "[[ 6  7]\n",
      " [10 11]]\n"
     ]
    }
   ],
   "execution_count": 24
  },
  {
   "metadata": {
    "ExecuteTime": {
     "end_time": "2025-10-02T10:17:40.710935Z",
     "start_time": "2025-10-02T10:17:40.699523Z"
    }
   },
   "cell_type": "code",
   "source": [
    "#Modify array elements\n",
    "arr[0,0]=100\n",
    "print(arr)"
   ],
   "id": "7d3da3d8a631a063",
   "outputs": [
    {
     "name": "stdout",
     "output_type": "stream",
     "text": [
      "[[100   2   3   4]\n",
      " [  5   6   7   8]\n",
      " [  9  10  11  12]]\n"
     ]
    }
   ],
   "execution_count": 25
  },
  {
   "metadata": {
    "ExecuteTime": {
     "end_time": "2025-10-02T10:18:32.366945Z",
     "start_time": "2025-10-02T10:18:32.355821Z"
    }
   },
   "cell_type": "code",
   "source": [
    "arr[1:]=100\n",
    "print(arr)"
   ],
   "id": "4bc909e0fbd0e49e",
   "outputs": [
    {
     "name": "stdout",
     "output_type": "stream",
     "text": [
      "[[100   2   3   4]\n",
      " [100 100 100 100]\n",
      " [100 100 100 100]]\n"
     ]
    }
   ],
   "execution_count": 26
  },
  {
   "metadata": {
    "ExecuteTime": {
     "end_time": "2025-10-02T10:26:19.946607Z",
     "start_time": "2025-10-02T10:26:19.884953Z"
    }
   },
   "cell_type": "code",
   "source": [
    "#statistical concepts--Normalization\n",
    "#to have a mean of 0 and standard deviation of 1\n",
    "\n",
    "data = np.array([1,2,3,4,5])\n",
    "\n",
    "#Calculate the mean standard deviation\n",
    "mean= np.mean(data)\n",
    "std_dev =np.std(data)\n",
    "\n",
    "#Normalize the data\n",
    "normalized_data=(data-mean)/std_dev\n",
    "print(\"Normalized data:\",normalized_data)\n",
    "\n"
   ],
   "id": "27b775961a399b39",
   "outputs": [
    {
     "name": "stdout",
     "output_type": "stream",
     "text": [
      "Normalized data: [-1.41421356 -0.70710678  0.          0.70710678  1.41421356]\n"
     ]
    }
   ],
   "execution_count": 27
  },
  {
   "metadata": {
    "ExecuteTime": {
     "end_time": "2025-10-02T10:41:02.664726Z",
     "start_time": "2025-10-02T10:41:02.615884Z"
    }
   },
   "cell_type": "code",
   "source": [
    "data = np.array([1,2,3,4,5,6,7,8,9,10])\n",
    "\n",
    "#Mean\n",
    "mean=np.mean(data)\n",
    "print(\"Mean:\",mean)\n",
    "\n",
    "#Median\n",
    "median = np.median(data)\n",
    "print(\"Median:\",median)\n",
    "\n",
    "#Standard deviation\n",
    "std_dev=np.std(data)\n",
    "print(\"Standard Deviation:\",std_dev)\n",
    "\n",
    "#Variance\n",
    "variance = np.var(data)\n",
    "print(\"Variance:\",variance)\n"
   ],
   "id": "529fbc5683948133",
   "outputs": [
    {
     "name": "stdout",
     "output_type": "stream",
     "text": [
      "Mean: 5.5\n",
      "Median: 5.5\n",
      "Standard Deviation: 2.8722813232690143\n",
      "Variance: 8.25\n"
     ]
    }
   ],
   "execution_count": 28
  }
 ],
 "metadata": {
  "kernelspec": {
   "display_name": "Python 3",
   "language": "python",
   "name": "python3"
  },
  "language_info": {
   "codemirror_mode": {
    "name": "ipython",
    "version": 2
   },
   "file_extension": ".py",
   "mimetype": "text/x-python",
   "name": "python",
   "nbconvert_exporter": "python",
   "pygments_lexer": "ipython2",
   "version": "2.7.6"
  }
 },
 "nbformat": 4,
 "nbformat_minor": 5
}
