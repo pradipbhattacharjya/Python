{
 "cells": [
  {
   "cell_type": "code",
   "id": "initial_id",
   "metadata": {
    "collapsed": true,
    "ExecuteTime": {
     "end_time": "2025-09-25T10:17:18.120147Z",
     "start_time": "2025-09-25T10:17:18.115496Z"
    }
   },
   "source": [
    "from prompt_toolkit.filters import is_true\n",
    "from pygments import highlight\n",
    "\n",
    "from Loops.app6 import result\n",
    "\n",
    "#Integers\n",
    "age=32\n",
    "print(age)\n",
    "print(type(age))\n"
   ],
   "outputs": [
    {
     "name": "stdout",
     "output_type": "stream",
     "text": [
      "32\n",
      "<class 'int'>\n"
     ]
    }
   ],
   "execution_count": 1
  },
  {
   "metadata": {
    "ExecuteTime": {
     "end_time": "2025-09-25T10:18:58.348500Z",
     "start_time": "2025-09-25T10:18:58.341110Z"
    }
   },
   "cell_type": "code",
   "source": [
    "#floating point datatype\n",
    "height=5.11\n",
    "print(height)\n",
    "print(type(height))"
   ],
   "id": "9b869bf45af3c03c",
   "outputs": [
    {
     "name": "stdout",
     "output_type": "stream",
     "text": [
      "5.11\n",
      "<class 'float'>\n"
     ]
    }
   ],
   "execution_count": 2
  },
  {
   "metadata": {
    "ExecuteTime": {
     "end_time": "2025-09-25T10:19:53.587216Z",
     "start_time": "2025-09-25T10:19:53.580352Z"
    }
   },
   "cell_type": "code",
   "source": [
    "##string\n",
    "name=\"pradip\"\n",
    "print(name)\n",
    "print(type(name))"
   ],
   "id": "b434121710ff6fe2",
   "outputs": [
    {
     "name": "stdout",
     "output_type": "stream",
     "text": [
      "pradip\n",
      "<class 'str'>\n"
     ]
    }
   ],
   "execution_count": 4
  },
  {
   "metadata": {
    "ExecuteTime": {
     "end_time": "2025-09-25T10:21:19.344004Z",
     "start_time": "2025-09-25T10:21:19.336371Z"
    }
   },
   "cell_type": "code",
   "source": [
    "#Boolean datatype\n",
    "is_true=True\n",
    "print(type(True))"
   ],
   "id": "e8b1f8cae8808701",
   "outputs": [
    {
     "name": "stdout",
     "output_type": "stream",
     "text": [
      "<class 'bool'>\n"
     ]
    }
   ],
   "execution_count": 6
  },
  {
   "metadata": {
    "ExecuteTime": {
     "end_time": "2025-09-25T10:22:38.631652Z",
     "start_time": "2025-09-25T10:22:38.609115Z"
    }
   },
   "cell_type": "code",
   "source": [
    "a=10\n",
    "b=10\n",
    "type(a==b)"
   ],
   "id": "ccdb08caad6e5cca",
   "outputs": [
    {
     "data": {
      "text/plain": [
       "bool"
      ]
     },
     "execution_count": 7,
     "metadata": {},
     "output_type": "execute_result"
    }
   ],
   "execution_count": 7
  },
  {
   "metadata": {
    "ExecuteTime": {
     "end_time": "2025-09-25T10:24:16.729355Z",
     "start_time": "2025-09-25T10:24:16.718512Z"
    }
   },
   "cell_type": "code",
   "source": [
    "## common errors\n",
    "result=\"Hello\" + str(5)"
   ],
   "id": "35495d12cb9325a2",
   "outputs": [],
   "execution_count": 8
  },
  {
   "metadata": {
    "ExecuteTime": {
     "end_time": "2025-09-25T10:24:28.914152Z",
     "start_time": "2025-09-25T10:24:28.896943Z"
    }
   },
   "cell_type": "code",
   "source": "print(result)",
   "id": "42b72f6bf6c95ae2",
   "outputs": [
    {
     "name": "stdout",
     "output_type": "stream",
     "text": [
      "Hello5\n"
     ]
    }
   ],
   "execution_count": 9
  },
  {
   "metadata": {},
   "cell_type": "code",
   "outputs": [],
   "execution_count": null,
   "source": "",
   "id": "763b9daa63e0f01a"
  }
 ],
 "metadata": {
  "kernelspec": {
   "display_name": "Python 3",
   "language": "python",
   "name": "python3"
  },
  "language_info": {
   "codemirror_mode": {
    "name": "ipython",
    "version": 2
   },
   "file_extension": ".py",
   "mimetype": "text/x-python",
   "name": "python",
   "nbconvert_exporter": "python",
   "pygments_lexer": "ipython2",
   "version": "2.7.6"
  }
 },
 "nbformat": 4,
 "nbformat_minor": 5
}
