{
 "cells": [
  {
   "cell_type": "code",
   "id": "initial_id",
   "metadata": {
    "collapsed": true,
    "ExecuteTime": {
     "end_time": "2025-10-03T04:00:49.924445Z",
     "start_time": "2025-10-03T04:00:49.916351Z"
    }
   },
   "source": [
    "import logging\n",
    "\n",
    "#create a logger for module1\n",
    "logger1 = logging.getLogger('module_one')\n",
    "logger1.setLevel(logging.DEBUG)\n",
    "\n",
    "#Create a logger for modul 2\n",
    "logger2 = logging.getLogger('module_two')\n",
    "logger2.setLevel(logging.WARNING)\n",
    "\n"
   ],
   "outputs": [],
   "execution_count": 4
  },
  {
   "metadata": {
    "ExecuteTime": {
     "end_time": "2025-10-03T04:00:52.364006Z",
     "start_time": "2025-10-03T04:00:52.358401Z"
    }
   },
   "cell_type": "code",
   "source": [
    "#Configure logging settings\n",
    "logging.basicConfig(\n",
    "    format='%(asctime)s - %(name)s - %(levelname)s - %(message)s',\n",
    "    datefmt='%m/%d/%Y %I:%M:%S %p'\n",
    ")"
   ],
   "id": "25e279eff2e73db9",
   "outputs": [],
   "execution_count": 5
  },
  {
   "metadata": {
    "ExecuteTime": {
     "end_time": "2025-10-03T04:02:02.216100Z",
     "start_time": "2025-10-03T04:02:02.205550Z"
    }
   },
   "cell_type": "code",
   "source": [
    "#log message with different loggers\n",
    "logger1.debug('This is a debug message for logger one')\n",
    "logger2.warning('This is a warning message for logger two')\n",
    "logger2.error('This is an error message')"
   ],
   "id": "58e567b3db9215de",
   "outputs": [
    {
     "name": "stderr",
     "output_type": "stream",
     "text": [
      "10/03/2025 09:32:02 AM - module_one - DEBUG - This is a debug message for logger one\n",
      "10/03/2025 09:32:02 AM - module_two - WARNING - This is a warning message for logger two\n",
      "10/03/2025 09:32:02 AM - module_two - ERROR - This is an error message\n"
     ]
    }
   ],
   "execution_count": 8
  }
 ],
 "metadata": {
  "kernelspec": {
   "display_name": "Python 3",
   "language": "python",
   "name": "python3"
  },
  "language_info": {
   "codemirror_mode": {
    "name": "ipython",
    "version": 2
   },
   "file_extension": ".py",
   "mimetype": "text/x-python",
   "name": "python",
   "nbconvert_exporter": "python",
   "pygments_lexer": "ipython2",
   "version": "2.7.6"
  }
 },
 "nbformat": 4,
 "nbformat_minor": 5
}
