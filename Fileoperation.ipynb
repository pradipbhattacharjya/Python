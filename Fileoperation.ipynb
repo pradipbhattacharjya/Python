{
 "cells": [
  {
   "cell_type": "code",
   "id": "initial_id",
   "metadata": {
    "collapsed": true,
    "ExecuteTime": {
     "end_time": "2025-09-29T08:24:52.497370Z",
     "start_time": "2025-09-29T08:24:52.487404Z"
    }
   },
   "source": [
    "#Read a Whole File\n",
    "\n",
    "with open('example.txt', 'r') as file:\n",
    "    content=file.read()\n",
    "    print(content)"
   ],
   "outputs": [
    {
     "name": "stdout",
     "output_type": "stream",
     "text": [
      "Hello How are you?\n",
      "I am good\n",
      "Pradip is my name\n",
      "Welcome to the house\n"
     ]
    }
   ],
   "execution_count": 2
  },
  {
   "metadata": {
    "ExecuteTime": {
     "end_time": "2025-09-29T08:28:57.148034Z",
     "start_time": "2025-09-29T08:28:57.139339Z"
    }
   },
   "cell_type": "code",
   "source": [
    "# Read a file line by line\n",
    "with open('example.txt', 'r') as file:\n",
    "    for line in file:\n",
    "        print(line.strip()) #strip()removes the newline character"
   ],
   "id": "f04d4b12a2297aab",
   "outputs": [
    {
     "name": "stdout",
     "output_type": "stream",
     "text": [
      "Hello How are you?\n",
      "I am good\n",
      "Pradip is my name\n",
      "Welcome to the house\n"
     ]
    }
   ],
   "execution_count": 4
  },
  {
   "metadata": {
    "ExecuteTime": {
     "end_time": "2025-09-29T08:32:43.230936Z",
     "start_time": "2025-09-29T08:32:43.222863Z"
    }
   },
   "cell_type": "code",
   "source": [
    "#Writing a file(Overwriting)\n",
    "\n",
    "with open('example.txt', 'w') as file:\n",
    "    file.write('Hello world!\\n')\n",
    "    file.write('this  is a new line.')"
   ],
   "id": "525e69a841d240b4",
   "outputs": [],
   "execution_count": 6
  },
  {
   "metadata": {
    "ExecuteTime": {
     "end_time": "2025-09-29T08:36:08.281250Z",
     "start_time": "2025-09-29T08:36:08.272073Z"
    }
   },
   "cell_type": "code",
   "source": [
    "#Write a file(without Overwriting)\n",
    "\n",
    "with open('example.txt', 'a') as file:\n",
    "    file.write(\"\\nAppend operating taking place!\")"
   ],
   "id": "56ea889e96d7aea0",
   "outputs": [],
   "execution_count": 8
  },
  {
   "metadata": {
    "ExecuteTime": {
     "end_time": "2025-09-29T08:39:53.606654Z",
     "start_time": "2025-09-29T08:39:53.598422Z"
    }
   },
   "cell_type": "code",
   "source": [
    "#Writing a list of lines to a file.\n",
    "\n",
    "lines=['\\nFirst line \\n','Second line \\n','Third line \\n']\n",
    "with open('example.txt', 'a') as file:\n",
    "    file.writelines(lines)"
   ],
   "id": "e695967ac9ae68c7",
   "outputs": [],
   "execution_count": 10
  },
  {
   "metadata": {
    "ExecuteTime": {
     "end_time": "2025-09-29T09:08:38.576068Z",
     "start_time": "2025-09-29T09:08:38.568978Z"
    }
   },
   "cell_type": "code",
   "source": [
    "# Binary Files\n",
    "#Writing to a binary file\n",
    "date = b'\\x00\\x02\\x03\\x04'\n",
    "with open('example.bin', 'wb') as file:\n",
    "    file.write(date)\n"
   ],
   "id": "d15ad0babfec8bf5",
   "outputs": [],
   "execution_count": 1
  },
  {
   "metadata": {
    "ExecuteTime": {
     "end_time": "2025-09-29T09:11:56.630838Z",
     "start_time": "2025-09-29T09:11:56.621943Z"
    }
   },
   "cell_type": "code",
   "source": [
    "#Reading a binary file\n",
    "\n",
    "with open('example.bin', 'rb') as file:\n",
    "    content = file.read()\n",
    "    print(content)"
   ],
   "id": "61c25df09ec412d",
   "outputs": [
    {
     "name": "stdout",
     "output_type": "stream",
     "text": [
      "b'\\x00\\x02\\x03\\x04'\n"
     ]
    }
   ],
   "execution_count": 2
  },
  {
   "metadata": {
    "ExecuteTime": {
     "end_time": "2025-09-29T09:16:34.728431Z",
     "start_time": "2025-09-29T09:16:34.701187Z"
    }
   },
   "cell_type": "code",
   "source": [
    "# Read the content from source text file and write to a destination text file\n",
    "with open('example.bin', 'r') as source_file:\n",
    "    content = source_file.read()\n",
    "\n",
    "with open('destination.txt', 'w') as destination_file:\n",
    "    destination_file.write(content)"
   ],
   "id": "758f15b414bd3dac",
   "outputs": [],
   "execution_count": 3
  },
  {
   "metadata": {},
   "cell_type": "code",
   "outputs": [],
   "execution_count": null,
   "source": [
    "# Read a text file and count the number of lines, words, and characters.\n",
    "#Counting lines, and characters in a text file\n",
    "\n",
    "def count_text_file(file_path):\n",
    "    with open(file_path, 'r') as file:\n",
    "        lines = file.readlines()\n",
    "        line_count = len(lines)\n",
    "        word_count = sum(len(line.strip()) for line in lines)\n",
    "        char_count = sum(len(line) for line in lines)\n",
    "    return  line_count, word_count, char_count\n",
    "\n",
    "file_path = 'example.txt'\n",
    "lines, words, characters =count_text_file('file_path')\n",
    "print(f'Lines: {lines}, Words: {words}, Characters: {characters}')"
   ],
   "id": "85344291dda15425"
  },
  {
   "metadata": {
    "ExecuteTime": {
     "end_time": "2025-09-29T09:37:42.926260Z",
     "start_time": "2025-09-29T09:37:42.918293Z"
    }
   },
   "cell_type": "code",
   "source": [
    "# Writing and then reading a file\n",
    "\n",
    "with open('example.txt', 'w+') as file:\n",
    "    file.write(\"Hello world!\\n\")\n",
    "    file.write(\"This is a new line.\\n\")\n",
    "\n",
    "    ## Move the file cursor to the beginning\n",
    "    file.seek(0)\n",
    "\n",
    "    #Read the content of the file\n",
    "    content=file.read()\n",
    "    print(content)"
   ],
   "id": "fcb25ef08c150331",
   "outputs": [
    {
     "name": "stdout",
     "output_type": "stream",
     "text": [
      "Hello world!\n",
      "This is a new line.\n",
      "\n"
     ]
    }
   ],
   "execution_count": 7
  }
 ],
 "metadata": {
  "kernelspec": {
   "display_name": "Python 3",
   "language": "python",
   "name": "python3"
  },
  "language_info": {
   "codemirror_mode": {
    "name": "ipython",
    "version": 2
   },
   "file_extension": ".py",
   "mimetype": "text/x-python",
   "name": "python",
   "nbconvert_exporter": "python",
   "pygments_lexer": "ipython2",
   "version": "2.7.6"
  }
 },
 "nbformat": 4,
 "nbformat_minor": 5
}
