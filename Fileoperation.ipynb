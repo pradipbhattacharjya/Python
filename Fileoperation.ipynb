{
 "cells": [
  {
   "cell_type": "code",
   "id": "initial_id",
   "metadata": {
    "collapsed": true,
    "ExecuteTime": {
     "end_time": "2025-09-29T08:24:52.497370Z",
     "start_time": "2025-09-29T08:24:52.487404Z"
    }
   },
   "source": [
    "#Read a Whole File\n",
    "\n",
    "with open('example.txt', 'r') as file:\n",
    "    content=file.read()\n",
    "    print(content)"
   ],
   "outputs": [
    {
     "name": "stdout",
     "output_type": "stream",
     "text": [
      "Hello How are you?\n",
      "I am good\n",
      "Pradip is my name\n",
      "Welcome to the house\n"
     ]
    }
   ],
   "execution_count": 2
  },
  {
   "metadata": {
    "ExecuteTime": {
     "end_time": "2025-09-29T08:28:57.148034Z",
     "start_time": "2025-09-29T08:28:57.139339Z"
    }
   },
   "cell_type": "code",
   "source": [
    "# Read a file line by line\n",
    "with open('example.txt', 'r') as file:\n",
    "    for line in file:\n",
    "        print(line.strip()) #strip()removes the newline character"
   ],
   "id": "f04d4b12a2297aab",
   "outputs": [
    {
     "name": "stdout",
     "output_type": "stream",
     "text": [
      "Hello How are you?\n",
      "I am good\n",
      "Pradip is my name\n",
      "Welcome to the house\n"
     ]
    }
   ],
   "execution_count": 4
  },
  {
   "metadata": {
    "ExecuteTime": {
     "end_time": "2025-09-29T08:32:43.230936Z",
     "start_time": "2025-09-29T08:32:43.222863Z"
    }
   },
   "cell_type": "code",
   "source": [
    "#Writing a file(Overwriting)\n",
    "\n",
    "with open('example.txt', 'w') as file:\n",
    "    file.write('Hello world!\\n')\n",
    "    file.write('this  is a new line.')"
   ],
   "id": "525e69a841d240b4",
   "outputs": [],
   "execution_count": 6
  },
  {
   "metadata": {
    "ExecuteTime": {
     "end_time": "2025-09-29T08:36:08.281250Z",
     "start_time": "2025-09-29T08:36:08.272073Z"
    }
   },
   "cell_type": "code",
   "source": [
    "#Write a file(without Overwriting)\n",
    "\n",
    "with open('example.txt', 'a') as file:\n",
    "    file.write(\"\\nAppend operating taking place!\")"
   ],
   "id": "56ea889e96d7aea0",
   "outputs": [],
   "execution_count": 8
  },
  {
   "metadata": {
    "ExecuteTime": {
     "end_time": "2025-09-29T08:39:53.606654Z",
     "start_time": "2025-09-29T08:39:53.598422Z"
    }
   },
   "cell_type": "code",
   "source": [
    "#Writing a list of lines to a file.\n",
    "\n",
    "lines=['\\nFirst line \\n','Second line \\n','Third line \\n']\n",
    "with open('example.txt', 'a') as file:\n",
    "    file.writelines(lines)"
   ],
   "id": "e695967ac9ae68c7",
   "outputs": [],
   "execution_count": 10
  },
  {
   "metadata": {
    "ExecuteTime": {
     "end_time": "2025-09-29T09:08:38.576068Z",
     "start_time": "2025-09-29T09:08:38.568978Z"
    }
   },
   "cell_type": "code",
   "source": [
    "# Binary Files\n",
    "#Writing to a binary file\n",
    "date = b'\\x00\\x02\\x03\\x04'\n",
    "with open('example.bin', 'wb') as file:\n",
    "    file.write(date)\n"
   ],
   "id": "d15ad0babfec8bf5",
   "outputs": [],
   "execution_count": 1
  },
  {
   "metadata": {
    "ExecuteTime": {
     "end_time": "2025-09-29T09:11:56.630838Z",
     "start_time": "2025-09-29T09:11:56.621943Z"
    }
   },
   "cell_type": "code",
   "source": [
    "#Reading a binary file\n",
    "\n",
    "with open('example.bin', 'rb') as file:\n",
    "    content = file.read()\n",
    "    print(content)"
   ],
   "id": "61c25df09ec412d",
   "outputs": [
    {
     "name": "stdout",
     "output_type": "stream",
     "text": [
      "b'\\x00\\x02\\x03\\x04'\n"
     ]
    }
   ],
   "execution_count": 2
  },
  {
   "metadata": {
    "ExecuteTime": {
     "end_time": "2025-09-29T09:16:34.728431Z",
     "start_time": "2025-09-29T09:16:34.701187Z"
    }
   },
   "cell_type": "code",
   "source": [
    "# Read the content from source text file and write to a destination text file\n",
    "with open('example.bin', 'r') as source_file:\n",
    "    content = source_file.read()\n",
    "\n",
    "with open('destination.txt', 'w') as destination_file:\n",
    "    destination_file.write(content)"
   ],
   "id": "758f15b414bd3dac",
   "outputs": [],
   "execution_count": 3
  },
  {
   "metadata": {
    "ExecuteTime": {
     "end_time": "2025-09-29T09:29:04.570731Z",
     "start_time": "2025-09-29T09:29:03.521546Z"
    }
   },
   "cell_type": "code",
   "source": [
    "# Read a text file and count the number of lines, words, and characters.\n",
    "#Counting lines, and characters in a text file\n",
    "\n",
    "def count_text_file(file_path):\n",
    "    with open(file_path, 'r') as file:\n",
    "        lines = file.readlines()\n",
    "        line_count = len(lines)\n",
    "        word_count = sum(len(line.strip()) for line in lines)\n",
    "        char_count = sum(len(line) for line in lines)\n",
    "    return  line_count, word_count, char_count\n",
    "\n",
    "file_path = 'example.txt'\n",
    "lines, words, characters =count_text_file('file_path')\n",
    "print(f'Lines: {lines}, Words: {words}, Characters: {characters}')"
   ],
   "id": "5aff09a92def6eb3",
   "outputs": [
    {
     "ename": "FileNotFoundError",
     "evalue": "[Errno 2] No such file or directory: 'file_path'",
     "output_type": "error",
     "traceback": [
      "\u001B[31m---------------------------------------------------------------------------\u001B[39m",
      "\u001B[31mFileNotFoundError\u001B[39m                         Traceback (most recent call last)",
      "\u001B[36mCell\u001B[39m\u001B[36m \u001B[39m\u001B[32mIn[4]\u001B[39m\u001B[32m, line 13\u001B[39m\n\u001B[32m     10\u001B[39m     \u001B[38;5;28;01mreturn\u001B[39;00m  line_count, word_count, char_count\n\u001B[32m     12\u001B[39m file_path = \u001B[33m'\u001B[39m\u001B[33mexample.txt\u001B[39m\u001B[33m'\u001B[39m\n\u001B[32m---> \u001B[39m\u001B[32m13\u001B[39m lines, words, characters =\u001B[43mcount_text_file\u001B[49m\u001B[43m(\u001B[49m\u001B[33;43m'\u001B[39;49m\u001B[33;43mfile_path\u001B[39;49m\u001B[33;43m'\u001B[39;49m\u001B[43m)\u001B[49m\n\u001B[32m     14\u001B[39m \u001B[38;5;28mprint\u001B[39m(\u001B[33mf\u001B[39m\u001B[33m'\u001B[39m\u001B[33mLines: \u001B[39m\u001B[38;5;132;01m{\u001B[39;00mlines\u001B[38;5;132;01m}\u001B[39;00m\u001B[33m, Words: \u001B[39m\u001B[38;5;132;01m{\u001B[39;00mwords\u001B[38;5;132;01m}\u001B[39;00m\u001B[33m, Characters: \u001B[39m\u001B[38;5;132;01m{\u001B[39;00mcharacters\u001B[38;5;132;01m}\u001B[39;00m\u001B[33m'\u001B[39m)\n",
      "\u001B[36mCell\u001B[39m\u001B[36m \u001B[39m\u001B[32mIn[4]\u001B[39m\u001B[32m, line 5\u001B[39m, in \u001B[36mcount_text_file\u001B[39m\u001B[34m(file_path)\u001B[39m\n\u001B[32m      4\u001B[39m \u001B[38;5;28;01mdef\u001B[39;00m\u001B[38;5;250m \u001B[39m\u001B[34mcount_text_file\u001B[39m(file_path):\n\u001B[32m----> \u001B[39m\u001B[32m5\u001B[39m     \u001B[38;5;28;01mwith\u001B[39;00m \u001B[38;5;28;43mopen\u001B[39;49m\u001B[43m(\u001B[49m\u001B[43mfile_path\u001B[49m\u001B[43m,\u001B[49m\u001B[43m \u001B[49m\u001B[33;43m'\u001B[39;49m\u001B[33;43mr\u001B[39;49m\u001B[33;43m'\u001B[39;49m\u001B[43m)\u001B[49m \u001B[38;5;28;01mas\u001B[39;00m file:\n\u001B[32m      6\u001B[39m         lines = file.readlines()\n\u001B[32m      7\u001B[39m         line_count = \u001B[38;5;28mlen\u001B[39m(lines)\n",
      "\u001B[36mFile \u001B[39m\u001B[32m~\\AppData\\Roaming\\Python\\Python313\\site-packages\\IPython\\core\\interactiveshell.py:325\u001B[39m, in \u001B[36m_modified_open\u001B[39m\u001B[34m(file, *args, **kwargs)\u001B[39m\n\u001B[32m    318\u001B[39m \u001B[38;5;28;01mif\u001B[39;00m file \u001B[38;5;129;01min\u001B[39;00m {\u001B[32m0\u001B[39m, \u001B[32m1\u001B[39m, \u001B[32m2\u001B[39m}:\n\u001B[32m    319\u001B[39m     \u001B[38;5;28;01mraise\u001B[39;00m \u001B[38;5;167;01mValueError\u001B[39;00m(\n\u001B[32m    320\u001B[39m         \u001B[33mf\u001B[39m\u001B[33m\"\u001B[39m\u001B[33mIPython won\u001B[39m\u001B[33m'\u001B[39m\u001B[33mt let you open fd=\u001B[39m\u001B[38;5;132;01m{\u001B[39;00mfile\u001B[38;5;132;01m}\u001B[39;00m\u001B[33m by default \u001B[39m\u001B[33m\"\u001B[39m\n\u001B[32m    321\u001B[39m         \u001B[33m\"\u001B[39m\u001B[33mas it is likely to crash IPython. If you know what you are doing, \u001B[39m\u001B[33m\"\u001B[39m\n\u001B[32m    322\u001B[39m         \u001B[33m\"\u001B[39m\u001B[33myou can use builtins\u001B[39m\u001B[33m'\u001B[39m\u001B[33m open.\u001B[39m\u001B[33m\"\u001B[39m\n\u001B[32m    323\u001B[39m     )\n\u001B[32m--> \u001B[39m\u001B[32m325\u001B[39m \u001B[38;5;28;01mreturn\u001B[39;00m \u001B[43mio_open\u001B[49m\u001B[43m(\u001B[49m\u001B[43mfile\u001B[49m\u001B[43m,\u001B[49m\u001B[43m \u001B[49m\u001B[43m*\u001B[49m\u001B[43margs\u001B[49m\u001B[43m,\u001B[49m\u001B[43m \u001B[49m\u001B[43m*\u001B[49m\u001B[43m*\u001B[49m\u001B[43mkwargs\u001B[49m\u001B[43m)\u001B[49m\n",
      "\u001B[31mFileNotFoundError\u001B[39m: [Errno 2] No such file or directory: 'file_path'"
     ]
    }
   ],
   "execution_count": 4
  }
 ],
 "metadata": {
  "kernelspec": {
   "display_name": "Python 3",
   "language": "python",
   "name": "python3"
  },
  "language_info": {
   "codemirror_mode": {
    "name": "ipython",
    "version": 2
   },
   "file_extension": ".py",
   "mimetype": "text/x-python",
   "name": "python",
   "nbconvert_exporter": "python",
   "pygments_lexer": "ipython2",
   "version": "2.7.6"
  }
 },
 "nbformat": 4,
 "nbformat_minor": 5
}
