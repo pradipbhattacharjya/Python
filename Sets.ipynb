{
 "cells": [
  {
   "cell_type": "code",
   "id": "initial_id",
   "metadata": {
    "collapsed": true,
    "ExecuteTime": {
     "end_time": "2025-09-27T00:16:01.440755Z",
     "start_time": "2025-09-27T00:16:01.434209Z"
    }
   },
   "source": [
    "from Lists import words\n",
    "\n",
    "#Create a set\n",
    "my_set={1,2,3,4,5}\n",
    "print(my_set)\n",
    "print(type(my_set))"
   ],
   "outputs": [
    {
     "name": "stdout",
     "output_type": "stream",
     "text": [
      "{1, 2, 3, 4, 5}\n",
      "<class 'set'>\n"
     ]
    }
   ],
   "execution_count": 1
  },
  {
   "metadata": {
    "ExecuteTime": {
     "end_time": "2025-09-27T00:17:39.083724Z",
     "start_time": "2025-09-27T00:17:39.077213Z"
    }
   },
   "cell_type": "code",
   "source": [
    "my_empty_set=set([1,2,3,4,5,6])\n",
    "print(my_empty_set)\n",
    "print(type(my_empty_set))\n"
   ],
   "id": "d100adf1979d0810",
   "outputs": [
    {
     "name": "stdout",
     "output_type": "stream",
     "text": [
      "{1, 2, 3, 4, 5, 6}\n",
      "<class 'set'>\n"
     ]
    }
   ],
   "execution_count": 4
  },
  {
   "metadata": {
    "ExecuteTime": {
     "end_time": "2025-09-27T00:19:10.489612Z",
     "start_time": "2025-09-27T00:19:10.482894Z"
    }
   },
   "cell_type": "code",
   "source": [
    "my_empty_set=set([1,2,3,6,5,4,5,6])\n",
    "print(my_empty_set)"
   ],
   "id": "20f9b79a229d7eb9",
   "outputs": [
    {
     "name": "stdout",
     "output_type": "stream",
     "text": [
      "{1, 2, 3, 4, 5, 6}\n"
     ]
    }
   ],
   "execution_count": 5
  },
  {
   "metadata": {
    "ExecuteTime": {
     "end_time": "2025-09-27T00:29:31.234293Z",
     "start_time": "2025-09-27T00:29:31.230750Z"
    }
   },
   "cell_type": "code",
   "source": [
    "#Basics Set Operation\n",
    "#Adiing and Removing Elements\n",
    "my_set.add(7)"
   ],
   "id": "e554468b375e7dff",
   "outputs": [],
   "execution_count": 7
  },
  {
   "metadata": {
    "ExecuteTime": {
     "end_time": "2025-09-27T00:29:52.093688Z",
     "start_time": "2025-09-27T00:29:52.086020Z"
    }
   },
   "cell_type": "code",
   "source": "print(my_set)",
   "id": "28997ef51d1430a6",
   "outputs": [
    {
     "name": "stdout",
     "output_type": "stream",
     "text": [
      "{1, 2, 3, 4, 5, 7}\n"
     ]
    }
   ],
   "execution_count": 9
  },
  {
   "metadata": {
    "ExecuteTime": {
     "end_time": "2025-09-27T00:32:00.208563Z",
     "start_time": "2025-09-27T00:32:00.202132Z"
    }
   },
   "cell_type": "code",
   "source": [
    "#Remove the elements from a set\n",
    "my_set.remove(3)\n",
    "print(my_set)"
   ],
   "id": "c1dd16fc4a2532e4",
   "outputs": [
    {
     "name": "stdout",
     "output_type": "stream",
     "text": [
      "{1, 2, 4, 5, 7}\n"
     ]
    }
   ],
   "execution_count": 10
  },
  {
   "metadata": {
    "ExecuteTime": {
     "end_time": "2025-09-27T00:53:19.801631Z",
     "start_time": "2025-09-27T00:53:19.790254Z"
    }
   },
   "cell_type": "code",
   "source": [
    "#Mathemtical Operation\n",
    "set1={1,2,3,4,5,6}\n",
    "set2={4,5,6,7,8,9}\n",
    "\n",
    "#Union\n",
    "union_set=set1.union(set2)\n",
    "print(union_set)\n",
    "\n",
    "#Intersection\n",
    "intersection_set=set1.intersection(set2)\n",
    "print(intersection_set)\n",
    "\n",
    "set1.intersection_update(set2)\n",
    "print(set1)"
   ],
   "id": "b1a732959b286f40",
   "outputs": [
    {
     "name": "stdout",
     "output_type": "stream",
     "text": [
      "{1, 2, 3, 4, 5, 6, 7, 8, 9}\n",
      "{4, 5, 6}\n",
      "{4, 5, 6}\n"
     ]
    }
   ],
   "execution_count": 12
  },
  {
   "metadata": {
    "ExecuteTime": {
     "end_time": "2025-09-27T00:56:20.024499Z",
     "start_time": "2025-09-27T00:56:20.015480Z"
    }
   },
   "cell_type": "code",
   "source": [
    "set1={1,2,3,4,5,6}\n",
    "set2={4,5,6,7,8,9}\n",
    "\n",
    "#Difference\n",
    "print(set1.difference(set2))"
   ],
   "id": "cd77df56b6babfa4",
   "outputs": [
    {
     "name": "stdout",
     "output_type": "stream",
     "text": [
      "{1, 2, 3}\n"
     ]
    }
   ],
   "execution_count": 15
  },
  {
   "metadata": {
    "ExecuteTime": {
     "end_time": "2025-09-27T00:57:42.899059Z",
     "start_time": "2025-09-27T00:57:42.885743Z"
    }
   },
   "cell_type": "code",
   "source": "set1",
   "id": "2969842a15e13c30",
   "outputs": [
    {
     "data": {
      "text/plain": [
       "{1, 2, 3, 4, 5, 6}"
      ]
     },
     "execution_count": 16,
     "metadata": {},
     "output_type": "execute_result"
    }
   ],
   "execution_count": 16
  },
  {
   "metadata": {
    "ExecuteTime": {
     "end_time": "2025-09-27T00:58:10.778330Z",
     "start_time": "2025-09-27T00:58:10.771689Z"
    }
   },
   "cell_type": "code",
   "source": "set2.difference(set1)",
   "id": "ab17a46600aede86",
   "outputs": [
    {
     "data": {
      "text/plain": [
       "{7, 8, 9}"
      ]
     },
     "execution_count": 18,
     "metadata": {},
     "output_type": "execute_result"
    }
   ],
   "execution_count": 18
  },
  {
   "metadata": {
    "ExecuteTime": {
     "end_time": "2025-09-27T00:59:43.294057Z",
     "start_time": "2025-09-27T00:59:43.284614Z"
    }
   },
   "cell_type": "code",
   "source": [
    "#Symmetric Difference\n",
    "set1.symmetric_difference(set2)"
   ],
   "id": "bd98ae190d14a0fa",
   "outputs": [
    {
     "data": {
      "text/plain": [
       "{1, 2, 3, 7, 8, 9}"
      ]
     },
     "execution_count": 19,
     "metadata": {},
     "output_type": "execute_result"
    }
   ],
   "execution_count": 19
  },
  {
   "metadata": {
    "ExecuteTime": {
     "end_time": "2025-09-27T01:13:58.034384Z",
     "start_time": "2025-09-27T01:13:58.025001Z"
    }
   },
   "cell_type": "code",
   "source": [
    "##Sets Methods\n",
    "set1={1,2,3,4,5}\n",
    "set2={3,4,5}\n",
    "\n",
    "#is subset\n",
    "print(set1.issubset(set2))\n",
    "print(set1.issuperset(set2))"
   ],
   "id": "5206642c5890adbf",
   "outputs": [
    {
     "name": "stdout",
     "output_type": "stream",
     "text": [
      "False\n",
      "True\n"
     ]
    }
   ],
   "execution_count": 24
  },
  {
   "metadata": {
    "ExecuteTime": {
     "end_time": "2025-09-27T01:15:17.615786Z",
     "start_time": "2025-09-27T01:15:17.596164Z"
    }
   },
   "cell_type": "code",
   "source": [
    "lst=[1,2,2,3,4,4,5]\n",
    "set(lst)"
   ],
   "id": "13c7ef909372a7ab",
   "outputs": [
    {
     "data": {
      "text/plain": [
       "{1, 2, 3, 4, 5}"
      ]
     },
     "execution_count": 25,
     "metadata": {},
     "output_type": "execute_result"
    }
   ],
   "execution_count": 25
  },
  {
   "metadata": {
    "ExecuteTime": {
     "end_time": "2025-09-27T01:22:21.365664Z",
     "start_time": "2025-09-27T01:22:21.354584Z"
    }
   },
   "cell_type": "code",
   "source": [
    "##Counting Unique words in text\n",
    "\n",
    "text=\"In this  tutorial we are discussing about sets\"\n",
    "words=text.split()\n",
    "\n",
    "##convert list of words to set get unique words\n",
    "unique_words=set(words)\n",
    "print(unique_words)\n",
    "print(len(unique_words))"
   ],
   "id": "36d8caf84e6d5cb8",
   "outputs": [
    {
     "name": "stdout",
     "output_type": "stream",
     "text": [
      "{'sets', 'In', 'tutorial', 'are', 'we', 'this', 'discussing', 'about'}\n",
      "8\n"
     ]
    }
   ],
   "execution_count": 26
  }
 ],
 "metadata": {
  "kernelspec": {
   "display_name": "Python 3",
   "language": "python",
   "name": "python3"
  },
  "language_info": {
   "codemirror_mode": {
    "name": "ipython",
    "version": 2
   },
   "file_extension": ".py",
   "mimetype": "text/x-python",
   "name": "python",
   "nbconvert_exporter": "python",
   "pygments_lexer": "ipython2",
   "version": "2.7.6"
  }
 },
 "nbformat": 4,
 "nbformat_minor": 5
}
