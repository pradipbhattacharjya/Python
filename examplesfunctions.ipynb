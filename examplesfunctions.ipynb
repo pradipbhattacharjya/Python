{
 "cells": [
  {
   "cell_type": "code",
   "id": "initial_id",
   "metadata": {
    "collapsed": true,
    "ExecuteTime": {
     "end_time": "2025-09-28T09:45:09.549959Z",
     "start_time": "2025-09-28T09:45:09.539853Z"
    }
   },
   "source": [
    "#Example 1:Temperature Conversion\n",
    "\n",
    "def convert_temperature(temp,unit):\n",
    "    \"\"\"This function converts temperature between Celsius and Fahrenheit.\"\"\"\n",
    "    if unit == 'C':\n",
    "        return temp * 9 / 5 + 32 #Celsius To Fahrenheit\n",
    "    elif unit == 'F':\n",
    "        return (temp- 32)*5/9 #Fahrenheit to celsius\n",
    "    else:\n",
    "        return None\n",
    "\n",
    "print(convert_temperature(25,\"C\"))\n",
    "print(convert_temperature(77,\"F\"))"
   ],
   "outputs": [
    {
     "name": "stdout",
     "output_type": "stream",
     "text": [
      "77.0\n",
      "25.0\n"
     ]
    }
   ],
   "execution_count": 5
  },
  {
   "metadata": {
    "ExecuteTime": {
     "end_time": "2025-09-28T09:59:35.044825Z",
     "start_time": "2025-09-28T09:59:35.034205Z"
    }
   },
   "cell_type": "code",
   "source": [
    "#Example2:Password Strength Checker\n",
    "\n",
    "def is_trong_password(password):\n",
    "    \"\"\"This function checks if the password is strong or not.\"\"\"\n",
    "    if len(password) < 8:\n",
    "        return False\n",
    "    if not any(char.isdigit() for char in password):\n",
    "        return False\n",
    "    if not any(char.islower() for char in password):\n",
    "        return False\n",
    "    if not any(char.isupper() for char in password):\n",
    "        return  False\n",
    "    if not any(char in '@#$%^&*_+' for char in password):\n",
    "        return False\n",
    "    return True\n",
    "\n",
    "#calling the function\n",
    "print(is_trong_password('Pradip'))\n",
    "print(is_trong_password('S@0bhapqwe'))"
   ],
   "id": "e9e7be728a7180b6",
   "outputs": [
    {
     "name": "stdout",
     "output_type": "stream",
     "text": [
      "False\n",
      "True\n"
     ]
    }
   ],
   "execution_count": 8
  }
 ],
 "metadata": {
  "kernelspec": {
   "display_name": "Python 3",
   "language": "python",
   "name": "python3"
  },
  "language_info": {
   "codemirror_mode": {
    "name": "ipython",
    "version": 2
   },
   "file_extension": ".py",
   "mimetype": "text/x-python",
   "name": "python",
   "nbconvert_exporter": "python",
   "pygments_lexer": "ipython2",
   "version": "2.7.6"
  }
 },
 "nbformat": 4,
 "nbformat_minor": 5
}
