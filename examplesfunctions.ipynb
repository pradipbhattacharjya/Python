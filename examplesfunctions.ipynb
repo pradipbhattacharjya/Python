{
 "cells": [
  {
   "cell_type": "code",
   "id": "initial_id",
   "metadata": {
    "collapsed": true,
    "ExecuteTime": {
     "end_time": "2025-09-28T09:45:09.549959Z",
     "start_time": "2025-09-28T09:45:09.539853Z"
    }
   },
   "source": [
    "#Example 1:Temperature Conversion\n",
    "\n",
    "def convert_temperature(temp,unit):\n",
    "    \"\"\"This function converts temperature between Celsius and Fahrenheit.\"\"\"\n",
    "    if unit == 'C':\n",
    "        return temp * 9 / 5 + 32 #Celsius To Fahrenheit\n",
    "    elif unit == 'F':\n",
    "        return (temp- 32)*5/9 #Fahrenheit to celsius\n",
    "    else:\n",
    "        return None\n",
    "\n",
    "print(convert_temperature(25,\"C\"))\n",
    "print(convert_temperature(77,\"F\"))"
   ],
   "outputs": [
    {
     "name": "stdout",
     "output_type": "stream",
     "text": [
      "77.0\n",
      "25.0\n"
     ]
    }
   ],
   "execution_count": 5
  },
  {
   "metadata": {
    "ExecuteTime": {
     "end_time": "2025-09-28T09:59:35.044825Z",
     "start_time": "2025-09-28T09:59:35.034205Z"
    }
   },
   "cell_type": "code",
   "source": [
    "#Example2:Password Strength Checker\n",
    "\n",
    "def is_trong_password(password):\n",
    "    \"\"\"This function checks if the password is strong or not.\"\"\"\n",
    "    if len(password) < 8:\n",
    "        return False\n",
    "    if not any(char.isdigit() for char in password):\n",
    "        return False\n",
    "    if not any(char.islower() for char in password):\n",
    "        return False\n",
    "    if not any(char.isupper() for char in password):\n",
    "        return  False\n",
    "    if not any(char in '@#$%^&*_+' for char in password):\n",
    "        return False\n",
    "    return True\n",
    "\n",
    "#calling the function\n",
    "print(is_trong_password('Pradip'))\n",
    "print(is_trong_password('S@0bhapqwe'))"
   ],
   "id": "e9e7be728a7180b6",
   "outputs": [
    {
     "name": "stdout",
     "output_type": "stream",
     "text": [
      "False\n",
      "True\n"
     ]
    }
   ],
   "execution_count": 8
  },
  {
   "metadata": {
    "ExecuteTime": {
     "end_time": "2025-09-28T10:13:45.508707Z",
     "start_time": "2025-09-28T10:13:45.496581Z"
    }
   },
   "cell_type": "code",
   "source": [
    "#Example 3: Calculate the Total Cost of Items in a Shopping Cart\n",
    "def calculate_total_cost(cart):\n",
    "    \"\"\"This function calculates the total cost of a cart.\"\"\"\n",
    "    total_cost=0\n",
    "    for item in cart:\n",
    "        total_cost +=item['price']*item['quantity']\n",
    "\n",
    "    return total_cost\n",
    "\n",
    "#Example cart data\n",
    "\n",
    "cart=[\n",
    "    {'name':'Apple','price':0.5,'quantity':4},\n",
    "    {'name':'Banana','price':0.3,'quantity':6},\n",
    "    {'name':'Orange','price':0.7,'quantity':3},\n",
    "\n",
    "]\n",
    "\n",
    "#callig the function\n",
    "total_cost=calculate_total_cost(cart)\n",
    "print(total_cost)"
   ],
   "id": "deb5262c5b6dc4d1",
   "outputs": [
    {
     "name": "stdout",
     "output_type": "stream",
     "text": [
      "5.8999999999999995\n"
     ]
    }
   ],
   "execution_count": 10
  },
  {
   "metadata": {
    "ExecuteTime": {
     "end_time": "2025-09-28T10:25:04.128414Z",
     "start_time": "2025-09-28T10:25:04.120372Z"
    }
   },
   "cell_type": "code",
   "source": [
    "#Example 4:Check If a String is Palindrome\n",
    "def is_palindrome(s):\n",
    "    \"\"\"This function checks if a string is a palindrome.\"\"\"\n",
    "    s=s.lower().replace(\" \",\"\")\n",
    "    return s[::-1]==s\n",
    "print(is_palindrome('A man a plan a canal Panama'))\n",
    "print(is_palindrome('Hello'))"
   ],
   "id": "cdf5d85e1f6a4337",
   "outputs": [
    {
     "name": "stdout",
     "output_type": "stream",
     "text": [
      "True\n",
      "False\n"
     ]
    }
   ],
   "execution_count": 14
  },
  {
   "metadata": {
    "ExecuteTime": {
     "end_time": "2025-09-28T10:29:04.722941Z",
     "start_time": "2025-09-28T10:29:04.711676Z"
    }
   },
   "cell_type": "code",
   "source": [
    "#Example 5: Calculate the factorials of a number using recursion\n",
    "def factorial(n):\n",
    "    \"\"\"This function returns the factorial of a number.\"\"\"\n",
    "    if n==0:\n",
    "        return 1\n",
    "    else:\n",
    "        return n*factorial(n-1)\n",
    "print(factorial(5))"
   ],
   "id": "6f6319fa88745b94",
   "outputs": [
    {
     "name": "stdout",
     "output_type": "stream",
     "text": [
      "120\n"
     ]
    }
   ],
   "execution_count": 15
  }
 ],
 "metadata": {
  "kernelspec": {
   "display_name": "Python 3",
   "language": "python",
   "name": "python3"
  },
  "language_info": {
   "codemirror_mode": {
    "name": "ipython",
    "version": 2
   },
   "file_extension": ".py",
   "mimetype": "text/x-python",
   "name": "python",
   "nbconvert_exporter": "python",
   "pygments_lexer": "ipython2",
   "version": "2.7.6"
  }
 },
 "nbformat": 4,
 "nbformat_minor": 5
}
