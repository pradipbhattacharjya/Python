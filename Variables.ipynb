{
 "cells": [
  {
   "cell_type": "code",
   "id": "initial_id",
   "metadata": {
    "collapsed": true,
    "ExecuteTime": {
     "end_time": "2025-09-25T09:33:25.475269Z",
     "start_time": "2025-09-25T09:33:25.470372Z"
    }
   },
   "source": "a = 100",
   "outputs": [],
   "execution_count": 1
  },
  {
   "metadata": {
    "ExecuteTime": {
     "end_time": "2025-09-25T09:37:30.131651Z",
     "start_time": "2025-09-25T09:37:30.113743Z"
    }
   },
   "cell_type": "code",
   "source": [
    "#Declaring and assigning variables\n",
    "age=32\n",
    "height=6.1\n",
    "name=\"Krish\"\n",
    "is_student=True\n",
    "\n",
    "## printing the variables\n",
    "print(\"age:\",age)\n",
    "print(\"height:\",height)\n",
    "print(\"name:\",name)"
   ],
   "id": "fb8ab6ddade4222c",
   "outputs": [
    {
     "name": "stdout",
     "output_type": "stream",
     "text": [
      "age: 32\n",
      "height: 6.1\n",
      "name: Krish\n"
     ]
    }
   ],
   "execution_count": 2
  },
  {
   "metadata": {
    "ExecuteTime": {
     "end_time": "2025-09-25T09:44:11.399341Z",
     "start_time": "2025-09-25T09:44:11.388949Z"
    }
   },
   "cell_type": "code",
   "source": [
    "## Naming Conventions\n",
    "## variable names should be decriptive\n",
    "##They must start with a letter or an '_' and contains letter,numbers and underscores\n",
    "##variables names case sensitive\n",
    "#valid variable names\n",
    "\n",
    "first_name=\"KRish\"\n",
    "last_name=\"Naik\""
   ],
   "id": "887de98049e5e5fc",
   "outputs": [],
   "execution_count": 3
  },
  {
   "metadata": {},
   "cell_type": "code",
   "outputs": [],
   "execution_count": null,
   "source": [
    "#Invalid variable names\n",
    "#2age =30\n",
    "#first-name=\"Krish\"\n",
    "#@name=\"pradip\""
   ],
   "id": "b1966667bb9420ba"
  },
  {
   "metadata": {
    "ExecuteTime": {
     "end_time": "2025-09-25T09:47:58.576914Z",
     "start_time": "2025-09-25T09:47:58.563685Z"
    }
   },
   "cell_type": "code",
   "source": [
    "##case sensitivity\n",
    "name=\"pradip\"\n",
    "Name=\"bhattacharjya\"\n",
    "name==Name"
   ],
   "id": "d80f9c0f68321f73",
   "outputs": [
    {
     "data": {
      "text/plain": [
       "False"
      ]
     },
     "execution_count": 5,
     "metadata": {},
     "output_type": "execute_result"
    }
   ],
   "execution_count": 5
  },
  {
   "metadata": {
    "ExecuteTime": {
     "end_time": "2025-09-25T09:51:36.710281Z",
     "start_time": "2025-09-25T09:51:36.697158Z"
    }
   },
   "cell_type": "code",
   "source": [
    "#Understnading Variable Types\n",
    "##Python is dyna,ically typed,type of a variable is determined at runtime\n",
    "age=25#int\n",
    "height=6.1#float\n",
    "name=\"pradip\"#str\n",
    "is_student=True #bool\n",
    "\n",
    "print(type(name))"
   ],
   "id": "c14a5751a1fc6fd3",
   "outputs": [
    {
     "name": "stdout",
     "output_type": "stream",
     "text": [
      "<class 'str'>\n"
     ]
    }
   ],
   "execution_count": 7
  },
  {
   "metadata": {
    "ExecuteTime": {
     "end_time": "2025-09-25T09:52:42.925624Z",
     "start_time": "2025-09-25T09:52:42.910424Z"
    }
   },
   "cell_type": "code",
   "source": [
    "#Type Checking and Conversion\n",
    "\n",
    "type(height)"
   ],
   "id": "c49eeffb89811ab0",
   "outputs": [
    {
     "data": {
      "text/plain": [
       "float"
      ]
     },
     "execution_count": 8,
     "metadata": {},
     "output_type": "execute_result"
    }
   ],
   "execution_count": 8
  },
  {
   "metadata": {
    "ExecuteTime": {
     "end_time": "2025-09-25T09:54:01.868565Z",
     "start_time": "2025-09-25T09:54:01.855810Z"
    }
   },
   "cell_type": "code",
   "source": [
    "age=25\n",
    "print(type(age))\n",
    "\n",
    "#Type conversion\n",
    "age_str=str(age)\n",
    "print(type(age_str))"
   ],
   "id": "2ed8b7335713f9ec",
   "outputs": [
    {
     "name": "stdout",
     "output_type": "stream",
     "text": [
      "<class 'int'>\n",
      "<class 'str'>\n"
     ]
    }
   ],
   "execution_count": 12
  },
  {
   "metadata": {
    "ExecuteTime": {
     "end_time": "2025-09-25T09:55:04.156826Z",
     "start_time": "2025-09-25T09:55:04.143987Z"
    }
   },
   "cell_type": "code",
   "source": [
    "age='25'\n",
    "print(type(int(age)))"
   ],
   "id": "eef3b854a028804c",
   "outputs": [
    {
     "name": "stdout",
     "output_type": "stream",
     "text": [
      "<class 'int'>\n"
     ]
    }
   ],
   "execution_count": 13
  },
  {
   "metadata": {
    "ExecuteTime": {
     "end_time": "2025-09-25T09:56:15.081044Z",
     "start_time": "2025-09-25T09:56:15.070540Z"
    }
   },
   "cell_type": "code",
   "source": [
    "height=5.11\n",
    "type(height)"
   ],
   "id": "6cd05dec128267d0",
   "outputs": [
    {
     "data": {
      "text/plain": [
       "float"
      ]
     },
     "execution_count": 14,
     "metadata": {},
     "output_type": "execute_result"
    }
   ],
   "execution_count": 14
  },
  {
   "metadata": {
    "ExecuteTime": {
     "end_time": "2025-09-25T09:57:18.533307Z",
     "start_time": "2025-09-25T09:57:18.526199Z"
    }
   },
   "cell_type": "code",
   "source": [
    "int(height)\n",
    "type(int(height))"
   ],
   "id": "677d2921af569eec",
   "outputs": [
    {
     "data": {
      "text/plain": [
       "int"
      ]
     },
     "execution_count": 16,
     "metadata": {},
     "output_type": "execute_result"
    }
   ],
   "execution_count": 16
  },
  {
   "metadata": {
    "ExecuteTime": {
     "end_time": "2025-09-25T10:02:21.720442Z",
     "start_time": "2025-09-25T10:02:21.707687Z"
    }
   },
   "cell_type": "code",
   "source": [
    "##Dynamic Typing\n",
    "#Python allows the type of a vraible to change as the program executes\n",
    "\n",
    "var=10\n",
    "print(var,type(var))\n",
    "\n",
    "var=\"Hello\"\n",
    "print(var,type(var))\n",
    "\n",
    "var=3.14\n",
    "print(var,type(var))"
   ],
   "id": "2cd7964095109055",
   "outputs": [
    {
     "name": "stdout",
     "output_type": "stream",
     "text": [
      "10 <class 'int'>\n",
      "Hello <class 'str'>\n",
      "3.14 <class 'float'>\n"
     ]
    }
   ],
   "execution_count": 20
  },
  {
   "metadata": {
    "ExecuteTime": {
     "end_time": "2025-09-25T10:05:03.891564Z",
     "start_time": "2025-09-25T10:04:58.320206Z"
    }
   },
   "cell_type": "code",
   "source": [
    "#input\n",
    "age=int(input(\"What i the age\"))\n",
    "print(age)\n",
    "print(type(age))"
   ],
   "id": "fec5b41874437b0f",
   "outputs": [
    {
     "name": "stdout",
     "output_type": "stream",
     "text": [
      "234\n",
      "<class 'int'>\n"
     ]
    }
   ],
   "execution_count": 23
  },
  {
   "metadata": {
    "ExecuteTime": {
     "end_time": "2025-09-25T10:08:50.384713Z",
     "start_time": "2025-09-25T10:08:34.054869Z"
    }
   },
   "cell_type": "code",
   "source": [
    "##Simple calculator\n",
    "num1 = float(input(\"Enter the first number\"))\n",
    "num2 = float(input(\"Enter the second number\"))\n",
    "\n",
    "sum = num1+num2\n",
    "difference = num1-num2\n",
    "product = num1*num2\n",
    "quotient = num1/num2\n",
    "\n",
    "print(\"sum:\",sum)\n",
    "print(\"difference:\",difference)\n",
    "print(\"product:\",product)\n",
    "print(\"Quotient:\",quotient)\n",
    "\n"
   ],
   "id": "ab5582d815277c51",
   "outputs": [
    {
     "name": "stdout",
     "output_type": "stream",
     "text": [
      "sum: 25.0\n",
      "difference: -1.0\n",
      "product: 156.0\n",
      "Quotient: 0.9230769230769231\n"
     ]
    }
   ],
   "execution_count": 24
  }
 ],
 "metadata": {
  "kernelspec": {
   "display_name": "Python 3",
   "language": "python",
   "name": "python3"
  },
  "language_info": {
   "codemirror_mode": {
    "name": "ipython",
    "version": 2
   },
   "file_extension": ".py",
   "mimetype": "text/x-python",
   "name": "python",
   "nbconvert_exporter": "python",
   "pygments_lexer": "ipython2",
   "version": "2.7.6"
  }
 },
 "nbformat": 4,
 "nbformat_minor": 5
}
