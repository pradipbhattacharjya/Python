{
 "cells": [
  {
   "cell_type": "code",
   "id": "initial_id",
   "metadata": {
    "collapsed": true,
    "ExecuteTime": {
     "end_time": "2025-09-27T01:28:05.126829Z",
     "start_time": "2025-09-27T01:28:05.117459Z"
    }
   },
   "source": [
    "#Creating a tuple\n",
    "empty_tuple=()\n",
    "print(empty_tuple)\n",
    "print(type(empty_tuple))"
   ],
   "outputs": [
    {
     "name": "stdout",
     "output_type": "stream",
     "text": [
      "()\n",
      "<class 'tuple'>\n"
     ]
    }
   ],
   "execution_count": 1
  },
  {
   "metadata": {
    "ExecuteTime": {
     "end_time": "2025-09-27T01:35:19.052633Z",
     "start_time": "2025-09-27T01:35:19.044655Z"
    }
   },
   "cell_type": "code",
   "source": [
    "lst=list()\n",
    "print(type(lst))\n",
    "tpl=tuple()\n",
    "print(type(tpl))"
   ],
   "id": "7e192a28abd9f128",
   "outputs": [
    {
     "name": "stdout",
     "output_type": "stream",
     "text": [
      "<class 'list'>\n",
      "<class 'tuple'>\n"
     ]
    }
   ],
   "execution_count": 5
  },
  {
   "metadata": {
    "ExecuteTime": {
     "end_time": "2025-09-27T01:38:20.331965Z",
     "start_time": "2025-09-27T01:38:20.316157Z"
    }
   },
   "cell_type": "code",
   "source": [
    "numbers=tuple([1,2,3,4,5,6])\n",
    "numbers"
   ],
   "id": "93f68027ab187dbd",
   "outputs": [
    {
     "data": {
      "text/plain": [
       "(1, 2, 3, 4, 5, 6)"
      ]
     },
     "execution_count": 6,
     "metadata": {},
     "output_type": "execute_result"
    }
   ],
   "execution_count": 6
  },
  {
   "metadata": {
    "ExecuteTime": {
     "end_time": "2025-09-27T01:38:51.420394Z",
     "start_time": "2025-09-27T01:38:51.408424Z"
    }
   },
   "cell_type": "code",
   "source": "list((1,2,3,4,5,6))",
   "id": "cc78c03d6aaa9fb",
   "outputs": [
    {
     "data": {
      "text/plain": [
       "[1, 2, 3, 4, 5, 6]"
      ]
     },
     "execution_count": 7,
     "metadata": {},
     "output_type": "execute_result"
    }
   ],
   "execution_count": 7
  },
  {
   "metadata": {
    "ExecuteTime": {
     "end_time": "2025-09-27T01:39:56.376275Z",
     "start_time": "2025-09-27T01:39:56.368520Z"
    }
   },
   "cell_type": "code",
   "source": [
    "mixed_tuple=(1,\"Hello World\",3.14,True)\n",
    "print(mixed_tuple)"
   ],
   "id": "aebb883b6038af41",
   "outputs": [
    {
     "name": "stdout",
     "output_type": "stream",
     "text": [
      "(1, 'Hello World', 3.14, True)\n"
     ]
    }
   ],
   "execution_count": 8
  },
  {
   "metadata": {
    "ExecuteTime": {
     "end_time": "2025-09-27T01:41:08.199904Z",
     "start_time": "2025-09-27T01:41:08.194763Z"
    }
   },
   "cell_type": "code",
   "source": [
    "#Accessing Tuple Elements\n",
    "\n",
    "numbers"
   ],
   "id": "94990dd1bd34ab1d",
   "outputs": [
    {
     "data": {
      "text/plain": [
       "(1, 2, 3, 4, 5, 6)"
      ]
     },
     "execution_count": 9,
     "metadata": {},
     "output_type": "execute_result"
    }
   ],
   "execution_count": 9
  },
  {
   "metadata": {
    "ExecuteTime": {
     "end_time": "2025-09-27T01:42:08.471264Z",
     "start_time": "2025-09-27T01:42:08.464181Z"
    }
   },
   "cell_type": "code",
   "source": [
    "print(numbers[0])\n",
    "print(numbers[-1])\n"
   ],
   "id": "9db44a36c74280b3",
   "outputs": [
    {
     "name": "stdout",
     "output_type": "stream",
     "text": [
      "1\n",
      "6\n"
     ]
    }
   ],
   "execution_count": 12
  },
  {
   "metadata": {
    "ExecuteTime": {
     "end_time": "2025-09-27T01:42:34.247569Z",
     "start_time": "2025-09-27T01:42:34.240083Z"
    }
   },
   "cell_type": "code",
   "source": "numbers[0:4]",
   "id": "6b48a658e2b13787",
   "outputs": [
    {
     "data": {
      "text/plain": [
       "(1, 2, 3, 4)"
      ]
     },
     "execution_count": 13,
     "metadata": {},
     "output_type": "execute_result"
    }
   ],
   "execution_count": 13
  },
  {
   "metadata": {
    "ExecuteTime": {
     "end_time": "2025-09-27T01:42:50.332332Z",
     "start_time": "2025-09-27T01:42:50.325025Z"
    }
   },
   "cell_type": "code",
   "source": "numbers[::-1]",
   "id": "a90195f34e859fca",
   "outputs": [
    {
     "data": {
      "text/plain": [
       "(6, 5, 4, 3, 2, 1)"
      ]
     },
     "execution_count": 14,
     "metadata": {},
     "output_type": "execute_result"
    }
   ],
   "execution_count": 14
  },
  {
   "metadata": {
    "ExecuteTime": {
     "end_time": "2025-09-27T01:45:08.700507Z",
     "start_time": "2025-09-27T01:45:08.693753Z"
    }
   },
   "cell_type": "code",
   "source": [
    "# Tuple Operations\n",
    "concatenation_tuple =numbers + mixed_tuple\n",
    "print(concatenation_tuple)"
   ],
   "id": "de2e117c802c688b",
   "outputs": [
    {
     "name": "stdout",
     "output_type": "stream",
     "text": [
      "(1, 2, 3, 4, 5, 6, 1, 'Hello World', 3.14, True)\n"
     ]
    }
   ],
   "execution_count": 16
  },
  {
   "metadata": {
    "ExecuteTime": {
     "end_time": "2025-09-27T01:46:13.374490Z",
     "start_time": "2025-09-27T01:46:13.362533Z"
    }
   },
   "cell_type": "code",
   "source": "mixed_tuple * 3",
   "id": "a79cc47640b6b289",
   "outputs": [
    {
     "data": {
      "text/plain": [
       "(1,\n",
       " 'Hello World',\n",
       " 3.14,\n",
       " True,\n",
       " 1,\n",
       " 'Hello World',\n",
       " 3.14,\n",
       " True,\n",
       " 1,\n",
       " 'Hello World',\n",
       " 3.14,\n",
       " True)"
      ]
     },
     "execution_count": 17,
     "metadata": {},
     "output_type": "execute_result"
    }
   ],
   "execution_count": 17
  },
  {
   "metadata": {
    "ExecuteTime": {
     "end_time": "2025-09-27T01:47:08.560862Z",
     "start_time": "2025-09-27T01:47:08.552152Z"
    }
   },
   "cell_type": "code",
   "source": "numbers * 3",
   "id": "4ce3fbed9bc0d19c",
   "outputs": [
    {
     "data": {
      "text/plain": [
       "(1, 2, 3, 4, 5, 6, 1, 2, 3, 4, 5, 6, 1, 2, 3, 4, 5, 6)"
      ]
     },
     "execution_count": 18,
     "metadata": {},
     "output_type": "execute_result"
    }
   ],
   "execution_count": 18
  },
  {
   "metadata": {
    "ExecuteTime": {
     "end_time": "2025-09-27T01:51:49.075083Z",
     "start_time": "2025-09-27T01:51:49.069384Z"
    }
   },
   "cell_type": "code",
   "source": [
    "## Immutable Nature of Tuples\n",
    "## Tuples are immutable,meaning their elements cannot be changed once assigned.\n",
    "\n",
    "lst=[1,2,3,4,5]\n",
    "print(lst)\n",
    "\n",
    "lst[1]=\"krish\"\n",
    "print(lst)"
   ],
   "id": "71096df8047a585a",
   "outputs": [
    {
     "name": "stdout",
     "output_type": "stream",
     "text": [
      "[1, 2, 3, 4, 5]\n",
      "[1, 'krish', 3, 4, 5]\n"
     ]
    }
   ],
   "execution_count": 20
  },
  {
   "metadata": {
    "ExecuteTime": {
     "end_time": "2025-09-27T01:52:20.153375Z",
     "start_time": "2025-09-27T01:52:20.145727Z"
    }
   },
   "cell_type": "code",
   "source": "numbers[1]",
   "id": "42abd8692e3a0280",
   "outputs": [
    {
     "data": {
      "text/plain": [
       "2"
      ]
     },
     "execution_count": 21,
     "metadata": {},
     "output_type": "execute_result"
    }
   ],
   "execution_count": 21
  },
  {
   "metadata": {
    "ExecuteTime": {
     "end_time": "2025-09-27T01:54:14.623082Z",
     "start_time": "2025-09-27T01:54:14.615834Z"
    }
   },
   "cell_type": "code",
   "source": [
    "##Tuple Methods\n",
    "print(numbers.count(1))\n",
    "print(numbers.index(3))"
   ],
   "id": "8aa2408e6707e40c",
   "outputs": [
    {
     "name": "stdout",
     "output_type": "stream",
     "text": [
      "1\n",
      "2\n"
     ]
    }
   ],
   "execution_count": 23
  },
  {
   "metadata": {
    "ExecuteTime": {
     "end_time": "2025-09-27T01:56:20.069690Z",
     "start_time": "2025-09-27T01:56:20.063599Z"
    }
   },
   "cell_type": "code",
   "source": [
    "##Packing and Unpacking tuple\n",
    "\n",
    "packed_tuple=1,\"Hello\",3.14\n",
    "print(packed_tuple)"
   ],
   "id": "befce73b56001b87",
   "outputs": [
    {
     "name": "stdout",
     "output_type": "stream",
     "text": [
      "(1, 'Hello', 3.14)\n"
     ]
    }
   ],
   "execution_count": 24
  },
  {
   "metadata": {
    "ExecuteTime": {
     "end_time": "2025-09-27T01:57:25.945655Z",
     "start_time": "2025-09-27T01:57:25.939364Z"
    }
   },
   "cell_type": "code",
   "source": [
    "#unpacking a tuple\n",
    "a,b,c=packed_tuple\n",
    "print(a)\n",
    "print(b)\n",
    "print(c)"
   ],
   "id": "7c2efe66ea8d30cd",
   "outputs": [
    {
     "name": "stdout",
     "output_type": "stream",
     "text": [
      "1\n",
      "Hello\n",
      "3.14\n"
     ]
    }
   ],
   "execution_count": 27
  },
  {
   "metadata": {
    "ExecuteTime": {
     "end_time": "2025-09-27T02:01:52.860937Z",
     "start_time": "2025-09-27T02:01:52.854022Z"
    }
   },
   "cell_type": "code",
   "source": [
    "#Unpacking with *\n",
    "numbers=(1,2,3,4,5,6)\n",
    "first,*middle,last= numbers\n",
    "print(first)\n",
    "print(middle)\n",
    "print(last)"
   ],
   "id": "d985605b20477c68",
   "outputs": [
    {
     "name": "stdout",
     "output_type": "stream",
     "text": [
      "1\n",
      "[2, 3, 4, 5]\n",
      "6\n"
     ]
    }
   ],
   "execution_count": 29
  },
  {
   "metadata": {
    "ExecuteTime": {
     "end_time": "2025-09-27T02:05:43.729245Z",
     "start_time": "2025-09-27T02:05:43.710677Z"
    }
   },
   "cell_type": "code",
   "source": [
    "#Nested Tuple\n",
    "#Nested List\n",
    "lst=[[1,2,3,4],[6,7,8,9],[1,\"Hello\",3.14,\"c\"]]\n",
    "print(lst)\n",
    "lst[0][0:3]"
   ],
   "id": "854c0f5edf82a55d",
   "outputs": [
    {
     "name": "stdout",
     "output_type": "stream",
     "text": [
      "[[1, 2, 3, 4], [6, 7, 8, 9], [1, 'Hello', 3.14, 'c']]\n"
     ]
    },
    {
     "data": {
      "text/plain": [
       "[1, 2, 3]"
      ]
     },
     "execution_count": 33,
     "metadata": {},
     "output_type": "execute_result"
    }
   ],
   "execution_count": 33
  },
  {
   "metadata": {
    "ExecuteTime": {
     "end_time": "2025-09-27T02:06:57.968216Z",
     "start_time": "2025-09-27T02:06:57.958725Z"
    }
   },
   "cell_type": "code",
   "source": [
    "lst=[[1,2,3,4],[6,7,8,9],(1,\"Hello\",3.14,\"c\")]\n",
    "lst[2][0:3]"
   ],
   "id": "6e7dad66b9cd20bd",
   "outputs": [
    {
     "data": {
      "text/plain": [
       "(1, 'Hello', 3.14)"
      ]
     },
     "execution_count": 35,
     "metadata": {},
     "output_type": "execute_result"
    }
   ],
   "execution_count": 35
  },
  {
   "metadata": {
    "ExecuteTime": {
     "end_time": "2025-09-27T02:09:35.886071Z",
     "start_time": "2025-09-27T02:09:35.878304Z"
    }
   },
   "cell_type": "code",
   "source": [
    "nested_tuple =((1,2,3),(\"a\",\"b\",\"c\"),(True,False))\n",
    "\n",
    "#access the elements inside a tuple\n",
    "print(nested_tuple[0])\n",
    "print(nested_tuple[1][2])"
   ],
   "id": "2654c585e84728ac",
   "outputs": [
    {
     "name": "stdout",
     "output_type": "stream",
     "text": [
      "(1, 2, 3)\n",
      "c\n"
     ]
    }
   ],
   "execution_count": 37
  },
  {
   "metadata": {
    "ExecuteTime": {
     "end_time": "2025-09-27T02:13:49.207336Z",
     "start_time": "2025-09-27T02:13:49.200202Z"
    }
   },
   "cell_type": "code",
   "source": [
    "#iterating over nested tuples\n",
    "for sub_tuple in nested_tuple:\n",
    "    for item in sub_tuple:\n",
    "        print(item,end=\" \")\n",
    "    print()"
   ],
   "id": "7ebf0485d4eef6c0",
   "outputs": [
    {
     "name": "stdout",
     "output_type": "stream",
     "text": [
      "1 2 3 \n",
      "a b c \n",
      "True False \n"
     ]
    }
   ],
   "execution_count": 39
  }
 ],
 "metadata": {
  "kernelspec": {
   "display_name": "Python 3",
   "language": "python",
   "name": "python3"
  },
  "language_info": {
   "codemirror_mode": {
    "name": "ipython",
    "version": 2
   },
   "file_extension": ".py",
   "mimetype": "text/x-python",
   "name": "python",
   "nbconvert_exporter": "python",
   "pygments_lexer": "ipython2",
   "version": "2.7.6"
  }
 },
 "nbformat": 4,
 "nbformat_minor": 5
}
