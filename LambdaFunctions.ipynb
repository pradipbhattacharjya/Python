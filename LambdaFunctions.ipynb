{
 "cells": [
  {
   "cell_type": "code",
   "id": "initial_id",
   "metadata": {
    "collapsed": true,
    "ExecuteTime": {
     "end_time": "2025-09-28T10:58:06.363443Z",
     "start_time": "2025-09-28T10:58:06.354341Z"
    }
   },
   "source": [
    "#syntax\n",
    "lambda  arguments:expression"
   ],
   "outputs": [
    {
     "data": {
      "text/plain": [
       "<function __main__.<lambda>(arguments)>"
      ]
     },
     "execution_count": 1,
     "metadata": {},
     "output_type": "execute_result"
    }
   ],
   "execution_count": 1
  },
  {
   "metadata": {
    "ExecuteTime": {
     "end_time": "2025-09-28T10:58:45.348880Z",
     "start_time": "2025-09-28T10:58:45.344245Z"
    }
   },
   "cell_type": "code",
   "source": [
    "def addition(a,b):\n",
    "    return a+b"
   ],
   "id": "dc5cb63182d33879",
   "outputs": [],
   "execution_count": 2
  },
  {
   "metadata": {
    "ExecuteTime": {
     "end_time": "2025-09-28T10:58:55.242782Z",
     "start_time": "2025-09-28T10:58:55.235357Z"
    }
   },
   "cell_type": "code",
   "source": "addition(2,3)",
   "id": "46602043b2d05f8a",
   "outputs": [
    {
     "data": {
      "text/plain": [
       "5"
      ]
     },
     "execution_count": 3,
     "metadata": {},
     "output_type": "execute_result"
    }
   ],
   "execution_count": 3
  },
  {
   "metadata": {
    "ExecuteTime": {
     "end_time": "2025-09-28T11:01:02.762598Z",
     "start_time": "2025-09-28T11:01:02.756714Z"
    }
   },
   "cell_type": "code",
   "source": [
    "addition=lambda a,b:a+b\n",
    "type(addition)\n",
    "print(addition(2,3))"
   ],
   "id": "85944a0a498800b6",
   "outputs": [
    {
     "name": "stdout",
     "output_type": "stream",
     "text": [
      "5\n"
     ]
    }
   ],
   "execution_count": 5
  },
  {
   "metadata": {
    "ExecuteTime": {
     "end_time": "2025-09-28T11:01:57.769162Z",
     "start_time": "2025-09-28T11:01:57.759037Z"
    }
   },
   "cell_type": "code",
   "source": [
    "def even(num):\n",
    "    if num % 2 == 0:\n",
    "        return True\n",
    "\n",
    "even(24)"
   ],
   "id": "18efa2e8fa899375",
   "outputs": [
    {
     "data": {
      "text/plain": [
       "True"
      ]
     },
     "execution_count": 6,
     "metadata": {},
     "output_type": "execute_result"
    }
   ],
   "execution_count": 6
  },
  {
   "metadata": {
    "ExecuteTime": {
     "end_time": "2025-09-28T11:02:53.410383Z",
     "start_time": "2025-09-28T11:02:53.402071Z"
    }
   },
   "cell_type": "code",
   "source": [
    "even1=lambda num:num%2==0\n",
    "even1(12)"
   ],
   "id": "fbdf2b1a4b2fda07",
   "outputs": [
    {
     "data": {
      "text/plain": [
       "True"
      ]
     },
     "execution_count": 7,
     "metadata": {},
     "output_type": "execute_result"
    }
   ],
   "execution_count": 7
  },
  {
   "metadata": {
    "ExecuteTime": {
     "end_time": "2025-09-28T11:04:25.276676Z",
     "start_time": "2025-09-28T11:04:25.268043Z"
    }
   },
   "cell_type": "code",
   "source": [
    "def addition(x,y,z):\n",
    "    return x+y+z\n",
    "\n",
    "addition(11,11,11)"
   ],
   "id": "66ae24eec92a0220",
   "outputs": [
    {
     "data": {
      "text/plain": [
       "33"
      ]
     },
     "execution_count": 8,
     "metadata": {},
     "output_type": "execute_result"
    }
   ],
   "execution_count": 8
  },
  {
   "metadata": {
    "ExecuteTime": {
     "end_time": "2025-09-28T11:05:32.570922Z",
     "start_time": "2025-09-28T11:05:32.560339Z"
    }
   },
   "cell_type": "code",
   "source": [
    "addition1=lambda x,y,z:x+y+z\n",
    "addition1(11,11,11)"
   ],
   "id": "383920d963a00811",
   "outputs": [
    {
     "data": {
      "text/plain": [
       "33"
      ]
     },
     "execution_count": 10,
     "metadata": {},
     "output_type": "execute_result"
    }
   ],
   "execution_count": 10
  },
  {
   "metadata": {
    "ExecuteTime": {
     "end_time": "2025-09-28T11:08:07.423258Z",
     "start_time": "2025-09-28T11:08:07.412440Z"
    }
   },
   "cell_type": "code",
   "source": [
    "#map()- applies a function to all items in a list\n",
    "numbers=[1,2,3,4,5,6]\n",
    "def square(number):\n",
    "    return number**2\n",
    "\n",
    "square(2)"
   ],
   "id": "4b91d0e4a8fb701f",
   "outputs": [
    {
     "data": {
      "text/plain": [
       "4"
      ]
     },
     "execution_count": 12,
     "metadata": {},
     "output_type": "execute_result"
    }
   ],
   "execution_count": 12
  },
  {
   "metadata": {
    "ExecuteTime": {
     "end_time": "2025-09-28T11:10:42.662988Z",
     "start_time": "2025-09-28T11:10:42.652819Z"
    }
   },
   "cell_type": "code",
   "source": "list(map(lambda x:x**2,numbers))",
   "id": "cb123e2f605a5c3d",
   "outputs": [
    {
     "data": {
      "text/plain": [
       "[1, 4, 9, 16, 25, 36]"
      ]
     },
     "execution_count": 14,
     "metadata": {},
     "output_type": "execute_result"
    }
   ],
   "execution_count": 14
  }
 ],
 "metadata": {
  "kernelspec": {
   "display_name": "Python 3",
   "language": "python",
   "name": "python3"
  },
  "language_info": {
   "codemirror_mode": {
    "name": "ipython",
    "version": 2
   },
   "file_extension": ".py",
   "mimetype": "text/x-python",
   "name": "python",
   "nbconvert_exporter": "python",
   "pygments_lexer": "ipython2",
   "version": "2.7.6"
  }
 },
 "nbformat": 4,
 "nbformat_minor": 5
}
