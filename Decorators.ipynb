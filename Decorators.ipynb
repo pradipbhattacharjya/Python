{
 "cells": [
  {
   "cell_type": "code",
   "execution_count": null,
   "id": "initial_id",
   "metadata": {
    "collapsed": true
   },
   "outputs": [],
   "source": [
    "#Function copy\n",
    "#closures\n",
    "#decorators\n",
    "\n"
   ]
  },
  {
   "metadata": {
    "ExecuteTime": {
     "end_time": "2025-10-02T03:21:31.416047Z",
     "start_time": "2025-10-02T03:21:31.409049Z"
    }
   },
   "cell_type": "code",
   "source": [
    "from curses import wrapper\n",
    "\n",
    "\n",
    "#Function copy\n",
    "def welcome():\n",
    "    return \"Welcome to advanced  Python\"\n",
    "\n",
    "welcome()"
   ],
   "id": "7fc480c49dae39d5",
   "outputs": [
    {
     "data": {
      "text/plain": [
       "'Welcome to advanced  Python'"
      ]
     },
     "execution_count": 10,
     "metadata": {},
     "output_type": "execute_result"
    }
   ],
   "execution_count": 10
  },
  {
   "metadata": {
    "ExecuteTime": {
     "end_time": "2025-10-02T03:21:33.279388Z",
     "start_time": "2025-10-02T03:21:33.273691Z"
    }
   },
   "cell_type": "code",
   "source": [
    "wel=welcome\n",
    "print(wel())\n",
    "del welcome\n",
    "print(wel())"
   ],
   "id": "315180ae968b0453",
   "outputs": [
    {
     "name": "stdout",
     "output_type": "stream",
     "text": [
      "Welcome to advanced  Python\n",
      "Welcome to advanced  Python\n"
     ]
    }
   ],
   "execution_count": 11
  },
  {
   "metadata": {
    "ExecuteTime": {
     "end_time": "2025-10-02T03:35:24.699427Z",
     "start_time": "2025-10-02T03:35:24.689051Z"
    }
   },
   "cell_type": "code",
   "source": [
    "#closures functions\n",
    "\n",
    "def main_welcome():\n",
    "    msg=\"Welcome everyone\"\n",
    "    def sub_welcome_method():\n",
    "        print(\"Welcome to the advanced dpython course\")\n",
    "        print(msg)\n",
    "        print(\"Please learn these concepts properly\")\n",
    "    return sub_welcome_method()\n"
   ],
   "id": "6f15400aa5b470e9",
   "outputs": [],
   "execution_count": 16
  },
  {
   "metadata": {
    "ExecuteTime": {
     "end_time": "2025-10-02T03:35:27.668136Z",
     "start_time": "2025-10-02T03:35:27.662584Z"
    }
   },
   "cell_type": "code",
   "source": "main_welcome()",
   "id": "b25a2afb4c027f09",
   "outputs": [
    {
     "name": "stdout",
     "output_type": "stream",
     "text": [
      "Welcome to the advanced dpython course\n",
      "Welcome everyone\n",
      "Please learn these concepts properly\n"
     ]
    }
   ],
   "execution_count": 17
  },
  {
   "metadata": {
    "ExecuteTime": {
     "end_time": "2025-10-02T03:39:56.162433Z",
     "start_time": "2025-10-02T03:39:56.151977Z"
    }
   },
   "cell_type": "code",
   "source": [
    "def main_welcome(func):\n",
    "\n",
    "    def sub_welcome_method():\n",
    "        print(\"Welcome to the advanced dpython course\")\n",
    "        func(\"Welcome everyone to this tutorial\")\n",
    "        print(\"Please learn these concepts properly\")\n",
    "    return sub_welcome_method()\n"
   ],
   "id": "a611ca4a98a81c07",
   "outputs": [],
   "execution_count": 21
  },
  {
   "metadata": {
    "ExecuteTime": {
     "end_time": "2025-10-02T03:39:58.759023Z",
     "start_time": "2025-10-02T03:39:58.753671Z"
    }
   },
   "cell_type": "code",
   "source": "main_welcome(print)",
   "id": "920e6af4d4f1c1a9",
   "outputs": [
    {
     "name": "stdout",
     "output_type": "stream",
     "text": [
      "Welcome to the advanced dpython course\n",
      "Welcome everyone to this tutorial\n",
      "Please learn these concepts properly\n"
     ]
    }
   ],
   "execution_count": 22
  },
  {
   "metadata": {
    "ExecuteTime": {
     "end_time": "2025-10-02T03:44:42.648498Z",
     "start_time": "2025-10-02T03:44:42.640593Z"
    }
   },
   "cell_type": "code",
   "source": [
    "def main_welcome(func,lst):\n",
    "\n",
    "    def sub_welcome_method():\n",
    "        print(\"Welcome to the advanced dpython course\")\n",
    "        print(func(lst))\n",
    "        print(\"Please learn these concepts properly\")\n",
    "    return sub_welcome_method()"
   ],
   "id": "f679d5a7ca9b2709",
   "outputs": [],
   "execution_count": 29
  },
  {
   "metadata": {
    "ExecuteTime": {
     "end_time": "2025-10-02T03:45:06.477882Z",
     "start_time": "2025-10-02T03:45:06.470383Z"
    }
   },
   "cell_type": "code",
   "source": "main_welcome(len,[1,2,3,4,5,6])",
   "id": "84e70805e22d494a",
   "outputs": [
    {
     "name": "stdout",
     "output_type": "stream",
     "text": [
      "Welcome to the advanced dpython course\n",
      "6\n",
      "Please learn these concepts properly\n"
     ]
    }
   ],
   "execution_count": 31
  },
  {
   "metadata": {
    "ExecuteTime": {
     "end_time": "2025-10-02T03:48:16.867685Z",
     "start_time": "2025-10-02T03:48:16.857560Z"
    }
   },
   "cell_type": "code",
   "source": [
    "#Decorator\n",
    "def main_welcome(func):\n",
    "\n",
    "    def sub_welcome_method():\n",
    "        print(\"Welcome to the advanced dpython course\")\n",
    "        func()\n",
    "        print(\"Please learn these concepts properly\")\n",
    "    return sub_welcome_method()"
   ],
   "id": "47127358e2261229",
   "outputs": [],
   "execution_count": 32
  },
  {
   "metadata": {
    "ExecuteTime": {
     "end_time": "2025-10-02T03:49:54.053424Z",
     "start_time": "2025-10-02T03:49:54.043001Z"
    }
   },
   "cell_type": "code",
   "source": [
    "def coure_introduction():\n",
    "    print(\"This is an advanced python course\")\n",
    "\n",
    "coure_introduction()"
   ],
   "id": "57d5e2d758cc14f1",
   "outputs": [
    {
     "name": "stdout",
     "output_type": "stream",
     "text": [
      "This is an advanced python course\n"
     ]
    }
   ],
   "execution_count": 33
  },
  {
   "metadata": {
    "ExecuteTime": {
     "end_time": "2025-10-02T03:50:16.330047Z",
     "start_time": "2025-10-02T03:50:16.319086Z"
    }
   },
   "cell_type": "code",
   "source": "main_welcome(coure_introduction)",
   "id": "58ac3d645f9a21d8",
   "outputs": [
    {
     "name": "stdout",
     "output_type": "stream",
     "text": [
      "Welcome to the advanced dpython course\n",
      "This is an advanced python course\n",
      "Please learn these concepts properly\n"
     ]
    }
   ],
   "execution_count": 34
  },
  {
   "metadata": {
    "ExecuteTime": {
     "end_time": "2025-10-02T03:51:43.167615Z",
     "start_time": "2025-10-02T03:51:43.157920Z"
    }
   },
   "cell_type": "code",
   "source": [
    "@main_welcome\n",
    "def coure_introduction():\n",
    "    print(\"This is an advanced python course\")"
   ],
   "id": "59a4d83b3a1ef6fa",
   "outputs": [
    {
     "name": "stdout",
     "output_type": "stream",
     "text": [
      "Welcome to the advanced dpython course\n",
      "This is an advanced python course\n",
      "Please learn these concepts properly\n"
     ]
    }
   ],
   "execution_count": 35
  },
  {
   "metadata": {
    "ExecuteTime": {
     "end_time": "2025-10-02T04:03:24.052269Z",
     "start_time": "2025-10-02T04:03:24.040922Z"
    }
   },
   "cell_type": "code",
   "source": [
    "#Decorator\n",
    "def my_decorator(func):\n",
    "\n",
    "    def wrapper(func):\n",
    "        print(\"Welcome to the advanced dpython course\")\n",
    "        func()\n",
    "        print(\"Please learn these concepts properly\")\n",
    "    return wrapper"
   ],
   "id": "22283382ffe13588",
   "outputs": [],
   "execution_count": 57
  },
  {
   "metadata": {
    "ExecuteTime": {
     "end_time": "2025-10-02T04:03:39.735669Z",
     "start_time": "2025-10-02T04:03:39.729104Z"
    }
   },
   "cell_type": "code",
   "source": [
    "@my_decorator\n",
    "def say_hello():\n",
    "    print(\"Hello\")"
   ],
   "id": "fe19a9f417d564c3",
   "outputs": [],
   "execution_count": 58
  },
  {
   "metadata": {
    "ExecuteTime": {
     "end_time": "2025-10-02T04:03:41.913702Z",
     "start_time": "2025-10-02T04:03:41.873421Z"
    }
   },
   "cell_type": "code",
   "source": "say_hello()\n",
   "id": "5b0ef287d3583e86",
   "outputs": [
    {
     "ename": "TypeError",
     "evalue": "my_decorator.<locals>.wrapper() missing 1 required positional argument: 'func'",
     "output_type": "error",
     "traceback": [
      "\u001B[31m---------------------------------------------------------------------------\u001B[39m",
      "\u001B[31mTypeError\u001B[39m                                 Traceback (most recent call last)",
      "\u001B[36mCell\u001B[39m\u001B[36m \u001B[39m\u001B[32mIn[59]\u001B[39m\u001B[32m, line 1\u001B[39m\n\u001B[32m----> \u001B[39m\u001B[32m1\u001B[39m \u001B[43msay_hello\u001B[49m\u001B[43m(\u001B[49m\u001B[43m)\u001B[49m\n",
      "\u001B[31mTypeError\u001B[39m: my_decorator.<locals>.wrapper() missing 1 required positional argument: 'func'"
     ]
    }
   ],
   "execution_count": 59
  },
  {
   "metadata": {
    "ExecuteTime": {
     "end_time": "2025-10-02T04:08:32.357640Z",
     "start_time": "2025-10-02T04:08:32.348030Z"
    }
   },
   "cell_type": "code",
   "source": [
    "#Decorators with arguments\n",
    "def repeat(n):\n",
    "    def decorator(func):\n",
    "        def wrapper(*args, **kwargs):\n",
    "            for _ in range(n):\n",
    "                func(*args, **kwargs)\n",
    "        return wrapper\n",
    "    return decorator"
   ],
   "id": "f0b43d45cde2b7ff",
   "outputs": [],
   "execution_count": 62
  },
  {
   "metadata": {
    "ExecuteTime": {
     "end_time": "2025-10-02T04:09:10.307286Z",
     "start_time": "2025-10-02T04:09:10.299515Z"
    }
   },
   "cell_type": "code",
   "source": [
    "@repeat(3)\n",
    "def say_hello():\n",
    "    print(\"Hello\")"
   ],
   "id": "16828c8bc6b4504a",
   "outputs": [],
   "execution_count": 63
  },
  {
   "metadata": {
    "ExecuteTime": {
     "end_time": "2025-10-02T04:09:54.452013Z",
     "start_time": "2025-10-02T04:09:54.444597Z"
    }
   },
   "cell_type": "code",
   "source": "say_hello()",
   "id": "60ed834f3539500b",
   "outputs": [
    {
     "name": "stdout",
     "output_type": "stream",
     "text": [
      "Hello\n",
      "Hello\n",
      "Hello\n"
     ]
    }
   ],
   "execution_count": 64
  }
 ],
 "metadata": {
  "kernelspec": {
   "display_name": "Python 3",
   "language": "python",
   "name": "python3"
  },
  "language_info": {
   "codemirror_mode": {
    "name": "ipython",
    "version": 2
   },
   "file_extension": ".py",
   "mimetype": "text/x-python",
   "name": "python",
   "nbconvert_exporter": "python",
   "pygments_lexer": "ipython2",
   "version": "2.7.6"
  }
 },
 "nbformat": 4,
 "nbformat_minor": 5
}
