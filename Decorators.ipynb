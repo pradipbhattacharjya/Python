{
 "cells": [
  {
   "cell_type": "code",
   "execution_count": null,
   "id": "initial_id",
   "metadata": {
    "collapsed": true
   },
   "outputs": [],
   "source": [
    "#Function copy\n",
    "#closures\n",
    "#decorators\n",
    "\n"
   ]
  },
  {
   "metadata": {
    "ExecuteTime": {
     "end_time": "2025-10-02T03:21:31.416047Z",
     "start_time": "2025-10-02T03:21:31.409049Z"
    }
   },
   "cell_type": "code",
   "source": [
    "#Function copy\n",
    "def welcome():\n",
    "    return \"Welcome to advanced  Python\"\n",
    "\n",
    "welcome()"
   ],
   "id": "7fc480c49dae39d5",
   "outputs": [
    {
     "data": {
      "text/plain": [
       "'Welcome to advanced  Python'"
      ]
     },
     "execution_count": 10,
     "metadata": {},
     "output_type": "execute_result"
    }
   ],
   "execution_count": 10
  },
  {
   "metadata": {
    "ExecuteTime": {
     "end_time": "2025-10-02T03:21:33.279388Z",
     "start_time": "2025-10-02T03:21:33.273691Z"
    }
   },
   "cell_type": "code",
   "source": [
    "wel=welcome\n",
    "print(wel())\n",
    "del welcome\n",
    "print(wel())"
   ],
   "id": "315180ae968b0453",
   "outputs": [
    {
     "name": "stdout",
     "output_type": "stream",
     "text": [
      "Welcome to advanced  Python\n",
      "Welcome to advanced  Python\n"
     ]
    }
   ],
   "execution_count": 11
  },
  {
   "metadata": {},
   "cell_type": "code",
   "outputs": [],
   "execution_count": null,
   "source": "#",
   "id": "6f15400aa5b470e9"
  }
 ],
 "metadata": {
  "kernelspec": {
   "display_name": "Python 3",
   "language": "python",
   "name": "python3"
  },
  "language_info": {
   "codemirror_mode": {
    "name": "ipython",
    "version": 2
   },
   "file_extension": ".py",
   "mimetype": "text/x-python",
   "name": "python",
   "nbconvert_exporter": "python",
   "pygments_lexer": "ipython2",
   "version": "2.7.6"
  }
 },
 "nbformat": 4,
 "nbformat_minor": 5
}
