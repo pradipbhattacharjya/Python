{
 "cells": [
  {
   "cell_type": "code",
   "execution_count": null,
   "id": "initial_id",
   "metadata": {
    "collapsed": true
   },
   "outputs": [],
   "source": [
    "#Function copy\n",
    "#closures\n",
    "#decorators\n",
    "\n"
   ]
  },
  {
   "metadata": {
    "ExecuteTime": {
     "end_time": "2025-10-02T03:21:31.416047Z",
     "start_time": "2025-10-02T03:21:31.409049Z"
    }
   },
   "cell_type": "code",
   "source": [
    "#Function copy\n",
    "def welcome():\n",
    "    return \"Welcome to advanced  Python\"\n",
    "\n",
    "welcome()"
   ],
   "id": "7fc480c49dae39d5",
   "outputs": [
    {
     "data": {
      "text/plain": [
       "'Welcome to advanced  Python'"
      ]
     },
     "execution_count": 10,
     "metadata": {},
     "output_type": "execute_result"
    }
   ],
   "execution_count": 10
  },
  {
   "metadata": {
    "ExecuteTime": {
     "end_time": "2025-10-02T03:21:33.279388Z",
     "start_time": "2025-10-02T03:21:33.273691Z"
    }
   },
   "cell_type": "code",
   "source": [
    "wel=welcome\n",
    "print(wel())\n",
    "del welcome\n",
    "print(wel())"
   ],
   "id": "315180ae968b0453",
   "outputs": [
    {
     "name": "stdout",
     "output_type": "stream",
     "text": [
      "Welcome to advanced  Python\n",
      "Welcome to advanced  Python\n"
     ]
    }
   ],
   "execution_count": 11
  },
  {
   "metadata": {
    "ExecuteTime": {
     "end_time": "2025-10-02T03:35:24.699427Z",
     "start_time": "2025-10-02T03:35:24.689051Z"
    }
   },
   "cell_type": "code",
   "source": [
    "#closures functions\n",
    "\n",
    "def main_welcome():\n",
    "    msg=\"Welcome everyone\"\n",
    "    def sub_welcome_method():\n",
    "        print(\"Welcome to the advanced dpython course\")\n",
    "        print(msg)\n",
    "        print(\"Please learn these concepts properly\")\n",
    "    return sub_welcome_method()\n"
   ],
   "id": "6f15400aa5b470e9",
   "outputs": [],
   "execution_count": 16
  },
  {
   "metadata": {
    "ExecuteTime": {
     "end_time": "2025-10-02T03:35:27.668136Z",
     "start_time": "2025-10-02T03:35:27.662584Z"
    }
   },
   "cell_type": "code",
   "source": "main_welcome()",
   "id": "b25a2afb4c027f09",
   "outputs": [
    {
     "name": "stdout",
     "output_type": "stream",
     "text": [
      "Welcome to the advanced dpython course\n",
      "Welcome everyone\n",
      "Please learn these concepts properly\n"
     ]
    }
   ],
   "execution_count": 17
  },
  {
   "metadata": {
    "ExecuteTime": {
     "end_time": "2025-10-02T03:39:56.162433Z",
     "start_time": "2025-10-02T03:39:56.151977Z"
    }
   },
   "cell_type": "code",
   "source": [
    "def main_welcome(func):\n",
    "\n",
    "    def sub_welcome_method():\n",
    "        print(\"Welcome to the advanced dpython course\")\n",
    "        func(\"Welcome everyone to this tutorial\")\n",
    "        print(\"Please learn these concepts properly\")\n",
    "    return sub_welcome_method()\n"
   ],
   "id": "a611ca4a98a81c07",
   "outputs": [],
   "execution_count": 21
  },
  {
   "metadata": {
    "ExecuteTime": {
     "end_time": "2025-10-02T03:39:58.759023Z",
     "start_time": "2025-10-02T03:39:58.753671Z"
    }
   },
   "cell_type": "code",
   "source": "main_welcome(print)",
   "id": "920e6af4d4f1c1a9",
   "outputs": [
    {
     "name": "stdout",
     "output_type": "stream",
     "text": [
      "Welcome to the advanced dpython course\n",
      "Welcome everyone to this tutorial\n",
      "Please learn these concepts properly\n"
     ]
    }
   ],
   "execution_count": 22
  },
  {
   "metadata": {
    "ExecuteTime": {
     "end_time": "2025-10-02T03:44:42.648498Z",
     "start_time": "2025-10-02T03:44:42.640593Z"
    }
   },
   "cell_type": "code",
   "source": [
    "def main_welcome(func,lst):\n",
    "\n",
    "    def sub_welcome_method():\n",
    "        print(\"Welcome to the advanced dpython course\")\n",
    "        print(func(lst))\n",
    "        print(\"Please learn these concepts properly\")\n",
    "    return sub_welcome_method()"
   ],
   "id": "f679d5a7ca9b2709",
   "outputs": [],
   "execution_count": 29
  },
  {
   "metadata": {
    "ExecuteTime": {
     "end_time": "2025-10-02T03:45:06.477882Z",
     "start_time": "2025-10-02T03:45:06.470383Z"
    }
   },
   "cell_type": "code",
   "source": "main_welcome(len,[1,2,3,4,5,6])",
   "id": "84e70805e22d494a",
   "outputs": [
    {
     "name": "stdout",
     "output_type": "stream",
     "text": [
      "Welcome to the advanced dpython course\n",
      "6\n",
      "Please learn these concepts properly\n"
     ]
    }
   ],
   "execution_count": 31
  },
  {
   "metadata": {},
   "cell_type": "code",
   "outputs": [],
   "execution_count": null,
   "source": "",
   "id": "47127358e2261229"
  }
 ],
 "metadata": {
  "kernelspec": {
   "display_name": "Python 3",
   "language": "python",
   "name": "python3"
  },
  "language_info": {
   "codemirror_mode": {
    "name": "ipython",
    "version": 2
   },
   "file_extension": ".py",
   "mimetype": "text/x-python",
   "name": "python",
   "nbconvert_exporter": "python",
   "pygments_lexer": "ipython2",
   "version": "2.7.6"
  }
 },
 "nbformat": 4,
 "nbformat_minor": 5
}
