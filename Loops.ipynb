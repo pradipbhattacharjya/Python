{
 "cells": [
  {
   "metadata": {
    "ExecuteTime": {
     "end_time": "2025-09-26T02:54:58.158118Z",
     "start_time": "2025-09-26T02:54:58.149669Z"
    }
   },
   "cell_type": "code",
   "source": "range(0,5)",
   "id": "d74c99493d6ae630",
   "outputs": [
    {
     "data": {
      "text/plain": [
       "range(0, 5)"
      ]
     },
     "execution_count": 1,
     "metadata": {},
     "output_type": "execute_result"
    }
   ],
   "execution_count": 1
  },
  {
   "cell_type": "code",
   "id": "initial_id",
   "metadata": {
    "collapsed": true,
    "ExecuteTime": {
     "end_time": "2025-09-26T02:55:32.464153Z",
     "start_time": "2025-09-26T02:55:32.458746Z"
    }
   },
   "source": [
    "# for loop\n",
    "for i in range(5):\n",
    "    print(i)"
   ],
   "outputs": [
    {
     "name": "stdout",
     "output_type": "stream",
     "text": [
      "0\n",
      "1\n",
      "2\n",
      "3\n",
      "4\n"
     ]
    }
   ],
   "execution_count": 2
  },
  {
   "metadata": {
    "ExecuteTime": {
     "end_time": "2025-09-26T02:56:39.404003Z",
     "start_time": "2025-09-26T02:56:39.398130Z"
    }
   },
   "cell_type": "code",
   "source": [
    "for i in range(1,6):\n",
    "    print(i)"
   ],
   "id": "ffaf9290955e9e44",
   "outputs": [
    {
     "name": "stdout",
     "output_type": "stream",
     "text": [
      "1\n",
      "2\n",
      "3\n",
      "4\n",
      "5\n"
     ]
    }
   ],
   "execution_count": 3
  },
  {
   "metadata": {
    "ExecuteTime": {
     "end_time": "2025-09-26T02:59:10.424143Z",
     "start_time": "2025-09-26T02:59:10.417633Z"
    }
   },
   "cell_type": "code",
   "source": [
    "for i in range(1,10,2):\n",
    "    print(i)"
   ],
   "id": "dcc30f5b2bab6441",
   "outputs": [
    {
     "name": "stdout",
     "output_type": "stream",
     "text": [
      "1\n",
      "3\n",
      "5\n",
      "7\n",
      "9\n"
     ]
    }
   ],
   "execution_count": 6
  },
  {
   "metadata": {
    "ExecuteTime": {
     "end_time": "2025-09-26T03:02:20.014650Z",
     "start_time": "2025-09-26T03:02:20.008470Z"
    }
   },
   "cell_type": "code",
   "source": [
    "for i in range(10,1,-2):\n",
    "    print(i)"
   ],
   "id": "53869e50512bc8e7",
   "outputs": [
    {
     "name": "stdout",
     "output_type": "stream",
     "text": [
      "10\n",
      "8\n",
      "6\n",
      "4\n",
      "2\n"
     ]
    }
   ],
   "execution_count": 8
  },
  {
   "metadata": {
    "ExecuteTime": {
     "end_time": "2025-09-26T03:03:59.164560Z",
     "start_time": "2025-09-26T03:03:59.157551Z"
    }
   },
   "cell_type": "code",
   "source": [
    "#string\n",
    "\n",
    "str=\"Krish Naik\"\n",
    "for i in str:\n",
    "    print(i)"
   ],
   "id": "22f8c4d0cb5c4e11",
   "outputs": [
    {
     "name": "stdout",
     "output_type": "stream",
     "text": [
      "K\n",
      "r\n",
      "i\n",
      "s\n",
      "h\n",
      " \n",
      "N\n",
      "a\n",
      "i\n",
      "k\n"
     ]
    }
   ],
   "execution_count": 9
  },
  {
   "metadata": {
    "ExecuteTime": {
     "end_time": "2025-09-26T03:08:43.508345Z",
     "start_time": "2025-09-26T03:08:43.495765Z"
    }
   },
   "cell_type": "code",
   "source": [
    "## while loop\n",
    "##The while loop continues to execute as long as the condition is True.\n",
    "count=0\n",
    "\n",
    "while count<5:\n",
    "    print(count)\n",
    "    count+=1"
   ],
   "id": "15e34569e8758b90",
   "outputs": [
    {
     "name": "stdout",
     "output_type": "stream",
     "text": [
      "0\n",
      "1\n",
      "2\n",
      "3\n",
      "4\n"
     ]
    }
   ],
   "execution_count": 10
  },
  {
   "metadata": {
    "ExecuteTime": {
     "end_time": "2025-09-26T03:11:04.019505Z",
     "start_time": "2025-09-26T03:11:04.010232Z"
    }
   },
   "cell_type": "code",
   "source": [
    "count=0\n",
    "\n",
    "while count%2==0:\n",
    "    print(count)\n",
    "    count+=1"
   ],
   "id": "67d15bb51b0a65f8",
   "outputs": [
    {
     "name": "stdout",
     "output_type": "stream",
     "text": [
      "0\n"
     ]
    }
   ],
   "execution_count": 11
  },
  {
   "metadata": {
    "ExecuteTime": {
     "end_time": "2025-09-26T03:16:27.590459Z",
     "start_time": "2025-09-26T03:16:27.578832Z"
    }
   },
   "cell_type": "code",
   "source": [
    "##Loop Control Statements\n",
    "## break\n",
    "#The break statement exits the loop permaturely\n",
    "## break sstatement\n",
    "\n",
    "for i in range(10):\n",
    "    if i== 5:\n",
    "        break\n",
    "    print(i)"
   ],
   "id": "e87fb0cfde8a69b3",
   "outputs": [
    {
     "name": "stdout",
     "output_type": "stream",
     "text": [
      "0\n",
      "1\n",
      "2\n",
      "3\n",
      "4\n"
     ]
    }
   ],
   "execution_count": 12
  },
  {
   "metadata": {
    "ExecuteTime": {
     "end_time": "2025-09-26T03:19:41.856213Z",
     "start_time": "2025-09-26T03:19:41.846338Z"
    }
   },
   "cell_type": "code",
   "source": [
    "## Continue\n",
    "# The continue statement skips the current iteration and continues with the next.\n",
    "\n",
    "for i in range(10):\n",
    "    if i%2==0:\n",
    "        continue\n",
    "    print(i)"
   ],
   "id": "cce664e5f82de63b",
   "outputs": [
    {
     "name": "stdout",
     "output_type": "stream",
     "text": [
      "1\n",
      "3\n",
      "5\n",
      "7\n",
      "9\n"
     ]
    }
   ],
   "execution_count": 13
  },
  {
   "metadata": {
    "ExecuteTime": {
     "end_time": "2025-09-26T03:23:13.445532Z",
     "start_time": "2025-09-26T03:23:13.435312Z"
    }
   },
   "cell_type": "code",
   "source": [
    "## pass\n",
    "#The pass statement is a null operation;it does nothing\n",
    "\n",
    "for i in range(5):\n",
    "    if i==3:\n",
    "        print(\"The number is\",i)\n",
    "        pass\n",
    "    print(i)\n"
   ],
   "id": "e0a74af02f2e0a43",
   "outputs": [
    {
     "name": "stdout",
     "output_type": "stream",
     "text": [
      "0\n",
      "1\n",
      "2\n",
      "The number is 3\n",
      "3\n",
      "4\n"
     ]
    }
   ],
   "execution_count": 15
  },
  {
   "metadata": {
    "ExecuteTime": {
     "end_time": "2025-09-26T03:30:15.715923Z",
     "start_time": "2025-09-26T03:30:15.703066Z"
    }
   },
   "cell_type": "code",
   "source": [
    "##Nested loopss\n",
    "## a loop inside a loop\n",
    "\n",
    "for i in range(3):\n",
    "    for j in range(2):\n",
    "        print(f\"i:{i}and j:{j}\")"
   ],
   "id": "a0aa573e0e0714bc",
   "outputs": [
    {
     "name": "stdout",
     "output_type": "stream",
     "text": [
      "i:0and j:0\n",
      "i:0and j:1\n",
      "i:1and j:0\n",
      "i:1and j:1\n",
      "i:2and j:0\n",
      "i:2and j:1\n"
     ]
    }
   ],
   "execution_count": 18
  },
  {
   "metadata": {
    "ExecuteTime": {
     "end_time": "2025-09-26T03:35:13.788500Z",
     "start_time": "2025-09-26T03:35:13.755804Z"
    }
   },
   "cell_type": "code",
   "source": [
    "##Examples- Calaculate the sum of first N natural numbers using a while and for loop\n",
    "\n",
    "#while loop\n",
    "\n",
    "n=10\n",
    "sum=0\n",
    "count=1\n",
    "\n",
    "while count<=n:\n",
    "    sum+=count\n",
    "    count+=1\n",
    "\n",
    "print(\"Su of first 10 natural numbers:\",sum)"
   ],
   "id": "983438cc3b74ca3f",
   "outputs": [
    {
     "name": "stdout",
     "output_type": "stream",
     "text": [
      "Su of first 10 natural numbers: 55\n"
     ]
    }
   ],
   "execution_count": 19
  },
  {
   "metadata": {
    "ExecuteTime": {
     "end_time": "2025-09-26T03:37:55.756494Z",
     "start_time": "2025-09-26T03:37:55.743918Z"
    }
   },
   "cell_type": "code",
   "source": [
    "n=10\n",
    "sum=0\n",
    "\n",
    "for i in range(11):\n",
    "    sum=sum+i\n",
    "\n",
    "print(sum)"
   ],
   "id": "b47e0f135c2b4a4e",
   "outputs": [
    {
     "name": "stdout",
     "output_type": "stream",
     "text": [
      "55\n"
     ]
    }
   ],
   "execution_count": 20
  },
  {
   "metadata": {
    "ExecuteTime": {
     "end_time": "2025-09-26T03:41:25.510470Z",
     "start_time": "2025-09-26T03:41:25.499698Z"
    }
   },
   "cell_type": "code",
   "source": [
    "## Example - Prime numbers between 1 and 100\n",
    "\n",
    "for num in range(1,101):\n",
    "    if num>1:\n",
    "        for i in range(2,num):\n",
    "            if num%i==0:\n",
    "                break\n",
    "        else:\n",
    "            print(num)"
   ],
   "id": "41f4514e0f857500",
   "outputs": [
    {
     "name": "stdout",
     "output_type": "stream",
     "text": [
      "2\n",
      "3\n",
      "5\n",
      "7\n",
      "11\n",
      "13\n",
      "17\n",
      "19\n",
      "23\n",
      "29\n",
      "31\n",
      "37\n",
      "41\n",
      "43\n",
      "47\n",
      "53\n",
      "59\n",
      "61\n",
      "67\n",
      "71\n",
      "73\n",
      "79\n",
      "83\n",
      "89\n",
      "97\n"
     ]
    }
   ],
   "execution_count": 21
  }
 ],
 "metadata": {
  "kernelspec": {
   "display_name": "Python 3",
   "language": "python",
   "name": "python3"
  },
  "language_info": {
   "codemirror_mode": {
    "name": "ipython",
    "version": 2
   },
   "file_extension": ".py",
   "mimetype": "text/x-python",
   "name": "python",
   "nbconvert_exporter": "python",
   "pygments_lexer": "ipython2",
   "version": "2.7.6"
  }
 },
 "nbformat": 4,
 "nbformat_minor": 5
}
