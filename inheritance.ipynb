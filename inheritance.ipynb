{
 "cells": [
  {
   "cell_type": "code",
   "id": "initial_id",
   "metadata": {
    "collapsed": true,
    "ExecuteTime": {
     "end_time": "2025-09-30T09:50:05.992315Z",
     "start_time": "2025-09-30T09:50:05.986907Z"
    }
   },
   "source": [
    "#Inheritance (Single Inheritance)\n",
    "#Parent class\n",
    "class Car:\n",
    "    def __init__(self,windows,doors,enginetype):\n",
    "        self.windows = windows\n",
    "        self.doors = doors\n",
    "        self.enginetype = enginetype\n",
    "\n",
    "    def drive(self):\n",
    "        print(f\"The person will drive the {self.enginetype} car \")\n"
   ],
   "outputs": [],
   "execution_count": 1
  },
  {
   "metadata": {
    "ExecuteTime": {
     "end_time": "2025-09-30T09:52:13.653298Z",
     "start_time": "2025-09-30T09:52:13.649132Z"
    }
   },
   "cell_type": "code",
   "source": [
    "car1=Car(4,5,\"petrol\")\n",
    "car1.drive()"
   ],
   "id": "c78567bf4881011f",
   "outputs": [
    {
     "name": "stdout",
     "output_type": "stream",
     "text": [
      "The person will drive the petrol car \n"
     ]
    }
   ],
   "execution_count": 3
  },
  {
   "metadata": {
    "ExecuteTime": {
     "end_time": "2025-09-30T10:18:26.431294Z",
     "start_time": "2025-09-30T10:18:26.355138Z"
    }
   },
   "cell_type": "code",
   "source": [
    "class Tesla(Car):\n",
    "    def __init__(self,windows,doors,enginetype,is_selfdriving):\n",
    "        super().__init__(windows,doors,enginetype)\n",
    "        self.is_selfdriving = is_selfdriving\n",
    "\n",
    "    def selfdriving(self):\n",
    "        print(f\"Tesla supports self driving {self.is_selfdriving} car\")\n",
    "\n"
   ],
   "id": "845f649db98c9a7a",
   "outputs": [],
   "execution_count": 4
  },
  {
   "metadata": {
    "ExecuteTime": {
     "end_time": "2025-09-30T10:20:13.281053Z",
     "start_time": "2025-09-30T10:20:13.271613Z"
    }
   },
   "cell_type": "code",
   "source": [
    "car1=Car(4,5,\"petrol\")\n",
    "print(car1.drive())\n",
    "car1.drive()"
   ],
   "id": "d1bca03b83e7a1af",
   "outputs": [
    {
     "name": "stdout",
     "output_type": "stream",
     "text": [
      "The person will drive the petrol car \n",
      "None\n",
      "The person will drive the petrol car \n"
     ]
    }
   ],
   "execution_count": 7
  },
  {
   "metadata": {
    "ExecuteTime": {
     "end_time": "2025-09-30T10:27:41.087642Z",
     "start_time": "2025-09-30T10:27:41.071267Z"
    }
   },
   "cell_type": "code",
   "source": [
    "class Tesla(Car):\n",
    "    def __init__(self,windows,doors,enginetype,is_selfdriving):\n",
    "        super().__init__(windows,doors,enginetype)\n",
    "        self.is_selfdriving = is_selfdriving\n",
    "\n",
    "    def selfdriving(self):\n",
    "        print(f\"Tesla supports self driving : {self.is_selfdriving}\")\n"
   ],
   "id": "3bf74e376888d252",
   "outputs": [],
   "execution_count": 8
  },
  {
   "metadata": {
    "ExecuteTime": {
     "end_time": "2025-09-30T10:29:02.490486Z",
     "start_time": "2025-09-30T10:29:02.478062Z"
    }
   },
   "cell_type": "code",
   "source": [
    "tesla1=Tesla(4,5,\"electric\",True)\n",
    "tesla1.selfdriving()"
   ],
   "id": "7836cbc00c1129b5",
   "outputs": [
    {
     "name": "stdout",
     "output_type": "stream",
     "text": [
      "Tesla supports self driving : True\n"
     ]
    }
   ],
   "execution_count": 9
  },
  {
   "metadata": {
    "ExecuteTime": {
     "end_time": "2025-09-30T10:29:31.146209Z",
     "start_time": "2025-09-30T10:29:31.124325Z"
    }
   },
   "cell_type": "code",
   "source": "tesla1.drive()",
   "id": "b92de44958a535fc",
   "outputs": [
    {
     "name": "stdout",
     "output_type": "stream",
     "text": [
      "The person will drive the electric car \n"
     ]
    }
   ],
   "execution_count": 10
  },
  {
   "metadata": {},
   "cell_type": "code",
   "outputs": [],
   "execution_count": null,
   "source": "#Multiple Inheritance",
   "id": "d7139e1c76ccbc8f"
  }
 ],
 "metadata": {
  "kernelspec": {
   "display_name": "Python 3",
   "language": "python",
   "name": "python3"
  },
  "language_info": {
   "codemirror_mode": {
    "name": "ipython",
    "version": 2
   },
   "file_extension": ".py",
   "mimetype": "text/x-python",
   "name": "python",
   "nbconvert_exporter": "python",
   "pygments_lexer": "ipython2",
   "version": "2.7.6"
  }
 },
 "nbformat": 4,
 "nbformat_minor": 5
}
