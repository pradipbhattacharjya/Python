{
 "cells": [
  {
   "cell_type": "code",
   "id": "initial_id",
   "metadata": {
    "collapsed": true,
    "ExecuteTime": {
     "end_time": "2025-09-25T07:23:47.394236Z",
     "start_time": "2025-09-25T07:23:47.389453Z"
    }
   },
   "source": [
    "# Basic Syntax Rules In Python\n",
    "# Case sensitivity- Python is case sensitive\n",
    "\n",
    "name=\"Krish\"\n",
    "Name=\"Naik\"\n",
    "\n",
    "print(name)\n",
    "print(Name)"
   ],
   "outputs": [
    {
     "name": "stdout",
     "output_type": "stream",
     "text": [
      "Krish\n",
      "Naik\n"
     ]
    }
   ],
   "execution_count": 2
  },
  {
   "metadata": {
    "ExecuteTime": {
     "end_time": "2025-09-25T07:32:25.457141Z",
     "start_time": "2025-09-25T07:32:25.444964Z"
    }
   },
   "cell_type": "code",
   "source": [
    "#Indentaion\n",
    "#python uses indentaion to define block of code.Consistent using of spaces or a tab is required.\n",
    "\n",
    "age=32\n",
    "if age > 30:\n",
    "    print(age)\n",
    "print(age)"
   ],
   "id": "3cc8b06f72d66d3f",
   "outputs": [
    {
     "name": "stdout",
     "output_type": "stream",
     "text": [
      "32\n",
      "32\n"
     ]
    }
   ],
   "execution_count": 4
  },
  {
   "metadata": {
    "ExecuteTime": {
     "end_time": "2025-09-25T07:35:03.751566Z",
     "start_time": "2025-09-25T07:35:03.743018Z"
    }
   },
   "cell_type": "code",
   "source": [
    "#line continuation\n",
    "#Use a backslash (\\) to continue a statement to the next line.\n",
    "total = 1+2+3+4+5+6+7+\\\n",
    "    4+5+6\n",
    "print(total)"
   ],
   "id": "b25590ee9e39ac54",
   "outputs": [
    {
     "name": "stdout",
     "output_type": "stream",
     "text": [
      "43\n"
     ]
    }
   ],
   "execution_count": 5
  },
  {
   "metadata": {
    "ExecuteTime": {
     "end_time": "2025-09-25T07:38:46.610306Z",
     "start_time": "2025-09-25T07:38:46.601831Z"
    }
   },
   "cell_type": "code",
   "source": [
    "#Multiple Statements on a single line\n",
    "x=5;y=10;z=x+y\n",
    "print(z)"
   ],
   "id": "ddcdd6b6fe868d05",
   "outputs": [
    {
     "name": "stdout",
     "output_type": "stream",
     "text": [
      "15\n"
     ]
    }
   ],
   "execution_count": 6
  },
  {
   "metadata": {},
   "cell_type": "code",
   "outputs": [],
   "execution_count": null,
   "source": [
    "#Understand Semnatics In Python\n",
    "#Variable assignment\n",
    "age=32 #int\n",
    "name=\"Krish\"#string\n"
   ],
   "id": "6077bda4d9ea7460"
  },
  {
   "metadata": {
    "ExecuteTime": {
     "end_time": "2025-09-25T07:41:52.501269Z",
     "start_time": "2025-09-25T07:41:52.474831Z"
    }
   },
   "cell_type": "code",
   "source": [
    "\n",
    "type(age)"
   ],
   "id": "50d78b51099a0617",
   "outputs": [
    {
     "data": {
      "text/plain": [
       "int"
      ]
     },
     "execution_count": 7,
     "metadata": {},
     "output_type": "execute_result"
    }
   ],
   "execution_count": 7
  },
  {
   "metadata": {
    "ExecuteTime": {
     "end_time": "2025-09-25T07:42:08.464153Z",
     "start_time": "2025-09-25T07:42:08.455958Z"
    }
   },
   "cell_type": "code",
   "source": "type(name)",
   "id": "2c96a3b11233b1b",
   "outputs": [
    {
     "data": {
      "text/plain": [
       "str"
      ]
     },
     "execution_count": 8,
     "metadata": {},
     "output_type": "execute_result"
    }
   ],
   "execution_count": 8
  },
  {
   "metadata": {
    "ExecuteTime": {
     "end_time": "2025-09-25T07:44:30.519974Z",
     "start_time": "2025-09-25T07:44:30.507527Z"
    }
   },
   "cell_type": "code",
   "source": [
    "#Type Inference\n",
    "variable =10\n",
    "print(type(variable))\n",
    "variable='pradip'\n",
    "print(type(variable))"
   ],
   "id": "950fbf77ceb3ab18",
   "outputs": [
    {
     "name": "stdout",
     "output_type": "stream",
     "text": [
      "<class 'int'>\n",
      "<class 'str'>\n"
     ]
    }
   ],
   "execution_count": 10
  },
  {
   "metadata": {
    "ExecuteTime": {
     "end_time": "2025-09-25T07:45:48.882137Z",
     "start_time": "2025-09-25T07:45:48.874611Z"
    }
   },
   "cell_type": "code",
   "source": [
    "age = 32\n",
    "\n",
    "if age>30:\n",
    "    print(age)"
   ],
   "id": "ec93c44fa2f7f76e",
   "outputs": [
    {
     "name": "stdout",
     "output_type": "stream",
     "text": [
      "32\n"
     ]
    }
   ],
   "execution_count": 12
  },
  {
   "metadata": {
    "ExecuteTime": {
     "end_time": "2025-09-25T07:50:34.637807Z",
     "start_time": "2025-09-25T07:50:34.621928Z"
    }
   },
   "cell_type": "code",
   "source": [
    "#code exmaples of indentation\n",
    "\n",
    "if True:\n",
    "    print(\"Correct Indentation\")\n",
    "    if False:\n",
    "        print(\"This ont print\")\n",
    "    print(\"This will print\")\n",
    "print(\"Outide the if block\")"
   ],
   "id": "c97529c1ec961f00",
   "outputs": [
    {
     "name": "stdout",
     "output_type": "stream",
     "text": [
      "Correct Indentation\n",
      "This will print\n",
      "Outide the if block\n"
     ]
    }
   ],
   "execution_count": 13
  }
 ],
 "metadata": {
  "kernelspec": {
   "display_name": "Python 3",
   "language": "python",
   "name": "python3"
  },
  "language_info": {
   "codemirror_mode": {
    "name": "ipython",
    "version": 2
   },
   "file_extension": ".py",
   "mimetype": "text/x-python",
   "name": "python",
   "nbconvert_exporter": "python",
   "pygments_lexer": "ipython2",
   "version": "2.7.6"
  }
 },
 "nbformat": 4,
 "nbformat_minor": 5
}
