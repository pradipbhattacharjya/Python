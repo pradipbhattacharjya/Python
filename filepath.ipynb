{
 "cells": [
  {
   "cell_type": "code",
   "id": "initial_id",
   "metadata": {
    "collapsed": true,
    "ExecuteTime": {
     "end_time": "2025-09-29T09:46:18.872971Z",
     "start_time": "2025-09-29T09:46:18.866066Z"
    }
   },
   "source": [
    "#create a new directory\n",
    "import os\n",
    "\n",
    "from Demos.security.set_file_audit import dir_name\n",
    "\n",
    "new_directory=\"packages\"\n",
    "os.mkdir(new_directory)\n",
    "print(f\"Directory'{new_directory}' created\")"
   ],
   "outputs": [
    {
     "name": "stdout",
     "output_type": "stream",
     "text": [
      "Directory'packages' created\n"
     ]
    }
   ],
   "execution_count": 3
  },
  {
   "metadata": {
    "ExecuteTime": {
     "end_time": "2025-09-29T09:51:08.443593Z",
     "start_time": "2025-09-29T09:51:08.435927Z"
    }
   },
   "cell_type": "code",
   "source": [
    "# Listing Files And Directories\n",
    "\n",
    "items=os.listdir('.')\n",
    "print(items)"
   ],
   "id": "5ef1e1c82fd56e1",
   "outputs": [
    {
     "name": "stdout",
     "output_type": "stream",
     "text": [
      "[' If _Elif _Else _Statements', ' Membership & Identity Operators', ' Problems on Strings', '.git', '.idea', '2D Lists', 'Advanced Numpy', 'Arithmetic Operations', 'A_Real_Problem.ipynb', 'basic.ipynb', 'Comparison Operators', 'Conditional Statements.ipynb', 'Data Engineers python', 'Datatypes.ipynb', 'Decorators in python', 'destination.txt', 'Dictionaries.ipynb', 'Dictionary', 'Dictionary in python', 'example.bin', 'example.csv', 'example.txt', 'examplesfunctions.ipynb', 'Fileoperation.ipynb', 'filepath.ipynb', 'filterfunction.ipynb', 'For loops', 'Formatted String', 'Frozenset', 'Functions.ipynb', 'GAME', 'Getting input', 'HelloWorld', 'if Statements', 'if_else', 'Import.ipynb', 'Internal working of python', 'Iteration_tools', 'LambdaFunctions.ipynb', 'List', 'List in python', 'List Methods', 'ListExamples.ipynb', 'Lists', 'Lists.ipynb', 'Logical Operators', 'Loops', 'Loops.ipynb', 'Map functions.ipynb', 'Math Functions', 'Modules', 'mos', 'music.csv', 'Nested Loops', 'Numpy Fundamentals', 'Object Oriented Programming', 'Oject Oriented Programming', 'Operator Precedence', 'Operators', 'Operators.ipynb', 'OPP1', 'OPP2', 'opp3', 'package', 'packages', 'Project manager app', 'Python Data Types', 'Python depth numbers', 'Python Fundamentals', 'Python in shell', 'Python in tupales', 'Python inner working', 'Question1', 'README.md', 'sample.txt', 'Scopes and closure in python', 'Sets', 'Sets.ipynb', 'Solve 10 conditional problem', 'Solve 10 loops problem', 'Solve 10 problems on functions', 'source.txt', 'Standardlibrary.ipynb', 'String', 'String Methods', 'Strings', 'Strings in python', 'TASK1', 'TASK2', 'test.py', 'test_dir', 'Tuples', 'Tuples.ipynb', 'Type Conversion', 'Variables', 'Variables.ipynb', 'While Loops']\n"
     ]
    }
   ],
   "execution_count": 4
  },
  {
   "metadata": {
    "ExecuteTime": {
     "end_time": "2025-09-29T09:55:51.109384Z",
     "start_time": "2025-09-29T09:55:51.098176Z"
    }
   },
   "cell_type": "code",
   "source": [
    "##  Joining Paths\n",
    "\n",
    "dir_name=\"folder\"\n",
    "file_name=\"file.txt\"\n",
    "full_path=os.path.join(dir_name,file_name)\n",
    "\n",
    "print(full_path)"
   ],
   "id": "b21f433ccbd9140a",
   "outputs": [
    {
     "name": "stdout",
     "output_type": "stream",
     "text": [
      "folder\\file.txt\n"
     ]
    }
   ],
   "execution_count": 5
  },
  {
   "metadata": {
    "ExecuteTime": {
     "end_time": "2025-09-29T09:57:50.464539Z",
     "start_time": "2025-09-29T09:57:50.457734Z"
    }
   },
   "cell_type": "code",
   "source": [
    "dir_name=\"folder\"\n",
    "file_name=\"file.txt\"\n",
    "full_path=os.path.join(os.getcwd(),dir_name,file_name)\n",
    "\n",
    "print(full_path)"
   ],
   "id": "d54c9294c1b5e591",
   "outputs": [
    {
     "name": "stdout",
     "output_type": "stream",
     "text": [
      "C:\\Users\\pradi\\PycharmProjects\\Python\\folder\\file.txt\n"
     ]
    }
   ],
   "execution_count": 6
  },
  {
   "metadata": {
    "ExecuteTime": {
     "end_time": "2025-09-29T10:01:54.202218Z",
     "start_time": "2025-09-29T10:01:54.196755Z"
    }
   },
   "cell_type": "code",
   "source": [
    "path='example1.txt'\n",
    "if os.path.exists(path):\n",
    "    print(f\"The path'{path}'  exists\")\n",
    "else:\n",
    "    print(f\"The path'{path}' does not exist\")"
   ],
   "id": "2c48bcc2626f3631",
   "outputs": [
    {
     "name": "stdout",
     "output_type": "stream",
     "text": [
      "The path'example1.txt' does not exist\n"
     ]
    }
   ],
   "execution_count": 8
  },
  {
   "metadata": {
    "ExecuteTime": {
     "end_time": "2025-09-29T10:06:16.238997Z",
     "start_time": "2025-09-29T10:06:16.231641Z"
    }
   },
   "cell_type": "code",
   "source": [
    "#Checking if a Path is a Fie or Directory\n",
    "import os\n",
    "\n",
    "path='example.txt'\n",
    "if os.path.isfile(path):\n",
    "    print(f\"The path'{path}' is a file.\")\n",
    "elif os.path.isdir(path):\n",
    "    print(f\"The path'{path}' is a directory.\")\n",
    "else:\n",
    "    print(f\"The path'{path}' is not a file.\")\n"
   ],
   "id": "e1e95fe147316424",
   "outputs": [
    {
     "name": "stdout",
     "output_type": "stream",
     "text": [
      "The path'example.txt' is a file.\n"
     ]
    }
   ],
   "execution_count": 9
  },
  {
   "metadata": {
    "ExecuteTime": {
     "end_time": "2025-09-29T10:09:49.463549Z",
     "start_time": "2025-09-29T10:09:49.447024Z"
    }
   },
   "cell_type": "code",
   "source": [
    "#Getting the absolute path\n",
    "relative_path='example2.txt'\n",
    "absolute_path=os.path.abspath(relative_path)\n",
    "print(absolute_path)"
   ],
   "id": "376ffd9b1416d361",
   "outputs": [
    {
     "name": "stdout",
     "output_type": "stream",
     "text": [
      "C:\\Users\\pradi\\PycharmProjects\\Python\\example2.txt\n"
     ]
    }
   ],
   "execution_count": 10
  }
 ],
 "metadata": {
  "kernelspec": {
   "display_name": "Python 3",
   "language": "python",
   "name": "python3"
  },
  "language_info": {
   "codemirror_mode": {
    "name": "ipython",
    "version": 2
   },
   "file_extension": ".py",
   "mimetype": "text/x-python",
   "name": "python",
   "nbconvert_exporter": "python",
   "pygments_lexer": "ipython2",
   "version": "2.7.6"
  }
 },
 "nbformat": 4,
 "nbformat_minor": 5
}
