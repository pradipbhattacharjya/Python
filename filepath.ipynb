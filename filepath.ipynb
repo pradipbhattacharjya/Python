{
 "cells": [
  {
   "cell_type": "code",
   "id": "initial_id",
   "metadata": {
    "collapsed": true,
    "ExecuteTime": {
     "end_time": "2025-09-29T09:46:18.872971Z",
     "start_time": "2025-09-29T09:46:18.866066Z"
    }
   },
   "source": [
    "#create a new directory\n",
    "import os\n",
    "\n",
    "new_directory=\"packages\"\n",
    "os.mkdir(new_directory)\n",
    "print(f\"Directory'{new_directory}' created\")"
   ],
   "outputs": [
    {
     "name": "stdout",
     "output_type": "stream",
     "text": [
      "Directory'packages' created\n"
     ]
    }
   ],
   "execution_count": 3
  }
 ],
 "metadata": {
  "kernelspec": {
   "display_name": "Python 3",
   "language": "python",
   "name": "python3"
  },
  "language_info": {
   "codemirror_mode": {
    "name": "ipython",
    "version": 2
   },
   "file_extension": ".py",
   "mimetype": "text/x-python",
   "name": "python",
   "nbconvert_exporter": "python",
   "pygments_lexer": "ipython2",
   "version": "2.7.6"
  }
 },
 "nbformat": 4,
 "nbformat_minor": 5
}
