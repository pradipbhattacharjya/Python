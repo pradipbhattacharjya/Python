{
 "cells": [
  {
   "cell_type": "code",
   "id": "initial_id",
   "metadata": {
    "collapsed": true,
    "ExecuteTime": {
     "end_time": "2025-09-29T09:46:18.872971Z",
     "start_time": "2025-09-29T09:46:18.866066Z"
    }
   },
   "source": [
    "#create a new directory\n",
    "import os\n",
    "\n",
    "new_directory=\"packages\"\n",
    "os.mkdir(new_directory)\n",
    "print(f\"Directory'{new_directory}' created\")"
   ],
   "outputs": [
    {
     "name": "stdout",
     "output_type": "stream",
     "text": [
      "Directory'packages' created\n"
     ]
    }
   ],
   "execution_count": 3
  },
  {
   "metadata": {
    "ExecuteTime": {
     "end_time": "2025-09-29T09:51:08.443593Z",
     "start_time": "2025-09-29T09:51:08.435927Z"
    }
   },
   "cell_type": "code",
   "source": [
    "# Listing Files And Directories\n",
    "\n",
    "items=os.listdir('.')\n",
    "print(items)"
   ],
   "id": "5ef1e1c82fd56e1",
   "outputs": [
    {
     "name": "stdout",
     "output_type": "stream",
     "text": [
      "[' If _Elif _Else _Statements', ' Membership & Identity Operators', ' Problems on Strings', '.git', '.idea', '2D Lists', 'Advanced Numpy', 'Arithmetic Operations', 'A_Real_Problem.ipynb', 'basic.ipynb', 'Comparison Operators', 'Conditional Statements.ipynb', 'Data Engineers python', 'Datatypes.ipynb', 'Decorators in python', 'destination.txt', 'Dictionaries.ipynb', 'Dictionary', 'Dictionary in python', 'example.bin', 'example.csv', 'example.txt', 'examplesfunctions.ipynb', 'Fileoperation.ipynb', 'filepath.ipynb', 'filterfunction.ipynb', 'For loops', 'Formatted String', 'Frozenset', 'Functions.ipynb', 'GAME', 'Getting input', 'HelloWorld', 'if Statements', 'if_else', 'Import.ipynb', 'Internal working of python', 'Iteration_tools', 'LambdaFunctions.ipynb', 'List', 'List in python', 'List Methods', 'ListExamples.ipynb', 'Lists', 'Lists.ipynb', 'Logical Operators', 'Loops', 'Loops.ipynb', 'Map functions.ipynb', 'Math Functions', 'Modules', 'mos', 'music.csv', 'Nested Loops', 'Numpy Fundamentals', 'Object Oriented Programming', 'Oject Oriented Programming', 'Operator Precedence', 'Operators', 'Operators.ipynb', 'OPP1', 'OPP2', 'opp3', 'package', 'packages', 'Project manager app', 'Python Data Types', 'Python depth numbers', 'Python Fundamentals', 'Python in shell', 'Python in tupales', 'Python inner working', 'Question1', 'README.md', 'sample.txt', 'Scopes and closure in python', 'Sets', 'Sets.ipynb', 'Solve 10 conditional problem', 'Solve 10 loops problem', 'Solve 10 problems on functions', 'source.txt', 'Standardlibrary.ipynb', 'String', 'String Methods', 'Strings', 'Strings in python', 'TASK1', 'TASK2', 'test.py', 'test_dir', 'Tuples', 'Tuples.ipynb', 'Type Conversion', 'Variables', 'Variables.ipynb', 'While Loops']\n"
     ]
    }
   ],
   "execution_count": 4
  }
 ],
 "metadata": {
  "kernelspec": {
   "display_name": "Python 3",
   "language": "python",
   "name": "python3"
  },
  "language_info": {
   "codemirror_mode": {
    "name": "ipython",
    "version": 2
   },
   "file_extension": ".py",
   "mimetype": "text/x-python",
   "name": "python",
   "nbconvert_exporter": "python",
   "pygments_lexer": "ipython2",
   "version": "2.7.6"
  }
 },
 "nbformat": 4,
 "nbformat_minor": 5
}
