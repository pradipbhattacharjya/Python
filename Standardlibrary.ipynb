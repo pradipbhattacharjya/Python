{
 "cells": [
  {
   "cell_type": "code",
   "id": "initial_id",
   "metadata": {
    "collapsed": true,
    "ExecuteTime": {
     "end_time": "2025-09-29T02:43:26.617058Z",
     "start_time": "2025-09-29T02:43:26.610304Z"
    }
   },
   "source": [
    "import  array\n",
    "arr=array.array('i',[1,2,3,4])\n",
    "print(arr)"
   ],
   "outputs": [
    {
     "name": "stdout",
     "output_type": "stream",
     "text": [
      "array('i', [1, 2, 3, 4])\n"
     ]
    }
   ],
   "execution_count": 1
  },
  {
   "metadata": {
    "ExecuteTime": {
     "end_time": "2025-09-29T02:44:24.168898Z",
     "start_time": "2025-09-29T02:44:24.162229Z"
    }
   },
   "cell_type": "code",
   "source": [
    "import math\n",
    "print(math.sqrt(16))\n",
    "print(math.pi)"
   ],
   "id": "93d6d26076b94968",
   "outputs": [
    {
     "name": "stdout",
     "output_type": "stream",
     "text": [
      "4.0\n",
      "3.141592653589793\n"
     ]
    }
   ],
   "execution_count": 2
  },
  {
   "metadata": {
    "ExecuteTime": {
     "end_time": "2025-09-29T02:47:01.975794Z",
     "start_time": "2025-09-29T02:47:01.968084Z"
    }
   },
   "cell_type": "code",
   "source": [
    "#random\n",
    "import random\n",
    "print(random.randint(1,10))\n",
    "print(random.choice(['apple','banana','cherry']))"
   ],
   "id": "c1ab7e8a9822f01f",
   "outputs": [
    {
     "name": "stdout",
     "output_type": "stream",
     "text": [
      "10\n",
      "cherry\n"
     ]
    }
   ],
   "execution_count": 4
  },
  {
   "metadata": {
    "ExecuteTime": {
     "end_time": "2025-09-29T02:48:55.734854Z",
     "start_time": "2025-09-29T02:48:55.726868Z"
    }
   },
   "cell_type": "code",
   "source": [
    "#File And Directory Access\n",
    "\n",
    "import os\n",
    "print(os.getcwd())"
   ],
   "id": "c710b3901753e56f",
   "outputs": [
    {
     "name": "stdout",
     "output_type": "stream",
     "text": [
      "C:\\Users\\pradi\\PycharmProjects\\Python\n"
     ]
    }
   ],
   "execution_count": 5
  },
  {
   "metadata": {
    "ExecuteTime": {
     "end_time": "2025-09-29T02:49:32.183435Z",
     "start_time": "2025-09-29T02:49:32.171885Z"
    }
   },
   "cell_type": "code",
   "source": "os.mkdir('test_dir')\n",
   "id": "5360874c2569ea65",
   "outputs": [],
   "execution_count": 6
  },
  {
   "metadata": {
    "ExecuteTime": {
     "end_time": "2025-09-29T02:56:12.288488Z",
     "start_time": "2025-09-29T02:56:12.234372Z"
    }
   },
   "cell_type": "code",
   "source": [
    "#High level operations on files and collection of files\n",
    "import shutil\n",
    "shutil.copyfile('source.txt','destination.txt')"
   ],
   "id": "c3f86b105346db52",
   "outputs": [
    {
     "data": {
      "text/plain": [
       "'destination.txt'"
      ]
     },
     "execution_count": 7,
     "metadata": {},
     "output_type": "execute_result"
    }
   ],
   "execution_count": 7
  }
 ],
 "metadata": {
  "kernelspec": {
   "display_name": "Python 3",
   "language": "python",
   "name": "python3"
  },
  "language_info": {
   "codemirror_mode": {
    "name": "ipython",
    "version": 2
   },
   "file_extension": ".py",
   "mimetype": "text/x-python",
   "name": "python",
   "nbconvert_exporter": "python",
   "pygments_lexer": "ipython2",
   "version": "2.7.6"
  }
 },
 "nbformat": 4,
 "nbformat_minor": 5
}
