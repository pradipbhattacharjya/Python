{
 "cells": [
  {
   "cell_type": "code",
   "id": "initial_id",
   "metadata": {
    "collapsed": true,
    "ExecuteTime": {
     "end_time": "2025-09-26T09:44:03.623760Z",
     "start_time": "2025-09-26T09:44:03.618270Z"
    }
   },
   "source": [
    "from pywin.scintilla.view import event_commands\n",
    "\n",
    "lst=[]\n",
    "print(type(lst))"
   ],
   "outputs": [
    {
     "name": "stdout",
     "output_type": "stream",
     "text": [
      "<class 'list'>\n"
     ]
    }
   ],
   "execution_count": 1
  },
  {
   "metadata": {
    "ExecuteTime": {
     "end_time": "2025-09-26T09:46:26.908972Z",
     "start_time": "2025-09-26T09:46:26.869080Z"
    }
   },
   "cell_type": "code",
   "source": [
    "names=[\"Krish\",\"Jack\",\"Jacob\",1,2,3,4,5]\n",
    "print(names)"
   ],
   "id": "5a3aa83d9a688df7",
   "outputs": [
    {
     "name": "stdout",
     "output_type": "stream",
     "text": [
      "['Krish', 'Jack', 'Jacob', 1, 2, 3, 4, 5]\n"
     ]
    }
   ],
   "execution_count": 2
  },
  {
   "metadata": {
    "ExecuteTime": {
     "end_time": "2025-09-26T09:47:43.288753Z",
     "start_time": "2025-09-26T09:47:43.277781Z"
    }
   },
   "cell_type": "code",
   "source": [
    "mixed_list=[1,\"Hello\",3.14,True]\n",
    "print(mixed_list)"
   ],
   "id": "8c0c0dc620f8c891",
   "outputs": [
    {
     "name": "stdout",
     "output_type": "stream",
     "text": [
      "[1, 'Hello', 3.14, True]\n"
     ]
    }
   ],
   "execution_count": 3
  },
  {
   "metadata": {
    "ExecuteTime": {
     "end_time": "2025-09-26T09:51:17.629462Z",
     "start_time": "2025-09-26T09:51:17.607877Z"
    }
   },
   "cell_type": "code",
   "source": [
    "## Accessing List Elements\n",
    "fruits=[\"apple\",\"banana\",\"cherry\",\"kiwi\",\"guava\"]"
   ],
   "id": "1e5facbfccec2e9f",
   "outputs": [],
   "execution_count": 4
  },
  {
   "metadata": {
    "ExecuteTime": {
     "end_time": "2025-09-26T09:53:14.951440Z",
     "start_time": "2025-09-26T09:53:14.941561Z"
    }
   },
   "cell_type": "code",
   "source": [
    "print(fruits[0])\n",
    "print(fruits[2])\n",
    "print(fruits[4])\n",
    "print(fruits[-1])"
   ],
   "id": "d0addec1a5c325c5",
   "outputs": [
    {
     "name": "stdout",
     "output_type": "stream",
     "text": [
      "apple\n",
      "cherry\n",
      "guava\n",
      "guava\n"
     ]
    }
   ],
   "execution_count": 8
  },
  {
   "metadata": {
    "ExecuteTime": {
     "end_time": "2025-09-26T09:56:36.573269Z",
     "start_time": "2025-09-26T09:56:36.561968Z"
    }
   },
   "cell_type": "code",
   "source": [
    "print(fruits[1:])\n",
    "print(fruits[1:3])\n",
    "print(fruits[-1:])\n"
   ],
   "id": "4bacc71c53774a2b",
   "outputs": [
    {
     "name": "stdout",
     "output_type": "stream",
     "text": [
      "['banana', 'cherry', 'kiwi', 'guava']\n",
      "['banana', 'cherry']\n",
      "['guava']\n"
     ]
    }
   ],
   "execution_count": 14
  },
  {
   "metadata": {
    "ExecuteTime": {
     "end_time": "2025-09-26T09:57:10.543684Z",
     "start_time": "2025-09-26T09:57:10.526108Z"
    }
   },
   "cell_type": "code",
   "source": [
    "#3Modifying The list elements\n",
    "fruits"
   ],
   "id": "64c0071c901144cc",
   "outputs": [
    {
     "data": {
      "text/plain": [
       "['apple', 'banana', 'cherry', 'kiwi', 'guava']"
      ]
     },
     "execution_count": 15,
     "metadata": {},
     "output_type": "execute_result"
    }
   ],
   "execution_count": 15
  },
  {
   "metadata": {
    "ExecuteTime": {
     "end_time": "2025-09-26T09:57:45.383426Z",
     "start_time": "2025-09-26T09:57:45.371766Z"
    }
   },
   "cell_type": "code",
   "source": [
    "fruits[1]=\"watermelon\"\n",
    "print(fruits)"
   ],
   "id": "5fef6798f3b41157",
   "outputs": [
    {
     "name": "stdout",
     "output_type": "stream",
     "text": [
      "['apple', 'watermelon', 'cherry', 'kiwi', 'guava']\n"
     ]
    }
   ],
   "execution_count": 16
  },
  {
   "metadata": {
    "ExecuteTime": {
     "end_time": "2025-09-26T09:58:42.981917Z",
     "start_time": "2025-09-26T09:58:42.973393Z"
    }
   },
   "cell_type": "code",
   "source": "fruits[1:]=\"watermelon\"",
   "id": "9318292cb55595d7",
   "outputs": [],
   "execution_count": 17
  },
  {
   "metadata": {
    "ExecuteTime": {
     "end_time": "2025-09-26T09:58:56.423706Z",
     "start_time": "2025-09-26T09:58:56.412363Z"
    }
   },
   "cell_type": "code",
   "source": "fruits",
   "id": "50b79b49f6e22bf4",
   "outputs": [
    {
     "data": {
      "text/plain": [
       "['apple', 'w', 'a', 't', 'e', 'r', 'm', 'e', 'l', 'o', 'n']"
      ]
     },
     "execution_count": 18,
     "metadata": {},
     "output_type": "execute_result"
    }
   ],
   "execution_count": 18
  },
  {
   "metadata": {
    "ExecuteTime": {
     "end_time": "2025-09-26T10:00:03.165120Z",
     "start_time": "2025-09-26T10:00:03.157910Z"
    }
   },
   "cell_type": "code",
   "source": "fruits=[\"apple\",\"banana\",\"cherry\",\"kiwi\",\"guava\"]",
   "id": "e8d5ffd78bd1805e",
   "outputs": [],
   "execution_count": 19
  },
  {
   "metadata": {
    "ExecuteTime": {
     "end_time": "2025-09-26T10:01:05.656886Z",
     "start_time": "2025-09-26T10:01:05.646977Z"
    }
   },
   "cell_type": "code",
   "source": [
    "##List Methods\n",
    "fruits.append(\"orange\") #Add an item to the end\n",
    "print(fruits)"
   ],
   "id": "e58e055c8794066c",
   "outputs": [
    {
     "name": "stdout",
     "output_type": "stream",
     "text": [
      "['apple', 'banana', 'cherry', 'kiwi', 'guava', 'orange']\n"
     ]
    }
   ],
   "execution_count": 20
  },
  {
   "metadata": {
    "ExecuteTime": {
     "end_time": "2025-09-26T10:07:39.500336Z",
     "start_time": "2025-09-26T10:07:39.492067Z"
    }
   },
   "cell_type": "code",
   "source": [
    "fruits.insert(1,\"Watermelon\")\n",
    "print(fruits)\n",
    "fruits.insert(2,\"banana\")\n",
    "print(fruits)"
   ],
   "id": "99007e096e91add7",
   "outputs": [
    {
     "name": "stdout",
     "output_type": "stream",
     "text": [
      "['apple', 'Watermelon', 'banana', 'cherry', 'kiwi', 'guava', 'orange']\n"
     ]
    }
   ],
   "execution_count": 29
  },
  {
   "metadata": {
    "ExecuteTime": {
     "end_time": "2025-09-26T10:04:02.993680Z",
     "start_time": "2025-09-26T10:04:02.989445Z"
    }
   },
   "cell_type": "code",
   "source": [
    "fruits.remove(\"banana\")\n",
    "print(fruits)"
   ],
   "id": "a27f52e6e9c4a0c2",
   "outputs": [
    {
     "name": "stdout",
     "output_type": "stream",
     "text": [
      "['apple', 'Watermelon', 'Watermelon', 'banana', 'cherry', 'kiwi', 'guava', 'orange']\n"
     ]
    }
   ],
   "execution_count": 24
  },
  {
   "metadata": {
    "ExecuteTime": {
     "end_time": "2025-09-26T10:07:25.051830Z",
     "start_time": "2025-09-26T10:07:25.044596Z"
    }
   },
   "cell_type": "code",
   "source": [
    "#Removing the first occurrence of an item\n",
    "fruits.remove(\"Watermelon\")\n",
    "print(fruits)"
   ],
   "id": "8e01d543a8861ef4",
   "outputs": [
    {
     "name": "stdout",
     "output_type": "stream",
     "text": [
      "['apple', 'banana', 'cherry', 'kiwi', 'guava', 'orange']\n"
     ]
    }
   ],
   "execution_count": 28
  },
  {
   "metadata": {
    "ExecuteTime": {
     "end_time": "2025-09-26T10:09:28.379424Z",
     "start_time": "2025-09-26T10:09:28.372140Z"
    }
   },
   "cell_type": "code",
   "source": [
    "##Remove and return the last element\n",
    "popped_fruits = fruits.pop()\n",
    "print(popped_fruits)"
   ],
   "id": "e38523f68507bf6",
   "outputs": [
    {
     "name": "stdout",
     "output_type": "stream",
     "text": [
      "guava\n"
     ]
    }
   ],
   "execution_count": 31
  },
  {
   "metadata": {
    "ExecuteTime": {
     "end_time": "2025-09-26T10:09:54.206544Z",
     "start_time": "2025-09-26T10:09:54.200106Z"
    }
   },
   "cell_type": "code",
   "source": "print(fruits)",
   "id": "88ae4d4ef4029668",
   "outputs": [
    {
     "name": "stdout",
     "output_type": "stream",
     "text": [
      "['apple', 'Watermelon', 'banana', 'cherry', 'kiwi']\n"
     ]
    }
   ],
   "execution_count": 32
  },
  {
   "metadata": {
    "ExecuteTime": {
     "end_time": "2025-09-26T10:11:25.667397Z",
     "start_time": "2025-09-26T10:11:25.661920Z"
    }
   },
   "cell_type": "code",
   "source": [
    "index=fruits.index(\"cherry\")\n",
    "print(index)"
   ],
   "id": "9a3f3ad53cc7451e",
   "outputs": [
    {
     "name": "stdout",
     "output_type": "stream",
     "text": [
      "3\n"
     ]
    }
   ],
   "execution_count": 34
  },
  {
   "metadata": {
    "ExecuteTime": {
     "end_time": "2025-09-26T10:12:57.591598Z",
     "start_time": "2025-09-26T10:12:57.583793Z"
    }
   },
   "cell_type": "code",
   "source": [
    "fruits.insert(2,\"banana\")\n",
    "print(fruits.count(\"banana\"))\n"
   ],
   "id": "af72381f8a4ca9a",
   "outputs": [
    {
     "name": "stdout",
     "output_type": "stream",
     "text": [
      "2\n"
     ]
    }
   ],
   "execution_count": 35
  },
  {
   "metadata": {
    "ExecuteTime": {
     "end_time": "2025-09-26T10:13:30.421700Z",
     "start_time": "2025-09-26T10:13:30.413809Z"
    }
   },
   "cell_type": "code",
   "source": "fruits",
   "id": "d68ad89a264cbc9b",
   "outputs": [
    {
     "data": {
      "text/plain": [
       "['apple', 'Watermelon', 'banana', 'banana', 'cherry', 'kiwi']"
      ]
     },
     "execution_count": 36,
     "metadata": {},
     "output_type": "execute_result"
    }
   ],
   "execution_count": 36
  },
  {
   "metadata": {
    "ExecuteTime": {
     "end_time": "2025-09-26T10:14:32.485924Z",
     "start_time": "2025-09-26T10:14:32.479557Z"
    }
   },
   "cell_type": "code",
   "source": "fruits.sort()#ssorts the list in ascending order",
   "id": "21fb13169f539ea2",
   "outputs": [],
   "execution_count": 37
  },
  {
   "metadata": {
    "ExecuteTime": {
     "end_time": "2025-09-26T10:14:37.876820Z",
     "start_time": "2025-09-26T10:14:37.867200Z"
    }
   },
   "cell_type": "code",
   "source": "fruits",
   "id": "473d2903006e6576",
   "outputs": [
    {
     "data": {
      "text/plain": [
       "['Watermelon', 'apple', 'banana', 'banana', 'cherry', 'kiwi']"
      ]
     },
     "execution_count": 38,
     "metadata": {},
     "output_type": "execute_result"
    }
   ],
   "execution_count": 38
  },
  {
   "metadata": {
    "ExecuteTime": {
     "end_time": "2025-09-26T10:15:01.558502Z",
     "start_time": "2025-09-26T10:15:01.551203Z"
    }
   },
   "cell_type": "code",
   "source": "fruits.reverse()",
   "id": "5435dc0f37090539",
   "outputs": [],
   "execution_count": 39
  },
  {
   "metadata": {
    "ExecuteTime": {
     "end_time": "2025-09-26T10:15:10.193239Z",
     "start_time": "2025-09-26T10:15:10.184487Z"
    }
   },
   "cell_type": "code",
   "source": "fruits",
   "id": "5b3a7f80ae612520",
   "outputs": [
    {
     "data": {
      "text/plain": [
       "['kiwi', 'cherry', 'banana', 'banana', 'apple', 'Watermelon']"
      ]
     },
     "execution_count": 40,
     "metadata": {},
     "output_type": "execute_result"
    }
   ],
   "execution_count": 40
  },
  {
   "metadata": {
    "ExecuteTime": {
     "end_time": "2025-09-26T10:16:24.527884Z",
     "start_time": "2025-09-26T10:16:24.518387Z"
    }
   },
   "cell_type": "code",
   "source": [
    "fruits.clear() #Remove all items from the list\n",
    "print(fruits)"
   ],
   "id": "398e9686eeb5c6ec",
   "outputs": [
    {
     "name": "stdout",
     "output_type": "stream",
     "text": [
      "[]\n"
     ]
    }
   ],
   "execution_count": 41
  },
  {
   "metadata": {
    "ExecuteTime": {
     "end_time": "2025-09-26T10:19:16.878997Z",
     "start_time": "2025-09-26T10:19:16.868233Z"
    }
   },
   "cell_type": "code",
   "source": [
    "## Slicing List\n",
    "numbers =[1,2,3,4,5,6,7,8,9,10]\n",
    "print(numbers[2:5])\n",
    "print(numbers[:5])\n",
    "print(numbers[5:])\n",
    "print(numbers[::2])\n",
    "print(numbers[::-1])"
   ],
   "id": "b079e7ba3ed8fe29",
   "outputs": [
    {
     "name": "stdout",
     "output_type": "stream",
     "text": [
      "[3, 4, 5]\n",
      "[1, 2, 3, 4, 5]\n",
      "[6, 7, 8, 9, 10]\n",
      "[1, 3, 5, 7, 9]\n",
      "[10, 9, 8, 7, 6, 5, 4, 3, 2, 1]\n"
     ]
    }
   ],
   "execution_count": 42
  },
  {
   "metadata": {
    "ExecuteTime": {
     "end_time": "2025-09-26T10:20:57.693569Z",
     "start_time": "2025-09-26T10:20:57.682914Z"
    }
   },
   "cell_type": "code",
   "source": "numbers[::1]",
   "id": "93d9cbe2ce4d27c8",
   "outputs": [
    {
     "data": {
      "text/plain": [
       "[1, 2, 3, 4, 5, 6, 7, 8, 9, 10]"
      ]
     },
     "execution_count": 44,
     "metadata": {},
     "output_type": "execute_result"
    }
   ],
   "execution_count": 44
  },
  {
   "metadata": {
    "ExecuteTime": {
     "end_time": "2025-09-26T10:22:11.969263Z",
     "start_time": "2025-09-26T10:22:11.960738Z"
    }
   },
   "cell_type": "code",
   "source": "numbers[::3]",
   "id": "d12c8e17fbe203ab",
   "outputs": [
    {
     "data": {
      "text/plain": [
       "[1, 4, 7, 10]"
      ]
     },
     "execution_count": 45,
     "metadata": {},
     "output_type": "execute_result"
    }
   ],
   "execution_count": 45
  },
  {
   "metadata": {
    "ExecuteTime": {
     "end_time": "2025-09-26T10:22:34.664716Z",
     "start_time": "2025-09-26T10:22:34.655828Z"
    }
   },
   "cell_type": "code",
   "source": "numbers[::-2]",
   "id": "94b63fe027d084a3",
   "outputs": [
    {
     "data": {
      "text/plain": [
       "[10, 8, 6, 4, 2]"
      ]
     },
     "execution_count": 46,
     "metadata": {},
     "output_type": "execute_result"
    }
   ],
   "execution_count": 46
  },
  {
   "metadata": {
    "ExecuteTime": {
     "end_time": "2025-09-26T10:25:20.780402Z",
     "start_time": "2025-09-26T10:25:20.774608Z"
    }
   },
   "cell_type": "code",
   "source": [
    "##Iterating Over List\n",
    "for number in numbers:\n",
    "    print(number)"
   ],
   "id": "55664732f2f0f75",
   "outputs": [
    {
     "name": "stdout",
     "output_type": "stream",
     "text": [
      "1\n",
      "2\n",
      "3\n",
      "4\n",
      "5\n",
      "6\n",
      "7\n",
      "8\n",
      "9\n",
      "10\n"
     ]
    }
   ],
   "execution_count": 48
  },
  {
   "metadata": {
    "ExecuteTime": {
     "end_time": "2025-09-26T10:29:37.313063Z",
     "start_time": "2025-09-26T10:29:37.305777Z"
    }
   },
   "cell_type": "code",
   "source": [
    "#Iterating with index\n",
    "for index,number in enumerate(numbers):\n",
    "    print(index,number)\n"
   ],
   "id": "c1918112c52873d3",
   "outputs": [
    {
     "name": "stdout",
     "output_type": "stream",
     "text": [
      "0 1\n",
      "1 2\n",
      "2 3\n",
      "3 4\n",
      "4 5\n",
      "5 6\n",
      "6 7\n",
      "7 8\n",
      "8 9\n",
      "9 10\n"
     ]
    }
   ],
   "execution_count": 50
  },
  {
   "metadata": {
    "ExecuteTime": {
     "end_time": "2025-09-26T10:32:42.091810Z",
     "start_time": "2025-09-26T10:32:42.067341Z"
    }
   },
   "cell_type": "code",
   "source": [
    "##List comprehension\n",
    "list=[]\n",
    "for x in range(10):\n",
    "    list.append(x**2)\n",
    "\n",
    "print(list)"
   ],
   "id": "3e2b12a09b3cf15f",
   "outputs": [
    {
     "name": "stdout",
     "output_type": "stream",
     "text": [
      "[0, 1, 4, 9, 16, 25, 36, 49, 64, 81]\n"
     ]
    }
   ],
   "execution_count": 51
  },
  {
   "metadata": {
    "ExecuteTime": {
     "end_time": "2025-09-26T10:34:14.924364Z",
     "start_time": "2025-09-26T10:34:14.905409Z"
    }
   },
   "cell_type": "code",
   "source": "[x**2 for x in range(10)]",
   "id": "2e9050caded3181a",
   "outputs": [
    {
     "data": {
      "text/plain": [
       "[0, 1, 4, 9, 16, 25, 36, 49, 64, 81]"
      ]
     },
     "execution_count": 52,
     "metadata": {},
     "output_type": "execute_result"
    }
   ],
   "execution_count": 52
  },
  {
   "metadata": {
    "ExecuteTime": {
     "end_time": "2025-09-26T15:34:42.097246Z",
     "start_time": "2025-09-26T15:34:42.092879Z"
    }
   },
   "cell_type": "code",
   "source": [
    "##List Comprehension\n",
    "#Basics Syntax [expression for item in iterable]\n",
    "#With conditional logic [expression for item in iterable if condition]\n",
    "#Nested List Comprehension [expression for item1 in iterable1 for item2 in iterable2]\n"
   ],
   "id": "9b152228ac98007b",
   "outputs": [],
   "execution_count": 4
  },
  {
   "metadata": {
    "ExecuteTime": {
     "end_time": "2025-09-26T15:24:54.743382Z",
     "start_time": "2025-09-26T15:24:54.739079Z"
    }
   },
   "cell_type": "code",
   "source": [
    "#Basic list Compression\n",
    "sqaure=[num**2 for num in range(10)]\n",
    "print(sqaure)"
   ],
   "id": "51a11c1fe27cf86a",
   "outputs": [
    {
     "name": "stdout",
     "output_type": "stream",
     "text": [
      "[0, 1, 4, 9, 16, 25, 36, 49, 64, 81]\n"
     ]
    }
   ],
   "execution_count": 1
  },
  {
   "metadata": {
    "ExecuteTime": {
     "end_time": "2025-09-26T15:27:45.261154Z",
     "start_time": "2025-09-26T15:27:45.251183Z"
    }
   },
   "cell_type": "code",
   "source": [
    "#List  Comprehension with Condition\n",
    "list=[]\n",
    "for i in range(10):\n",
    "    if i%2==0:\n",
    "        list.append(i)\n",
    "print(list)"
   ],
   "id": "45396f4ddd967074",
   "outputs": [
    {
     "name": "stdout",
     "output_type": "stream",
     "text": [
      "[0, 2, 4, 6, 8]\n"
     ]
    }
   ],
   "execution_count": 2
  },
  {
   "metadata": {
    "ExecuteTime": {
     "end_time": "2025-09-26T15:29:23.306884Z",
     "start_time": "2025-09-26T15:29:23.299935Z"
    }
   },
   "cell_type": "code",
   "source": [
    "event_commands=[num for num in range(10) if num%2==0]\n",
    "print(event_commands)"
   ],
   "id": "19b861023233cd75",
   "outputs": [
    {
     "name": "stdout",
     "output_type": "stream",
     "text": [
      "[0, 2, 4, 6, 8]\n"
     ]
    }
   ],
   "execution_count": 3
  },
  {
   "metadata": {
    "ExecuteTime": {
     "end_time": "2025-09-26T15:40:02.649547Z",
     "start_time": "2025-09-26T15:40:02.640465Z"
    }
   },
   "cell_type": "code",
   "source": [
    "##Nested List Compression\n",
    "\n",
    "lst1=[1,2,3,4]\n",
    "lst2=['a','b','c','d']\n",
    "pair=[[i,j]for i in lst1 for j in lst2]\n",
    "print(pair)"
   ],
   "id": "7d17f0055806dd96",
   "outputs": [
    {
     "name": "stdout",
     "output_type": "stream",
     "text": [
      "[[1, 'a'], [1, 'b'], [1, 'c'], [1, 'd'], [2, 'a'], [2, 'b'], [2, 'c'], [2, 'd'], [3, 'a'], [3, 'b'], [3, 'c'], [3, 'd'], [4, 'a'], [4, 'b'], [4, 'c'], [4, 'd']]\n"
     ]
    }
   ],
   "execution_count": 6
  },
  {
   "metadata": {
    "ExecuteTime": {
     "end_time": "2025-09-26T15:49:53.574778Z",
     "start_time": "2025-09-26T15:49:53.566270Z"
    }
   },
   "cell_type": "code",
   "source": [
    "#List Comprehension with function calls\n",
    "words =[\"hello\",\"world\",\"python\",\"list\",\"comprehension\"]\n",
    "lengths =[len(word) for word in words]\n",
    "print(lengths) # Output: [5,5,6,4,13]"
   ],
   "id": "6a0a6fa5ccf915e9",
   "outputs": [
    {
     "name": "stdout",
     "output_type": "stream",
     "text": [
      "[5, 5, 6, 4, 13]\n"
     ]
    }
   ],
   "execution_count": 8
  }
 ],
 "metadata": {
  "kernelspec": {
   "display_name": "Python 3",
   "language": "python",
   "name": "python3"
  },
  "language_info": {
   "codemirror_mode": {
    "name": "ipython",
    "version": 2
   },
   "file_extension": ".py",
   "mimetype": "text/x-python",
   "name": "python",
   "nbconvert_exporter": "python",
   "pygments_lexer": "ipython2",
   "version": "2.7.6"
  }
 },
 "nbformat": 4,
 "nbformat_minor": 5
}
