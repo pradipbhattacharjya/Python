{
 "cells": [
  {
   "cell_type": "code",
   "id": "initial_id",
   "metadata": {
    "collapsed": true,
    "ExecuteTime": {
     "end_time": "2025-10-03T02:31:49.459863Z",
     "start_time": "2025-10-03T02:31:49.456131Z"
    }
   },
   "source": "import sqlite3",
   "outputs": [],
   "execution_count": 1
  },
  {
   "metadata": {
    "ExecuteTime": {
     "end_time": "2025-10-03T02:33:35.845707Z",
     "start_time": "2025-10-03T02:33:35.816683Z"
    }
   },
   "cell_type": "code",
   "source": [
    "#Connect to an SQLite database\n",
    "connection=sqlite3.connect('example.db')\n",
    "connection"
   ],
   "id": "c8b642880096bad4",
   "outputs": [
    {
     "data": {
      "text/plain": [
       "<sqlite3.Connection at 0x24e2f2f97b0>"
      ]
     },
     "execution_count": 2,
     "metadata": {},
     "output_type": "execute_result"
    }
   ],
   "execution_count": 2
  },
  {
   "metadata": {
    "ExecuteTime": {
     "end_time": "2025-10-03T02:36:06.295203Z",
     "start_time": "2025-10-03T02:36:06.278568Z"
    }
   },
   "cell_type": "code",
   "source": "cursor=connection.cursor()",
   "id": "75d5d135ec80a1cf",
   "outputs": [],
   "execution_count": 3
  },
  {
   "metadata": {
    "ExecuteTime": {
     "end_time": "2025-10-03T02:40:35.560402Z",
     "start_time": "2025-10-03T02:40:35.541623Z"
    }
   },
   "cell_type": "code",
   "source": [
    "#Create a Table\n",
    "cursor.execute('''\n",
    "CREATE TABLE IF NOT EXISTS employees (\n",
    "    id INTEGER PRIMARY KEY,\n",
    "    name TEXT NOT NULL,\n",
    "    age INTEGER,\n",
    "    department TEXT\n",
    ")\n",
    "''')\n",
    "\n",
    "#Commit the changes\n",
    "connection.commit()"
   ],
   "id": "2ba43ce561338689",
   "outputs": [],
   "execution_count": 4
  },
  {
   "metadata": {
    "ExecuteTime": {
     "end_time": "2025-10-03T02:42:36.119396Z",
     "start_time": "2025-10-03T02:42:36.110217Z"
    }
   },
   "cell_type": "code",
   "source": [
    "cursor.execute('''\n",
    "\n",
    "Select * from employees\n",
    "\n",
    "''')"
   ],
   "id": "fe9decc25ed6686",
   "outputs": [
    {
     "data": {
      "text/plain": [
       "<sqlite3.Cursor at 0x24e2f2c5f40>"
      ]
     },
     "execution_count": 5,
     "metadata": {},
     "output_type": "execute_result"
    }
   ],
   "execution_count": 5
  },
  {
   "metadata": {},
   "cell_type": "code",
   "outputs": [],
   "execution_count": null,
   "source": "",
   "id": "199af142a9ed2daf"
  }
 ],
 "metadata": {
  "kernelspec": {
   "display_name": "Python 3",
   "language": "python",
   "name": "python3"
  },
  "language_info": {
   "codemirror_mode": {
    "name": "ipython",
    "version": 2
   },
   "file_extension": ".py",
   "mimetype": "text/x-python",
   "name": "python",
   "nbconvert_exporter": "python",
   "pygments_lexer": "ipython2",
   "version": "2.7.6"
  }
 },
 "nbformat": 4,
 "nbformat_minor": 5
}
