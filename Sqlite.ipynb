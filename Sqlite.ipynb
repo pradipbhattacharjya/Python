{
 "cells": [
  {
   "cell_type": "code",
   "id": "initial_id",
   "metadata": {
    "collapsed": true,
    "ExecuteTime": {
     "end_time": "2025-10-03T02:31:49.459863Z",
     "start_time": "2025-10-03T02:31:49.456131Z"
    }
   },
   "source": "import sqlite3",
   "outputs": [],
   "execution_count": 1
  },
  {
   "metadata": {
    "ExecuteTime": {
     "end_time": "2025-10-03T02:33:35.845707Z",
     "start_time": "2025-10-03T02:33:35.816683Z"
    }
   },
   "cell_type": "code",
   "source": [
    "#Connect to an SQLite database\n",
    "connection=sqlite3.connect('example.db')\n",
    "connection"
   ],
   "id": "c8b642880096bad4",
   "outputs": [
    {
     "data": {
      "text/plain": [
       "<sqlite3.Connection at 0x24e2f2f97b0>"
      ]
     },
     "execution_count": 2,
     "metadata": {},
     "output_type": "execute_result"
    }
   ],
   "execution_count": 2
  },
  {
   "metadata": {
    "ExecuteTime": {
     "end_time": "2025-10-03T02:36:06.295203Z",
     "start_time": "2025-10-03T02:36:06.278568Z"
    }
   },
   "cell_type": "code",
   "source": "cursor=connection.cursor()",
   "id": "75d5d135ec80a1cf",
   "outputs": [],
   "execution_count": 3
  },
  {
   "metadata": {
    "ExecuteTime": {
     "end_time": "2025-10-03T02:40:35.560402Z",
     "start_time": "2025-10-03T02:40:35.541623Z"
    }
   },
   "cell_type": "code",
   "source": [
    "#Create a Table\n",
    "cursor.execute('''\n",
    "CREATE TABLE IF NOT EXISTS employees (\n",
    "    id INTEGER PRIMARY KEY,\n",
    "    name TEXT NOT NULL,\n",
    "    age INTEGER,\n",
    "    department TEXT\n",
    ")\n",
    "''')\n",
    "\n",
    "#Commit the changes\n",
    "connection.commit()"
   ],
   "id": "2ba43ce561338689",
   "outputs": [],
   "execution_count": 4
  },
  {
   "metadata": {
    "ExecuteTime": {
     "end_time": "2025-10-03T02:42:36.119396Z",
     "start_time": "2025-10-03T02:42:36.110217Z"
    }
   },
   "cell_type": "code",
   "source": [
    "cursor.execute('''\n",
    "\n",
    "Select * from employees\n",
    "\n",
    "''')"
   ],
   "id": "fe9decc25ed6686",
   "outputs": [
    {
     "data": {
      "text/plain": [
       "<sqlite3.Cursor at 0x24e2f2c5f40>"
      ]
     },
     "execution_count": 5,
     "metadata": {},
     "output_type": "execute_result"
    }
   ],
   "execution_count": 5
  },
  {
   "metadata": {
    "ExecuteTime": {
     "end_time": "2025-10-03T02:51:24.997703Z",
     "start_time": "2025-10-03T02:51:24.972192Z"
    }
   },
   "cell_type": "code",
   "source": [
    "#Insert the data in sqlite table\n",
    "\n",
    "cursor.execute(\"INSERT INTO employees (name, age, department) VALUES (?, ?, ?)\", ('Chris', 32, 'Data Scientist'))\n",
    "cursor.execute(\"INSERT INTO employees (name, age, department) VALUES (?, ?, ?)\", ('Bob', 25, 'Engineering'))\n",
    "cursor.execute(\"INSERT INTO employees (name, age, department) VALUES (?, ?, ?)\", ('Charlie', 35, 'Finance'))\n",
    "\n",
    "#commi the changes\n",
    "connection.commit()"
   ],
   "id": "199af142a9ed2daf",
   "outputs": [],
   "execution_count": 9
  },
  {
   "metadata": {
    "ExecuteTime": {
     "end_time": "2025-10-03T02:51:28.085651Z",
     "start_time": "2025-10-03T02:51:28.075736Z"
    }
   },
   "cell_type": "code",
   "source": [
    "#Query the data from the table\n",
    "cursor.execute(\"SELECT * FROM employees\")\n",
    "rows=cursor.fetchall()\n",
    "\n",
    "#prin the Queried data\n",
    "for row in rows:\n",
    "    print(row)"
   ],
   "id": "6b7ead1c3074d4c3",
   "outputs": [
    {
     "name": "stdout",
     "output_type": "stream",
     "text": [
      "(1, 'Chris', 32, 'Data Scientist')\n",
      "(2, 'Bob', 25, 'Engineering')\n",
      "(3, 'Charlie', 35, 'Finance')\n"
     ]
    }
   ],
   "execution_count": 10
  }
 ],
 "metadata": {
  "kernelspec": {
   "display_name": "Python 3",
   "language": "python",
   "name": "python3"
  },
  "language_info": {
   "codemirror_mode": {
    "name": "ipython",
    "version": 2
   },
   "file_extension": ".py",
   "mimetype": "text/x-python",
   "name": "python",
   "nbconvert_exporter": "python",
   "pygments_lexer": "ipython2",
   "version": "2.7.6"
  }
 },
 "nbformat": 4,
 "nbformat_minor": 5
}
